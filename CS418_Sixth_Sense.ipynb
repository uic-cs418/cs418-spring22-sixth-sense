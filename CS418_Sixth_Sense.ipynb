{
 "cells": [
  {
   "cell_type": "code",
   "execution_count": 51,
   "id": "b8e35f95",
   "metadata": {},
   "outputs": [],
   "source": [
    "import numpy as np\n",
    "import pandas as pd\n",
    "import seaborn as sns\n",
    "import matplotlib.pyplot as plt\n",
    "from matplotlib import dates\n"
   ]
  },
  {
   "cell_type": "code",
   "execution_count": 21,
   "id": "263c1a02",
   "metadata": {},
   "outputs": [
    {
     "data": {
      "text/html": [
       "<div>\n",
       "<style scoped>\n",
       "    .dataframe tbody tr th:only-of-type {\n",
       "        vertical-align: middle;\n",
       "    }\n",
       "\n",
       "    .dataframe tbody tr th {\n",
       "        vertical-align: top;\n",
       "    }\n",
       "\n",
       "    .dataframe thead th {\n",
       "        text-align: right;\n",
       "    }\n",
       "</style>\n",
       "<table border=\"1\" class=\"dataframe\">\n",
       "  <thead>\n",
       "    <tr style=\"text-align: right;\">\n",
       "      <th></th>\n",
       "      <th>currency</th>\n",
       "      <th>date</th>\n",
       "      <th>price</th>\n",
       "      <th>Year</th>\n",
       "      <th>Month</th>\n",
       "      <th>Day</th>\n",
       "      <th>YearMonth</th>\n",
       "    </tr>\n",
       "  </thead>\n",
       "  <tbody>\n",
       "    <tr>\n",
       "      <th>64769</th>\n",
       "      <td>bitcoin</td>\n",
       "      <td>2015-01-01 02:40:00</td>\n",
       "      <td>317.848</td>\n",
       "      <td>2015</td>\n",
       "      <td>1</td>\n",
       "      <td>1</td>\n",
       "      <td>2015-01</td>\n",
       "    </tr>\n",
       "    <tr>\n",
       "      <th>64770</th>\n",
       "      <td>bitcoin</td>\n",
       "      <td>2015-01-02 00:53:20</td>\n",
       "      <td>313.639</td>\n",
       "      <td>2015</td>\n",
       "      <td>1</td>\n",
       "      <td>2</td>\n",
       "      <td>2015-01</td>\n",
       "    </tr>\n",
       "    <tr>\n",
       "      <th>64771</th>\n",
       "      <td>bitcoin</td>\n",
       "      <td>2015-01-03 01:53:20</td>\n",
       "      <td>314.870</td>\n",
       "      <td>2015</td>\n",
       "      <td>1</td>\n",
       "      <td>3</td>\n",
       "      <td>2015-01</td>\n",
       "    </tr>\n",
       "    <tr>\n",
       "      <th>64772</th>\n",
       "      <td>bitcoin</td>\n",
       "      <td>2015-01-04 00:06:40</td>\n",
       "      <td>281.246</td>\n",
       "      <td>2015</td>\n",
       "      <td>1</td>\n",
       "      <td>4</td>\n",
       "      <td>2015-01</td>\n",
       "    </tr>\n",
       "    <tr>\n",
       "      <th>64773</th>\n",
       "      <td>bitcoin</td>\n",
       "      <td>2015-01-05 01:06:40</td>\n",
       "      <td>266.723</td>\n",
       "      <td>2015</td>\n",
       "      <td>1</td>\n",
       "      <td>5</td>\n",
       "      <td>2015-01</td>\n",
       "    </tr>\n",
       "    <tr>\n",
       "      <th>64774</th>\n",
       "      <td>bitcoin</td>\n",
       "      <td>2015-01-06 02:06:40</td>\n",
       "      <td>274.168</td>\n",
       "      <td>2015</td>\n",
       "      <td>1</td>\n",
       "      <td>6</td>\n",
       "      <td>2015-01</td>\n",
       "    </tr>\n",
       "    <tr>\n",
       "      <th>64775</th>\n",
       "      <td>bitcoin</td>\n",
       "      <td>2015-01-07 00:20:00</td>\n",
       "      <td>283.238</td>\n",
       "      <td>2015</td>\n",
       "      <td>1</td>\n",
       "      <td>7</td>\n",
       "      <td>2015-01</td>\n",
       "    </tr>\n",
       "    <tr>\n",
       "      <th>64776</th>\n",
       "      <td>bitcoin</td>\n",
       "      <td>2015-01-08 01:20:00</td>\n",
       "      <td>293.754</td>\n",
       "      <td>2015</td>\n",
       "      <td>1</td>\n",
       "      <td>8</td>\n",
       "      <td>2015-01</td>\n",
       "    </tr>\n",
       "    <tr>\n",
       "      <th>64777</th>\n",
       "      <td>bitcoin</td>\n",
       "      <td>2015-01-09 02:20:00</td>\n",
       "      <td>282.507</td>\n",
       "      <td>2015</td>\n",
       "      <td>1</td>\n",
       "      <td>9</td>\n",
       "      <td>2015-01</td>\n",
       "    </tr>\n",
       "    <tr>\n",
       "      <th>64778</th>\n",
       "      <td>bitcoin</td>\n",
       "      <td>2015-01-10 08:53:20</td>\n",
       "      <td>277.861</td>\n",
       "      <td>2015</td>\n",
       "      <td>1</td>\n",
       "      <td>10</td>\n",
       "      <td>2015-01</td>\n",
       "    </tr>\n",
       "    <tr>\n",
       "      <th>64779</th>\n",
       "      <td>bitcoin</td>\n",
       "      <td>2015-01-11 09:53:20</td>\n",
       "      <td>274.705</td>\n",
       "      <td>2015</td>\n",
       "      <td>1</td>\n",
       "      <td>11</td>\n",
       "      <td>2015-01</td>\n",
       "    </tr>\n",
       "    <tr>\n",
       "      <th>64780</th>\n",
       "      <td>bitcoin</td>\n",
       "      <td>2015-01-12 10:53:20</td>\n",
       "      <td>267.988</td>\n",
       "      <td>2015</td>\n",
       "      <td>1</td>\n",
       "      <td>12</td>\n",
       "      <td>2015-01</td>\n",
       "    </tr>\n",
       "    <tr>\n",
       "      <th>64781</th>\n",
       "      <td>bitcoin</td>\n",
       "      <td>2015-01-13 09:06:40</td>\n",
       "      <td>244.566</td>\n",
       "      <td>2015</td>\n",
       "      <td>1</td>\n",
       "      <td>13</td>\n",
       "      <td>2015-01</td>\n",
       "    </tr>\n",
       "    <tr>\n",
       "      <th>64782</th>\n",
       "      <td>bitcoin</td>\n",
       "      <td>2015-01-14 10:06:40</td>\n",
       "      <td>207.809</td>\n",
       "      <td>2015</td>\n",
       "      <td>1</td>\n",
       "      <td>14</td>\n",
       "      <td>2015-01</td>\n",
       "    </tr>\n",
       "    <tr>\n",
       "      <th>64783</th>\n",
       "      <td>bitcoin</td>\n",
       "      <td>2015-01-15 11:06:40</td>\n",
       "      <td>204.946</td>\n",
       "      <td>2015</td>\n",
       "      <td>1</td>\n",
       "      <td>15</td>\n",
       "      <td>2015-01</td>\n",
       "    </tr>\n",
       "    <tr>\n",
       "      <th>64784</th>\n",
       "      <td>bitcoin</td>\n",
       "      <td>2015-01-16 09:20:00</td>\n",
       "      <td>218.091</td>\n",
       "      <td>2015</td>\n",
       "      <td>1</td>\n",
       "      <td>16</td>\n",
       "      <td>2015-01</td>\n",
       "    </tr>\n",
       "    <tr>\n",
       "      <th>64785</th>\n",
       "      <td>bitcoin</td>\n",
       "      <td>2015-01-17 10:20:00</td>\n",
       "      <td>197.244</td>\n",
       "      <td>2015</td>\n",
       "      <td>1</td>\n",
       "      <td>17</td>\n",
       "      <td>2015-01</td>\n",
       "    </tr>\n",
       "    <tr>\n",
       "      <th>64786</th>\n",
       "      <td>bitcoin</td>\n",
       "      <td>2015-01-18 11:20:00</td>\n",
       "      <td>210.520</td>\n",
       "      <td>2015</td>\n",
       "      <td>1</td>\n",
       "      <td>18</td>\n",
       "      <td>2015-01</td>\n",
       "    </tr>\n",
       "    <tr>\n",
       "      <th>64787</th>\n",
       "      <td>bitcoin</td>\n",
       "      <td>2015-01-19 09:33:20</td>\n",
       "      <td>208.277</td>\n",
       "      <td>2015</td>\n",
       "      <td>1</td>\n",
       "      <td>19</td>\n",
       "      <td>2015-01</td>\n",
       "    </tr>\n",
       "    <tr>\n",
       "      <th>64788</th>\n",
       "      <td>bitcoin</td>\n",
       "      <td>2015-01-20 10:33:20</td>\n",
       "      <td>209.398</td>\n",
       "      <td>2015</td>\n",
       "      <td>1</td>\n",
       "      <td>20</td>\n",
       "      <td>2015-01</td>\n",
       "    </tr>\n",
       "  </tbody>\n",
       "</table>\n",
       "</div>"
      ],
      "text/plain": [
       "      currency                date    price  Year  Month  Day YearMonth\n",
       "64769  bitcoin 2015-01-01 02:40:00  317.848  2015      1    1   2015-01\n",
       "64770  bitcoin 2015-01-02 00:53:20  313.639  2015      1    2   2015-01\n",
       "64771  bitcoin 2015-01-03 01:53:20  314.870  2015      1    3   2015-01\n",
       "64772  bitcoin 2015-01-04 00:06:40  281.246  2015      1    4   2015-01\n",
       "64773  bitcoin 2015-01-05 01:06:40  266.723  2015      1    5   2015-01\n",
       "64774  bitcoin 2015-01-06 02:06:40  274.168  2015      1    6   2015-01\n",
       "64775  bitcoin 2015-01-07 00:20:00  283.238  2015      1    7   2015-01\n",
       "64776  bitcoin 2015-01-08 01:20:00  293.754  2015      1    8   2015-01\n",
       "64777  bitcoin 2015-01-09 02:20:00  282.507  2015      1    9   2015-01\n",
       "64778  bitcoin 2015-01-10 08:53:20  277.861  2015      1   10   2015-01\n",
       "64779  bitcoin 2015-01-11 09:53:20  274.705  2015      1   11   2015-01\n",
       "64780  bitcoin 2015-01-12 10:53:20  267.988  2015      1   12   2015-01\n",
       "64781  bitcoin 2015-01-13 09:06:40  244.566  2015      1   13   2015-01\n",
       "64782  bitcoin 2015-01-14 10:06:40  207.809  2015      1   14   2015-01\n",
       "64783  bitcoin 2015-01-15 11:06:40  204.946  2015      1   15   2015-01\n",
       "64784  bitcoin 2015-01-16 09:20:00  218.091  2015      1   16   2015-01\n",
       "64785  bitcoin 2015-01-17 10:20:00  197.244  2015      1   17   2015-01\n",
       "64786  bitcoin 2015-01-18 11:20:00  210.520  2015      1   18   2015-01\n",
       "64787  bitcoin 2015-01-19 09:33:20  208.277  2015      1   19   2015-01\n",
       "64788  bitcoin 2015-01-20 10:33:20  209.398  2015      1   20   2015-01"
      ]
     },
     "execution_count": 21,
     "metadata": {},
     "output_type": "execute_result"
    }
   ],
   "source": [
    "crypto_prices_df = pd.read_csv('chasewillden-cryptocurrency-price-by-date-2013-february-2018/chasewillden-cryptocurrency-price-by-date-2013-february-2018/data/cryptocurrency_prices_by_date.csv')\n",
    "\n",
    "# Extract prices for the timeframe 01/01/2015 - 12/31/2018\n",
    "# 2015-01-01 00:00:00  => 1420070400000\n",
    "# 2018-12-31 23:59:59 => 1546261199000\n",
    "crypto_prices_df = crypto_prices_df[(crypto_prices_df['date'] >= 1420070400000) & (crypto_prices_df['date'] <= 1546261199000)]\n",
    "\n",
    "#print(crypto_prices_df.keys())\n",
    "\n",
    "# Convert Unix time to Date time\n",
    "crypto_prices_df['date'] = pd.to_datetime(crypto_prices_df['date'], unit='ms')\n",
    "## prices.drop_duplicates('currency', keep='last')\n",
    "## print(prices['currency'].unique())\n",
    "crypto_prices_df['Year'] = crypto_prices_df['date'].dt.year\n",
    "crypto_prices_df['Month'] = crypto_prices_df['date'].dt.month\n",
    "crypto_prices_df['Day'] = crypto_prices_df['date'].dt.day\n",
    "crypto_prices_df['YearMonth'] = crypto_prices_df['date'].dt.to_period('m')\n",
    "crypto_prices_df[(crypto_prices_df['currency'] == 'bitcoin')].head(20)"
   ]
  },
  {
   "cell_type": "code",
   "execution_count": 59,
   "id": "7504e926",
   "metadata": {},
   "outputs": [
    {
     "data": {
      "image/png": "[encoded data removed]",
      "text/plain": [
       "<Figure size 432x288 with 1 Axes>"
      ]
     },
     "metadata": {
      "needs_background": "light"
     },
     "output_type": "display_data"
    }
   ],
   "source": [
    "popular_cryptos2 = ['bitcoin','ethereum', 'tether', 'binance-coin', 'cardano']\n",
    "prices_of_popular_cryptos2 = crypto_prices_df[crypto_prices_df['currency'].isin(popular_cryptos2)]\n",
    "price_2015 = prices_of_popular_cryptos2[(prices_of_popular_cryptos2['Year']==2015)]\n",
    "ax = sns.lineplot(data=price_2015, x='Month', y='price', hue='currency',marker='o')\n",
    "ax.set(xticks=prices_of_popular_cryptos2.Month.values)\n",
    "plt.show()\n",
    "\n"
   ]
  },
  {
   "cell_type": "code",
   "execution_count": 62,
   "id": "80750703",
   "metadata": {},
   "outputs": [
    {
     "data": {
      "image/png": "[encoded data removed]",
      "text/plain": [
       "<Figure size 432x288 with 1 Axes>"
      ]
     },
     "metadata": {
      "needs_background": "light"
     },
     "output_type": "display_data"
    }
   ],
   "source": [
    "\n",
    "price_2016 = prices_of_popular_cryptos2[(prices_of_popular_cryptos2['Year']==2016)]\n",
    "ax = sns.lineplot(data=price_2016, x='Month', y='price', hue='currency',marker='o')\n",
    "ax.set(xticks=prices_of_popular_cryptos2.Month.values)\n",
    "plt.show()"
   ]
  },
  {
   "cell_type": "code",
   "execution_count": 61,
   "id": "2b15cb5a",
   "metadata": {},
   "outputs": [
    {
     "data": {
      "image/png": "[encoded data removed]",
      "text/plain": [
       "<Figure size 432x288 with 1 Axes>"
      ]
     },
     "metadata": {
      "needs_background": "light"
     },
     "output_type": "display_data"
    }
   ],
   "source": [
    "\n",
    "price_2017 = prices_of_popular_cryptos2[(prices_of_popular_cryptos2['Year']==2017)]\n",
    "ax = sns.lineplot(data=price_2017, x='Month', y='price', hue='currency',marker='o')\n",
    "ax.set(xticks=prices_of_popular_cryptos2.Month.values)\n",
    "plt.show()"
   ]
  },
  {
   "cell_type": "code",
   "execution_count": 63,
   "id": "9613207c",
   "metadata": {},
   "outputs": [
    {
     "data": {
      "image/png": "[encoded data removed]",
      "text/plain": [
       "<Figure size 432x288 with 1 Axes>"
      ]
     },
     "metadata": {
      "needs_background": "light"
     },
     "output_type": "display_data"
    }
   ],
   "source": [
    "price_2018 = prices_of_popular_cryptos2[(prices_of_popular_cryptos2['Year']==2018)]\n",
    "ax = sns.lineplot(data=price_2018, x='Month', y='price', hue='currency',marker='o')\n",
    "plt.show()"
   ]
  },
  {
   "cell_type": "code",
   "execution_count": 3,
   "id": "ffbf260f",
   "metadata": {},
   "outputs": [
    {
     "data": {
      "text/html": [
       "<div>\n",
       "<style scoped>\n",
       "    .dataframe tbody tr th:only-of-type {\n",
       "        vertical-align: middle;\n",
       "    }\n",
       "\n",
       "    .dataframe tbody tr th {\n",
       "        vertical-align: top;\n",
       "    }\n",
       "\n",
       "    .dataframe thead th {\n",
       "        text-align: right;\n",
       "    }\n",
       "</style>\n",
       "<table border=\"1\" class=\"dataframe\">\n",
       "  <thead>\n",
       "    <tr style=\"text-align: right;\">\n",
       "      <th></th>\n",
       "      <th>currency</th>\n",
       "      <th>date</th>\n",
       "      <th>price</th>\n",
       "      <th>Year</th>\n",
       "      <th>Month</th>\n",
       "      <th>YearMonth</th>\n",
       "    </tr>\n",
       "  </thead>\n",
       "  <tbody>\n",
       "    <tr>\n",
       "      <th>51064</th>\n",
       "      <td>binance-coin</td>\n",
       "      <td>2018-02-10 02:33:20</td>\n",
       "      <td>10.238900</td>\n",
       "      <td>2018</td>\n",
       "      <td>2</td>\n",
       "      <td>2018-02</td>\n",
       "    </tr>\n",
       "    <tr>\n",
       "      <th>65899</th>\n",
       "      <td>bitcoin</td>\n",
       "      <td>2018-02-10 02:33:20</td>\n",
       "      <td>9037.510000</td>\n",
       "      <td>2018</td>\n",
       "      <td>2</td>\n",
       "      <td>2018-02</td>\n",
       "    </tr>\n",
       "    <tr>\n",
       "      <th>119853</th>\n",
       "      <td>cardano</td>\n",
       "      <td>2018-02-10 02:33:20</td>\n",
       "      <td>0.457995</td>\n",
       "      <td>2018</td>\n",
       "      <td>2</td>\n",
       "      <td>2018-02</td>\n",
       "    </tr>\n",
       "    <tr>\n",
       "      <th>188877</th>\n",
       "      <td>dogecoin</td>\n",
       "      <td>2018-02-10 02:33:20</td>\n",
       "      <td>0.005225</td>\n",
       "      <td>2018</td>\n",
       "      <td>2</td>\n",
       "      <td>2018-02</td>\n",
       "    </tr>\n",
       "    <tr>\n",
       "      <th>220978</th>\n",
       "      <td>ethereum</td>\n",
       "      <td>2018-02-10 02:33:20</td>\n",
       "      <td>904.994000</td>\n",
       "      <td>2018</td>\n",
       "      <td>2</td>\n",
       "      <td>2018-02</td>\n",
       "    </tr>\n",
       "    <tr>\n",
       "      <th>353462</th>\n",
       "      <td>litecoin</td>\n",
       "      <td>2018-02-10 02:33:20</td>\n",
       "      <td>167.287000</td>\n",
       "      <td>2018</td>\n",
       "      <td>2</td>\n",
       "      <td>2018-02</td>\n",
       "    </tr>\n",
       "    <tr>\n",
       "      <th>385124</th>\n",
       "      <td>monero</td>\n",
       "      <td>2018-02-10 02:33:20</td>\n",
       "      <td>267.645000</td>\n",
       "      <td>2018</td>\n",
       "      <td>2</td>\n",
       "      <td>2018-02</td>\n",
       "    </tr>\n",
       "    <tr>\n",
       "      <th>499855</th>\n",
       "      <td>ripple</td>\n",
       "      <td>2018-02-10 02:33:20</td>\n",
       "      <td>1.061200</td>\n",
       "      <td>2018</td>\n",
       "      <td>2</td>\n",
       "      <td>2018-02</td>\n",
       "    </tr>\n",
       "    <tr>\n",
       "      <th>578575</th>\n",
       "      <td>tether</td>\n",
       "      <td>2018-02-10 02:33:20</td>\n",
       "      <td>1.005510</td>\n",
       "      <td>2018</td>\n",
       "      <td>2</td>\n",
       "      <td>2018-02</td>\n",
       "    </tr>\n",
       "  </tbody>\n",
       "</table>\n",
       "</div>"
      ],
      "text/plain": [
       "            currency                date        price  Year  Month YearMonth\n",
       "51064   binance-coin 2018-02-10 02:33:20    10.238900  2018      2   2018-02\n",
       "65899        bitcoin 2018-02-10 02:33:20  9037.510000  2018      2   2018-02\n",
       "119853       cardano 2018-02-10 02:33:20     0.457995  2018      2   2018-02\n",
       "188877      dogecoin 2018-02-10 02:33:20     0.005225  2018      2   2018-02\n",
       "220978      ethereum 2018-02-10 02:33:20   904.994000  2018      2   2018-02\n",
       "353462      litecoin 2018-02-10 02:33:20   167.287000  2018      2   2018-02\n",
       "385124        monero 2018-02-10 02:33:20   267.645000  2018      2   2018-02\n",
       "499855        ripple 2018-02-10 02:33:20     1.061200  2018      2   2018-02\n",
       "578575        tether 2018-02-10 02:33:20     1.005510  2018      2   2018-02"
      ]
     },
     "execution_count": 3,
     "metadata": {},
     "output_type": "execute_result"
    }
   ],
   "source": [
    "popular_cryptos = ['bitcoin','ethereum', 'tether', 'binance-coin', 'litecoin', 'dogecoin', 'cardano', 'monero', 'ripple']\n",
    "\n",
    "prices_of_popular_cryptos = crypto_prices_df[crypto_prices_df['currency'].isin(popular_cryptos)]\n",
    "\n",
    "prices_of_popular_cryptos.drop_duplicates('currency', keep='last')\n"
   ]
  },
  {
   "cell_type": "code",
   "execution_count": 4,
   "id": "6c67a0ea",
   "metadata": {},
   "outputs": [],
   "source": [
    "# ax = sns.lineplot(data=crypto_prices_df[crypto_prices_df['currency'] == 'bitcoin'], x=\"date\", y=\"price\")"
   ]
  },
  {
   "cell_type": "code",
   "execution_count": 5,
   "id": "29c1a9ca",
   "metadata": {},
   "outputs": [
    {
     "data": {
      "image/png": "[encoded data removed]",
      "text/plain": [
       "<Figure size 432x288 with 1 Axes>"
      ]
     },
     "metadata": {
      "needs_background": "light"
     },
     "output_type": "display_data"
    }
   ],
   "source": [
    "monthly_avg_prices = crypto_prices_df[crypto_prices_df['currency'].isin(popular_cryptos)].groupby(\n",
    "    [\"Year\",\"currency\"],as_index=True).mean().reset_index()\n",
    "monthly_avg_prices\n",
    "\n",
    "ax = sns.lineplot(data=monthly_avg_prices, x='Year', y='price',hue='currency')\n",
    "# ax.set_yscale(\"log\")\n",
    "# ax = sns.lineplot(data=monthly_avg_prices[monthly_avg_prices['currency']=='bitcoin'], x='YearMonth', y='price',hue='currency')\n",
    "# ax.set_xticks(ax.get_xticks().tolist())\n",
    "# ax.set_xticklabels(ax.get_xticklabels(),rotation=30)\n",
    "# ax.set_xticklabels([pd.to_datetime(dateTime, unit='s').strftime('%Y-%m-%d\\n %H:%M:%S') for dateTime in xticks],rotation=30)\n",
    "# print(ax.get_xticks())\n"
   ]
  },
  {
   "cell_type": "code",
   "execution_count": 6,
   "id": "f0c9936c",
   "metadata": {},
   "outputs": [],
   "source": [
    "news = pd.read_json('cryptodata/news.json')\n",
    "reddit = pd.read_json('cryptodata/reddit.json')\n",
    "bitcoinTalk = pd.read_json('cryptodata/bitcointalk.json')"
   ]
  },
  {
   "cell_type": "code",
   "execution_count": 8,
   "id": "97b52b63",
   "metadata": {
    "scrolled": true
   },
   "outputs": [
    {
     "name": "stdout",
     "output_type": "stream",
     "text": [
      "63252\n",
      "2752380\n",
      "1642540\n"
     ]
    },
    {
     "data": {
      "text/html": [
       "<div>\n",
       "<style scoped>\n",
       "    .dataframe tbody tr th:only-of-type {\n",
       "        vertical-align: middle;\n",
       "    }\n",
       "\n",
       "    .dataframe tbody tr th {\n",
       "        vertical-align: top;\n",
       "    }\n",
       "\n",
       "    .dataframe thead th {\n",
       "        text-align: right;\n",
       "    }\n",
       "</style>\n",
       "<table border=\"1\" class=\"dataframe\">\n",
       "  <thead>\n",
       "    <tr style=\"text-align: right;\">\n",
       "      <th></th>\n",
       "      <th>text</th>\n",
       "      <th>post_id</th>\n",
       "      <th>date</th>\n",
       "    </tr>\n",
       "  </thead>\n",
       "  <tbody>\n",
       "    <tr>\n",
       "      <th>9698</th>\n",
       "      <td>Venture capitalist Lou Kerner says bitcoin is ...</td>\n",
       "      <td>9783</td>\n",
       "      <td>2018-12-31 23:37:58</td>\n",
       "    </tr>\n",
       "    <tr>\n",
       "      <th>9699</th>\n",
       "      <td>Charlie Lee, the creator of Litecoin and the m...</td>\n",
       "      <td>9784</td>\n",
       "      <td>2018-12-31 23:30:27</td>\n",
       "    </tr>\n",
       "    <tr>\n",
       "      <th>9700</th>\n",
       "      <td>As crypto’s value has dropped across the board...</td>\n",
       "      <td>9785</td>\n",
       "      <td>2018-12-31 23:24:38</td>\n",
       "    </tr>\n",
       "    <tr>\n",
       "      <th>9701</th>\n",
       "      <td>Hacks and heists have been a threat for as lon...</td>\n",
       "      <td>9786</td>\n",
       "      <td>2018-12-31 23:05:03</td>\n",
       "    </tr>\n",
       "    <tr>\n",
       "      <th>9702</th>\n",
       "      <td>It’s been over a year ...</td>\n",
       "      <td>9787</td>\n",
       "      <td>2018-12-31 22:46:45</td>\n",
       "    </tr>\n",
       "  </tbody>\n",
       "</table>\n",
       "</div>"
      ],
      "text/plain": [
       "                                                   text  post_id  \\\n",
       "9698  Venture capitalist Lou Kerner says bitcoin is ...     9783   \n",
       "9699  Charlie Lee, the creator of Litecoin and the m...     9784   \n",
       "9700  As crypto’s value has dropped across the board...     9785   \n",
       "9701  Hacks and heists have been a threat for as lon...     9786   \n",
       "9702                          It’s been over a year ...     9787   \n",
       "\n",
       "                    date  \n",
       "9698 2018-12-31 23:37:58  \n",
       "9699 2018-12-31 23:30:27  \n",
       "9700 2018-12-31 23:24:38  \n",
       "9701 2018-12-31 23:05:03  \n",
       "9702 2018-12-31 22:46:45  "
      ]
     },
     "execution_count": 8,
     "metadata": {},
     "output_type": "execute_result"
    }
   ],
   "source": [
    "news = news[(news['date'].dt.year >= 2015) & (news['date'].dt.year <= 2018)]\n",
    "reddit = reddit[(reddit['date'].dt.year >= 2015) & (reddit['date'].dt.year <= 2018)]\n",
    "bitcoinTalk = bitcoinTalk[(bitcoinTalk['date'].dt.year >= 2015) & (bitcoinTalk['date'].dt.year <= 2018)]\n",
    "\n",
    "print(len(news))\n",
    "print(len(reddit))\n",
    "print(len(bitcoinTalk))\n",
    "\n",
    "#reddit.head(5)\n",
    "#bitcoinTalk.head(5)\n",
    "news.head(5)"
   ]
  },
  {
   "cell_type": "code",
   "execution_count": 9,
   "id": "253f9e6e",
   "metadata": {},
   "outputs": [],
   "source": [
    "news['year'] = news['date'].dt.year\n",
    "news['month'] = news['date'].dt.month\n",
    "reddit['year'] = reddit['date'].dt.year\n",
    "reddit['month'] = reddit['date'].dt.month\n",
    "bitcoinTalk['year'] = bitcoinTalk['date'].dt.year\n",
    "bitcoinTalk['month'] = bitcoinTalk['date'].dt.month"
   ]
  },
  {
   "cell_type": "code",
   "execution_count": 10,
   "id": "58c76d9b",
   "metadata": {},
   "outputs": [
    {
     "data": {
      "text/html": [
       "<div>\n",
       "<style scoped>\n",
       "    .dataframe tbody tr th:only-of-type {\n",
       "        vertical-align: middle;\n",
       "    }\n",
       "\n",
       "    .dataframe tbody tr th {\n",
       "        vertical-align: top;\n",
       "    }\n",
       "\n",
       "    .dataframe thead th {\n",
       "        text-align: right;\n",
       "    }\n",
       "</style>\n",
       "<table border=\"1\" class=\"dataframe\">\n",
       "  <thead>\n",
       "    <tr style=\"text-align: right;\">\n",
       "      <th></th>\n",
       "      <th>text</th>\n",
       "      <th>post_id</th>\n",
       "      <th>date</th>\n",
       "      <th>year</th>\n",
       "      <th>month</th>\n",
       "    </tr>\n",
       "  </thead>\n",
       "  <tbody>\n",
       "    <tr>\n",
       "      <th>9698</th>\n",
       "      <td>Venture capitalist Lou Kerner says bitcoin is ...</td>\n",
       "      <td>9783</td>\n",
       "      <td>2018-12-31 23:37:58</td>\n",
       "      <td>2018</td>\n",
       "      <td>12</td>\n",
       "    </tr>\n",
       "    <tr>\n",
       "      <th>9699</th>\n",
       "      <td>Charlie Lee, the creator of Litecoin and the m...</td>\n",
       "      <td>9784</td>\n",
       "      <td>2018-12-31 23:30:27</td>\n",
       "      <td>2018</td>\n",
       "      <td>12</td>\n",
       "    </tr>\n",
       "    <tr>\n",
       "      <th>9700</th>\n",
       "      <td>As crypto’s value has dropped across the board...</td>\n",
       "      <td>9785</td>\n",
       "      <td>2018-12-31 23:24:38</td>\n",
       "      <td>2018</td>\n",
       "      <td>12</td>\n",
       "    </tr>\n",
       "    <tr>\n",
       "      <th>9701</th>\n",
       "      <td>Hacks and heists have been a threat for as lon...</td>\n",
       "      <td>9786</td>\n",
       "      <td>2018-12-31 23:05:03</td>\n",
       "      <td>2018</td>\n",
       "      <td>12</td>\n",
       "    </tr>\n",
       "    <tr>\n",
       "      <th>9702</th>\n",
       "      <td>It’s been over a year ...</td>\n",
       "      <td>9787</td>\n",
       "      <td>2018-12-31 22:46:45</td>\n",
       "      <td>2018</td>\n",
       "      <td>12</td>\n",
       "    </tr>\n",
       "  </tbody>\n",
       "</table>\n",
       "</div>"
      ],
      "text/plain": [
       "                                                   text  post_id  \\\n",
       "9698  Venture capitalist Lou Kerner says bitcoin is ...     9783   \n",
       "9699  Charlie Lee, the creator of Litecoin and the m...     9784   \n",
       "9700  As crypto’s value has dropped across the board...     9785   \n",
       "9701  Hacks and heists have been a threat for as lon...     9786   \n",
       "9702                          It’s been over a year ...     9787   \n",
       "\n",
       "                    date  year  month  \n",
       "9698 2018-12-31 23:37:58  2018     12  \n",
       "9699 2018-12-31 23:30:27  2018     12  \n",
       "9700 2018-12-31 23:24:38  2018     12  \n",
       "9701 2018-12-31 23:05:03  2018     12  \n",
       "9702 2018-12-31 22:46:45  2018     12  "
      ]
     },
     "execution_count": 10,
     "metadata": {},
     "output_type": "execute_result"
    }
   ],
   "source": [
    "news.head()"
   ]
  },
  {
   "cell_type": "code",
   "execution_count": 11,
   "id": "8daaeea2",
   "metadata": {},
   "outputs": [],
   "source": [
    "news_per_year = news.groupby(['year']).size().to_frame('size').reset_index()\n",
    "news_per_month = news.groupby(['year','month']).size().to_frame('size').reset_index()\n",
    "reddit_per_year = reddit.groupby(['year']).size().to_frame('size').reset_index()\n",
    "reddit_per_month = reddit.groupby(['year','month']).size().to_frame('size').reset_index()\n",
    "bitcoinTalk_per_year = bitcoinTalk.groupby(['year']).size().to_frame('size').reset_index()\n",
    "bitcoinTalk_per_month = bitcoinTalk.groupby(['year','month']).size().to_frame('size').reset_index()\n",
    "\n"
   ]
  },
  {
   "cell_type": "code",
   "execution_count": 12,
   "id": "d051bb62",
   "metadata": {},
   "outputs": [
    {
     "data": {
      "text/html": [
       "<div>\n",
       "<style scoped>\n",
       "    .dataframe tbody tr th:only-of-type {\n",
       "        vertical-align: middle;\n",
       "    }\n",
       "\n",
       "    .dataframe tbody tr th {\n",
       "        vertical-align: top;\n",
       "    }\n",
       "\n",
       "    .dataframe thead th {\n",
       "        text-align: right;\n",
       "    }\n",
       "</style>\n",
       "<table border=\"1\" class=\"dataframe\">\n",
       "  <thead>\n",
       "    <tr style=\"text-align: right;\">\n",
       "      <th></th>\n",
       "      <th>year</th>\n",
       "      <th>size</th>\n",
       "    </tr>\n",
       "  </thead>\n",
       "  <tbody>\n",
       "    <tr>\n",
       "      <th>0</th>\n",
       "      <td>2016</td>\n",
       "      <td>1</td>\n",
       "    </tr>\n",
       "    <tr>\n",
       "      <th>1</th>\n",
       "      <td>2017</td>\n",
       "      <td>8366</td>\n",
       "    </tr>\n",
       "    <tr>\n",
       "      <th>2</th>\n",
       "      <td>2018</td>\n",
       "      <td>54885</td>\n",
       "    </tr>\n",
       "  </tbody>\n",
       "</table>\n",
       "</div>"
      ],
      "text/plain": [
       "   year   size\n",
       "0  2016      1\n",
       "1  2017   8366\n",
       "2  2018  54885"
      ]
     },
     "execution_count": 12,
     "metadata": {},
     "output_type": "execute_result"
    }
   ],
   "source": [
    "news_per_year.head()\n",
    "# news_per_month.head(15)\n",
    "# reddit_per_year.head()\n",
    "# reddit_per_month.head(15)\n",
    "# bitcoinTalk_per_year.head()\n",
    "# bitcoinTalk_per_month.head(15)"
   ]
  },
  {
   "cell_type": "code",
   "execution_count": 13,
   "id": "ce11ca67",
   "metadata": {},
   "outputs": [
    {
     "name": "stdout",
     "output_type": "stream",
     "text": [
      "   year   size\n",
      "0  2015      0\n",
      "1  2016      1\n",
      "2  2017   8366\n",
      "3  2018  54885\n"
     ]
    }
   ],
   "source": [
    "news_per_year.loc[-1] = [2015,0]\n",
    "news_per_year.index = news_per_year.index + 1  # shifting index\n",
    "news_per_year.sort_index(inplace=True) \n",
    "print(news_per_year)"
   ]
  },
  {
   "cell_type": "code",
   "execution_count": 17,
   "id": "27f2c58a",
   "metadata": {},
   "outputs": [
    {
     "name": "stderr",
     "output_type": "stream",
     "text": [
      "C:\\Users\\anair45\\AppData\\Local\\Temp/ipykernel_19972/168883124.py:14: UserWarning: FixedFormatter should only be used together with FixedLocator\n",
      "  ax.set_xticklabels(labels)\n"
     ]
    },
    {
     "data": {
      "image/png": "[encoded data removed]",
      "text/plain": [
       "<Figure size 432x288 with 1 Axes>"
      ]
     },
     "metadata": {
      "needs_background": "light"
     },
     "output_type": "display_data"
    }
   ],
   "source": [
    "fig,ax = plt.subplots()\n",
    "index = np.arange(max(len(reddit_per_year['year']), len(news_per_year['year']), len(bitcoinTalk_per_year['year'])))\n",
    "bar_width = 0.2\n",
    "opacity = 0.8\n",
    "\n",
    "\n",
    "ax.bar(index-bar_width, news_per_year['size'], color='r', width=bar_width, label='News')\n",
    "ax.bar(index, reddit_per_year['size'], color='g', width=bar_width, label='Reddit')\n",
    "ax.bar(index+bar_width, bitcoinTalk_per_year['size'], color='b', width=bar_width, label='Bitcoin Talk')\n",
    "\n",
    "ax.set_yscale('log')\n",
    "ax.tick_params(axis=u'both', which=u'both',length=0)\n",
    "labels = ['','2015','','2016','','2017','','2018','']\n",
    "ax.set_xticklabels(labels)\n",
    "\n",
    "plt.xlabel('Year')\n",
    "plt.ylabel('Amount of content (log scale)')\n",
    "plt.title('Amount of content regarding cryptocurrency from 2015-2017')\n",
    "plt.legend(loc='best')\n",
    "\n",
    "plt.show()"
   ]
  },
  {
   "cell_type": "code",
   "execution_count": null,
   "id": "e7195217",
   "metadata": {},
   "outputs": [],
   "source": [
    "fig,ax = plt.subplots()\n",
    "index = np.arange(max(len(reddit_per_month['year']), len(news_per_month['year']), len(bitcoinTalk_per_month['year'])))\n",
    "bar_width = 0.25\n",
    "opacity = 0.8\n",
    "\n",
    "# ax.bar(index-bar_width, news_per_month['size'], color='r', width=bar_width, label='Reddit')\n",
    "ax.bar(index, reddit_per_month['size'], color='r', width=bar_width, label='Reddit')\n",
    "ax.bar(index+bar_width, bitcoinTalk_per_month['size'], color='b', width=bar_width, label='Bitcoin Talk')\n",
    "\n",
    "# ax.set_xticklabels(reddit_per_year['year'])\n",
    "\n",
    "plt.show()"
   ]
  },
  {
   "cell_type": "code",
   "execution_count": null,
   "id": "25feb99d",
   "metadata": {},
   "outputs": [],
   "source": []
  }
 ],
 "metadata": {
  "kernelspec": {
   "display_name": "Python 3",
   "language": "python",
   "name": "python3"
  },
  "language_info": {
   "codemirror_mode": {
    "name": "ipython",
    "version": 3
   },
   "file_extension": ".py",
   "mimetype": "text/x-python",
   "name": "python",
   "nbconvert_exporter": "python",
   "pygments_lexer": "ipython3",
   "version": "3.8.8"
  }
 },
 "nbformat": 4,
 "nbformat_minor": 5
}
