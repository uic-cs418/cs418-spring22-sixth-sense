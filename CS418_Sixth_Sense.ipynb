{
 "cells": [
  {
   "cell_type": "markdown",
   "id": "be774c81",
   "metadata": {},
   "source": [
    "DOES THE PUBLIC SENTIMENT HAVE AN EFFECT ON CRYPTOCURRENCY PRICE CHANGE?"
   ]
  },
  {
   "cell_type": "markdown",
   "id": "a7a012f3",
   "metadata": {},
   "source": [
    "https://github.com/uic-cs418/cs418-spring22-sixth-sense/blob/main/CS418_Sixth_Sense.ipynb"
   ]
  },
  {
   "cell_type": "markdown",
   "id": "66f60548",
   "metadata": {},
   "source": [
    "INTRODUCTION\n",
    "\n",
    "Cryptocurrency has been a fast-growing technology that has become more widely accepted. In recent years, prices for cryptocurrency have skyrocketed and much is still not known about the causes behind these price fluctuations. Due to cryptocurrency not being controlled by any authority or being backed by any real items, its main price influence is due to the public. Thus, our project wants to explore the relation between public sentiment of cryptocurrency and whether or not it affects the price of coins.\n",
    "\n",
    "CHANGES\n",
    "\n",
    "N/A"
   ]
  },
  {
   "cell_type": "code",
   "execution_count": 3,
   "id": "b8e35f95",
   "metadata": {},
   "outputs": [
    {
     "ename": "ModuleNotFoundError",
     "evalue": "No module named 'textblob'",
     "output_type": "error",
     "traceback": [
      "\u001b[1;31m---------------------------------------------------------------------------\u001b[0m",
      "\u001b[1;31mModuleNotFoundError\u001b[0m                       Traceback (most recent call last)",
      "\u001b[1;32m~\\AppData\\Local\\Temp/ipykernel_1312/3459713338.py\u001b[0m in \u001b[0;36m<module>\u001b[1;34m\u001b[0m\n\u001b[0;32m     24\u001b[0m \u001b[1;32mfrom\u001b[0m \u001b[0msklearn\u001b[0m\u001b[1;33m.\u001b[0m\u001b[0mmodel_selection\u001b[0m \u001b[1;32mimport\u001b[0m \u001b[0mtrain_test_split\u001b[0m\u001b[1;33m\u001b[0m\u001b[1;33m\u001b[0m\u001b[0m\n\u001b[0;32m     25\u001b[0m \u001b[1;33m\u001b[0m\u001b[0m\n\u001b[1;32m---> 26\u001b[1;33m \u001b[1;32mimport\u001b[0m \u001b[0mtextblob\u001b[0m\u001b[1;33m\u001b[0m\u001b[1;33m\u001b[0m\u001b[0m\n\u001b[0m\u001b[0;32m     27\u001b[0m \u001b[1;32mfrom\u001b[0m \u001b[0mtextblob\u001b[0m \u001b[1;32mimport\u001b[0m \u001b[0mTextBlob\u001b[0m\u001b[1;33m\u001b[0m\u001b[1;33m\u001b[0m\u001b[0m\n\u001b[0;32m     28\u001b[0m \u001b[1;32mimport\u001b[0m \u001b[0mwordcloud\u001b[0m\u001b[1;33m\u001b[0m\u001b[1;33m\u001b[0m\u001b[0m\n",
      "\u001b[1;31mModuleNotFoundError\u001b[0m: No module named 'textblob'"
     ]
    }
   ],
   "source": [
    "import numpy as np\n",
    "import pandas as pd\n",
    "import seaborn as sns\n",
    "import matplotlib.pyplot as plt\n",
    "from matplotlib import dates\n",
    "from matplotlib.pyplot import figure\n",
    "import json\n",
    "import nltk\n",
    "import sklearn\n",
    "\n",
    "from nltk.corpus import stopwords\n",
    "from  nltk.stem import SnowballStemmer\n",
    "from nltk.tokenize import word_tokenize\n",
    "from nltk.corpus import stopwords\n",
    "from nltk.sentiment.vader import SentimentIntensityAnalyzer\n",
    "import re\n",
    "\n",
    "from sklearn.preprocessing import LabelEncoder\n",
    "from sklearn.metrics import confusion_matrix, classification_report, accuracy_score\n",
    "from sklearn.manifold import TSNE\n",
    "from sklearn.feature_extraction.text import TfidfVectorizer\n",
    "from sklearn.base import TransformerMixin, BaseEstimator\n",
    "from sklearn.pipeline import Pipeline\n",
    "from sklearn.model_selection import train_test_split\n",
    "\n",
    "import textblob\n",
    "from textblob import TextBlob\n",
    "import wordcloud\n",
    "from wordcloud import WordCloud\n",
    "plt.style.use('fivethirtyeight')"
   ]
  },
  {
   "cell_type": "code",
   "execution_count": null,
   "id": "d6f57fd3",
   "metadata": {},
   "outputs": [],
   "source": [
    "nltk.download('vader_lexicon')\n",
    "nltk.download('punkt')\n",
    "nltk.download('stopwords')\n",
    "nltk.download('wordnet')"
   ]
  },
  {
   "cell_type": "markdown",
   "id": "1c7f86dc",
   "metadata": {},
   "source": [
    "DATA CLEANING\n",
    "\n",
    "For our data cleaning, we first started with a dataset of hundreds of cryptocurrencies and their prices tracked by date through 2013-2018. The dates were converted from UNIX time to a universal datetime. In addition, only the price and dates columns were kept. Because there are hundreds of cryptocurrencies, we filtered out only the top 5-10 most popular, which capture almost all of the most valuable cryptocurrencies. eg. Bitcoin, Ethereum, etc."
   ]
  },
  {
   "cell_type": "code",
   "execution_count": 4,
   "id": "263c1a02",
   "metadata": {
    "scrolled": true
   },
   "outputs": [
    {
     "data": {
      "text/html": [
       "<div>\n",
       "<style scoped>\n",
       "    .dataframe tbody tr th:only-of-type {\n",
       "        vertical-align: middle;\n",
       "    }\n",
       "\n",
       "    .dataframe tbody tr th {\n",
       "        vertical-align: top;\n",
       "    }\n",
       "\n",
       "    .dataframe thead th {\n",
       "        text-align: right;\n",
       "    }\n",
       "</style>\n",
       "<table border=\"1\" class=\"dataframe\">\n",
       "  <thead>\n",
       "    <tr style=\"text-align: right;\">\n",
       "      <th></th>\n",
       "      <th>currency</th>\n",
       "      <th>date</th>\n",
       "      <th>price</th>\n",
       "      <th>Year</th>\n",
       "      <th>Month</th>\n",
       "      <th>Day</th>\n",
       "    </tr>\n",
       "  </thead>\n",
       "  <tbody>\n",
       "    <tr>\n",
       "      <th>64769</th>\n",
       "      <td>bitcoin</td>\n",
       "      <td>2015-01-01 02:40:00</td>\n",
       "      <td>317.848</td>\n",
       "      <td>2015</td>\n",
       "      <td>1</td>\n",
       "      <td>1</td>\n",
       "    </tr>\n",
       "    <tr>\n",
       "      <th>64770</th>\n",
       "      <td>bitcoin</td>\n",
       "      <td>2015-01-02 00:53:20</td>\n",
       "      <td>313.639</td>\n",
       "      <td>2015</td>\n",
       "      <td>1</td>\n",
       "      <td>2</td>\n",
       "    </tr>\n",
       "    <tr>\n",
       "      <th>64771</th>\n",
       "      <td>bitcoin</td>\n",
       "      <td>2015-01-03 01:53:20</td>\n",
       "      <td>314.870</td>\n",
       "      <td>2015</td>\n",
       "      <td>1</td>\n",
       "      <td>3</td>\n",
       "    </tr>\n",
       "    <tr>\n",
       "      <th>64772</th>\n",
       "      <td>bitcoin</td>\n",
       "      <td>2015-01-04 00:06:40</td>\n",
       "      <td>281.246</td>\n",
       "      <td>2015</td>\n",
       "      <td>1</td>\n",
       "      <td>4</td>\n",
       "    </tr>\n",
       "    <tr>\n",
       "      <th>64773</th>\n",
       "      <td>bitcoin</td>\n",
       "      <td>2015-01-05 01:06:40</td>\n",
       "      <td>266.723</td>\n",
       "      <td>2015</td>\n",
       "      <td>1</td>\n",
       "      <td>5</td>\n",
       "    </tr>\n",
       "    <tr>\n",
       "      <th>64774</th>\n",
       "      <td>bitcoin</td>\n",
       "      <td>2015-01-06 02:06:40</td>\n",
       "      <td>274.168</td>\n",
       "      <td>2015</td>\n",
       "      <td>1</td>\n",
       "      <td>6</td>\n",
       "    </tr>\n",
       "    <tr>\n",
       "      <th>64775</th>\n",
       "      <td>bitcoin</td>\n",
       "      <td>2015-01-07 00:20:00</td>\n",
       "      <td>283.238</td>\n",
       "      <td>2015</td>\n",
       "      <td>1</td>\n",
       "      <td>7</td>\n",
       "    </tr>\n",
       "    <tr>\n",
       "      <th>64776</th>\n",
       "      <td>bitcoin</td>\n",
       "      <td>2015-01-08 01:20:00</td>\n",
       "      <td>293.754</td>\n",
       "      <td>2015</td>\n",
       "      <td>1</td>\n",
       "      <td>8</td>\n",
       "    </tr>\n",
       "    <tr>\n",
       "      <th>64777</th>\n",
       "      <td>bitcoin</td>\n",
       "      <td>2015-01-09 02:20:00</td>\n",
       "      <td>282.507</td>\n",
       "      <td>2015</td>\n",
       "      <td>1</td>\n",
       "      <td>9</td>\n",
       "    </tr>\n",
       "    <tr>\n",
       "      <th>64778</th>\n",
       "      <td>bitcoin</td>\n",
       "      <td>2015-01-10 08:53:20</td>\n",
       "      <td>277.861</td>\n",
       "      <td>2015</td>\n",
       "      <td>1</td>\n",
       "      <td>10</td>\n",
       "    </tr>\n",
       "  </tbody>\n",
       "</table>\n",
       "</div>"
      ],
      "text/plain": [
       "      currency                date    price  Year  Month  Day\n",
       "64769  bitcoin 2015-01-01 02:40:00  317.848  2015      1    1\n",
       "64770  bitcoin 2015-01-02 00:53:20  313.639  2015      1    2\n",
       "64771  bitcoin 2015-01-03 01:53:20  314.870  2015      1    3\n",
       "64772  bitcoin 2015-01-04 00:06:40  281.246  2015      1    4\n",
       "64773  bitcoin 2015-01-05 01:06:40  266.723  2015      1    5\n",
       "64774  bitcoin 2015-01-06 02:06:40  274.168  2015      1    6\n",
       "64775  bitcoin 2015-01-07 00:20:00  283.238  2015      1    7\n",
       "64776  bitcoin 2015-01-08 01:20:00  293.754  2015      1    8\n",
       "64777  bitcoin 2015-01-09 02:20:00  282.507  2015      1    9\n",
       "64778  bitcoin 2015-01-10 08:53:20  277.861  2015      1   10"
      ]
     },
     "execution_count": 4,
     "metadata": {},
     "output_type": "execute_result"
    }
   ],
   "source": [
    "# Source: https://data.world/chasewillden/cryptocurrency-price-by-date-2013-february-2018\n",
    "crypto_prices_df = pd.read_csv('chasewillden-cryptocurrency-price-by-date-2013-february-2018/chasewillden-cryptocurrency-price-by-date-2013-february-2018/data/cryptocurrency_prices_by_date.csv')\n",
    "\n",
    "# Extract prices for the timeframe 01/01/2015 - 12/31/2018\n",
    "# 2015-01-01 00:00:00  => 1420070400000\n",
    "# 2018-12-31 23:59:59 => 1546261199000\n",
    "crypto_prices_df = crypto_prices_df[(crypto_prices_df['date'] >= 1420070400000) & (crypto_prices_df['date'] <= 1546261199000)]\n",
    "\n",
    "# Convert Unix time to Date time\n",
    "crypto_prices_df['date'] = pd.to_datetime(crypto_prices_df['date'], unit='ms')\n",
    "crypto_prices_df['Year'] = crypto_prices_df['date'].dt.year\n",
    "crypto_prices_df['Month'] = crypto_prices_df['date'].dt.month\n",
    "crypto_prices_df['Day'] = crypto_prices_df['date'].dt.day\n",
    "crypto_prices_df[(crypto_prices_df['currency'] == 'bitcoin')].head(10)"
   ]
  },
  {
   "cell_type": "code",
   "execution_count": 5,
   "id": "48ed04d5",
   "metadata": {},
   "outputs": [
    {
     "data": {
      "text/html": [
       "<div>\n",
       "<style scoped>\n",
       "    .dataframe tbody tr th:only-of-type {\n",
       "        vertical-align: middle;\n",
       "    }\n",
       "\n",
       "    .dataframe tbody tr th {\n",
       "        vertical-align: top;\n",
       "    }\n",
       "\n",
       "    .dataframe thead th {\n",
       "        text-align: right;\n",
       "    }\n",
       "</style>\n",
       "<table border=\"1\" class=\"dataframe\">\n",
       "  <thead>\n",
       "    <tr style=\"text-align: right;\">\n",
       "      <th></th>\n",
       "      <th>currency</th>\n",
       "      <th>date</th>\n",
       "      <th>price</th>\n",
       "      <th>Year</th>\n",
       "      <th>Month</th>\n",
       "      <th>Day</th>\n",
       "    </tr>\n",
       "  </thead>\n",
       "  <tbody>\n",
       "    <tr>\n",
       "      <th>0</th>\n",
       "      <td>0x</td>\n",
       "      <td>2017-08-16 13:26:40</td>\n",
       "      <td>0.111725</td>\n",
       "      <td>2017</td>\n",
       "      <td>8</td>\n",
       "      <td>16</td>\n",
       "    </tr>\n",
       "    <tr>\n",
       "      <th>1</th>\n",
       "      <td>0x</td>\n",
       "      <td>2017-08-17 14:26:40</td>\n",
       "      <td>0.211486</td>\n",
       "      <td>2017</td>\n",
       "      <td>8</td>\n",
       "      <td>17</td>\n",
       "    </tr>\n",
       "    <tr>\n",
       "      <th>2</th>\n",
       "      <td>0x</td>\n",
       "      <td>2017-08-18 15:26:40</td>\n",
       "      <td>0.283789</td>\n",
       "      <td>2017</td>\n",
       "      <td>8</td>\n",
       "      <td>18</td>\n",
       "    </tr>\n",
       "    <tr>\n",
       "      <th>3</th>\n",
       "      <td>0x</td>\n",
       "      <td>2017-08-19 16:26:40</td>\n",
       "      <td>0.511434</td>\n",
       "      <td>2017</td>\n",
       "      <td>8</td>\n",
       "      <td>19</td>\n",
       "    </tr>\n",
       "    <tr>\n",
       "      <th>4</th>\n",
       "      <td>0x</td>\n",
       "      <td>2017-08-20 14:40:00</td>\n",
       "      <td>0.429522</td>\n",
       "      <td>2017</td>\n",
       "      <td>8</td>\n",
       "      <td>20</td>\n",
       "    </tr>\n",
       "  </tbody>\n",
       "</table>\n",
       "</div>"
      ],
      "text/plain": [
       "  currency                date     price  Year  Month  Day\n",
       "0       0x 2017-08-16 13:26:40  0.111725  2017      8   16\n",
       "1       0x 2017-08-17 14:26:40  0.211486  2017      8   17\n",
       "2       0x 2017-08-18 15:26:40  0.283789  2017      8   18\n",
       "3       0x 2017-08-19 16:26:40  0.511434  2017      8   19\n",
       "4       0x 2017-08-20 14:40:00  0.429522  2017      8   20"
      ]
     },
     "execution_count": 5,
     "metadata": {},
     "output_type": "execute_result"
    }
   ],
   "source": [
    "crypto_prices_df.head()"
   ]
  },
  {
   "cell_type": "code",
   "execution_count": 6,
   "id": "431d838b",
   "metadata": {},
   "outputs": [
    {
     "ename": "ValueError",
     "evalue": "Expected object or value",
     "output_type": "error",
     "traceback": [
      "\u001b[1;31m---------------------------------------------------------------------------\u001b[0m",
      "\u001b[1;31mValueError\u001b[0m                                Traceback (most recent call last)",
      "\u001b[1;32m~\\AppData\\Local\\Temp/ipykernel_1312/676751549.py\u001b[0m in \u001b[0;36m<module>\u001b[1;34m\u001b[0m\n\u001b[0;32m      1\u001b[0m \u001b[1;31m#Source: https://edloginova.github.io/cryptodata/\u001b[0m\u001b[1;33m\u001b[0m\u001b[1;33m\u001b[0m\u001b[0m\n\u001b[0;32m      2\u001b[0m \u001b[0mnews\u001b[0m \u001b[1;33m=\u001b[0m \u001b[0mpd\u001b[0m\u001b[1;33m.\u001b[0m\u001b[0mread_json\u001b[0m\u001b[1;33m(\u001b[0m\u001b[1;34m'cryptodata/news.json'\u001b[0m\u001b[1;33m)\u001b[0m\u001b[1;33m\u001b[0m\u001b[1;33m\u001b[0m\u001b[0m\n\u001b[1;32m----> 3\u001b[1;33m \u001b[0mreddit\u001b[0m \u001b[1;33m=\u001b[0m \u001b[0mpd\u001b[0m\u001b[1;33m.\u001b[0m\u001b[0mread_json\u001b[0m\u001b[1;33m(\u001b[0m\u001b[1;34m'cryptodata/reddit.json'\u001b[0m\u001b[1;33m)\u001b[0m\u001b[1;33m\u001b[0m\u001b[1;33m\u001b[0m\u001b[0m\n\u001b[0m\u001b[0;32m      4\u001b[0m \u001b[0mbitcoinTalk\u001b[0m \u001b[1;33m=\u001b[0m \u001b[0mpd\u001b[0m\u001b[1;33m.\u001b[0m\u001b[0mread_json\u001b[0m\u001b[1;33m(\u001b[0m\u001b[1;34m'cryptodata/bitcointalk.json'\u001b[0m\u001b[1;33m)\u001b[0m\u001b[1;33m\u001b[0m\u001b[1;33m\u001b[0m\u001b[0m\n",
      "\u001b[1;32m~\\Anaconda3\\envs\\cs418env\\lib\\site-packages\\pandas\\util\\_decorators.py\u001b[0m in \u001b[0;36mwrapper\u001b[1;34m(*args, **kwargs)\u001b[0m\n\u001b[0;32m    205\u001b[0m                 \u001b[1;32melse\u001b[0m\u001b[1;33m:\u001b[0m\u001b[1;33m\u001b[0m\u001b[1;33m\u001b[0m\u001b[0m\n\u001b[0;32m    206\u001b[0m                     \u001b[0mkwargs\u001b[0m\u001b[1;33m[\u001b[0m\u001b[0mnew_arg_name\u001b[0m\u001b[1;33m]\u001b[0m \u001b[1;33m=\u001b[0m \u001b[0mnew_arg_value\u001b[0m\u001b[1;33m\u001b[0m\u001b[1;33m\u001b[0m\u001b[0m\n\u001b[1;32m--> 207\u001b[1;33m             \u001b[1;32mreturn\u001b[0m \u001b[0mfunc\u001b[0m\u001b[1;33m(\u001b[0m\u001b[1;33m*\u001b[0m\u001b[0margs\u001b[0m\u001b[1;33m,\u001b[0m \u001b[1;33m**\u001b[0m\u001b[0mkwargs\u001b[0m\u001b[1;33m)\u001b[0m\u001b[1;33m\u001b[0m\u001b[1;33m\u001b[0m\u001b[0m\n\u001b[0m\u001b[0;32m    208\u001b[0m \u001b[1;33m\u001b[0m\u001b[0m\n\u001b[0;32m    209\u001b[0m         \u001b[1;32mreturn\u001b[0m \u001b[0mcast\u001b[0m\u001b[1;33m(\u001b[0m\u001b[0mF\u001b[0m\u001b[1;33m,\u001b[0m \u001b[0mwrapper\u001b[0m\u001b[1;33m)\u001b[0m\u001b[1;33m\u001b[0m\u001b[1;33m\u001b[0m\u001b[0m\n",
      "\u001b[1;32m~\\Anaconda3\\envs\\cs418env\\lib\\site-packages\\pandas\\util\\_decorators.py\u001b[0m in \u001b[0;36mwrapper\u001b[1;34m(*args, **kwargs)\u001b[0m\n\u001b[0;32m    309\u001b[0m                     \u001b[0mstacklevel\u001b[0m\u001b[1;33m=\u001b[0m\u001b[0mstacklevel\u001b[0m\u001b[1;33m,\u001b[0m\u001b[1;33m\u001b[0m\u001b[1;33m\u001b[0m\u001b[0m\n\u001b[0;32m    310\u001b[0m                 )\n\u001b[1;32m--> 311\u001b[1;33m             \u001b[1;32mreturn\u001b[0m \u001b[0mfunc\u001b[0m\u001b[1;33m(\u001b[0m\u001b[1;33m*\u001b[0m\u001b[0margs\u001b[0m\u001b[1;33m,\u001b[0m \u001b[1;33m**\u001b[0m\u001b[0mkwargs\u001b[0m\u001b[1;33m)\u001b[0m\u001b[1;33m\u001b[0m\u001b[1;33m\u001b[0m\u001b[0m\n\u001b[0m\u001b[0;32m    312\u001b[0m \u001b[1;33m\u001b[0m\u001b[0m\n\u001b[0;32m    313\u001b[0m         \u001b[1;32mreturn\u001b[0m \u001b[0mwrapper\u001b[0m\u001b[1;33m\u001b[0m\u001b[1;33m\u001b[0m\u001b[0m\n",
      "\u001b[1;32m~\\Anaconda3\\envs\\cs418env\\lib\\site-packages\\pandas\\io\\json\\_json.py\u001b[0m in \u001b[0;36mread_json\u001b[1;34m(path_or_buf, orient, typ, dtype, convert_axes, convert_dates, keep_default_dates, numpy, precise_float, date_unit, encoding, encoding_errors, lines, chunksize, compression, nrows, storage_options)\u001b[0m\n\u001b[0;32m    612\u001b[0m \u001b[1;33m\u001b[0m\u001b[0m\n\u001b[0;32m    613\u001b[0m     \u001b[1;32mwith\u001b[0m \u001b[0mjson_reader\u001b[0m\u001b[1;33m:\u001b[0m\u001b[1;33m\u001b[0m\u001b[1;33m\u001b[0m\u001b[0m\n\u001b[1;32m--> 614\u001b[1;33m         \u001b[1;32mreturn\u001b[0m \u001b[0mjson_reader\u001b[0m\u001b[1;33m.\u001b[0m\u001b[0mread\u001b[0m\u001b[1;33m(\u001b[0m\u001b[1;33m)\u001b[0m\u001b[1;33m\u001b[0m\u001b[1;33m\u001b[0m\u001b[0m\n\u001b[0m\u001b[0;32m    615\u001b[0m \u001b[1;33m\u001b[0m\u001b[0m\n\u001b[0;32m    616\u001b[0m \u001b[1;33m\u001b[0m\u001b[0m\n",
      "\u001b[1;32m~\\Anaconda3\\envs\\cs418env\\lib\\site-packages\\pandas\\io\\json\\_json.py\u001b[0m in \u001b[0;36mread\u001b[1;34m(self)\u001b[0m\n\u001b[0;32m    746\u001b[0m                 \u001b[0mobj\u001b[0m \u001b[1;33m=\u001b[0m \u001b[0mself\u001b[0m\u001b[1;33m.\u001b[0m\u001b[0m_get_object_parser\u001b[0m\u001b[1;33m(\u001b[0m\u001b[0mself\u001b[0m\u001b[1;33m.\u001b[0m\u001b[0m_combine_lines\u001b[0m\u001b[1;33m(\u001b[0m\u001b[0mdata_lines\u001b[0m\u001b[1;33m)\u001b[0m\u001b[1;33m)\u001b[0m\u001b[1;33m\u001b[0m\u001b[1;33m\u001b[0m\u001b[0m\n\u001b[0;32m    747\u001b[0m         \u001b[1;32melse\u001b[0m\u001b[1;33m:\u001b[0m\u001b[1;33m\u001b[0m\u001b[1;33m\u001b[0m\u001b[0m\n\u001b[1;32m--> 748\u001b[1;33m             \u001b[0mobj\u001b[0m \u001b[1;33m=\u001b[0m \u001b[0mself\u001b[0m\u001b[1;33m.\u001b[0m\u001b[0m_get_object_parser\u001b[0m\u001b[1;33m(\u001b[0m\u001b[0mself\u001b[0m\u001b[1;33m.\u001b[0m\u001b[0mdata\u001b[0m\u001b[1;33m)\u001b[0m\u001b[1;33m\u001b[0m\u001b[1;33m\u001b[0m\u001b[0m\n\u001b[0m\u001b[0;32m    749\u001b[0m         \u001b[0mself\u001b[0m\u001b[1;33m.\u001b[0m\u001b[0mclose\u001b[0m\u001b[1;33m(\u001b[0m\u001b[1;33m)\u001b[0m\u001b[1;33m\u001b[0m\u001b[1;33m\u001b[0m\u001b[0m\n\u001b[0;32m    750\u001b[0m         \u001b[1;32mreturn\u001b[0m \u001b[0mobj\u001b[0m\u001b[1;33m\u001b[0m\u001b[1;33m\u001b[0m\u001b[0m\n",
      "\u001b[1;32m~\\Anaconda3\\envs\\cs418env\\lib\\site-packages\\pandas\\io\\json\\_json.py\u001b[0m in \u001b[0;36m_get_object_parser\u001b[1;34m(self, json)\u001b[0m\n\u001b[0;32m    768\u001b[0m         \u001b[0mobj\u001b[0m \u001b[1;33m=\u001b[0m \u001b[1;32mNone\u001b[0m\u001b[1;33m\u001b[0m\u001b[1;33m\u001b[0m\u001b[0m\n\u001b[0;32m    769\u001b[0m         \u001b[1;32mif\u001b[0m \u001b[0mtyp\u001b[0m \u001b[1;33m==\u001b[0m \u001b[1;34m\"frame\"\u001b[0m\u001b[1;33m:\u001b[0m\u001b[1;33m\u001b[0m\u001b[1;33m\u001b[0m\u001b[0m\n\u001b[1;32m--> 770\u001b[1;33m             \u001b[0mobj\u001b[0m \u001b[1;33m=\u001b[0m \u001b[0mFrameParser\u001b[0m\u001b[1;33m(\u001b[0m\u001b[0mjson\u001b[0m\u001b[1;33m,\u001b[0m \u001b[1;33m**\u001b[0m\u001b[0mkwargs\u001b[0m\u001b[1;33m)\u001b[0m\u001b[1;33m.\u001b[0m\u001b[0mparse\u001b[0m\u001b[1;33m(\u001b[0m\u001b[1;33m)\u001b[0m\u001b[1;33m\u001b[0m\u001b[1;33m\u001b[0m\u001b[0m\n\u001b[0m\u001b[0;32m    771\u001b[0m \u001b[1;33m\u001b[0m\u001b[0m\n\u001b[0;32m    772\u001b[0m         \u001b[1;32mif\u001b[0m \u001b[0mtyp\u001b[0m \u001b[1;33m==\u001b[0m \u001b[1;34m\"series\"\u001b[0m \u001b[1;32mor\u001b[0m \u001b[0mobj\u001b[0m \u001b[1;32mis\u001b[0m \u001b[1;32mNone\u001b[0m\u001b[1;33m:\u001b[0m\u001b[1;33m\u001b[0m\u001b[1;33m\u001b[0m\u001b[0m\n",
      "\u001b[1;32m~\\Anaconda3\\envs\\cs418env\\lib\\site-packages\\pandas\\io\\json\\_json.py\u001b[0m in \u001b[0;36mparse\u001b[1;34m(self)\u001b[0m\n\u001b[0;32m    883\u001b[0m \u001b[1;33m\u001b[0m\u001b[0m\n\u001b[0;32m    884\u001b[0m         \u001b[1;32melse\u001b[0m\u001b[1;33m:\u001b[0m\u001b[1;33m\u001b[0m\u001b[1;33m\u001b[0m\u001b[0m\n\u001b[1;32m--> 885\u001b[1;33m             \u001b[0mself\u001b[0m\u001b[1;33m.\u001b[0m\u001b[0m_parse_no_numpy\u001b[0m\u001b[1;33m(\u001b[0m\u001b[1;33m)\u001b[0m\u001b[1;33m\u001b[0m\u001b[1;33m\u001b[0m\u001b[0m\n\u001b[0m\u001b[0;32m    886\u001b[0m \u001b[1;33m\u001b[0m\u001b[0m\n\u001b[0;32m    887\u001b[0m         \u001b[1;32mif\u001b[0m \u001b[0mself\u001b[0m\u001b[1;33m.\u001b[0m\u001b[0mobj\u001b[0m \u001b[1;32mis\u001b[0m \u001b[1;32mNone\u001b[0m\u001b[1;33m:\u001b[0m\u001b[1;33m\u001b[0m\u001b[1;33m\u001b[0m\u001b[0m\n",
      "\u001b[1;32m~\\Anaconda3\\envs\\cs418env\\lib\\site-packages\\pandas\\io\\json\\_json.py\u001b[0m in \u001b[0;36m_parse_no_numpy\u001b[1;34m(self)\u001b[0m\n\u001b[0;32m   1138\u001b[0m         \u001b[1;32mif\u001b[0m \u001b[0morient\u001b[0m \u001b[1;33m==\u001b[0m \u001b[1;34m\"columns\"\u001b[0m\u001b[1;33m:\u001b[0m\u001b[1;33m\u001b[0m\u001b[1;33m\u001b[0m\u001b[0m\n\u001b[0;32m   1139\u001b[0m             self.obj = DataFrame(\n\u001b[1;32m-> 1140\u001b[1;33m                 \u001b[0mloads\u001b[0m\u001b[1;33m(\u001b[0m\u001b[0mjson\u001b[0m\u001b[1;33m,\u001b[0m \u001b[0mprecise_float\u001b[0m\u001b[1;33m=\u001b[0m\u001b[0mself\u001b[0m\u001b[1;33m.\u001b[0m\u001b[0mprecise_float\u001b[0m\u001b[1;33m)\u001b[0m\u001b[1;33m,\u001b[0m \u001b[0mdtype\u001b[0m\u001b[1;33m=\u001b[0m\u001b[1;32mNone\u001b[0m\u001b[1;33m\u001b[0m\u001b[1;33m\u001b[0m\u001b[0m\n\u001b[0m\u001b[0;32m   1141\u001b[0m             )\n\u001b[0;32m   1142\u001b[0m         \u001b[1;32melif\u001b[0m \u001b[0morient\u001b[0m \u001b[1;33m==\u001b[0m \u001b[1;34m\"split\"\u001b[0m\u001b[1;33m:\u001b[0m\u001b[1;33m\u001b[0m\u001b[1;33m\u001b[0m\u001b[0m\n",
      "\u001b[1;31mValueError\u001b[0m: Expected object or value"
     ]
    }
   ],
   "source": [
    "#Source: https://edloginova.github.io/cryptodata/\n",
    "news = pd.read_json('cryptodata/news.json')\n",
    "reddit = pd.read_json('cryptodata/reddit.json')\n",
    "bitcoinTalk = pd.read_json('cryptodata/bitcointalk.json')"
   ]
  },
  {
   "cell_type": "code",
   "execution_count": 7,
   "id": "9632f915",
   "metadata": {},
   "outputs": [
    {
     "ename": "NameError",
     "evalue": "name 'reddit' is not defined",
     "output_type": "error",
     "traceback": [
      "\u001b[1;31m---------------------------------------------------------------------------\u001b[0m",
      "\u001b[1;31mNameError\u001b[0m                                 Traceback (most recent call last)",
      "\u001b[1;32m~\\AppData\\Local\\Temp/ipykernel_1312/3666661117.py\u001b[0m in \u001b[0;36m<module>\u001b[1;34m\u001b[0m\n\u001b[0;32m      1\u001b[0m \u001b[0mnews\u001b[0m \u001b[1;33m=\u001b[0m \u001b[0mnews\u001b[0m\u001b[1;33m[\u001b[0m\u001b[1;33m(\u001b[0m\u001b[0mnews\u001b[0m\u001b[1;33m[\u001b[0m\u001b[1;34m'date'\u001b[0m\u001b[1;33m]\u001b[0m\u001b[1;33m.\u001b[0m\u001b[0mdt\u001b[0m\u001b[1;33m.\u001b[0m\u001b[0myear\u001b[0m \u001b[1;33m>=\u001b[0m \u001b[1;36m2015\u001b[0m\u001b[1;33m)\u001b[0m \u001b[1;33m&\u001b[0m \u001b[1;33m(\u001b[0m\u001b[0mnews\u001b[0m\u001b[1;33m[\u001b[0m\u001b[1;34m'date'\u001b[0m\u001b[1;33m]\u001b[0m\u001b[1;33m.\u001b[0m\u001b[0mdt\u001b[0m\u001b[1;33m.\u001b[0m\u001b[0myear\u001b[0m \u001b[1;33m<=\u001b[0m \u001b[1;36m2018\u001b[0m\u001b[1;33m)\u001b[0m\u001b[1;33m]\u001b[0m\u001b[1;33m\u001b[0m\u001b[1;33m\u001b[0m\u001b[0m\n\u001b[1;32m----> 2\u001b[1;33m \u001b[0mreddit\u001b[0m \u001b[1;33m=\u001b[0m \u001b[0mreddit\u001b[0m\u001b[1;33m[\u001b[0m\u001b[1;33m(\u001b[0m\u001b[0mreddit\u001b[0m\u001b[1;33m[\u001b[0m\u001b[1;34m'date'\u001b[0m\u001b[1;33m]\u001b[0m\u001b[1;33m.\u001b[0m\u001b[0mdt\u001b[0m\u001b[1;33m.\u001b[0m\u001b[0myear\u001b[0m \u001b[1;33m>=\u001b[0m \u001b[1;36m2015\u001b[0m\u001b[1;33m)\u001b[0m \u001b[1;33m&\u001b[0m \u001b[1;33m(\u001b[0m\u001b[0mreddit\u001b[0m\u001b[1;33m[\u001b[0m\u001b[1;34m'date'\u001b[0m\u001b[1;33m]\u001b[0m\u001b[1;33m.\u001b[0m\u001b[0mdt\u001b[0m\u001b[1;33m.\u001b[0m\u001b[0myear\u001b[0m \u001b[1;33m<=\u001b[0m \u001b[1;36m2018\u001b[0m\u001b[1;33m)\u001b[0m\u001b[1;33m]\u001b[0m\u001b[1;33m\u001b[0m\u001b[1;33m\u001b[0m\u001b[0m\n\u001b[0m\u001b[0;32m      3\u001b[0m \u001b[0mbitcoinTalk\u001b[0m \u001b[1;33m=\u001b[0m \u001b[0mbitcoinTalk\u001b[0m\u001b[1;33m[\u001b[0m\u001b[1;33m(\u001b[0m\u001b[0mbitcoinTalk\u001b[0m\u001b[1;33m[\u001b[0m\u001b[1;34m'date'\u001b[0m\u001b[1;33m]\u001b[0m\u001b[1;33m.\u001b[0m\u001b[0mdt\u001b[0m\u001b[1;33m.\u001b[0m\u001b[0myear\u001b[0m \u001b[1;33m>=\u001b[0m \u001b[1;36m2015\u001b[0m\u001b[1;33m)\u001b[0m \u001b[1;33m&\u001b[0m \u001b[1;33m(\u001b[0m\u001b[0mbitcoinTalk\u001b[0m\u001b[1;33m[\u001b[0m\u001b[1;34m'date'\u001b[0m\u001b[1;33m]\u001b[0m\u001b[1;33m.\u001b[0m\u001b[0mdt\u001b[0m\u001b[1;33m.\u001b[0m\u001b[0myear\u001b[0m \u001b[1;33m<=\u001b[0m \u001b[1;36m2018\u001b[0m\u001b[1;33m)\u001b[0m\u001b[1;33m]\u001b[0m\u001b[1;33m\u001b[0m\u001b[1;33m\u001b[0m\u001b[0m\n\u001b[0;32m      4\u001b[0m \u001b[1;33m\u001b[0m\u001b[0m\n\u001b[0;32m      5\u001b[0m \u001b[0mprint\u001b[0m\u001b[1;33m(\u001b[0m\u001b[0mlen\u001b[0m\u001b[1;33m(\u001b[0m\u001b[0mnews\u001b[0m\u001b[1;33m)\u001b[0m\u001b[1;33m)\u001b[0m\u001b[1;33m\u001b[0m\u001b[1;33m\u001b[0m\u001b[0m\n",
      "\u001b[1;31mNameError\u001b[0m: name 'reddit' is not defined"
     ]
    }
   ],
   "source": [
    "news = news[(news['date'].dt.year >= 2015) & (news['date'].dt.year <= 2018)]\n",
    "reddit = reddit[(reddit['date'].dt.year >= 2015) & (reddit['date'].dt.year <= 2018)]\n",
    "bitcoinTalk = bitcoinTalk[(bitcoinTalk['date'].dt.year >= 2015) & (bitcoinTalk['date'].dt.year <= 2018)]\n",
    "\n",
    "print(len(news))\n",
    "print(len(reddit))\n",
    "print(len(bitcoinTalk))"
   ]
  },
  {
   "cell_type": "code",
   "execution_count": 8,
   "id": "67187145",
   "metadata": {},
   "outputs": [
    {
     "ename": "NameError",
     "evalue": "name 'reddit' is not defined",
     "output_type": "error",
     "traceback": [
      "\u001b[1;31m---------------------------------------------------------------------------\u001b[0m",
      "\u001b[1;31mNameError\u001b[0m                                 Traceback (most recent call last)",
      "\u001b[1;32m~\\AppData\\Local\\Temp/ipykernel_1312/2012998968.py\u001b[0m in \u001b[0;36m<module>\u001b[1;34m\u001b[0m\n\u001b[0;32m      1\u001b[0m \u001b[0mnews\u001b[0m\u001b[1;33m[\u001b[0m\u001b[1;34m'Year'\u001b[0m\u001b[1;33m]\u001b[0m \u001b[1;33m=\u001b[0m \u001b[0mnews\u001b[0m\u001b[1;33m[\u001b[0m\u001b[1;34m'date'\u001b[0m\u001b[1;33m]\u001b[0m\u001b[1;33m.\u001b[0m\u001b[0mdt\u001b[0m\u001b[1;33m.\u001b[0m\u001b[0myear\u001b[0m\u001b[1;33m\u001b[0m\u001b[1;33m\u001b[0m\u001b[0m\n\u001b[0;32m      2\u001b[0m \u001b[0mnews\u001b[0m\u001b[1;33m[\u001b[0m\u001b[1;34m'Month'\u001b[0m\u001b[1;33m]\u001b[0m \u001b[1;33m=\u001b[0m \u001b[0mnews\u001b[0m\u001b[1;33m[\u001b[0m\u001b[1;34m'date'\u001b[0m\u001b[1;33m]\u001b[0m\u001b[1;33m.\u001b[0m\u001b[0mdt\u001b[0m\u001b[1;33m.\u001b[0m\u001b[0mmonth\u001b[0m\u001b[1;33m\u001b[0m\u001b[1;33m\u001b[0m\u001b[0m\n\u001b[1;32m----> 3\u001b[1;33m \u001b[0mreddit\u001b[0m\u001b[1;33m[\u001b[0m\u001b[1;34m'Year'\u001b[0m\u001b[1;33m]\u001b[0m \u001b[1;33m=\u001b[0m \u001b[0mreddit\u001b[0m\u001b[1;33m[\u001b[0m\u001b[1;34m'date'\u001b[0m\u001b[1;33m]\u001b[0m\u001b[1;33m.\u001b[0m\u001b[0mdt\u001b[0m\u001b[1;33m.\u001b[0m\u001b[0myear\u001b[0m\u001b[1;33m\u001b[0m\u001b[1;33m\u001b[0m\u001b[0m\n\u001b[0m\u001b[0;32m      4\u001b[0m \u001b[0mreddit\u001b[0m\u001b[1;33m[\u001b[0m\u001b[1;34m'Month'\u001b[0m\u001b[1;33m]\u001b[0m \u001b[1;33m=\u001b[0m \u001b[0mreddit\u001b[0m\u001b[1;33m[\u001b[0m\u001b[1;34m'date'\u001b[0m\u001b[1;33m]\u001b[0m\u001b[1;33m.\u001b[0m\u001b[0mdt\u001b[0m\u001b[1;33m.\u001b[0m\u001b[0mmonth\u001b[0m\u001b[1;33m\u001b[0m\u001b[1;33m\u001b[0m\u001b[0m\n\u001b[0;32m      5\u001b[0m \u001b[0mbitcoinTalk\u001b[0m\u001b[1;33m[\u001b[0m\u001b[1;34m'Year'\u001b[0m\u001b[1;33m]\u001b[0m \u001b[1;33m=\u001b[0m \u001b[0mbitcoinTalk\u001b[0m\u001b[1;33m[\u001b[0m\u001b[1;34m'date'\u001b[0m\u001b[1;33m]\u001b[0m\u001b[1;33m.\u001b[0m\u001b[0mdt\u001b[0m\u001b[1;33m.\u001b[0m\u001b[0myear\u001b[0m\u001b[1;33m\u001b[0m\u001b[1;33m\u001b[0m\u001b[0m\n",
      "\u001b[1;31mNameError\u001b[0m: name 'reddit' is not defined"
     ]
    }
   ],
   "source": [
    "news['Year'] = news['date'].dt.year\n",
    "news['Month'] = news['date'].dt.month\n",
    "reddit['Year'] = reddit['date'].dt.year\n",
    "reddit['Month'] = reddit['date'].dt.month\n",
    "bitcoinTalk['Year'] = bitcoinTalk['date'].dt.year\n",
    "bitcoinTalk['Month'] = bitcoinTalk['date'].dt.month\n",
    "\n",
    "news.head()"
   ]
  },
  {
   "cell_type": "markdown",
   "id": "4314435e",
   "metadata": {},
   "source": [
    "EDA:\n",
    "\n",
    "This dataframe is what our data looks like after we've cleaned the data. "
   ]
  },
  {
   "cell_type": "code",
   "execution_count": 9,
   "id": "aaa28e6f",
   "metadata": {},
   "outputs": [],
   "source": [
    "popular_cryptos = ['bitcoin','ethereum', 'tether', 'binance-coin', 'cardano']\n",
    "prices_of_popular_cryptos = crypto_prices_df[crypto_prices_df['currency'].isin(popular_cryptos)]\n",
    "\n",
    "# This method takes year and returns plots of price per every year\n",
    "def price_of_popular_cryptos_during_a_particular_year(year):\n",
    "    price = prices_of_popular_cryptos[(prices_of_popular_cryptos['Year']==year)]\n",
    "    ax = sns.lineplot(data=price, x='Month', y='price', hue='currency',marker='o')\n",
    "    ax.set(xticks=prices_of_popular_cryptos.Month.values)\n",
    "    ax.set_title('Price of Coin by Month ' + str(year))\n",
    "    plt.show()\n",
    "    return price\n"
   ]
  },
  {
   "cell_type": "code",
   "execution_count": 10,
   "id": "7504e926",
   "metadata": {},
   "outputs": [
    {
     "data": {
      "image/png": "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\n",
      "text/plain": [
       "<Figure size 432x288 with 1 Axes>"
      ]
     },
     "metadata": {
      "needs_background": "light"
     },
     "output_type": "display_data"
    },
    {
     "data": {
      "image/png": "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\n",
      "text/plain": [
       "<Figure size 432x288 with 1 Axes>"
      ]
     },
     "metadata": {
      "needs_background": "light"
     },
     "output_type": "display_data"
    },
    {
     "data": {
      "image/png": "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\n",
      "text/plain": [
       "<Figure size 432x288 with 1 Axes>"
      ]
     },
     "metadata": {
      "needs_background": "light"
     },
     "output_type": "display_data"
    }
   ],
   "source": [
    "#plots of price per year\n",
    "price_2015 = price_of_popular_cryptos_during_a_particular_year(2015)\n",
    "price_2016 = price_of_popular_cryptos_during_a_particular_year(2016)\n",
    "price_2017 = price_of_popular_cryptos_during_a_particular_year(2017)"
   ]
  },
  {
   "cell_type": "code",
   "execution_count": 11,
   "id": "9613207c",
   "metadata": {},
   "outputs": [
    {
     "data": {
      "image/png": "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\n",
      "text/plain": [
       "<Figure size 432x288 with 1 Axes>"
      ]
     },
     "metadata": {
      "needs_background": "light"
     },
     "output_type": "display_data"
    }
   ],
   "source": [
    "price_2018 = prices_of_popular_cryptos[(prices_of_popular_cryptos['Year']==2018)]\n",
    "ax = sns.lineplot(data=price_2018, x='Month', y='price', hue='currency',marker='o')\n",
    "ax.set_title('Price of Coin by Month 2018')\n",
    "plt.show()\n"
   ]
  },
  {
   "cell_type": "code",
   "execution_count": 12,
   "id": "8daaeea2",
   "metadata": {},
   "outputs": [
    {
     "ename": "NameError",
     "evalue": "name 'reddit' is not defined",
     "output_type": "error",
     "traceback": [
      "\u001b[1;31m---------------------------------------------------------------------------\u001b[0m",
      "\u001b[1;31mNameError\u001b[0m                                 Traceback (most recent call last)",
      "\u001b[1;32m~\\AppData\\Local\\Temp/ipykernel_1312/3606896071.py\u001b[0m in \u001b[0;36m<module>\u001b[1;34m\u001b[0m\n\u001b[0;32m      1\u001b[0m \u001b[0mnews_per_year\u001b[0m \u001b[1;33m=\u001b[0m \u001b[0mnews\u001b[0m\u001b[1;33m.\u001b[0m\u001b[0mgroupby\u001b[0m\u001b[1;33m(\u001b[0m\u001b[1;33m[\u001b[0m\u001b[1;34m'Year'\u001b[0m\u001b[1;33m]\u001b[0m\u001b[1;33m)\u001b[0m\u001b[1;33m.\u001b[0m\u001b[0msize\u001b[0m\u001b[1;33m(\u001b[0m\u001b[1;33m)\u001b[0m\u001b[1;33m.\u001b[0m\u001b[0mto_frame\u001b[0m\u001b[1;33m(\u001b[0m\u001b[1;34m'size'\u001b[0m\u001b[1;33m)\u001b[0m\u001b[1;33m.\u001b[0m\u001b[0mreset_index\u001b[0m\u001b[1;33m(\u001b[0m\u001b[1;33m)\u001b[0m\u001b[1;33m\u001b[0m\u001b[1;33m\u001b[0m\u001b[0m\n\u001b[0;32m      2\u001b[0m \u001b[0mnews_per_month\u001b[0m \u001b[1;33m=\u001b[0m \u001b[0mnews\u001b[0m\u001b[1;33m.\u001b[0m\u001b[0mgroupby\u001b[0m\u001b[1;33m(\u001b[0m\u001b[1;33m[\u001b[0m\u001b[1;34m'Year'\u001b[0m\u001b[1;33m,\u001b[0m\u001b[1;34m'Month'\u001b[0m\u001b[1;33m]\u001b[0m\u001b[1;33m)\u001b[0m\u001b[1;33m.\u001b[0m\u001b[0msize\u001b[0m\u001b[1;33m(\u001b[0m\u001b[1;33m)\u001b[0m\u001b[1;33m.\u001b[0m\u001b[0mto_frame\u001b[0m\u001b[1;33m(\u001b[0m\u001b[1;34m'size'\u001b[0m\u001b[1;33m)\u001b[0m\u001b[1;33m.\u001b[0m\u001b[0mreset_index\u001b[0m\u001b[1;33m(\u001b[0m\u001b[1;33m)\u001b[0m\u001b[1;33m\u001b[0m\u001b[1;33m\u001b[0m\u001b[0m\n\u001b[1;32m----> 3\u001b[1;33m \u001b[0mreddit_per_year\u001b[0m \u001b[1;33m=\u001b[0m \u001b[0mreddit\u001b[0m\u001b[1;33m.\u001b[0m\u001b[0mgroupby\u001b[0m\u001b[1;33m(\u001b[0m\u001b[1;33m[\u001b[0m\u001b[1;34m'Year'\u001b[0m\u001b[1;33m]\u001b[0m\u001b[1;33m)\u001b[0m\u001b[1;33m.\u001b[0m\u001b[0msize\u001b[0m\u001b[1;33m(\u001b[0m\u001b[1;33m)\u001b[0m\u001b[1;33m.\u001b[0m\u001b[0mto_frame\u001b[0m\u001b[1;33m(\u001b[0m\u001b[1;34m'size'\u001b[0m\u001b[1;33m)\u001b[0m\u001b[1;33m.\u001b[0m\u001b[0mreset_index\u001b[0m\u001b[1;33m(\u001b[0m\u001b[1;33m)\u001b[0m\u001b[1;33m\u001b[0m\u001b[1;33m\u001b[0m\u001b[0m\n\u001b[0m\u001b[0;32m      4\u001b[0m \u001b[0mreddit_per_month\u001b[0m \u001b[1;33m=\u001b[0m \u001b[0mreddit\u001b[0m\u001b[1;33m.\u001b[0m\u001b[0mgroupby\u001b[0m\u001b[1;33m(\u001b[0m\u001b[1;33m[\u001b[0m\u001b[1;34m'Year'\u001b[0m\u001b[1;33m,\u001b[0m\u001b[1;34m'Month'\u001b[0m\u001b[1;33m]\u001b[0m\u001b[1;33m)\u001b[0m\u001b[1;33m.\u001b[0m\u001b[0msize\u001b[0m\u001b[1;33m(\u001b[0m\u001b[1;33m)\u001b[0m\u001b[1;33m.\u001b[0m\u001b[0mto_frame\u001b[0m\u001b[1;33m(\u001b[0m\u001b[1;34m'size'\u001b[0m\u001b[1;33m)\u001b[0m\u001b[1;33m.\u001b[0m\u001b[0mreset_index\u001b[0m\u001b[1;33m(\u001b[0m\u001b[1;33m)\u001b[0m\u001b[1;33m\u001b[0m\u001b[1;33m\u001b[0m\u001b[0m\n\u001b[0;32m      5\u001b[0m \u001b[0mbitcoinTalk_per_year\u001b[0m \u001b[1;33m=\u001b[0m \u001b[0mbitcoinTalk\u001b[0m\u001b[1;33m.\u001b[0m\u001b[0mgroupby\u001b[0m\u001b[1;33m(\u001b[0m\u001b[1;33m[\u001b[0m\u001b[1;34m'Year'\u001b[0m\u001b[1;33m]\u001b[0m\u001b[1;33m)\u001b[0m\u001b[1;33m.\u001b[0m\u001b[0msize\u001b[0m\u001b[1;33m(\u001b[0m\u001b[1;33m)\u001b[0m\u001b[1;33m.\u001b[0m\u001b[0mto_frame\u001b[0m\u001b[1;33m(\u001b[0m\u001b[1;34m'size'\u001b[0m\u001b[1;33m)\u001b[0m\u001b[1;33m.\u001b[0m\u001b[0mreset_index\u001b[0m\u001b[1;33m(\u001b[0m\u001b[1;33m)\u001b[0m\u001b[1;33m\u001b[0m\u001b[1;33m\u001b[0m\u001b[0m\n",
      "\u001b[1;31mNameError\u001b[0m: name 'reddit' is not defined"
     ]
    }
   ],
   "source": [
    "news_per_year = news.groupby(['Year']).size().to_frame('size').reset_index()\n",
    "news_per_month = news.groupby(['Year','Month']).size().to_frame('size').reset_index()\n",
    "reddit_per_year = reddit.groupby(['Year']).size().to_frame('size').reset_index()\n",
    "reddit_per_month = reddit.groupby(['Year','Month']).size().to_frame('size').reset_index()\n",
    "bitcoinTalk_per_year = bitcoinTalk.groupby(['Year']).size().to_frame('size').reset_index()\n",
    "bitcoinTalk_per_month = bitcoinTalk.groupby(['Year','Month']).size().to_frame('size').reset_index()\n",
    "\n"
   ]
  },
  {
   "cell_type": "code",
   "execution_count": 13,
   "id": "ce11ca67",
   "metadata": {},
   "outputs": [
    {
     "name": "stdout",
     "output_type": "stream",
     "text": [
      "   Year   size\n",
      "0  2015      0\n",
      "1  2016      1\n",
      "2  2017   8366\n",
      "3  2018  54885\n"
     ]
    }
   ],
   "source": [
    "news_per_year.loc[-1] = [2015,0]\n",
    "news_per_year.index = news_per_year.index + 1  # shifting index\n",
    "news_per_year.sort_index(inplace=True) \n",
    "print(news_per_year)"
   ]
  },
  {
   "cell_type": "code",
   "execution_count": 14,
   "id": "27f2c58a",
   "metadata": {},
   "outputs": [
    {
     "ename": "NameError",
     "evalue": "name 'reddit_per_year' is not defined",
     "output_type": "error",
     "traceback": [
      "\u001b[1;31m---------------------------------------------------------------------------\u001b[0m",
      "\u001b[1;31mNameError\u001b[0m                                 Traceback (most recent call last)",
      "\u001b[1;32m~\\AppData\\Local\\Temp/ipykernel_1312/1552738899.py\u001b[0m in \u001b[0;36m<module>\u001b[1;34m\u001b[0m\n\u001b[0;32m      1\u001b[0m \u001b[0mfig\u001b[0m\u001b[1;33m,\u001b[0m\u001b[0max\u001b[0m \u001b[1;33m=\u001b[0m \u001b[0mplt\u001b[0m\u001b[1;33m.\u001b[0m\u001b[0msubplots\u001b[0m\u001b[1;33m(\u001b[0m\u001b[1;33m)\u001b[0m\u001b[1;33m\u001b[0m\u001b[1;33m\u001b[0m\u001b[0m\n\u001b[1;32m----> 2\u001b[1;33m \u001b[0mindex\u001b[0m \u001b[1;33m=\u001b[0m \u001b[0mnp\u001b[0m\u001b[1;33m.\u001b[0m\u001b[0marange\u001b[0m\u001b[1;33m(\u001b[0m\u001b[0mmax\u001b[0m\u001b[1;33m(\u001b[0m\u001b[0mlen\u001b[0m\u001b[1;33m(\u001b[0m\u001b[0mreddit_per_year\u001b[0m\u001b[1;33m[\u001b[0m\u001b[1;34m'Year'\u001b[0m\u001b[1;33m]\u001b[0m\u001b[1;33m)\u001b[0m\u001b[1;33m,\u001b[0m \u001b[0mlen\u001b[0m\u001b[1;33m(\u001b[0m\u001b[0mnews_per_year\u001b[0m\u001b[1;33m[\u001b[0m\u001b[1;34m'Year'\u001b[0m\u001b[1;33m]\u001b[0m\u001b[1;33m)\u001b[0m\u001b[1;33m,\u001b[0m \u001b[0mlen\u001b[0m\u001b[1;33m(\u001b[0m\u001b[0mbitcoinTalk_per_year\u001b[0m\u001b[1;33m[\u001b[0m\u001b[1;34m'Year'\u001b[0m\u001b[1;33m]\u001b[0m\u001b[1;33m)\u001b[0m\u001b[1;33m)\u001b[0m\u001b[1;33m)\u001b[0m\u001b[1;33m\u001b[0m\u001b[1;33m\u001b[0m\u001b[0m\n\u001b[0m\u001b[0;32m      3\u001b[0m \u001b[0mbar_width\u001b[0m \u001b[1;33m=\u001b[0m \u001b[1;36m0.2\u001b[0m\u001b[1;33m\u001b[0m\u001b[1;33m\u001b[0m\u001b[0m\n\u001b[0;32m      4\u001b[0m \u001b[0mopacity\u001b[0m \u001b[1;33m=\u001b[0m \u001b[1;36m0.8\u001b[0m\u001b[1;33m\u001b[0m\u001b[1;33m\u001b[0m\u001b[0m\n\u001b[0;32m      5\u001b[0m \u001b[1;33m\u001b[0m\u001b[0m\n",
      "\u001b[1;31mNameError\u001b[0m: name 'reddit_per_year' is not defined"
     ]
    },
    {
     "data": {
      "image/png": "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\n",
      "text/plain": [
       "<Figure size 432x288 with 1 Axes>"
      ]
     },
     "metadata": {
      "needs_background": "light"
     },
     "output_type": "display_data"
    }
   ],
   "source": [
    "fig,ax = plt.subplots()\n",
    "index = np.arange(max(len(reddit_per_year['Year']), len(news_per_year['Year']), len(bitcoinTalk_per_year['Year'])))\n",
    "bar_width = 0.2\n",
    "opacity = 0.8\n",
    "\n",
    "\n",
    "ax.bar(index-bar_width, news_per_year['size'], color='r', width=bar_width, label='News')\n",
    "ax.bar(index, reddit_per_year['size'], color='g', width=bar_width, label='Reddit')\n",
    "ax.bar(index+bar_width, bitcoinTalk_per_year['size'], color='b', width=bar_width, label='Bitcoin Talk')\n",
    "\n",
    "ax.set_yscale('log')\n",
    "ax.tick_params(axis=u'both', which=u'both',length=0)\n",
    "labels = ['','2015','','2016','','2017','','2018','']\n",
    "ax.set_xticklabels(labels)\n",
    "\n",
    "plt.xlabel('Year')\n",
    "plt.ylabel('Amount of content (log scale)')\n",
    "plt.title('Amount of content regarding cryptocurrency from 2015-2017')\n",
    "plt.legend(loc='best')\n",
    "\n",
    "plt.show()"
   ]
  },
  {
   "cell_type": "markdown",
   "id": "8055bbfb",
   "metadata": {},
   "source": [
    "EDA:\n",
    "\n",
    "From our visualization, we see that we don't have any news data for 2015 and 2016. We believe sentiment analysis on news to be a bit more credible than Reddit and Bitcoin Talk because on those online websites, anyone can post a comment. Thus, our data is making us look more closely at 2017 and 2018 which are interesting years for cryptocurrency (meteoric spike for Bitcoin, etc.). Our hypothesis was that positive public sentiment will cause increase in cryptocurrency prices. This is important because with cryptocurrency becoming more mainstream, knowing the mechanisms behind price fluctuations will be paramount for investing, predicting the future, and more."
   ]
  },
  {
   "cell_type": "code",
   "execution_count": 15,
   "id": "25feb99d",
   "metadata": {},
   "outputs": [
    {
     "data": {
      "text/html": [
       "<div>\n",
       "<style scoped>\n",
       "    .dataframe tbody tr th:only-of-type {\n",
       "        vertical-align: middle;\n",
       "    }\n",
       "\n",
       "    .dataframe tbody tr th {\n",
       "        vertical-align: top;\n",
       "    }\n",
       "\n",
       "    .dataframe thead th {\n",
       "        text-align: right;\n",
       "    }\n",
       "</style>\n",
       "<table border=\"1\" class=\"dataframe\">\n",
       "  <thead>\n",
       "    <tr style=\"text-align: right;\">\n",
       "      <th></th>\n",
       "      <th>text</th>\n",
       "      <th>post_id</th>\n",
       "      <th>date</th>\n",
       "      <th>Year</th>\n",
       "      <th>Month</th>\n",
       "      <th>comp_score</th>\n",
       "      <th>Date_extracted</th>\n",
       "      <th>crypto</th>\n",
       "      <th>Day</th>\n",
       "    </tr>\n",
       "  </thead>\n",
       "  <tbody>\n",
       "    <tr>\n",
       "      <th>78901</th>\n",
       "      <td>SuperNET Weekly No. 13CORE and CORE Media were...</td>\n",
       "      <td>79011</td>\n",
       "      <td>2016-06-04</td>\n",
       "      <td>2016</td>\n",
       "      <td>6</td>\n",
       "      <td>1</td>\n",
       "      <td>2016-06-04</td>\n",
       "      <td>rest</td>\n",
       "      <td>4</td>\n",
       "    </tr>\n",
       "    <tr>\n",
       "      <th>38830</th>\n",
       "      <td>This week we have several updates about Waves ...</td>\n",
       "      <td>38915</td>\n",
       "      <td>2017-02-13</td>\n",
       "      <td>2017</td>\n",
       "      <td>2</td>\n",
       "      <td>1</td>\n",
       "      <td>2017-02-13</td>\n",
       "      <td>bitcoin</td>\n",
       "      <td>13</td>\n",
       "    </tr>\n",
       "    <tr>\n",
       "      <th>78900</th>\n",
       "      <td>WAVES Weekly No. 30This week we have several u...</td>\n",
       "      <td>79010</td>\n",
       "      <td>2017-02-13</td>\n",
       "      <td>2017</td>\n",
       "      <td>2</td>\n",
       "      <td>1</td>\n",
       "      <td>2017-02-13</td>\n",
       "      <td>bitcoin</td>\n",
       "      <td>13</td>\n",
       "    </tr>\n",
       "    <tr>\n",
       "      <th>78899</th>\n",
       "      <td>WAVES Weekly No. 31Last week has seen a number...</td>\n",
       "      <td>79009</td>\n",
       "      <td>2017-02-20</td>\n",
       "      <td>2017</td>\n",
       "      <td>2</td>\n",
       "      <td>1</td>\n",
       "      <td>2017-02-20</td>\n",
       "      <td>bitcoin</td>\n",
       "      <td>20</td>\n",
       "    </tr>\n",
       "    <tr>\n",
       "      <th>38829</th>\n",
       "      <td>Last week has seen a number of updates that sh...</td>\n",
       "      <td>38914</td>\n",
       "      <td>2017-02-20</td>\n",
       "      <td>2017</td>\n",
       "      <td>2</td>\n",
       "      <td>1</td>\n",
       "      <td>2017-02-20</td>\n",
       "      <td>bitcoin</td>\n",
       "      <td>20</td>\n",
       "    </tr>\n",
       "  </tbody>\n",
       "</table>\n",
       "</div>"
      ],
      "text/plain": [
       "                                                    text  post_id       date  \\\n",
       "78901  SuperNET Weekly No. 13CORE and CORE Media were...    79011 2016-06-04   \n",
       "38830  This week we have several updates about Waves ...    38915 2017-02-13   \n",
       "78900  WAVES Weekly No. 30This week we have several u...    79010 2017-02-13   \n",
       "78899  WAVES Weekly No. 31Last week has seen a number...    79009 2017-02-20   \n",
       "38829  Last week has seen a number of updates that sh...    38914 2017-02-20   \n",
       "\n",
       "       Year  Month  comp_score Date_extracted   crypto  Day  \n",
       "78901  2016      6           1     2016-06-04     rest    4  \n",
       "38830  2017      2           1     2017-02-13  bitcoin   13  \n",
       "78900  2017      2           1     2017-02-13  bitcoin   13  \n",
       "78899  2017      2           1     2017-02-20  bitcoin   20  \n",
       "38829  2017      2           1     2017-02-20  bitcoin   20  "
      ]
     },
     "execution_count": 15,
     "metadata": {},
     "output_type": "execute_result"
    }
   ],
   "source": [
    "#sentiment analysis using vader\n",
    "sid = SentimentIntensityAnalyzer()\n",
    "news['scores'] = news['text'].apply(lambda text: sid.polarity_scores(text))\n",
    "news['compound']  = news['scores'].apply(lambda score_dict: score_dict['compound'])\n",
    "news['comp_score'] = news['compound'].apply(lambda c: 1 if c >=0 else -1)\n",
    "news = news.drop(['scores', 'compound'], axis = 1)\n",
    "news[\"Date_extracted\"] = news[\"date\"].dt.date\n",
    "def text_extracting(data):\n",
    "    data = word_tokenize(data)\n",
    "    for i in range(len(data)):\n",
    "        if data[i] == 'bitcoin':\n",
    "            return 'bitcoin'\n",
    "        elif data[i] == 'ethereum':\n",
    "            return 'ethereum'\n",
    "        elif data[i] == 'tether':\n",
    "            return 'tether'\n",
    "        elif data[i] == 'binance-coin':\n",
    "            return 'binance-coin'\n",
    "        elif data[i] == 'cardano':\n",
    "            return 'cardano'\n",
    "    return 'rest'\n",
    "news['crypto'] = news['text'].apply(text_extracting)\n",
    "news = news.sort_values('Date_extracted')\n",
    "news['Year'] = news['date'].dt.year\n",
    "news['Month'] = news['date'].dt.month\n",
    "news['Day'] = news['date'].dt.day\n",
    "news.head()\n"
   ]
  },
  {
   "cell_type": "code",
   "execution_count": 16,
   "id": "8c3f8aa4",
   "metadata": {},
   "outputs": [
    {
     "ename": "SyntaxError",
     "evalue": "invalid syntax (Temp/ipykernel_1312/2048305041.py, line 1)",
     "output_type": "error",
     "traceback": [
      "\u001b[1;36m  File \u001b[1;32m\"C:\\Users\\vbatch2\\AppData\\Local\\Temp/ipykernel_1312/2048305041.py\"\u001b[1;36m, line \u001b[1;32m1\u001b[0m\n\u001b[1;33m    ML:\u001b[0m\n\u001b[1;37m       ^\u001b[0m\n\u001b[1;31mSyntaxError\u001b[0m\u001b[1;31m:\u001b[0m invalid syntax\n"
     ]
    }
   ],
   "source": [
    "ML:\n",
    "We used sentiment analysis from Vader on the news dataset, and obtained a \"comp_score\" which is 1 for positive, \n",
    "-1 for negative. By averaging the sentiment over each month per year, we can then compare the prices of coins per \n",
    "year with their public sentiment."
   ]
  },
  {
   "cell_type": "code",
   "execution_count": 17,
   "id": "cd6bc26b",
   "metadata": {},
   "outputs": [],
   "source": [
    "popular_cryptos2 = ['bitcoin','ethereum', 'tether']\n",
    "news_of_popular_cryptos2 = news[news['crypto'].isin(popular_cryptos2)]\n",
    "# This method takes year and returns plots of news per every year\n",
    "def sentiment_of_popular_cryptos_during_a_particular_year(year):\n",
    "    news1 = news_of_popular_cryptos2[(news_of_popular_cryptos2['Year']==year)]\n",
    "    ax = sns.lineplot(data=news1, x='Month', y='comp_score', hue='crypto',marker='o',ci= None)\n",
    "    ax.set(xticks=news_of_popular_cryptos2.Month.values)\n",
    "    plt.title('news of Coin by Month ' + str(year))\n",
    "    plt.show()\n",
    "    return news1"
   ]
  },
  {
   "cell_type": "code",
   "execution_count": 18,
   "id": "d0c4c42a",
   "metadata": {},
   "outputs": [
    {
     "data": {
      "image/png": "iVBORw0KGgoAAAANSUhEUgAAAX0AAAEICAYAAACzliQjAAAAOXRFWHRTb2Z0d2FyZQBNYXRwbG90bGliIHZlcnNpb24zLjUuMCwgaHR0cHM6Ly9tYXRwbG90bGliLm9yZy8/fFQqAAAACXBIWXMAAAsTAAALEwEAmpwYAAAWnklEQVR4nO3df7RdZX3n8fc3CSGAtFq9IBOkBC1GC3YNRGZcWY5xtdbSH5ZSU4p11rBKTYcZdcqSH3VWu8rM2GqprSASK4iNWn+sCv5oq7iwtCn+rAawCCKODEkJULhowQRIQpLv/LGfnbtzOPfec889Jwl53q+1znru3vs5+3n2Pud89j7P3ieJzESSVIcF+7sDkqR9x9CXpIoY+pJUEUNfkipi6EtSRQx9SaqIoa+xioh3RMRkRGREXDumNo4v6x/6/uOIWFXWsXGEXTsgjGL/6OBh6GtsIuI04GLgGcB7gb+doe5/iYivRsSWiNgaEd+MiDcO2NQPgcvL44AREZe0YRsRV3fmR0T8386yVSNsc11Z5yXzXM8pEfE3EbE5IrZFxKaIuDQiDu3UWRIRV0TEQxHxRER8OSL+Q2f5T0XEjeU17XtA7eyD7uM98+m7ZrZof3dAB7UTS/mNzPxv01WKiCuBdvkXgHuBnwLOBWYNgMz8AfA78+rp+L0uIi7IzEeBnwFesL87NIuXAK8EbgS2AL8GXEhzonhBqXMZ8NvA7aXeWcAXIuKEzHwYOA54LnAr8PIZ2roP6H4L/OLItkJPlZk+DuAHkOXxRuC7NB/AvwQWd+q8Bvg6zRnvJuBPgcPLss+W57+2TP91mT69TP99mf4FYDFwNfCvwHaa8P3rGfo2Abwf+JfS9teAnyvLzun0vX1c0mcd/7GzfE3Pshd1/v4V4Btl+zcBVwLPLMuOb9cxl/3W09aqUn8jTbhN0oTRW8rylWX5XX36/t1p1nlJWf6DUr6pzP8k8DiwrcxfVeYfArwV+A7wGHAncD6woGeffgl4F/BI6eNvlOXr+uzzdd39A7yu7L9/A941w2v7E8BEn225rUwfBewAdgFHlXkf7vc6A2e0+3aa9/f6/f05q+mx3zvgY5YXaOrD+v3yAX6iTJ9blr+6TE+WD93NZfovyvILy/SflenJMv02YCGwtXxwfxT4rbLsdmAt8Gng+9P0awHw1VL/ltL2k2VdK4HTgBvK8s00Z4U/12c9f1jq3A/ENG2dXupsBz5Y+pfA58vyPaE26H7r08aqsnwX8K3O9iTwS6XOt8v0aWX6j/qFXGedbVB+BrgbuANYWtb7AZrQ7ob+pWX6PuCazmv11rL8nM52fb2zf7cCP0IT6G0fv1b2+evYO/Q3AR8p25nATw/4Pmy39XNl+pVl+p5Onf9R5n2657lnMHPoP0FzEHyg7Pdj9vfn7mB+7PcO+JjlBZr6sK4u0x8s0+8p0+2Z/A3lQ762TO8GDqcJ3zYEXlj+vgtYD5xapm8u6zqvTH+MJrifBSycpl/tercAR5R57yrzPlqm25BaP8P2Xd32b4Y6nyt1/qBMP4epQD6RmUO/737r08aqsvxJ4Dk92/OJMv2WMv3uMt0efE6cZp2XtCEIXNR5nRJ4KZ3QB4ImvBN4RXn+L5fp+3v25/eBJTTfDHaWeStKnXX0HIjYO/RfWub9Y5m+YID34EqaYH4COKXM+/Xy/G916rUnDV/ref4ZTB/699O8366mCf0EvrK/P3cH88MLuU8ft5bykVI+o5THl/JVNGda55XpAE6gOfPfAvx7mrHkbTRDI6cBryh115fyQ8Bf0YTNl2jC5fqIOKJPf9p2783Mx8rf3ynlj89hux4q5XEREdPUadu6EyCb8eKHB2xruv02ncmyfpjanmNL+SGag8JZEXEi8JPAhsz87izrhObMfjvN63RzZn6jZ/kE0O7nO3vaPyYiFnfq3pmZ2zLzSZphoEG2qzWn/RERP8/UgeqXM/OWsujBPs9v//7XAfsCsDQzz87MN9Ac/ABeFhHHzGEdmgND/+ljZymzZ/7GUr45M6N9AM/PzNszcxfwZZrx+jcCG2jG8Q9j6uLpP7ZtZOZZNEMFLwL+jiakzuzTn7bd50XE4eXvF5Zy0xy2q72j5xjgDd0FEfETPW0tL/OfTXO2P0hb0+236UxERLvu5aXcDJCZkzTXRI5i6gLzRwdZaTmQtBcr39unyiRTAd622+7PBzJzR6fuzs7fvdu1q5R9P9uZOfD+iIj/TDM0tY1mGOiGzuJv0xwAj4uIo8u8l5byn2dbd1n/v6N5H/aza5r5midD/+mvDZ9LI+JjEfGBiNhAczdFa30pl9McAO6gOdN7Ps0wUHu3xNkRcSfwFzTfGk4u8x/p0+4G4J9ozu6+GBEfAt5EEyZrB+18Zn4VeF+ZfF9E3BARV0fEl2m+dUDzzQTgf0bEurI9i4AvDHiWPRcLgH+IiA/THCShGWduvb+Ur6LZdx+fw7ovKs/7SO+CbMY62oPBRyPi/Z225nIL472lfH1EXB4Rr5zDc/eIiJ+lGRJbRHP94KyIuCwiLiv9fZBmKGkBcGNEfBw4m2aI6j1lHcvL6/XmstrnlFtK31mmfxa4NyI+UW5pXV/m35iZ7TdAjdr+Hl/yMfODqbHY48v0ZWV6XafOGTRj9o/SBPTXgd/pLO/eIdNelGzHyW/t1HsZzQHg+zR3ZmwC/g/TX2A9imbY4l6aIaSvA7/YWX4OA96dAfxm2YbHaILjn4E3dpavphmq2kpzt9CfA88qy45vt28u+62n/VU89e6d+4GLeuotKPslacJppm26hD4XNjvLH2HvC7mLgd+judvocZrhnQso11X67c8+61hKc2DfXuZfMM3++TQzX4Ru23rKo1PnMJoD8iTNt4GvAC/rs097HxvL8pOAT5X9vL3s+3cDP7a/P3cH8yPKzpc0oIh4L/Bfae4E+sD+7o80F4a+NKCIeDHNRe630FwoPy6nLmJLTwuzjulHxLsj4sHy8+iZfkZ/RkR8r/xke31ELBttV6X97jSa+9Ufo/lBlIGvp51BL+TOeLEqIp5b6vyQZjz0VJqLQNJBIzPXZXN31I9n5uf3d3+kYcwa+pn5ZpofqczkbOBQ4O2ZeQXNxZmXR8Tz599FSdKojOofXGuHcu4r5eZSnkDz8/O9RMQaYA3AEUcccery5ct7q0iSZnDzzTc/nJkTc33euP6VzfaXlX2vEmfmVcBVACtWrMgNGzaMqRuSdHCKiLn8CHKPoX+cVf4t7fan4feUsv25+tKe+ZKkA8Agd+/8As2/kw3NT+5/q/w8/gmaf10Rmou4O4CLI+JNNP8M7pcy8ylDO5Kk/WeQM/0LgXeUv19C86/hrexWyMwHaC7mPhN4J80/6nTOqDopSRqNWcf0M3PVNIvW9dT7JM1/DiFJOkD5D65JUkUMfUmqiKEvSRUx9CWpIoa+JFXE0Jekihj6klQRQ1+SKmLoS1JFDH1JqoihL0kVMfQlqSKGviRVxNCXpIoY+pJUEUNfkipi6EtSRQx9SaqIoS9JFTH0Jakihr4kVcTQl6SKGPqSVBFDX5IqYuhLUkUMfUmqiKEvSRUx9CWpIoa+JFXE0Jekihj6klQRQ1+SKmLoS1JFDH1JqoihL0kVGSj0I2JlRNwWEdsj4paIOKVPnYiIt0fE/RGxLSK+ExFnjb7LkqRhzRr6EbEEuA44EjgfOBq4NiIW9lT9GeB3gQeAC4GlwLqIOGSkPZYkDW2QM/3TaYJ+bWauBa4BlgGrplnX3cAXgEeBLcDukfRUkjRvg4T+slLeV8rNpTyhp94NwJXAauBO4NnA6zJzV+8KI2JNRGyIiA2Tk5Nz77UkaSjDXMiNUmbP/BcCr6cJ/zOBB2mGd47oXUFmXpWZKzJzxcTExBBdkCQNY5DQv6eUx5ZyaTs/IpZExOIy/RrgR4EPZ+angL8rdV88qs5KkuZn0QB1rgceAs6LiC3AucBGYD2wE7gDOIlmLJ9S7zDgF4EdTB00JEn72axn+pm5jWacfitwOc0BYHWfsfpPApcCxwNXAD8AXp+ZD4+yw5Kk4Q1ypk9m3gSc3Gd+dP5O4OLykCQdgPxFriRVxNCXpIoY+pJUEUNfkipi6EtSRQx9SaqIoS9JFTH0Jakihr4kVcTQl6SKGPqSVBFDX5IqYuhLUkUMfUmqiKEvSRUx9CWpIoa+JFXE0Jekihj6klQRQ1+SKmLoS1JFDH1JqoihL0kVMfQlqSKGviRVxNCXpIoY+pJUEUNfkipi6EtSRQx9SaqIoS9JFTH0Jakihr4kVcTQl6SKDBT6EbEyIm6LiO0RcUtEnDJNvedFxGci4rGIeDQiPjLa7kqS5mPW0I+IJcB1wJHA+cDRwLURsbCnXgCfAl4F/AlwETA56g5Lkoa3aIA6p9ME/UWZuTYingv8PrAKuLFT75XAqcAfAu8Atmdmjra7kqT5GGR4Z1kp7yvl5lKe0FPvxaX8VeBx4IcR8eZ+K4yINRGxISI2TE76ZUCS9pVhLuRGKXvP4g8t5ZPArwD3AJdFxIm9K8jMqzJzRWaumJiYGKILkqRhDBL695Ty2FIubedHxJKIWFymN5bys5n5GeCzNAeI9puCJGk/G2RM/3rgIeC8iNgCnEsT8OuBncAdwEnA50q9X42I7wGvBbYCt46815Kkocx6pp+Z24DVNAF+OU2wr87MXT31nqAJ+u3AlTTj+mdm5kOj7rQkaTiDnOmTmTcBJ/eZHz3TX+xXT5J0YPAXuZJUEUNfkipi6EtSRQx9SaqIoS9JFTH0Jakihr4kVcTQl6SKGPqSVBFDX5IqYuhLUkUMfUmqiKEvSRUx9CWpIoa+JFXE0Jekihj6klQRQ1+SKmLoS1JFDH1JqoihL0kVMfQlqSKGviRVxNCXpIoY+pJUEUNfkipi6EtSRQx9SaqIoS9JFTH0Jakihr4kVcTQl6SKGPqSVBFDX5IqYuhLUkUGCv2IWBkRt0XE9oi4JSJOmaHuREQ8HBEZEReMrquSpPmaNfQjYglwHXAkcD5wNHBtRCyc5imXA4eNrIeSpJEZ5Ez/dJqgX5uZa4FrgGXAqt6KEXE68EvAH4+wj5KkERkk9JeV8r5Sbi7lCd1KEfEM4M+BtwL/MtMKI2JNRGyIiA2Tk5Nz6K4kaT6GuZAbpcye+RcDjwM3AEeVec+OiGf1riAzr8rMFZm5YmJiYoguSJKGsWiAOveU8thSLm3nl/H+3Zm5A3gesBy4q/Pc3wUeA942gr5KkuZpkNC/HngIOC8itgDnAhuB9cBO4A7gJOA9wN+W56wC/jvwIeDaUXZYkjS8WUM/M7dFxGrgSpo7c+4A3pCZuyKiW28DsAH2jO8DfCszvzPyXkuShjLImT6ZeRNwcp/50ac6mbkOWDefjkmSRs9f5EpSRQx9SaqIoS9JFTH0Jakihr4kVcTQl6SKGPqSVBFDX5IqYuhLUkUMfUmqiKEvSRUx9CWpIoa+JFXE0Jekihj6klQRQ1+SKmLoS1JFDH1JqoihL0kVMfQlqSKGviRVxNCXpIoY+pJUEUNfkipi6EtSRQx9SaqIoS9JFTH0Jakihr4kVcTQl6SKGPqSVBFDX5IqYuhLUkUMfUmqyEChHxErI+K2iNgeEbdExCl96rwsIr4SEY+Ux3URMTH6LkuShjVr6EfEEuA64EjgfOBo4NqIWNhT9UTgYeBi4HPAmcClI+2tJGleBjnTP50m6Ndm5lrgGmAZsKqn3scy8zWZ+T7gt8u8nxxVRyVJ8zdI6C8r5X2l3FzKE7qVMnNHZ/LVpbyp3wojYk1EbIiIDZOTk4P2VZI0T8NcyI1SZt+FESuBDwA3A5f0q5OZV2XmisxcMTHhsL8k7SuDhP49pTy2lEvb+RGxJCIWtxUj4j8BnwfuBl6dmVtH1lNJ0rwtGqDO9cBDwHkRsQU4F9gIrAd2AncAJ5U7eq6n+SZwNfCqiHgsM/9mDP2WJA1h1jP9zNwGrAa2ApfTHABWZ+aunqovAQ4HDgOuBD4GXDHS3kqS5mWQM30y8ybg5D7zo/P3OmDdqDomSRo9f5ErSRUx9CWpIoa+JFXE0Jekihj6klQRQ1+SKmLoS1JFDH1JqoihL0kVMfQlqSKGviRVxNCXpIoY+pJUEUNfkipi6EtSRQx9SaqIoS9JFTH0Jakihr4kVcTQl6SKGPqSVBFDX5IqYuhLUkUMfUmqiKEvSRUx9CWpIoa+JFXE0Jekihj6klQRQ1+SKmLoS1JFDH1JqoihL0kVMfQlqSKGviRVZKDQj4iVEXFbRGyPiFsi4pRp6p0REd+LiG0RsT4ilo22u5Kk+Zg19CNiCXAdcCRwPnA0cG1ELOyp91zg48APgQuBU4EPjrrDkqThDXKmfzpN0K/NzLXANcAyYFVPvbOBQ4G3Z+YVwKeAl0fE80fXXUnSfCwaoE47RHNfKTeX8gTgxgHr3d1dYUSsAdaUya0RcdegHR6BU4Gbbc/2DrC2bM/2hmlvzgYJ/V5Ryhy2XmZeBVw1RNvzFhGZmStsz/YOpLZsz/aGaW+Y5w0yvHNPKY8t5dJ2fkQsiYjFs9UbpmOSpNGLzJkPFuVC7ibgceBS4PeAHcALgJ3AHZl5UkQcA2wEbgfWAX8EfDMzXz6uzg+jHI1j9pq2V3t7B/O22V697c16pp+Z24DVwFbgcuAhYHVm7uqp9wDNxdxnAu8EbgXOmWuH9oGhvhLZXpXtHczbZnuVtjfrmb4k6eDhL3IlqSKGviRVZJhbNp+Wem9vGucFl4jYARzSM3tHZh46xjZ7x+l2ZeZYX9+I2AQc106PeZ/2u/V3nO09CvzIuNuLiN1M3d7cNbb3S582MzPHdgLYp71tmXnYCNff97MdETuB7r8csDMzez+Xo2xvLBnTb73zyRjP9MejfaN1X6zF/SqOWHbaXDhTxRE5bvYqI9du4+4xt9MN/HFe+HqSqW3qtnP7OBorYdH7G5qIiG1jam9nn/aWjKOtnnY38dTP4aKI+MS4295Hhs6YakK/HHV37KPm7srMyMwF+/AWrgU0t9WOOwwBiIgny5/7+k6Afyv7dWwHtYjY3pm8E7huXK9jZh5atmcBnX2ZmUP92nKOdk7z9yi1GbPXt4mI2DKqBqb5bB87tXivbzFnjqm9sWXMNOsdOmOqGd7ZlzLzxe3f5UxnX3gEOKIzvWuaevMWEf+LqfdO0n94Ylx+rHzdHeeQRPdz8SLgRfvoHux2e8Z2cpKZizvDLYdMzc5njKvNoh2SaI37bL/3tWrfp/vyvTo288mYas7094fyJm/PSJ8Yc3PfpDnL3xfDO79fyu5XdyJi6xjbbId0ukMS22eoPyp7vjlFxDgPpHu2ZczXfrYy9Zrtnpod43p//r/O3/MeT9fehskYQ39Mei607MjMw8fZXma+IjMX9nyFHlcIt6GxiL3PnI7oU3ck2iGdnrP7cX1T3RP0ZRhpz4FmTO3B1HjsuIfn2vdh9mzbWK45ZeYLgP9Nc4LQPSN9cBztdZvumR703wx72hg2Y6oZ3ilnad2z0t00V/NH/mYvF8X2fHUGDomI3eMajijb1o4Jd4PpyHG0R3PxsT276H5lHstQVrl+sIinfmDHNQyymBK+PXeejOVMPyK+3Zl82zja6NhN89pFz7aN5WBTLpy+lp73ZmYeO+2T5t5Gv892+5lot7P1yTG1194pNPKMmaa99nWEOWZMTWf6C9g7EIPxHfS6X2MDxj6W2O9MdFeO6efWmbm4nHV3zxQZxe1w02gvGnf34+5R3vbXVfZbewCLzuxxbd/yTht/MKY22ga6B899sW3tAa373ry7X8V56PfZXsjUQXrPQTszV4+pvUUzzB9Hewt6pgfOGP8ZBkmqSE1n+pJUPUNfkipi6EtSRQx9SaqIoS9JFTH0Jakihr4kVeT/AxoDf9gQX7CNAAAAAElFTkSuQmCC\n",
      "text/plain": [
       "<Figure size 432x288 with 1 Axes>"
      ]
     },
     "metadata": {
      "needs_background": "light"
     },
     "output_type": "display_data"
    },
    {
     "data": {
      "image/png": "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\n",
      "text/plain": [
       "<Figure size 432x288 with 1 Axes>"
      ]
     },
     "metadata": {
      "needs_background": "light"
     },
     "output_type": "display_data"
    },
    {
     "data": {
      "image/png": "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\n",
      "text/plain": [
       "<Figure size 432x288 with 1 Axes>"
      ]
     },
     "metadata": {
      "needs_background": "light"
     },
     "output_type": "display_data"
    },
    {
     "data": {
      "image/png": "iVBORw0KGgoAAAANSUhEUgAAAZMAAAEWCAYAAACjYXoKAAAAOXRFWHRTb2Z0d2FyZQBNYXRwbG90bGliIHZlcnNpb24zLjUuMCwgaHR0cHM6Ly9tYXRwbG90bGliLm9yZy8/fFQqAAAACXBIWXMAAAsTAAALEwEAmpwYAABjqUlEQVR4nO2dd3wVxfbAv5NegBSSAAkl9N4jYIJUsaE+sDwL+MSGIopg9z0LqD+fDfWh4hN8iiJiQ1FRRFEQCUWpSgtFWhJKIAlppN7z+2P3hpvkJtwktyRhvp/PfvbuzOzM2b337tmZc+aMEhE0Go1Go6kNXp4WQKPRaDT1H61MNBqNRlNrtDLRaDQaTa3RykSj0Wg0tUYrE41Go9HUGq1MNBqNRlNrtDLRNEiUUs8rpdKUUqKU+txFbcSa9dfYv14pNcys44ATRasTOOP+aOoPWploGhxKqQHAI0Aj4C1gSRVlb1ZKrVVKZSulcpRSW5RS9zjYVBbwH3OrMyilplsf4kqpuTbpSim1xyZvmBPbnGfWOb2W9fRTSn2jlEpWSuUrpQ4qpV5USvnblAlQSr2ulDqulDqtlEpUSg20ye+tlPrJ/E7tKmql1LVKqU3md56plFqtlBpRG9nPdbQy0TREOpn730XkbhGZZ6+QUupNYB4wCFgLfAIUA7c50oiIpIvIVBGZWluBXciNSqkQ8/OFQAdPCuMAvYDhwEbgc6AF8BDwfzZlXgPuAY4Bi4HzgR+VUhFmfmugObDZXgNKqfbAx0Bf4FdgG5AALFFKBTv1as4lRERvequwAWJu9wC7gWzgQ8DPpsyVwG8Yb+gHgZlAkJn3rXn+Nebx1+bxpebxz+bxaMAPmAscBQqAw8DXVcgWCbwDHDLbXgdcYuZNsJHduk23U8cgm/yJ5fK62nweC/xuXv9B4E0g1MyLtdZRnftWrq1hZvkDGA/NNCAFeMDMTzDzk+zIvruSOqeb+enm/l4z/QsgD8g304eZ6b7AY8AuIBfYCUwDvMrd09XAq0CmKeM4M3+enXs+z/b+ADea9y8DeLWK77YjEGnnWv4wj6OAQqAEiDLT5tv7noEx1ntbLn2kmX7CPG5kI2dbT//36uvmcQH0Vjc3mz/XSfPBcNo8vs3Mv9g8TjP/zBvN4/fM/IfM41fM4zTz+FnAG8gxHwghwO1m3jZgNsbb5slK5PLC6EUIsMlsu8isKwEYAPxg5idjvMVeYqee/zPLpAKqkrYuNcsUAO+b8gnwvZlf+rB09L7ZaWOYmV8C/GlzPQJcYZbZYR4PMI+fs/fwtKnT+gD+CtgHbAdizHrfxVAGtsrkRfM4BfifzXf1mJk/wea6frO5vzlAEwxFYZVxnXnPb6SsMjkILDCvU4CRDv4Ordf6nXk83Dzeb1PmPjNtcblzx2BfmfjZ/IaWYihJAd739P+uPm8eF0BvdXOzeQhcax6/bx6/YR5bex4/mA+P2eaxBQjCeKhbHy6dzc9JwEqgv3m80axrknm8EEMhhAHelchlrTcbCDbTXjXTPjKPrQ+/lVVc31yrfFWU+c4s85R5HMGZB30nqlYmdu+bnTaGmflFQES56/nMPH7APJ5lHluVWqdK6pxufbgCD9t8TwKch40yARSGUhBgqHn+38zj1HL38yQQgNGTKTbT4swy8yin4CirTM4z034xjx904DeYgKGMTwP9zLTrzfP/tClnfRlZV+78MdhRJmbenRi9NKt8R63fmd5qtmmbieZsbDb3mea+kbmPNfejMN4MJ5nHCmiH0VPJxhiXvhBjaOVNDGUw1Cy70tx/AHyK8RBbjfHQWlrJ+LW13cMikmt+3mXu21Tjuo6b+9ZKKVVJGWtbOwFE5ARwwsG2KrtvlZFm1g9nrqeluf8AQ9lcp5TqBHQHNojI7rPUCUZPpADje9ooIr+Xy48ErPd5Z7n2Wyil/GzK7hSRfBEpwhgOc+S6rFTrfiilLuOMAvybiGwys47ZOd/6+agjgiilLgX+i9EDiwG6YNyDT5RS3R2pQ1MRrUw0Z6PY3Eu59APmfoqIKOsGtBeRbSJSAiRiDCncA2zAsJMEAneb5/5ibUNErsMYMukKLMd4+F1lRx5ru62UUkHm587m/mA1rsvq4dUCuMM2QynVsVxbXcz0phi9E0faquy+VUakjQG5i7lPBhCRNAybUxTwhpn3kSOVmgrK6hr9lp0iaZxRDNZ2rffziIgU2pQttvlc/rpKzL3dZ4qIOHw/lFI3YQzR5WMMh/1gk70DQ7G2Vko1M9POM/dbz1a3iVVhHBCRVBFJwniBUZy5B5pq4uNpATT1ljeAy4AXlVLxGEMRvYCmQFuzzErgEow/6AsYY/eZQHuM4bBfzXI3KKUewVA4OUBPMz3TTrsbgPXAQOBXpdR24AaMh9RsR4UXkbVKqbcxhjveVkpdg6EgumEM0/XF6EldCvxTKdUOY3jOB/hRRHYrpWIdbc8BvIAVSqktGEM5YNhPrLwDXI2hZC0Y3kiO8jDGMNTq8hkiIkqpt4AHgY+UUt9jOFbAGcXlCIfN/XjTe2wxsL8a5wOglLoIY2hQYdhnrlNKXWfKOlVEjiml5mG8APyklNoG/B3jd/OGWUcX4FEMry6ACPOcEyLyILAG4/cyRCn1KUbPpg2G8tpQXZk1Jp4eZ9Nb3dw4M5Ycax6/Zh7PsykzBsMmcgrjwf8bMNUm39ZjympMttohNtuUOx9DsZzE8NQ5CDxD5YbxKIzhm8MYQ2m/AZfb5E/gLDYTm7K3mteQi/FA2grcY5N/LcaQXQ6G99h/gTAzL9Z6fdW5b+XaH0ZFb65U4OFy5bzM+yLAT2e5punYMUjb5GdS1gDvBzyO4X2WhzHM9SCm3cre/bRTRwxGT7TATH+wkvuzmKqdB6xtVdhsygRiKPo0DAWwBjjfzj0tvx2wKTMeY+gtG+P3uwa42NP/u/q8KfPGajSaOo7Zg7gLwzPsXU/Lo9HYopWJRlPHUUp1w3BOeABj+Ke1nHE+0GjqBNoAr9HUfQZgzLfIxZgoqBWJps6heyYajUajqTW6Z6LRaDSaWnNOugZHRERIbGysp8XQaDSaesXGjRtPiEikvbxzUpnExsayYYN2J9doNJrqoJSqdLKuHubSaDQaTa3RykSj0Wg0tUYrE41Go9HUGq1MNBqNRlNrtDLRaDQaTa3xqDJRSs1SSh1TSolSakkV5cYopfYqpfKVUiuVUm0dydM4jkUsnDh9gtScVE6cPoFFLJ4WyWk05GvTaOoKdaFnUmUobaVUc7NMFkZU1f4YIaqrzNM4jkUs7MnYw7hvx3HxoosZ9+049mTsaRAP3YZ8bRpNXcKj80xEZIq5JsSUKordAPgD/xaRz5RS5wE3KaXaY6y7YDdPRPa5Wv6GQnp+OlN+nkJqbioAqbmpTPl5CjOHzWTl4ZUela22DGs1jAdWPlDh2haMXkBEYMRZztZoNI5SHyYtWoetUsx9srlvd5a8MspEKTURmAjQunVrNGcoLCksfdhaSc1NJb84nzl/zPGQVM5hUItBdq+tsKSwkjM0Gk1NqA/KpDzW9brtRaisNE9E5gBzAOLi4nR0Sxv8vP2IDo4u89CNDo4mNiSWP27+w4OS1Z4Tp0/YvTY/b78qztJoNNWlLthMKqCUClBKWf/t1qU/W5r7GJv0qvI0DhIeEM6sEbOIDo4GjIftrBGzCA8I97BktachX5tGU5fwaAh6pdRooAfwPPAH8DrwC8byodtFpIdSqgXGkqbbMNaxfg7YIiIXVJVXVbtxcXGiY3OVxSIW0vPTKSwpxM/bj/CAcLxUnXzXqDbWa7N6dA1sPpBgv2BPi6XR1DuUUhtFJM5enqefFg9hKBKAXsBcIMG2gIgcwTDChwIvY6zbPOFseZrq4aW8iAiMILpRNBGBEQ1GkcCZa8spzOG+Ffex7ug6T4uk0TQ4PO3NNaySrHnlyn0BfFFJHZXmaTS29I7qTbBvMIkpiYxsPdLT4mg0DYqG8/qp0ZwFXy9fBjYfyJrUNegVRjUa56KVieacIiEmgZScFA5kHfC0KBpNg0IrE805RUKMYZJLTEn0sCQaTcNCKxPNOUVMoxhim8SSmKqViUbjTLQy0ZxzDI4ZzIajG8gvzve0KBpNg0ErE805R3x0PPkl+Ww6tsnTomg0DQatTDTnHHHN4/Dz8mN16mpPi6LRNBi0MtGccwT6BBLXPI41KWs8LYpG02DQykRzThIfHc++U/s4knPE06JoNA0CrUw05ySDYwYDaK8ujcZJaGWiOSdpF9KO5sHNWZOqh7o0GmeglYnmnEQpRUJ0AmtT11JkKfK0OBpNvUcrE805S0JMAjlFOfyZ9qenRdFo6j1amWgaPhYL5ByDzMPG3mIBYGCLgXgrb2030WicgFYmmoaNxQLHd8A7F8JrPYz98R1gsdDErwm9InvpOF0ajRPQykTTsMlLg49vgMxDxnHmIeM4Lw2AhOgEdpzcQXp+ugeF1GjqPx5VJkqpBKXUH0qpAqXUJqVUPztlpiulpPxmk18+b7FbL0JTtykuPKNIrGQeMtIxXIQFYW3qWg8Ip9E0HDymTJRSAcAioDEwDWgGfK6U8i5X9HOMpXlvAO4x0zaXK7PIpszLrpJZUw/x8YPQ1mXTQlsb6UDXpl0J8w/TQ10aTS3xZM/kUgwFMltEZgP/A9oCw2wLicg2EflYRD4GAs3k/5arawfwjVlOB1zSnOHQerjyjTMKJbS1cZyfDRjrw58ffT6JqYlYxOJBQTWa+o0nlUlbc59i7pPNfTt7hZVSCpgIZAEflct+HMhRSh1USl1eyfkTlVIblFIb0tLSaie5pn5wch98eRfsXAK3LYep2+CW72HNG/DJeCg6DRhDXen56SSlJ3lYYI2m/lKXDPDK3Fe2OPdwoCPwoYjk2KS/AFyFoWjCgIVKqaDyJ4vIHBGJE5G4yMhIJ4qtqZOUFBuKxNsHBk+Fxs0gtBWExMCgOyFtJ/z4JADnR58P6NAqGk1t8KQy2W/uW5r7GGu6UipAKeVXrvxd5r7MEJeIPCoii0VkLvAj0Aho5QqBNfWIxFch+TcY/YqhQGzpcCEMuht+mwO7lxERGEHX8K6sTtEjpBpNTfGkMlkKHAcmKaUmAbcBB4CVwGmgdOUipVQUMAZIFJE/bdIvU0p9ZA5hPYJhh0njjKLSnIukboGVz0OPq6HnNfbLjHwKmvWAxXdDznESYhLYenwrOYU59strNJoq8ZgyEZF84FogB/gPhmK5VkRK7BS/FfClouH9INACeBHDbrIBGC0iha6SW1PHKToNX0yE4Ei4rArHPt8AuPodKMyBxXcT3yKeYilm/dH17pNVo2lA+HiycRFZBfS0k67KHT8PPG+n3HYMW4pGY7B8BpxIgpu+hKDwqstGdYWLnoXvHqRP++EE+waTmJLIyNYj3SOrRtOAqEsGeI2mdvy1Eta/BQMmQvsRjp1z3u3Q6RJ8l89gYFg31qSuQaQyHxCNRlMZWploGganMw37R9OOcOEMx89Typh3EhBCwuE/SMlJ4UDWAVdJqdE0WLQy0TQMvnvIiAh81Rzwq+AZXjWNImHMW8Qf/wtAz4bXaGqAViaa+s+2RfDnpzDkYYipEN7NMTpeSMv+E4ktLCJxz1fOlU+jOQfQykRTv8lKhSX3Q0x/uOCB2tV14XQSVDAbMnaSf+qwc+TTaOoKlazr4yy0MtHUX0Tgq8lQUghj5xiz3WuDbwAJ5z9AvlJs+vpOo36NpiFQxbo+zkIrE0395fd3YN/PcNEzENHBKVXGdR6Ln/ImMWM7/DbXKXVqNB7nLOv6OAOtTDT1kxN74IcnjNAocbc5rdpAn0D6Nx9AYkgE/PA4HNvhtLo1Go9xlnV9nIFWJpr6R0mRMcvdNwD+9qbh3utEEmIS2EchR4NCYNFtUJTv1Po1GrdTmFPluj7OQCsTTf1j1cuQugkufw0aN3d69YNjBgOQOPAfxrjy8ulOb0NTR3GxkdojJG80nFTG/Lfsuj7XL4Qg50VQ92g4FY2m2iRvhFUvQa/rofsYlzTRLqQdzYKakVicwdUD7zJm1Xe4EDpe6JL2NHUEq5HaaluwPnCjuoGX89+7LWIhPT+dwpJC/Lz9CA8Ix0s5uZ3MQ7DwevANNMIH3b7cGNry8TMUiROvS/dMNPWHwlz44g5o3AIue9FlzSilGBwzmHWp6yge8YTxMFk8CXL0omoNFhFI3+tyI7UVi1jYk7GHcd+O4+JFFzPu23Hsydjj3NU+87Pgo+uguADGfWbEqmtkruvTqJnTFaRWJtWhIXaB6xM/Pgnp+2DsWxAQ4tKmEmISyC7K5s9Te+Dq/0H+KcMNWbsLNywKcgyvvTcHQM5xlxupraTnpzPl5ymk5qYCkJqbypSfp5Cen+6cBkqK4fNb4MRuuO4DiOzsnHqrQCsTR3GDn7amCvYsN1yBz78H2g5xeXMDWwzEW3kbC2Y162a4H+9ZZsigqf+k74dl/4JXusF3D4JfMASG2zdSezvPSG2lsKSwVJFYSc1NpbDECYpLBL5/BPYuh9Ezod2w2tfpAFqZOEplftppO+HgGsg+qt9aXUVeutEriOwKI55wS5NN/JrQK7LXmThdAyZCx4sMd+HjO90ig8bJiBiRpRfeALP6wvr/QsdRcNtyuGMFRHYxbCS2Ruor34AN88Bib5mlmlMiJUQHR5dJiw6Oxs8Zimv928ZLT/wU6D+h9vU5iDbAO0plftqnM2DeaOPYNwjCYiGsLYS3NT6HtzM+h7QCb193S13/EYEl0yDvJIz71HAHdhMJ0Qm8ueVN0vPTCQ8IN9yQ34qHRbfD7T+5VRZNLSjMhT8+MR6yabsgKAKGPARxt0KTFmfKKWXYx2yN1Lt/gF+eg1MH4crXwcu71uJsO7GN/2z8D88kPMMTiU+QmptKdHA0Lw992fid1Yak72HZY9Dl8upFz3YCHlUmSqkE4C2gM7AduF1ENtkpV/6V/ysRGWPmjQFexlhLfh1wi4g4f9leHz/jTcVWoYS2hpDWMG4RZOw3us4Z+41x/X0/QbHN/ATlbRi+ShVN2zOKJizW6GbbYrEYvSEXeV5UwN3tOcqfn8GOxcYyuy16u7XphJgE3tjyBmtT1zK63WhoFAV/mw0fXQs/zYBL/u1WeeoCbvFAchYZB+H3ubDpA8Pm1bwXjHkLul9V+YuAl5dhnLbS7yYj/tvK5wBlKpSaX++mY5u4+6e7CfUPpU2TNiwYvYDCkkIOZB3gf3/+j5eGvVTz+3n0T/j8VuM6r5rj9v+vx5SJUioAWISx3vs04F/A50qpjpUs3bsI+Nz8nGzW0Rz4GNgBPAQ8B7wPOH9QPSjS6AKXdxsMaQlhrSuWt1gg56iNgvnrzOdtX0B+ZtnyjZqdUTSt46F5d/hswpm2rlsATWLA7q2pJcobslLgk3FucYl0mMzD8O2D0GoQJNzn9ua7Ne1GmH8YiSmJhjIB6HQRDLgT1s2G9iPPKXdhqweS1XAcHRzNrBGz6BjWse4oFBE4sNoYwkr6DlDQ7UoYeBe0GlizCa7DHgEEVpovDzVUKOuPrOfen++lWVAz5l40l2bBZ5TWnow9/HT4J5bsW8LYjmOrL2PWEcNzKzAUbvi44supG/Bkz+RSoBnwsIjMNhXDE8Aw4Cc75XcA34hIrk3aDYA/8G8R+UwpdR5wk1KqvYjsc6q0Xl4Vu8BVvb17eUGTaGOLTaiYn5derjdzwNj/tRK6jD6jSMDYfzIOLn4OPhnv1MsC4LoPYdk/K9qDbl9e9i3NnVgshjuulMDY/zpleKG6eCkvzo8+nzWpa7CI5cwDc9QMOPCrId/dayE4wu2yeYLKPJAWjF5ARKCH70FhntGLXf82HN9uGNMTpsJ5txkvfLVl2KOGovrleVDAFdVTKL8m/8q0ldNo1bgVcy+aW+F+DWk5hB5Ne/D2H29zefvL8fWqxpB4Ya4xlyT/FNz6fdmhOzfiSWXS1tynmPtkc98O+8rkceAJpdQhYLKILDlLHWWUiVJqIjARoHVrOz0JRyjfBa4NQeHGFtO/Yl7GQfv2mfD2hneGswlvb7+9rFRji+7r/DbPxvr/Gg/sK183emseIiEmge/2f0dSehJdm3Y1En0D4ep3YM5wwzHgho+dHtKlLuJSD6SaknnYMDZvet+wXzbrYRjNe15jfE/OZPhjgMAvLwAKrpjlkEL56dBPPPjLg3QM7cjbo94mLCCsQhmlFJP6TGLyT5P5eu/XXN3pasdksliM0EJH/zB+h817Vu+anEhdMsBb/432XKJewLCHRAIzgYVKKXtP9UrrEJE5wByAuLi4uu125Rtg3z4T3NRYs9zZ5Byz317WEaOH0vp8GDQJOo+ufZh3Rzi+0whh0ulS6HuT69urgvjoeAASUxPPKBOAZt1h1NOGC+bv78CAOzwkofvw8/YjOji6jEJxmgdSdRAxPCjX/xd2LTHSuoyGgZOgTbxrFfuwx4z2V71otHP5f6pUKN/v/55Hf32U7hHdeevCt2ji16TSshfEXECviF7M+WMOV7a/El9HHHaWP2Xcg0tegE4X1+SKnIYnBzqtRnJrHzTGmq6UClBKlf5CReRREVksInOBH4FGQKuq6nCd2G7Aap9xYRwdh9qLHWwMrWWlwqf/MNwp17xurLfuKooLjVnu/o3hylkef+OPCIyga3hX+0v5DrzTCLPyw+NwfJf7hXMz4QHhzBoxq9SlNTo4mpeGvlR7D6SqsJ0onH0Udn0Hb18A8y6D/asg/l64b6sxVBub4Prfi1Iw/J+GN9imD2DJ1Ernmi3eu5hHfn2EPlF9mDNqTpWKxKja6J2k5qayeN/is8uycR6smQXn3WH8Fj2NiHhkAwKAYxgP/kkYQ1X7AW+MnsU2s9xlwEcYQ1SPAHnAccAPaAEUABuBe4Fs4Neztd2/f3+pCSUlFjmelS/J6blyPCtfSkosNarHwcZEso+KZBwy9iUlrmvrbO2VFIvs+Ebk3ctEnmoi8mwLkSUPiKTtcb4cy2cYbexc4vy6a8irG16VPu/3keyC7IqZ2cdEXmgnMjtBpCjf/cK5mSM5R2T5weWyO323JKYkygMrHpASi4t+myXFIqlbRV7tYfwmXu0hsm+lyGe3imx4T6Qg1zXtOoLFIrL8aUOur6dU+H9+susT6TGvh9yx7A7JK8qrRrUWufHbG2XUZ6OksLiw8oJ7fxaZES4y/yqR4qKaXkW1ATZIJc9Vj/VMRCQfuBbIAf6DoSCulYqeXAcxlMaLGHaTDcBoESkUkSMYRvhQDPfgzcAEV8hrsQhJx7IZOzuRhBdWMHZ2IknHsrFYXDRiZrXPuCiOTrXa8/KGrpfDLd/Cnb8aARY3vQ9v9IcFfzcWqHLGhM1D62D1q9B3vDFsUUdIiEmgWIpZf3R9xcxGUTBmNhz7E5a716/fE2w/uZ2pK6Zyuvg0J0+fZNnBZaxNXVuzykSMeGfJG2H7l5A4y/De++g6mH0+7F52xsMQjP3X98AlzxmT8fyCnHZd1UYpGPG4sVT0xnnw7f2lPZT5O+bzzLpnGNpyKK+PfJ1AH8dtN0opJveezJHcI3y590v7hdKS4NObIaITXPOee4aeHcCjUojIKqCCxUhElM3n7cDwKur4AvjCJQLacDK3kDs+2EByxmkAkjNOc8cHG/jy7gQiG/u7uvm6Q4texsPzwumw4V3DXjB/rDE7fdBd0Ou6mhk+C7LhyzuNyZ2XPO9UkS0W4WRuIYXFJfj5eNM02A8vL8eHQ/pE9iHYN5jElERGth5ZsUCni42hhnVvQoeRxtZASTq5Cy+86KgC6RrZl1cCI5i/cz4JMXY8Fq3u8ZmHjGGqU4dsPh829sWny57jH2LOx4qFkBi3xcqqEUoZERlEYPUroBRzW3Vl1pbXGdVmFC9c8IJjdo9ynB99Pn0i+zDnjzmM6TCmrE0q9wQsuBZ8/OHGTyCg6qEzd1I3VFo9oLC4pFSRWEnOOM2xrHwOnMwlrk0Y6hzw6CmlUZThLjl4GmxbZMy7+OY+4+087hbDUaBJ9NnrsbLsX4YX2y3fGfYSJ2HtUVpfBFqGBTL3H3F0btbYYYXi6+3LgOYDWJO6BhGx/z1f9Iwxv2HxJJi0pmG6C1ss7Dq6gTYlFgLfiIPQ1lwXdzVv7lvEX+tep11+nvGwP2VVGMlgKSpbR1BT44UhsosRniaklWGjC21lfA4MPVO2MscQJy7oVGuUgpFPImLhje3vMedkCJe3u5xnEp7Bx6tmj1elFHf3uZuJP07kiz1fcH2X642Monz4+Ebjvkz4rmIcMQ+jlYmD+Pl40zIssIxCaRkWyJFTp7njg420Cg9kbJ8YxvZrSdsI908Y8hg+/tDnRuh9g+Fhs242/PoKJP4Huo2BQXdDSzvuz7YkLTWGzRKmGt44TuRkboFTepSDYwaz4vAKDmQdoG2IHVdlq7vw3OHw1T1ww0KPOw84nZyjJB3ZQK/T5lSvzENcu3ERc8N8+Oj3mTx+MsMcKm1tuJN3+5upJFqb0SJagn8jx9sLikSuX4iymSgs1y9EucoRpYYIMDO0Ee+HhXB1dg5PZObjrWo3L2pQi0H0i+rH3D/nMrbjWPy9/Aw39MPr4dr3z/6f8gBamThI02A/5v4jrsIbbuuwIF75e2++3JzCGyv2MuvnvfRpFcpV/WK4vFc04cF16C3KlShleNPEJhgTMX+bC5vnw7bPoeUAw7W465UVx3dzT8DX90KznoaXTC3Jzi9i6+FTbD6UwZbDmdw1tL3dHmV6bgE+XoowB7+fUhfhlET7ygSgeQ8jHtL2RXBsGwSE1q3QNDXh5D7Y/T3s/p6shCmkesO1hWd6G00zDnFZjwl87ZXIvbf+RkhwlNOatqA46N2GnEu/INTPQmahF428m9MGVWci1FrEwnPrn+OTpE+4scuNPHIqD6815vyTy16u8QuFtXdy+w+3s2j3Im48etD4L418ymWLwtUWrUwcxMtL0blZY768O6HC2PtV/VpyVb+WHMvK56stKXyxKYUnv9rO09/sYFjnKK7qF8OILlEE+Lp/FrdHCG9rGEmHPwZbPoJ1bxlrKzSJMeZj9LvZeNDmpcGpFLjiP8awh0/1bE8lFmHv8Rw2H8pg86FMNh/OYM/xnFJfgI5RjVAKuz3KAyfzuPz11QzvHMVV/VoyvEsk/j6Vfz8tG7cktkksiamJjO9WRRSCARMhuo8xHFGXQtM4SkmR4QhhKhBO7jXSI7uSdPoYAF0KbWwWoa0Z3/k6Fif/zBf7v+WWHrc4TZQTuQXc9O7v5b67w3xxdzxRjT0fZLPEUsL0tdNZvHcxt/S4hWn9ppVOdGPNLEDBZS/VWKEMaD6A/s3687/Nb3D1nu349xlvDCvXUbQyqQZeXqrKoZFmTQKYOKQ9E4e0Z+eRLL7cnMLizSks33mMJgE+jO7VgrF9W3Je7DliX/FvbPi/n3c77PnBGAJbPh12/wgXPmnMJ7F94FosVT5wT+YUsOVwZqni2Hr4FDkFxQCEBvnSt1Uol/eKpm/rUHq1DCUk0BeLRez2KP28vZgQH8viLan8sOMYoUG+XN6rBVf1a0nfVqF2v5+EmAQW7V5EfnE+AT6VPMxOnzQcCcqHprlugRH2onnP6g31OEBtHQzIS4c9PxrKY+9PUHDKWMMj9gIjDlmniyAslqTt8wHoEhAFp898b52junFe8/NYuGshN3W7qca2AiunC0v4bONhurVoYrdXefBkHi8vS2JUt+YM7hBBoJ/7X9KKLEX8a/W/WLp/KZN6T2JS70lnfjOjngbEmJOlFFz6Yo0UilKKyc2HceuxjXzepjfjLn+1Tg+dKjkH1+CIi4uTDRs2uKWtEouwZt8JvtiUwvfbjnK6qISWYYGM7RvD2L4xtIt07oOlptT6geQoR7dBYc4ZRWIltHWZWGCFxRZ2HskylUcGmw9ncvBkHgDeXoquLRrTt1UYfVuH0rd1GLFNgypV0FVdW3GJhdV7je9n2fajFBRbaBsRzFV9YxjTN4ZW4WfcT39N/pW7f7qbty98m/iYSmw7mYeNxdPKM+Fbc6kCZbh0tuht9GBa9DE85GrodGCxCElHs7ljfjUcDESMUOy7vzfcbw+vB7FAcJShODpdAu2GV1B6j69+nNUpq1k5+pMK8el+PvQz9624j5lDZ3JR7EU1upaTOQW8v/Yg89ceICOviA9vG8CjX/xZoVf5yt/7cNv7v5OdX0yArxeDO0QyqlsUI7o0c4tnZVFJEQ+teoifDv3E1H5Tua3nbRULiRiTWde+YSjkS1+oviJI/wvmjuTWiMbsbxTG0quXVf4S4yaUUhtFJM5unlYm7iO3oJhl24/y5eYUEveewCLQu1UoV3vYvuIMj6fqIJmHUXYeuPn3bOXldXlsPpzJnymnKCw2/PabNfGnX+sziqNHdIhL3kaz84tYuu0oX2xKZt1fxvKpA9qGc3W/GC7t2QJfn2IGLxzM9V2u56HzHrJfSc4xYxXO8opywlLDjnJkC6RuMfbZR8wCCpp2qKhg7CxNbLEIB07msjU5k62HT3Fh1yi7D9wKQ0HFBYa32e5lhhLJPGikt+htKI9OF0OLvlX2DK/95lrCA8J5e9TbFfJKLCWM/nI0zYKa8f6l71dahz0OnMjlndV/8dmGZAqKLVzYtRl3Dm1Hv1ah7D6eY/d3WSLCb/vT+XHHMX7ccYyUzNMoBX1bhTKqW3NGdYuifWQjp48AFJQUMG3FNH5N+ZVHBzzKuK7jKi9sq1AG3mW4vDsqz+kMeGcU5J1gw9hZ3LL2Xzx83sPc1M2z4YW0MimHp5SJLbb2lV1Hs/HxUmXsK37eXk7tKYgI+UUWsvKLyM4vIiu/mKzTRWTnF9M+qhETbTyewHggvXFDX5ZuO1oa8UyhSv8LCmw+l023HlRW5ra+wQR/cHGFB27GjUsZNOtPesaElCqOvq1DaRHi5IB9DpCckcfizcb389eJXPx9vLioe3OOBP6HIjL4asxX9k+0Lu9cfqkCezaT7GNwZGtZBZOVciY/vD35kT045N+ZzcVt+PlUC9amFJOVbwztBfp689EdA3n6m208PiySqCDF8Tzh2ZVp/HN0d9Zs3cG1jXfQ4vgvqH0roCgXfAKNZVw7XWxsDrpvF5UUMfCjgYzvNp77+99vt8z8HfN58fcX+fjyj+netPtZ69x8KIM5q/7i++1H8fXyYmzfGO4Y0pYOUWd6aY70mEWEnUeyWb7TUCx/ppwCoG1EMBd2jWJUt+b0bxOGdy1fjPKK8piyYgq/HfmNJ85/gms7XXv2k0QMt/d1bxqxwy7599kVSnEhfHiVYbu6+WtoE8/ty25nb+Zell69tFqTIJ2NViblqAvKxBZb+8rx7ALi24dz/6jOTP1ky5k3spviaBEawKnTRWSdLj6jEPINhWBVDEa6mZZvTTPyiyuZrf/JxEFcN2ddxfQ7B3HT/34zDsS6k1IDt7U2EbH5fPbr/faeeJoX7KfpNzeXPnBPXvE+BeGdiWgciJ9P3TFUiwhbk0/xxaZkvt6aSm7AzwQ0+5bLQ99k/Hm96daiScW33xouNJZbUMzOvfs4nrSe4pTNhGRsp33JPlqqE6VlTvrFkNu0BwGt+9G0wwCym/aEU4cJ/erMvTx95Vxkw3sE7fgYgDQVwfEWw2h+3hia9riwRpNKk9KTuOaba3jhghe4rN1ldstkF2Zz4WcXMrL1SJ674Dm7ZSwWYUXScd5e9Re/7U+nSYAP4we1YUJ8LFFNnDOEc+TUaZbvPM6PO46xdt8JikqEsCBfRnRpxqhuzRjSKYIgv+rZdXIKc5j802S2pG3h2YRnuaL9FY6fLGIs8bButuEqf/FzlSsUEcO7cfN8GPs29DbmmGw6tombv7+ZB+Me5ObuN1dLdmeilUk56poysWK1rwT4eDPt0y0VegpPXN6NO+dvrPT8Rv4+NA4wtiYBvuZnX5oEGnvb9CY26cF+3lw3Z12F9mo7u9/62xIpq3jScwt5YvEfTOzfpPRtes7GLJ4d27tORxMoLLawcMtvvLz9DoqOXk1+xnl0ad6Yq/rF8Lc+MTQzH4aOvE0XlVhIOpptDlcZQ1Z7jmdj1fetw4Po3SqU3i1DiIssoSv78U/780wPxtqrK78WDRjzMa6Yxen96/nZ0o/39gaz8VAmSsHAtuGM7RvDJT1aEBLo+Ozsr/d9zb9W/4uv/vYV7ULbVVru3+v/zae7P+WHq38g0mY+SEFxCV9tTmXOr3+x93gO0SEB3Dq4LdcPaE0jf9f5AWXnF7Fq9wl+3HGUn3cdJyu/GD8fLwZ3iGBUt2aM7BJVRonZ++6yi7KYtHwSO0/u5Pkhz3NxbA2i84rA94/B+rdg0GS4+P/sK5TVrxmRgIc8DCP+VSbrjh/uYHfGbpZetZQgX8+EktHKpBx1VZlYScnII+GFFRXSl029gG0pWTQJ9C2jNJoE+NIowKfG3Xh320zc3Z4zERFGfT6KLmE9GNhoGl9sSmbzoUy8FAzuGMkt8bE0a+LPxPkby1xbSKAPvx8wPNC2JmeyLeUUBaZNKDzYj94tQwzl0SqU3i1Dz24/y0s3lEpwFPzXTiiTqduMCYMmB0/m8tWWVBZvNobt/Hy8uLBrFGP6xDCsc9RZe4Mv/v4inyV9xrob1+FdxUJlB7MOcsWXV3Bn7zuZ3Gcyp04X8dH6Q7yXuJ/j2QV0bdGEO4e0Y3SvFvh6u7cHWlRi4fcD6SzfcZwfdx7lcLrx8tSnVSijujVjdK8WnC4sKfO7nHl9e17a+iB/ndrHzKEzGd660shOZ0cEvn/UCJ1//j1w0bNlFcqOr+HTm6DH1XD1/yoomy3Ht3DT0pt4oP8DTOgxoeZy1AKtTMpR15VJWnYBY2cnOr2nUBVu8+byUHvOZPqa6fxw4AdWXb8KHy8f/krLMewrm1N44vJuPLNkR6W9ygBfL3rGhNC7paE4+rQKpWVYYM0NxZUZ/CtZJVNE+CP5FF9uTuGbramczC0kNMiX0T1bMLZvDP0rCQt0+7LbyS3KZeHlC88q0j0/3cOW438wqtEsPv39KLmFJQzuEMGdQ9sxuENEnXCLFzFeaJabBvytyad4+6b+Zb475ZNFk9h38fHPYNaI/9iPP1b9hmHpI/Db23Dx89DzKmM41FIEi+8x9jd/U+ka9Xf+eCe70nd5rHeilUk56royqc9v7ucCPxz4gQd+eYAPLv2AvlFnVqG0elqNmPlLhXOWTR1CiUXo1KwRPs58I6+Owb8cRaZb9OLNhlt0fpGl1G39b31i6BBluAaLCBd8cgEXtr6Q6fHTq6xz55Esnl/xDZuKnqfgyLVcGnsFd1zQjh4xFT3T6hLHsvLJzCvk0UVbmTSyOaHBkFWSyrvb3mV859u5rOMFzmtMzDkoLXobUZCt39vfZkNUdwiufH2YrWlbGf/deKb1n8atPW51nkwOUpUyqdZgpVIqFMgTkToStrNhUtVse43nGRQ9CG/lzeqU1WWUiZeXonGAr90Z9+HBfq7pVXp5GYrj9uXVNvj7ensxvHMUwztHkVNQzA+m2/qbK/by+s976dUyhDF9YhjY0YtTBafoEt7Fbo9SKViz7yRvr/qLVbvTCPILJ6xTKyI6b+G1MU/UiZ7I2WjWJABfb3h0TBhPrr2H1NxUooOjefr8FwmwtCJx7wni2zd1zrUoBb2vK9ujzDwEX91tfI9V0DuyNwkxCczbNo/rO1/vMduJPRx6RVJKtVVK/Q6cAIYopX5RSj3tWtHObayz7WPCgohs7K8VSR2iiV8TekX2srv6ojWGW8sww2PK2qts6so5RE5Y+6aRvw9X9WvJ/NsGsu6xkTw+uisWEZ5esoMx73wKQG52FLuOZpVZ0+fPlFM88NkWxr2znh2pWTx0cWfWPDqS+wfcxl9Ze9hwrO6OAJTHonJ4cu0DpcsSp+am8uTahzltyWLcO+sZM3sNy7Yfdc4aRsWFNQ6vP7n3ZDIKMvho10e1l8OJOPqrewtjSVwFWIBVwPW1bVwplaCU+kMpVaCU2qSU6menzPlKqTVKqUxzW6SUirTJl3Lb4trKpdGcjfjoeHac3EF6fnqZdNteZeIjw/ny7oR6NzwZ1SSA2y9ox5J7L+DHaUMY1KUAgAj/2FLHAjBCm0z+aBNX9o7h31f1ZPUjw5k8vAOhQX6MbjeaUP9QPtzxoScvpVoUWgrLrG8PhkJpFe7H/43tQXpuAXfO38jFr63ii03JFJXYX67XIXz8KoaQdzC8fs/InlwQcwHzts8jtyi35jI4GUeVSTzwhs3xPs6su14jlFIBwCKgMTANaAZ8rlSF2M2dMHpEjwDfAVdhrLpoyyKMFRdvwFhxUaNxKYNjBiOI3VUGG1KvsmOzxkQ2Tad149b0bBFlN1ZWx6hG3DCgdZlApgE+AVzb6VpWHF7B4ezD7ha7RuQX55eub28lOjgafx8/xg1sw4oHhvGf6/vgpRT3f7qV4S+vZP7aA+QXlV8c1gGCIg3bllWhWG1dDobXv7vP3ZwqOMVHO+tO78RRZXICsMa/iMLolaRWXtwhLsVQILNFZDbwP6AtMKxcuYUicqWIvA3caaaVn167A/hGRD4WkdW1lEujOSvdmnYjzD/M7lBXQ2NX+i46h3cutQfZ0jIsEL9Koi1f1/k6vJU3C3ed3QPM02QXZvPKhld4dvCzpQolOjiaWSNmER5gGMR9vL34W58Ylt53Ae/8I47Ixv488dV2Br+wgrdW7iM7v6iqJspia+uaus3YVyOydI+IHgxpOYR52+eRU5hT7et1BY4qk7kYCkQBC4BRQMUAPdXDuiiENX5EsrkvMyOqnLHfOltoVbm6HgdylFIHlVKX22tMKTVRKbVBKbUhLS2tFmJrNOClvBgUPYg1qWuwSC2GO+o4OYU5HM4+TJfwLtW2BzULbsao2FF8uefLOjUcY49XNr7Cr6m/EuYfxoLRC1h29TIWjF5Ax7COeKmyj0kvL8WF3ZrxxaR4Ft4xiK4tGvPC97uIf/5nXl6WxMmcAscaraWt6+7ed5NVmMWCnQuqdZ6rcMibS0T+rZRKAS7HUCjfiMgHTpbFOhZg17qllEoA3gU2AtNtsl4A1gGRwExgoVKqmYjk2Z4vInOAOWC4BjtVcs05yeCYwSzdv5Sk9CS6Nu3qaXFcwu6M3QB0Ce9SIy/D8V3Hs3T/UhbvXVx1UEQP8tuR3/h89+dM6D6BDmEdHD5PKcX57Ztyfvum/JGcyewV+3hz5V7eWf0X15/XmolD2hEd6ro4Wt0jujOs5TDe3/E+N3a9kcZ+zlvuuiacVRUqpbyVUr8BRSLydxG51kmKZL+5t9peYqzpSqkApVTp645SagjwPYat5mIRKe3XicijIrJYROYCPwKNgDNTfzUaF1G6+mJqwx3qSspIAqBTWCeg+vagXpG96BXZi4W7FtbJHlxeUR5PrXmK1o1bc3efu2tcT6+Wofz3pv78OG0Io3tG8+G6gwx5cQUPfbaVfWmuG4aa1GcS2YXZfLjT844OZ1UmIlKC0Vtw9ur1S4HjwCSl1CTgNuAAsBI4DWwCMD28lgLeGMNto5RSV5h5lymlPjKHsB7BsMOkcUZRaTQuIyIwgi7hXRq03SQpPYlQ/1CaBVWcTe8o47uO52DWQVan1D1z5htb3iA5J5kZ8TOcEo23Q1RjZv69NysfGsa4ga35emsqF77yC3cv2Mg2M5qxM+nWtBvDWw1n/vb5ZBVmOb3+6lAdA/wMpdTnSqlZ5vaf2jQsIvnAtUAO8B8MxXKtqbxs6QUEAYHAm8BC4HUz7yDQAsO763FgAzBaT6rUuIuE6AS2HN9SZ4ygzsZqfK/NZL0L21xIVFAU83fMd6JktWdr2lY+3PEh13W+jrjmdid115iWYUHM+FsPVj8ygklD2/Pr7hNc/vpq/vHub6z/6yQigsUipGUXkJKRR1p2QY3nr9zd526yi7I97obtqDK5FPDDcMu9x2arFSKySkR6ioifiPQVkQ1muhKRHubneeax7RZr5m0XkeEiEioijUVkiIj8Xlu5NBpHSYhJoFiKWX90vadFcTrFlmL2ZOyhS1iXWtXj6+XLDV1uYN2RdezN2Osk6WpHYUkhTyY+SfPg5kzr77p11SMb+/PwJV1IfGwED13cme0pp7huzjoe++IPtqWeKjMBNOlYdo0USpfwLoxsPZL5O+ZzqsD5vR9HcVSZDLezjXCVUBpNfaFPZB+CfIJYk7LG06I4nQOnDlBoKaRzeOda13VNx2vw9/avE2P7AP/d+l/+OvUXT53/FMG+wS5vr0mAL5OHd2D1IyOYcWV3Lu7egrsXbCozAfSODzaQ5qgnWDkm9Z5ETlGOR3t/jnpz/aKU6ghcaCYtF5E9rhNLo6kf+Hr7MrDFQBJTExGRehGHylGsxndnKJPQgFAub3c5S/5awtR+UwkNCK11nTVlV/ou3t32Lle2v9I5kYCrQaCfNzfHx5KckWd3AuiBE7lc+MovRDX2J7KxP1GNA8y9P1FN/IlsFEBUE+M4JNC39PfWObwzo9qM4sOdH3JTt5sI8be/5LMrI3U7pEyUUlcCnwK+GC68hUqpa0XkG6dJotHUUwbHDGbF4RUcyDpA25C2Zz+hnpCUnoSvl6/Trml81/Es2rOIz/d8zu09b3dKndWlyFLEk4lPEuofysPnPewRGQD8fbztBgQN8vPmqr4xpOUUcDyrgK3JmRzPKuC0nVn2ft5eRDb2J8JUNgFBI8kt+pGHf3yda9rdUaqAIhr5462UyyOROxo1+P8wPKRmYiiTqWaaViaacx6ri/Ca1DUNSpnsSt9Fh9AO+Ho5viJjVXQI68CgFoNYuGshN3e/2Wn1Vod52+axM30nrw17ze7bu7uwTgC193Dv2TK0TFkRIaegmLTsAo6bm/E5n7SsAtJyCjh0Mo+0g34UhfYkseRLlq3tBCVnhu/+d3McT329vcKwmjPXSHJUmbQFporIO2AEVwRec4oEGk09p2XjlsQ2iWV1yuo6OzGvuogISRlJDG051Kn1ju86nnt+voflB5dzadtLnVr32fgr8y/e2voWF7W5iJFtRrq17fJUZwKoUspcdtuXdpGNqqx354k2XPftNdw4aj/DoyYYCie7gGZNAuwOqxUW1yCuWCU4qkz+Au5XSllnHU3DmECo0WgwvLoW7V5EQUkB/t51dx17Rzlx+gTp+elOsZfYckHLC2jduDUf7vzQrcqkxFLCk2ueJMg3iMcGPua2dqvCOgHUmXSN6MTFsRfzU/IXPDRoImEBxvygtOwCu8NqlcVVqwmOenM9AbTHmDT4DtABY16HRqPBGOrKL8ln47GNnhbFKexK3wVA5zDnKhMv5cWNXW/kj7Q/+CPtD6fWXRULdy1ka9pWHjnvESICI9zWrie4q/ddnC4+zbzt80rT3LHOjkPKRES+AnoCU4B7gZ7a+K7RnCGuWRx+Xn4NZja8Mz25yjOmwxga+TZym5vw4ezDzNo8iwtiLuDydnbjwDYo2oe255K2l7Bw18LS9Xbcsc6OoystjgG6iMibIvIm0MVM02g0QJBvEP2b9W8wymRX+i5iGsW4JHhgsG8wYzuO5ccDP3Is95jT67dFRJixZgbeypsnz3+yQbluV8Vdve+ioKSAedvmlaa5ep0dR4e5/kvZ0PBtzTSNRmOSEJPAvlP7OJp71NOi1Jqk9CSnD3HZcmOXG7Fg4ZOkT1zWBsCiPYtYf3Q998fdT/Pg5i5tqy7RLqQdl7a9lI+TPubk6ZNuadNRZRJUrqyPmabRaEwSoo0JcPW9d5JXlMfBrIN0Ca9dGJWqaNm4JcNaDuOz3Z+RX5zvkjaO5h5l5oaZDGg+gGs6XuOSNuoyd/UyeifvbXvPLe05qky2AE8qpZ5XSr2AYZDf7DKpNJp6SPvQ9jQLalbvQ9LvydyDIC6xl9gyvtt4Mgsy+favb51et4jw7LpnKbYUM/386efM8JYtsSGxjG47mk+SPuHE6RMub89RZfIgUAw8DDwEFAEPuEoojaY+opQiISaBdanrKLYUe1qcGpOUbhjfXdkzAcNpoXNYZz7c+SEizl2v7tv93/JL8i/c2/deWjU5d5c3urP3nRRZinh327sub8tRb67fgI4YKy1eDnSwRvjVaDRnSIhOILsomz9P/OlpUWrMrvRdNPZrTIvgFi5tRynF+G7j2Zu516lRl0+ePskLv71Ar8heDWYSaU1p06QNo9uN5tOkT0nLc+1y5Y56c12PEYb+Z4y14D9XSg1ypWAaTX1kUPQgvJV3nVwIylGSMgzjuzuGhi5teynhAeFOXYvj37/9m9yiXJ6JfwZvL+dNyquv3NXrLootxS7vnTg6zPU0xkTFccANwCDgDVcJpdHUV5r4NaFnRM96G5K+xFJirGHi4iEuK/7e/vy9899ZlbyKg1kHa13fTwd/YtmBZdzV+y7ahbY7+wnnAK2atOKK9lfwadKnHM877rJ2HFUmrTCW1B0AvAvcD3SrbeNKqQSl1B9KqQKl1CZziV575cYopfYqpfKVUiuVUm0dydNoPMHYDmO5vdftJGcnc+L0iTq59nllHMo+xOni0y43vttyXefr8Pby5qOdH9WqnlMFp3h2/bN0Ce/CLT1ucZJ0DYOJvSbSLbwbR3KOkJqT6pLfpaPK5BQwAbgMY212hbFOe41RSgUAi4DGGLG+mmEMn3mXK9cc+BjIwjD+9wfeP1ueRuMJLGKhS9MuvPjbi1z6xaWM+3YcezL21BuF4i7juy0RgRFcGnspi/cuJrswu8b1vPT7S2TkZ/B0/NMeiUhcl4lpFMP9593Pw6se5uJFF7vkd1mdSYvDzPJfAOcDtbUwXoqhQGaLyGzgfxiTIYeVK3cD4A/8W0ReB74ELlBKtT9LnkbjdtLz05m2YhqpuakApOamMuXnKaVhLeo6u9J34ePlQ/sQ9/6FxnUbR15xHl/u+bJG5yemJPLVvq+4tcetdG3a1cnS1X/S89N5dNWjLv1dOurNNR0IB9qISBpGfK5LlFJ+Sql/KKWa1aBt63BUirlPNvflBzqrKudoHSilJiqlNiilNqSludarQXPuUlhSWPqHtZKam0phSaGHJKoeSRlJtAtph6+3e9/suzftTr+ofny06yNKLNULi55blMuMtTNoG9KWO3vf6SIJ6zfu+F062jNBRDJFpNj8nCMi+RhDVO8B3Z0gi9V15GwO51WVqzRPROaISJyIxEVGRtZQRI2mavy8/YgOji6TFh0cjZ+386KzupKk9CS3DnHZMq7rOFJyUliZvLJa57228TWO5h7l6finG0T4f1fgjt+lw8qkCmrqP7jf3Lc09zHWdKVUgFLK72zlzpKn0bid8IBwZo2YVfrHjQ6OZtaIWYQHhHtYsrNz4vQJ0k6nuTQmV1WMaD2CFsEtWLBzgcPnbDi6gY+TPmZc13H0ierjOuHqOe74XTq6OJYrWAocByYppbKB2zA8xlZizLbfDvTAMLA/DzxiDqeNBVaLyD6lVKV5br4WjQYw1uvoGNaRBaMXkJKdwumS03QM64iXcsZ7m2vZnb4bcK/x3RYfLx9u6HIDr2x8xQg0eRaPsvzifKavnU5Moxju7Xuvm6Ssn9j+LgtLCvHz9iM8INypv0uP/cLNYbJrgRzgPxiK5VoRKSlX7giGoT0UeBkjJtiEs+VpNJ7CS3kRERjBisMrmPTjJPKK8jwtkkO4cg0TR7mq41UE+gQ6tNbJ7C2zOZh1kBnxMwjy1XFnz4b1dxndKJqIwAinv+DUtrZ8DFfc1LMVtIeIrBKRniLiJyJ9rSFaRESJSA+bcl+ISHsR8ReRIbY9j6ryNBpPkhCTQLEUOzVUiCvZlb6L5sHNCfEP8ZgMIf4hXNn+Sr7767sqQ6dvO7GN93e8z9Udr2Zgi4FulFBTGY6GUwlRSr1s9YZSSr2olAoRkVwRuUVEdrlaUI2mvtEnsg9BPkH1ZjZ8UnoSXcI8M8Rly41db6TQUshnuz+zm19UUsQTiU8QERjBA3E63mxdwdGeyUcYs977mNsDgONWMo3mHMTX25eBLQaSmJro9Ki4zia/OJ/9Wfs9OsRlpV1IOxJiEvgk6ROKSooq5M/9cy57M/fy5KAnXbISpKZmOKpM4oE5QCAQjDHBMN5VQmk0DYWE6ARSclI4kHXA06JUyd7MvcbsfQ8Z38szvut4Tpw+wfcHvi+TvjtjN3P/mMvodqMZ2mqoh6TT2MNRZfI5kCYiRSJSgGEst98H1Wg0pcTHGO9ca1Lr9lCXNYyKp9yCyxMfHU/bkLYs2LmgtFdXbCnmycQnaeLfhEfOe8TDEmrK46gyuQD4p1LqoFLqIPAYRtiSP5RSW10nnkZTv2nVuBWxTWLrfEj6Xem7CPYNJqZxzNkLuwEv5cW4LuPYfnI7W9K2APDBjg/YfnI7jw18jLCAMM8KqKmAo8qkE8bkxFbmpoAuGPNAerpGNI2mYRAfHc+GoxsoKCnwtCiVYl3DpC7Nh7mi/RUMbD6QEksJh7IOEdskllu63cLFbS72tGgaOzgam8urqs3VQmo09ZmEmATyS/LZeGyjp0Wxi0UsDk0SdDcBPgHc0/ce/rX6X4z+cjQv/PYCl7W7DDlrxCWNJ3BYESileiml/qaUusrcxrpSMI2moRDXLA4/Lz8SUxI9LYpdUrJTyCvOqzP2Eivp+ek8suqRMpFu71txX72JwHyu4eg8k/9izC7/AsPw/rm5aTSasxDkG0S/Zv3qrDLZlWFME6srnlxW6nsE5nMNR2NzjcNQJt8B1YsPrdFoGBwzmJc3vMzR3KM0D27uaXHKsCt9F97Km/ahdWsZIGukW1uFUp8iMJ9rODrMlQh8IyJPisgM6+ZKwTSahkRCdAJAneydJKUn0TakLQE+AZ4WpQz1OQLzuYijPZNngJVKqVsxlvAFEBHp7RqxNJqGRfvQ9kQFRZGYmsjVna72tDhl2JW+i7jmcZ4WowLuiHSrcR6OKpMFgDdnXIM1Gk01UEoxOGYwPx74kWJLMT5enlz94QyZ+ZkcyztW54zvVqyRbjV1n+qo+CcAP+0SrNHUjIToBLKLsvnzxJ+eFqWUuhB2XtMwcPT1aAlwDZCqlLId5vrSNWJpNA2PgS0G4qW8WJ2ymr5RfT0tDmAMcUHdCaOiqb84qkzuNvfvmHuFsc66t9Ml0mgaKCH+IfSK6MWalDV1ZmXApPQkogKjaBrY1NOiaOo5jiqTp8F5006VUo0xohBfCWQDL4vIy5WU/QIYCIQDe4AHReQHM28ecHO5U8JEJNNZsmo0ziQhJoHZW2aTnp9eJ7ySkjKS6BTeydNiaBoADikTEZmulPLGiNEFsLv88rrV5FngemAG0Bt4SSm1SUR+tlO2D/AGUGCet0gp1VxEcs38E4Dta14uGk0dJSE6gTe3vMna1LWMbjfao7IUlhTyV+ZfDGk5xKNyaBoGjs6A7wbsBLaZ2w6lVG2my94M7BCR6RgLbQHcUknZLiLybxF5BVgKNALa2OTnYth0PhGRj0Wk4mo6Gk0doVvTboT6h9aJkPT7MvdRLMXa+K5xCo56ZL0BtAAWAh+bn9+oSYNKqXAgBEgxk5LNfTt75UWk0DwvBGO46wiw16ZIa4yhsjyl1BtK2XdCV0pNtC47nJaWVhPRNZpa4+3lzfnR55OYkohFLB6VxWp8rwtL9WrqP44qkzjgMREZLyLjgH8CA6o6QSmVrJSS8hswoXxRc1+pTUYp1Qj4GogAbrQqGOBnjB7NGGADMBkj9EsFRGSOiMSJSFxkZGRVoms0LiUhOoGT+SdLF6TyFEkZSQT6BNKqsZ46pqk9jhrg04ELlVLfmcejgJNnOWco4Gsn/QjwJNDSPLauxrMfQCnli+ElViAiYhrrl2IotKtEZKW1IhH5wPpZKWUBBgPdHLwmjcYjxEcbqy8mpibStWlXj8mRlJ5Ex7COeHtpp0xN7XG0ZzIXw/Nqj7ldYaZViojsE5FddrZTwAdAV6XUU8BM85R5Nm2dBvqbxz8CCRhDbE2UUtcrpaIAlFIrlFIPm2Feppvl1zt4TRqNR4gMiqRLeBePxukSEZLSk/QQl8ZpONoz+RBIw+iRACzDeMjXlMeBZsAjGPaOR0Xkp0rKDjT3EzgzRDYcYx36PRieXJEYNpj7RWRxLeTSaNxCfHQ8H2z/gJzCHBr5NXJ7+6m5qWQXZWvju8ZpONozWQ60EpFrReRaDG+qGisTEckSketEJEhEmonICzZ5E0REicgG81jZ2VaaeRNFpJWIBIhIexF5taYyaTTuZHDMYIqlmN+O/uaR9kuN73VsDRNN/cVRZRIDHLA5PsgZm4dGo6kmfSL7EOQT5LGhrt3pu0uj8mo0zsDRYa6/gAeVUikY3lcPmGkajaYG+Hr7MqDFABJTExERlFJnP8mJ7ErfRevGrQn0CXRru5qGi6M9kxeAzsC3GBMEOwP/dpVQGs25wODowaTkpHAw66Db207KSNJDXBqn4mg4lflKqYPA5WbSNyLyq+vE0mgaPvExZ1yEY0Ni3dZuVmEWKTkpXNPpGre1qWn4OLxCj4isAla5UBaN5pyiVeNWtGnShtUpqxnX1e5cW5dgnSypeyYaZ6IXuNJoPEhCdAIbjm6goKTAbW3uztgN6DVMNM5FKxONxoMkxCSQX5LPxmMb3dbmrvRdhAeE6+VwNU5FKxONxoPENYvD18vXrS7CSemG8d3dHmSaho1WJhqNBwnyDaJ/s/5uC0lfZClib+ZePfNd43S0MtFoPMzgmMHszdzL0dyjLm9r/6n9FFmKdEwujdNx2JuroVNUVERycjL5+fmeFqVBExAQQMuWLfH1tRdQ+tykNIpwSiJXd7rapW1ZPbl0z0TjbLQyMUlOTqZx48bExsbqsWQXISKcPHmS5ORk2rZt62lx6gwdQjsQFRRFYqrrlcmu9F34e/vTpkmbsxfWaKqBHuYyyc/Pp2nTplqRuBClFE2bNtW9v3IopRgcM5h1qesothS7tK2k9CQ6hnbEx0u/R2qci1YmNmhF4nr0PbZPfHQ82UXZ/HniT5e1ISLsytilh7g0LkErE42mDjCoxSC8lJdLXYSP5R3jVMEprUw0LsEjykQp1VgptVAplauUOqqUerCKsvPsrCUfauZFK6WWKqXylVIHlVLj3XYRdZw1a9Ywffp0tmzZ4mlRNA4Q4h9Cr4heLlUmOoyKxpV4qmfyLHA98BKwFnhJKTWiivIngBtstlwz/S1gBPBPjDVW3ldKdXCV0O6muLjm4+dr1qxhxowZWpnUI+Jj4tl+cjsZ+Rkuqd+6IFansE4uqV9zbuMpZXIzsENEpmOsjQJwSxXlczFC338iIh+LSJFSKhxjLfrlIvIKxhrwXmbd9YL58+fTvXt3AgMDad++Pe+99x5KKS677DIGDBjAoEGDOO+884iKiqKoqAiAK6+8koCAADIzMxk2bBhKKZ566imaNWtGjx49+OOPP1i5ciUPPfQQALfccgtKKQ4cOMD27dsZOXIkjRs3pk2bNjzzzDOIiCdvgcaGwdGDEYS1qWtdUn9SRhKtG7cm2DfYJfVrzm3crkxMJRCCsWY7QLK5b1fFaa0x1orPU0q9oZTyAmIxFupyqB6l1ESl1Aal1Ia0tLRaXIFz+OWXX/jHP/5BcXExs2bN4vrrry/tiSxfvpyxY8cybdo0Jk2aRFpaGkuWLCEnJ4cff/yRK6+8ktDQ0NK6/vzzTx588EF27drFhAkT6NatG+PGGVFo77rrLhYuXEhYWBhXXnkl69ev5//+7//o1asXTz75JO+9954nLl9jh25NuxHqH0piqmuGupLSk7S9ROM6RMQlG8bDXexs95v7H8xy/ubx6krq+QdGb+NvwK9m2ZuAfubnOWa5zubxh2eTrX///lKeHTt2VEhzJQ8++KAAsmTJktK0FStWCCBjx44tTcvLy5OwsDC54oor5OOPPxZAvvnmGxERGTp0qACyd+9eEREZPHiwAJKZmSkvvfSSAPLee++JiMiff/4pgNx4440iIrJ7924B5JprrnHTFZ/B3fe6PvHQyodk6MdDpcRS4tR6cwpzpMe8HvLfLf91ar2acwtgg1TyXHWls/lQwN405yPAk5xZQz7G3O8HUEr5At5AgSn/B9YTlVIWYDDQDWPVR6msnvpMdHR06efAwEBuvvlm3njjDbKzs4mKiuKSSy6xe56YQ1ZKqUpdcLVrbt0mISaBpQeWsjtjt1MN5daw89r4rnEVLlMmIrKvsjyl1AfAvUqpp4A+ZvI8cz8XoydyHrBBKbUCWIphhJ9sllkvIulKqSXAxUqp+4ExgAUoVT51mSuuuIKXX36Z+++/n9TUVA4ePEibNvZnJd9111289tprrFy5kqlTp+LjU/Zre+ihhzj//PNZt24d/fr1o0mTJoSFhQGwdOlSgoKCGDt2LO3bt+err77i9ddfZ/ny5QBcdtllrr1QTbWwhlZZnbLaqQ9+q/FdD3NpXIWnDPCPA58CjwDxwKMi8lMlZfcA9wKzgVDgfhFZbOZNAlYCz2HYUG4RkT2uEtqZDBkyhA8++ABvb2/uvfdeFi5cWEFJWOncuTMjRhjObv/4xz8q5Pfp04eXX36Zzp078+677wKGob5///4sWrSIG2+8EV9fX7766ivOO+88/vnPf7J582aefvppJkyY4LJr1FSfyKBIOod1drqLcFJ6EqH+oTQLaubUejUaK8o6NHIuERcXJxs2bCiTtnPnTrp27eohiSqnoKCAVatWMWXKFIKCgti48cwiSsOGDeOXX34hLS2NiIj6s9BRXb3XdYVXN77KB9s/YPUNq53meXXDkhsI9gvmnYvecUp9mnMTpdRGEYmzl6dnwNdxjhw5wkUXXUReXh5vvvmmp8XRuIHBMYMplmLWH1nvlPqKLcXsydyjl+nVuBQd7a2OExsbW+lckJUrV7pXGI1b6BPZhyCfIBJTEhnRuqq5vI5xMOsgBSUF2viucSm6Z6LR1DF8vX0Z0GIAiamJTplUqo3vGneglYlGUwcZHD2YlJwUDmYdrHVdSRlJ+Hr50jZEryGjcR1amWg0dZD4GHP1RSfMhk9KT6JDaAd8vfTqlhrXoZWJRlMHadW4FW2atKm1i7CIsCtdr2GicT1amdQhDhw4gFKKyy+/vEJebGwsjRo1AmDHjh1Mnz691gZ4pRQ9evSoVR0a15EQncDvR3+noKSgxnWcOH2C9Px0bXzXuBztzVVPeP311yksLAQMZTJjxgzAmGtSUxYuXFgmYKSmbpEQk8BHuz5i47GNpTPjq0up8V27BWtcjFYmdpjxzXZ2pGY5tc5u0U146oruDpXNysriyiuvZNWqVVxxxRW888473HvvvZw4cYL+/ftz7bXXGnLOmMGMGTNYsWIFnTt3Ztq0afz000/k5+czefJknn/+ebZv386UKVP47bffCA8P5/bbb+fxxx9HKcUNN9xA9+7dueSSS5g+fTozZsxg8uTJ/PDDD2RkZDB79uzStjTuJ65ZHL5evqxJWVNjZZKUYSyIpYe5NK5GD3PVQdasWcMFF1zAiBEj+PDDD3n77bdL8yIjI5k6dSoAV199NQsXLiwNOf/JJ58wbtw4Zs6cSWRkJEVFRdUOO798+XImT57MqVOnePTRR119qZoqCPINon+z/rUywielJxHTKIbGfo2dKJlGY4fKwgk35K0uhKC3x/79+wWQwYMHi4jI3r17S0PSt2nTRoKDg0VE5LPPPhNAnnrqKRERyc7OFqWUxMXFlanvbGHnAenevbuIiDz11FMCyNtvvy0iIp07dxYvLy+XXGdduNf1hff+fE96zOshR3KO1Oj8y7+4XKb8NMXJUmnOVagiBL3umdRhpJIJa9UNI1+d8uHh4QD4+PhgsViq1Y7G+STEJACwJnVNtc/NK8rjYNZBbXzXuAWtTOoga9eu5aWXXuLhhx8GYPjw4WXyreHlf/31Vz7++GO8vb0ZNmwYGzZsYOrUqcydO5eZM2fSuXPnMmHnH3zwQUCHna9PdAjtQFRQFKtTVlf73L2ZexFE20s0bkErkzrI4MGDWbNmDT/99BPjxo1j4sSJFfJHjhzJr7/+yg033MDJkydZsGABf//73/nwww+ZNm0aaWlpOux8A0ApRUJ0AutS11FsKa7WuTqMisad6BD0JjosuvvQ97p6LDuwjAd/eZD5l86nT1Qfh897Zu0zLN2/lMQbEvUKmxqnoEPQazT1mEEtBuGlvKo91LUrw5j5rhWJxh14RJkopRorpRYqpXKVUkeVUg9WUi5WKSV2tglm/jw7eaHuvBaNxtWE+IfQM6JntUKrlFhK2JOxRxvfNW7DUz2TZ4HrgZeAtcBLSil7CzekATfYbNvN9M02ZU6UK5PrIpk1Go+REJPA9pPbycjPcKj84ezDnC4+re0lGrfhKWVyM7BDRKYDD5hpt5QvJCK5IvKxiHyMsdZ7Z2CtiGy1KZYLLAE+McsWuVRyjcYDJEQnIAhrU9c6VH5Xhg6jonEvblcmSqlwIARIMZOSzX27s5x6G0b4l7fKpbcGsoE8pdQbSim716SUmqiU2qCU2pCWllYz4TUaD9G9aXdC/EMcng2flJ6Ej/KhfWh7F0um0Ri4TJkopZLt2TuACeWLmvtK3cpMBXEHkA58ZpP1M0aPZgywAZgMjLNXh4jMEZE4EYmLjIysySVpNB7D28ub+BbxJKYkYpGzTybdlb6LdqHt8PP2c4N0Go1reyZDga52tv8Bp4CWZrkYc78fQCnlq5QKUGVdUC4B2gDviUi+NVFEPhCR90XkK+BFM7mbi67HY9gLOT9hwgSUUpR3cdY0XOJj4jmZf5LdGbvPWnZ3+m5tfNe4FZdFDRaRfZXlKaU+AO5VSj0F9DGT55n7uRg2lfMwehsAd2L0XM5EPDTqWQEsxTDCTzaT19de+rqFs0LO26O4uBgfHx08uj6QEG2EVlmdsrpKRXHy9EmOnz5Op7BO7hJNo/GYAf5x4FPgESAeeFREfrJXUCkVA4wGfhaRPeWy9wD3ArOBUOB+EVlca+mWPgrvjXbuttSxCLzvvvsunTt3Jjg4mPj4eDZt2lQm5LxSqkwP5csvv6R169a0atWKX3/9FYBTp05x6623EhUVRUREBBMnTiQvLw8wlJFSivvuu4+IiAiWLFnCzp07GTVqFE2aNKFNmza8+uqrQMXFul5++WWUUsybNw84s2DXAw88QEhICFdddRU//PADrVq1okWLFnz//fe1/io0Z4gMiqRzWOezxumyhp3XPRONO/GIMhGRLBG5TkSCRKSZiLxgkzdBRJSIbDCPU0TER0QutFPPRBFpJSIBItJeRF5153U4m5UrV3LbbbcRGxvL448/zsmTJxk5cqTdkPNWVqxYwcSJE0lOTmb69OkATJ06lfnz5zNhwgRuv/12/ve///Hkk0+WaWvz5s288MILtG/fnr/97W/s2LGDhx9+mIEDB3L//ffzzTffOCRzbm4u+fn5nH/++Xz55ZdMnDiRhx56iOPHj+sQ9i4gPiaezcc2k1tUuQd8Urq5hon25NK4ET2+YY9Ln/dIs99++y0AP/zwAz/88ENpeosWLQDo0aMH119/fZlzpk+fzkUXXcSzzz7LgQMHAFiyZAnFxcW89NJLpeVs6wN444036NWrF9u3b2fPHqPD98QTT5Tm//jjj/Ts2fOsMnt5efHqq6/y/vvvs2zZMm666SamTJnCSy+9xP79+6tx9RpHGBw9mPe2vcf6I+sZ0dre1CzD+N48uDmhAaHuFU5zTqOVSR3CGidt5syZ9OrVCwCLxUJ2dnal59iGjC8pKSlNb968OfPnzy899vf3L3NedHR0mTYvvvji0qjC1vO9vb0Bw64CkJmZWaH9wMBA/Pz88PX1BSAkJAQAb2/vMvJonEPfqL4E+gSyJnVNpcpkd8ZuuoTpIS6Ne9GxueoQVtvEwoULOXToEOvXr2fKlCkVQs6fPn36rPUcPXqUr7/+moMHD/LFF1/wySef2C3bpUsXOnbsyOrVq9m8eTNJSUm8+eabbNq0iWbNmhEQEMDGjRv59NNPef/99517wZpq4+vty8DmA1mdstruejf5xfnsP7WfTuHa+K5xL1qZ1CGGDRvGe++9R05ODpMnT2bOnDnEx8fbDTlfFa+99hq33347n376Kffddx/r1q0jISHBblkfHx+++uorEhISePbZZ3niiSfIzs6mZ8+e+Pn58fzzz1NUVMTTTz9daR0a95IQk0BKTgoHsw5WyNuXuY8SKdHGd43b0SHoTXRYdPeh73XtOJx9mMu+uIxHBzzKuK5l5+gu2r2I6Wun893Y72jVpJWHJNQ0VHQIeo2mAdGqcStaN25tN4pwUkYSwb7BxDSOsXOmRuM6tDLRaOohCTEJ/H70dwpKCsqkJ6Un0TmsM172Q9RpNC5D/+I0mnrI4JjB5Jfks+nYptI0i1hIykjSM981HkErE42mHhLXLA5fL98yQ10p2SnkFuVq47vGI2hlotHUQ4J8g+jXrF+ZkPTWNUy0MtF4Aq1MNJp6yuDowezN3MvR3KOAYS/xVt56DRONR9DKpA6Rl5fH9OnTSwMpVsV3333H9OnTS0OowJnAi5pzg/iYeIDSwI9J6UnENoklwCfAk2JpzlG0MqlD5OXlMWPGDIeVyYwZM8ooE2dgsVjszqzW1D06hnYkKjCK1SmrAWOYS6/5rvEUOjaXHV747QV2pe9yap1dwrvwyIBHqiwTF2fMBfrll19QSvHYY49RWFjIwoULyc3NZdSoUcyePZtvv/2WN998E4Dhw4cDlFEATzzxBLNnz6Zdu3Z88803NG/enJ07dzJlyhTWr19PWFgYU6dOZdq0aQAopejQoQN9+vTh22+/JTU1ldDQUKdev8b5KKVIiElg+aHlnDx9kqO5R7W9ROMxdM+kDvHcc88B0LVrVxYuXIi/vz8zZ87kiiuuYOrUqSxdupRJkyYxdOhQLrroIsBQHAsXLiytIzc3l+TkZC677DI2bNjA3LlzKS4uPmuY+b179xISEsLMmTMrBIXU1F3iY+LJLsxm0Z5FALpnovEcInLObf3795fy7Nixo0Kau0lLSxNAhg4dKiIicXFxgrHCZOnWuHFjERGZPHmyALJixYrS89u0aSNeXl5y+vRpWbt2rQBy6623yrZt2yrUA8i9994rIiKANG3aVEpKStxynXXhXjcUMvMzpdf7vWTIx0Okx7weciLvhKdF0jRggA1SyXPVI8NcSqlLMdZs7w4oIFJETlRSNhpj3fjhwDHgXyLy4dny6iNll703FL2Pjw9LliwpDQdvsVjslrUSGBhIQEBA6VK8JSUlVYaZt/3s5aU7qvWNEP8QxrQfw5BWQwjzD0MQLGLRM+A1bsdTv7ggYBVQ6TrxNrwFjAD+CRwE3ldKdXAgr97RpEkTvLy82Lt3LwsWLOCKK66guLiY999/n0OHDvH999/z9ttvA5SGpf/8889LF9WqjKrCzGvqNxaxcFXHq3jxtxe5+fubGfftOPZk7MEiFk+LpjnH8NSyvYtEZDKQUlU5pVQ4cAWwXEReAaZjyHxzVXkuFN2l+Pr68tBDD5GZmcn48eNp27YtDz30EL/++iv33HMPS5cuZejQoQCMGzeOLl26MHv2bO67774q660qzLymfpOen87Dqx4mNTcVgNTcVKb8PIX0/HQPS6Y516jr3lyxGMNgVqWTbO7bnSWvAkqpicBEgNatWztfUifx/PPP8/zzZZcNfvHFFyuU69y5Mzt37iyTZusmHBcXV8bDq2vXrixbtsxum7blNPWLwpLCUkViJTU3lcKSQg9JpDlXcVnPRCmVrJQSO9uE2lRr7u09/arKQ0TmiEiciMRFRkbWQgSNpu7g5+1HdHB0mbTo4Gj8vP08JJHmXMWVw1xDga52ti+rOkkp5auUClCGhfkAhnJoaWZbF2nYf5Y8jeacIDwgnFkjZpUqlOjgaGaNmEV4QLiHJdOca7hsmEtEKjWuK6U6YiibFmbSeKXUHhH5FpiLYfc4T0Q2KKWWABcrpe4HxgAW4AMRSa8srxYyV+olpXEOekjNuXgpLzqGdWTB6AUUlhTi5+1HeEC49ubSuB1P2UwSMJSGlVeBXwB7bkmTgHeB54DjwC0isseBvGoREBDAyZMnadq0qVYoLkJEOHnyJAEBOnaUM/FSXkQERnhaDM05jl4D3qSoqIjk5GTy8/M9JNW5QUBAAC1btsTX19fTomg0mmpS1Rrwdd2by234+vrStm1bT4uh0Wg09RI9sKrRaDSaWqOViUaj0WhqjVYmGo1Go6k156QBXimVhhHLq6b0BzY6SZy61FZDb68hX5u722vI1+bu9urTtbUREbuzvs9JZVJblFIiIm7xH3ZnWw29vYZ8be5uryFfm7vbayjXpoe5NBqNRlNrtDLRaDQaTa3RyqRmuHNs0N3jkA25vYZ8be5uryFfm7vbaxDXpm0mGo1Go6k1umei0Wg0mlqjlYlGo9Foao2OzeUgSqky44GuduVTShUC5aMhFoqIv4vaKz/eWSIiLv19KKUOAqXLXrryntq5Ppe1p5Q6BTRxU1sWziwMZ4tLfit22hMRceUie+XbyxeRQCfWb/d/rZQqBrxtsopFpNbRSatoz+nPF3t1uvK5onsmdRfrD9n2B+Hq5fPEpj3vqgo6CU+sn2y9RosL27BVJK42ShZx5pps29rm7IbMB1H5FU2VUsolobbNB3r59ly+foH5klP+/+ejlPrM1W27AZc9V7QycRDzTcGdC2sniYgSES83TWjyAvJw7UO2FKVUkfnR3R4gGeY9dYmyVEoV2BzuBBa58vsTEX/zerywuZci0t9VbZoUV/LZmVifT2V6P0qpbGc1UMn/uuWZ7DK9rqtc1J5Lni+V1Omy54oe5qqjiEg362fzDc3VZALBNsclrmpIKTWDM789wf4wjasIN7v/rhqesf1PdQW6unGGs/V6XPLSIyJ+NsNOvmeSpZEr2rPBOjxjxdW9k/LflfU3Wu9XzXPlc0X3TOo45p/I+hZ92oVNbcHolbhjmOsJc287jIFSKseFbVqHtmyHZwqqKO8MSnt5SimXKWez/tJrcaFdLYcz35flTLJy1e/yL5vPejU1J+KK54pWJnWYcsayQhEJclVbIjJURLzLDSe46uFufSD5UPZtL9hOWadgHdoq1xtxRc+8VIGYQ2mlyssFbdliHfd25TCl9fcn5a7NJbY8EekAPI3x0mH7Fn3MFe3ZNl3uuLzdpl7jqueKHuZyEPPN0vYt2oLh4eGSP5Jp1CwdSgB8lVIWVwzNmNdmHXO3feg1dnZbJkWceSuyHT5wyXCeaZ/xoeLDwBXDQX6YD/RynkiuHDbcYXP4rKvawbgub6PJMtfmEgVmGryvodzvUkRaVnpS9duw97+2/h+s12nlCxe1Z/Ucc+rzpZK2rN8hOPm5onsmjuNF2QetwrXK2LZbr8ClY7b23p5LxEXhEUTEz+wl2L7d4gzXy0qwGvtt76HFmS6mVsx7ZlWKyibZlcM0XWzaecpVjZiu4uV/K668NquStP1d7nNyG/b+196cUf6lLwMicq2L2vOpIt3ZbXmVO3bac0WHU9FoNBpNrdE9E41Go9HUGq1MNBqNRlNrtDLRaDQaTa3RykSj0Wg0tUYrE41Go9HUGq1MNBonopSKVUqJuT1uk/6uNb0WdXdTSk1XSg2zSZtn1htXO8k1mtqhlYlG4zpuUQbBgDPmKHQDngKGOaEujcapaGWi0biGv4B2GA/+6zAmoaaAMa1aKfUvpdRBpVS2UmqFUqq7mTfd7Gm8oZTarZRKU0pdq5SKBawh0J8yywyzaW+sUuqQUuqwUuoC91yiRnMGrUw0GtewE1gP3GpuizEiMwPcghH25A/gX8B5wFdKKduZ5BcCbwIhwPNAGvCambcIuIEzM8QBhgNzMMKnT3fupWg0Z0crE43GdbyLMbyVALxnk36Zub9fRGYBXwHtgU42ZV4Rkf9g9HBiRSQXSDTztonIxyJy3Kb8dBF5FigAYp1+JRrNWdDKRKNxHR9jxHhKBn60k1+VMT7d3Bdjs0iUg+XdsUqmRlMGrUw0GhchIlkYQ1x3ioht9Nlvzf0rSql7gSsxAhjuPkuVGeb+AqXU9Uoppweq1Ghqig5Br9G4EBH5xE7yPCAGuAMYAfwO3CMiRUpVGcB1NfATMMQ8r5VThdVoaoGOGqzRaDSaWqOHuTQajUZTa7Qy0Wg0Gk2t0cpEo9FoNLVGKxONRqPR1BqtTDQajUZTa7Qy0Wg0Gk2t0cpEo9FoNLXm/wG0omp7wWGfrAAAAABJRU5ErkJggg==\n",
      "text/plain": [
       "<Figure size 432x288 with 1 Axes>"
      ]
     },
     "metadata": {
      "needs_background": "light"
     },
     "output_type": "display_data"
    }
   ],
   "source": [
    "#plots of sentiment per year\n",
    "news_2017 = sentiment_of_popular_cryptos_during_a_particular_year(2017)\n",
    "news_2018 = sentiment_of_popular_cryptos_during_a_particular_year(2018)\n"
   ]
  },
  {
   "cell_type": "markdown",
   "id": "ff7d4318",
   "metadata": {},
   "source": [
    "ML:\n",
    "\n",
    "From our sentiment analysis done on 2017, we can see that public sentiment for Bitcoin has dropped sharply from overwhelmingly positive from August to September. However, from our price graphs, the price of bitcoin increased against our expectations."
   ]
  },
  {
   "cell_type": "code",
   "execution_count": 57,
   "id": "8896cab4",
   "metadata": {},
   "outputs": [],
   "source": [
    "#plotting price and sentiment in a single plot for bitcoin\n",
    "def sentiment_price_of_popular_cryptos_during_a_particular_year(year):\n",
    "    popular_cryptos2 = ['bitcoin']\n",
    "    news_of_popular_cryptos2 = news[news['crypto'].isin(popular_cryptos2)]\n",
    "    news_year = news_of_popular_cryptos2[(news_of_popular_cryptos2['Year']==year)]\n",
    "    prices_of_popular_cryptos = crypto_prices_df[crypto_prices_df['currency'].isin(popular_cryptos2)]\n",
    "    price_year = prices_of_popular_cryptos[(prices_of_popular_cryptos['Year']==year)]\n",
    "    fig, (ax1,ax2) = plt.subplots(nrows=2, sharex=True, subplot_kw=dict(frameon=False)) # frameon=False removes frames\n",
    "    plt.subplots_adjust(hspace=.0)\n",
    "    plt.title('Fluctuations in price and sentiment for year ' + str(year) , y= 2.2)\n",
    "    ax1.grid()\n",
    "    ax2.grid()\n",
    "    ax1.plot(news_year['Month'], news_year['comp_score'], color='r',label ='sentiment')\n",
    "    ax2.plot(price_year['Month'], price_year['price'], color='b', linestyle='--',label ='price')\n",
    "    ax1.legend(bbox_to_anchor =(1.1, 0.8))\n",
    "    ax2.legend(bbox_to_anchor =(1.32, 1.6))\n",
    "    plt.show()\n",
    "    "
   ]
  },
  {
   "cell_type": "code",
   "execution_count": 58,
   "id": "770a307d",
   "metadata": {},
   "outputs": [
    {
     "data": {
      "image/png": "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\n",
      "text/plain": [
       "<Figure size 432x288 with 2 Axes>"
      ]
     },
     "metadata": {
      "needs_background": "light"
     },
     "output_type": "display_data"
    },
    {
     "data": {
      "image/png": "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\n",
      "text/plain": [
       "<Figure size 432x288 with 2 Axes>"
      ]
     },
     "metadata": {
      "needs_background": "light"
     },
     "output_type": "display_data"
    }
   ],
   "source": [
    "price_sentiment_2017 = sentiment_price_of_popular_cryptos_during_a_particular_year(2017)\n",
    "price_sentiment_2017 = sentiment_price_of_popular_cryptos_during_a_particular_year(2018)"
   ]
  },
  {
   "cell_type": "code",
   "execution_count": 60,
   "id": "d2f7ae15",
   "metadata": {},
   "outputs": [
    {
     "data": {
      "text/html": [
       "<div>\n",
       "<style scoped>\n",
       "    .dataframe tbody tr th:only-of-type {\n",
       "        vertical-align: middle;\n",
       "    }\n",
       "\n",
       "    .dataframe tbody tr th {\n",
       "        vertical-align: top;\n",
       "    }\n",
       "\n",
       "    .dataframe thead th {\n",
       "        text-align: right;\n",
       "    }\n",
       "</style>\n",
       "<table border=\"1\" class=\"dataframe\">\n",
       "  <thead>\n",
       "    <tr style=\"text-align: right;\">\n",
       "      <th></th>\n",
       "      <th>Date_extracted</th>\n",
       "      <th>price_raise/drop</th>\n",
       "    </tr>\n",
       "  </thead>\n",
       "  <tbody>\n",
       "    <tr>\n",
       "      <th>0</th>\n",
       "      <td>2015-01-01</td>\n",
       "      <td>1</td>\n",
       "    </tr>\n",
       "    <tr>\n",
       "      <th>1</th>\n",
       "      <td>2015-01-02</td>\n",
       "      <td>-1</td>\n",
       "    </tr>\n",
       "    <tr>\n",
       "      <th>2</th>\n",
       "      <td>2015-01-03</td>\n",
       "      <td>1</td>\n",
       "    </tr>\n",
       "    <tr>\n",
       "      <th>3</th>\n",
       "      <td>2015-01-04</td>\n",
       "      <td>1</td>\n",
       "    </tr>\n",
       "    <tr>\n",
       "      <th>4</th>\n",
       "      <td>2015-01-05</td>\n",
       "      <td>1</td>\n",
       "    </tr>\n",
       "    <tr>\n",
       "      <th>...</th>\n",
       "      <td>...</td>\n",
       "      <td>...</td>\n",
       "    </tr>\n",
       "    <tr>\n",
       "      <th>1132</th>\n",
       "      <td>2018-02-06</td>\n",
       "      <td>-1</td>\n",
       "    </tr>\n",
       "    <tr>\n",
       "      <th>1133</th>\n",
       "      <td>2018-02-07</td>\n",
       "      <td>1</td>\n",
       "    </tr>\n",
       "    <tr>\n",
       "      <th>1134</th>\n",
       "      <td>2018-02-08</td>\n",
       "      <td>-1</td>\n",
       "    </tr>\n",
       "    <tr>\n",
       "      <th>1135</th>\n",
       "      <td>2018-02-09</td>\n",
       "      <td>-1</td>\n",
       "    </tr>\n",
       "    <tr>\n",
       "      <th>1136</th>\n",
       "      <td>2018-02-10</td>\n",
       "      <td>-1</td>\n",
       "    </tr>\n",
       "  </tbody>\n",
       "</table>\n",
       "<p>1137 rows × 2 columns</p>\n",
       "</div>"
      ],
      "text/plain": [
       "     Date_extracted  price_raise/drop\n",
       "0        2015-01-01                 1\n",
       "1        2015-01-02                -1\n",
       "2        2015-01-03                 1\n",
       "3        2015-01-04                 1\n",
       "4        2015-01-05                 1\n",
       "...             ...               ...\n",
       "1132     2018-02-06                -1\n",
       "1133     2018-02-07                 1\n",
       "1134     2018-02-08                -1\n",
       "1135     2018-02-09                -1\n",
       "1136     2018-02-10                -1\n",
       "\n",
       "[1137 rows x 2 columns]"
      ]
     },
     "execution_count": 60,
     "metadata": {},
     "output_type": "execute_result"
    }
   ],
   "source": [
    "#label creation depending on price variation\n",
    "crypto_prices_df[\"Date_extracted\"] = crypto_prices_df[\"date\"].dt.date\n",
    "crypto_prices_df = crypto_prices_df.sort_values('Date_extracted')\n",
    "crypto_prices_df['price_variation'] = crypto_prices_df['price'].diff()\n",
    "crypto_prices_df['price_raise/drop'] = np.where(crypto_prices_df['price_variation']>0, 1, -1)\n",
    "crypto_prices_df = crypto_prices_df.groupby(['Date_extracted'])['price_raise/drop'].sum().reset_index()\n",
    "crypto_prices_df['price_raise/drop'] = np.where(crypto_prices_df['price_raise/drop']>0,1,-1)\n",
    "crypto_prices_df"
   ]
  },
  {
   "cell_type": "markdown",
   "id": "69f87a2a",
   "metadata": {},
   "source": [
    "ML:\n",
    "\n",
    "From the public sentiment, we can then add a label of whether or not the cryptocurrency price increased (+1) or decreased (-1) the next day. This will be our truth values for our machine learning model as our goal is to predict whether or not the price will increased based on public sentiment. We take a further at Bitcoin, which is by far the most valuable and most well-known coin. The ML model can be extended to the other coins fairly easily. "
   ]
  },
  {
   "cell_type": "code",
   "execution_count": 61,
   "id": "c95bcf3a",
   "metadata": {},
   "outputs": [
    {
     "data": {
      "text/html": [
       "<div>\n",
       "<style scoped>\n",
       "    .dataframe tbody tr th:only-of-type {\n",
       "        vertical-align: middle;\n",
       "    }\n",
       "\n",
       "    .dataframe tbody tr th {\n",
       "        vertical-align: top;\n",
       "    }\n",
       "\n",
       "    .dataframe thead th {\n",
       "        text-align: right;\n",
       "    }\n",
       "</style>\n",
       "<table border=\"1\" class=\"dataframe\">\n",
       "  <thead>\n",
       "    <tr style=\"text-align: right;\">\n",
       "      <th></th>\n",
       "      <th>Date_extracted</th>\n",
       "      <th>comp_score</th>\n",
       "    </tr>\n",
       "  </thead>\n",
       "  <tbody>\n",
       "    <tr>\n",
       "      <th>0</th>\n",
       "      <td>2017-02-13</td>\n",
       "      <td>1</td>\n",
       "    </tr>\n",
       "    <tr>\n",
       "      <th>1</th>\n",
       "      <td>2017-02-20</td>\n",
       "      <td>1</td>\n",
       "    </tr>\n",
       "    <tr>\n",
       "      <th>2</th>\n",
       "      <td>2017-06-15</td>\n",
       "      <td>1</td>\n",
       "    </tr>\n",
       "    <tr>\n",
       "      <th>3</th>\n",
       "      <td>2017-07-26</td>\n",
       "      <td>1</td>\n",
       "    </tr>\n",
       "    <tr>\n",
       "      <th>4</th>\n",
       "      <td>2017-08-15</td>\n",
       "      <td>1</td>\n",
       "    </tr>\n",
       "    <tr>\n",
       "      <th>...</th>\n",
       "      <td>...</td>\n",
       "      <td>...</td>\n",
       "    </tr>\n",
       "    <tr>\n",
       "      <th>469</th>\n",
       "      <td>2018-12-27</td>\n",
       "      <td>-1</td>\n",
       "    </tr>\n",
       "    <tr>\n",
       "      <th>470</th>\n",
       "      <td>2018-12-28</td>\n",
       "      <td>-1</td>\n",
       "    </tr>\n",
       "    <tr>\n",
       "      <th>471</th>\n",
       "      <td>2018-12-29</td>\n",
       "      <td>1</td>\n",
       "    </tr>\n",
       "    <tr>\n",
       "      <th>472</th>\n",
       "      <td>2018-12-30</td>\n",
       "      <td>1</td>\n",
       "    </tr>\n",
       "    <tr>\n",
       "      <th>473</th>\n",
       "      <td>2018-12-31</td>\n",
       "      <td>1</td>\n",
       "    </tr>\n",
       "  </tbody>\n",
       "</table>\n",
       "<p>474 rows × 2 columns</p>\n",
       "</div>"
      ],
      "text/plain": [
       "    Date_extracted  comp_score\n",
       "0       2017-02-13           1\n",
       "1       2017-02-20           1\n",
       "2       2017-06-15           1\n",
       "3       2017-07-26           1\n",
       "4       2017-08-15           1\n",
       "..             ...         ...\n",
       "469     2018-12-27          -1\n",
       "470     2018-12-28          -1\n",
       "471     2018-12-29           1\n",
       "472     2018-12-30           1\n",
       "473     2018-12-31           1\n",
       "\n",
       "[474 rows x 2 columns]"
      ]
     },
     "execution_count": 61,
     "metadata": {},
     "output_type": "execute_result"
    }
   ],
   "source": [
    "#Bitcoin \n",
    "news_bitcoin = news[news['crypto']=='bitcoin']\n",
    "news_bitcoin = news_bitcoin.groupby(['Date_extracted'])['comp_score'].sum().reset_index()\n",
    "news_bitcoin['comp_score'] = np.where(news_bitcoin['comp_score']>0,1,-1)\n",
    "news_bitcoin"
   ]
  },
  {
   "cell_type": "code",
   "execution_count": 62,
   "id": "5e5cefad",
   "metadata": {},
   "outputs": [
    {
     "data": {
      "text/html": [
       "<div>\n",
       "<style scoped>\n",
       "    .dataframe tbody tr th:only-of-type {\n",
       "        vertical-align: middle;\n",
       "    }\n",
       "\n",
       "    .dataframe tbody tr th {\n",
       "        vertical-align: top;\n",
       "    }\n",
       "\n",
       "    .dataframe thead th {\n",
       "        text-align: right;\n",
       "    }\n",
       "</style>\n",
       "<table border=\"1\" class=\"dataframe\">\n",
       "  <thead>\n",
       "    <tr style=\"text-align: right;\">\n",
       "      <th></th>\n",
       "      <th>Date_extracted</th>\n",
       "      <th>comp_score</th>\n",
       "      <th>price_raise/drop</th>\n",
       "    </tr>\n",
       "  </thead>\n",
       "  <tbody>\n",
       "    <tr>\n",
       "      <th>0</th>\n",
       "      <td>2017-02-13</td>\n",
       "      <td>1</td>\n",
       "      <td>-1</td>\n",
       "    </tr>\n",
       "    <tr>\n",
       "      <th>1</th>\n",
       "      <td>2017-02-20</td>\n",
       "      <td>1</td>\n",
       "      <td>1</td>\n",
       "    </tr>\n",
       "    <tr>\n",
       "      <th>2</th>\n",
       "      <td>2017-06-15</td>\n",
       "      <td>1</td>\n",
       "      <td>1</td>\n",
       "    </tr>\n",
       "    <tr>\n",
       "      <th>3</th>\n",
       "      <td>2017-07-26</td>\n",
       "      <td>1</td>\n",
       "      <td>-1</td>\n",
       "    </tr>\n",
       "    <tr>\n",
       "      <th>4</th>\n",
       "      <td>2017-08-15</td>\n",
       "      <td>1</td>\n",
       "      <td>1</td>\n",
       "    </tr>\n",
       "    <tr>\n",
       "      <th>...</th>\n",
       "      <td>...</td>\n",
       "      <td>...</td>\n",
       "      <td>...</td>\n",
       "    </tr>\n",
       "    <tr>\n",
       "      <th>145</th>\n",
       "      <td>2018-02-06</td>\n",
       "      <td>1</td>\n",
       "      <td>-1</td>\n",
       "    </tr>\n",
       "    <tr>\n",
       "      <th>146</th>\n",
       "      <td>2018-02-07</td>\n",
       "      <td>1</td>\n",
       "      <td>1</td>\n",
       "    </tr>\n",
       "    <tr>\n",
       "      <th>147</th>\n",
       "      <td>2018-02-08</td>\n",
       "      <td>1</td>\n",
       "      <td>-1</td>\n",
       "    </tr>\n",
       "    <tr>\n",
       "      <th>148</th>\n",
       "      <td>2018-02-09</td>\n",
       "      <td>1</td>\n",
       "      <td>-1</td>\n",
       "    </tr>\n",
       "    <tr>\n",
       "      <th>149</th>\n",
       "      <td>2018-02-10</td>\n",
       "      <td>1</td>\n",
       "      <td>-1</td>\n",
       "    </tr>\n",
       "  </tbody>\n",
       "</table>\n",
       "<p>150 rows × 3 columns</p>\n",
       "</div>"
      ],
      "text/plain": [
       "    Date_extracted  comp_score  price_raise/drop\n",
       "0       2017-02-13           1                -1\n",
       "1       2017-02-20           1                 1\n",
       "2       2017-06-15           1                 1\n",
       "3       2017-07-26           1                -1\n",
       "4       2017-08-15           1                 1\n",
       "..             ...         ...               ...\n",
       "145     2018-02-06           1                -1\n",
       "146     2018-02-07           1                 1\n",
       "147     2018-02-08           1                -1\n",
       "148     2018-02-09           1                -1\n",
       "149     2018-02-10           1                -1\n",
       "\n",
       "[150 rows x 3 columns]"
      ]
     },
     "execution_count": 62,
     "metadata": {},
     "output_type": "execute_result"
    }
   ],
   "source": [
    "#combining price and sentiment for bitcoin\n",
    "bitcoin_price_sentiment = news_bitcoin.merge(crypto_prices_df, on = 'Date_extracted',how = 'inner')\n",
    "bitcoin_price_sentiment"
   ]
  },
  {
   "cell_type": "code",
   "execution_count": 235,
   "id": "45da10e5",
   "metadata": {},
   "outputs": [],
   "source": [
    "#train and test split\n",
    "x_train, x_test, y_train, y_test= train_test_split(bitcoin_price_sentiment['comp_score'], bitcoin_price_sentiment['price_raise/drop'])"
   ]
  },
  {
   "cell_type": "code",
   "execution_count": 236,
   "id": "f7fa0e82",
   "metadata": {},
   "outputs": [],
   "source": [
    "# train and validation split\n",
    "x_train, x_val, y_train, y_val  = train_test_split(x_train, y_train, test_size=0.25, random_state=1)"
   ]
  },
  {
   "cell_type": "code",
   "execution_count": 237,
   "id": "d341f9f8",
   "metadata": {},
   "outputs": [
    {
     "data": {
      "text/plain": [
       "0.4880952380952381"
      ]
     },
     "execution_count": 237,
     "metadata": {},
     "output_type": "execute_result"
    }
   ],
   "source": [
    "#baseline ML model \n",
    "class Bitcoin_label_baseline():\n",
    "    def _init_(self):\n",
    "        self.mode_value = 0 \n",
    "    def fit(self, X, y):\n",
    "        index = (crypto_prices_df['price_raise/drop']).max()\n",
    "        self.mode_value = index\n",
    "    def predict(self, X):\n",
    "        length = X.size\n",
    "        y_predict = np.empty(length,dtype=int)\n",
    "        for i in range(length):\n",
    "            y_predict[i] = self.mode_value\n",
    "        return y_predict\n",
    "baselineClf = Bitcoin_label_baseline()\n",
    "baselineClf.fit(x_train,y_train)\n",
    "y_predict = baselineClf.predict(x_train)\n",
    "sklearn.metrics.accuracy_score(y_train,y_predict)"
   ]
  },
  {
   "cell_type": "code",
   "execution_count": 212,
   "id": "d72e1e85",
   "metadata": {},
   "outputs": [],
   "source": [
    "#converting data in a format compatible with svm\n",
    "def data_svmReliable_conversion(z):\n",
    "    z= z.values\n",
    "    return z.reshape(-1, 1)\n"
   ]
  },
  {
   "cell_type": "code",
   "execution_count": 213,
   "id": "dabf5a2d",
   "metadata": {},
   "outputs": [],
   "source": [
    "# learning the classifier\n",
    "def learn_classifier(X_train, y_train, kernel):\n",
    "    classifier = sklearn.svm.SVC(kernel = kernel)\n",
    "    return classifier.fit(X_train,y_train)"
   ]
  },
  {
   "cell_type": "code",
   "execution_count": 214,
   "id": "9d0aa0ea",
   "metadata": {},
   "outputs": [],
   "source": [
    "#evaluate the classifier\n",
    "def evaluate_classifier(classifier, X_validation, y_validation):\n",
    "    return sklearn.metrics.accuracy_score(y_validation , classifier.predict(X_validation))"
   ]
  },
  {
   "cell_type": "code",
   "execution_count": 224,
   "id": "96242b82",
   "metadata": {},
   "outputs": [
    {
     "name": "stderr",
     "output_type": "stream",
     "text": [
      "C:\\Users\\vbatch2\\Anaconda3\\envs\\cs418env\\lib\\site-packages\\sklearn\\utils\\validation.py:993: DataConversionWarning: A column-vector y was passed when a 1d array was expected. Please change the shape of y to (n_samples, ), for example using ravel().\n",
      "  y = column_or_1d(y, warn=True)\n"
     ]
    }
   ],
   "source": [
    "#calling classifier\n",
    "classifier = learn_classifier(data_svmReliable_conversion(x_train), data_svmReliable_conversion(y_train), 'linear')"
   ]
  },
  {
   "cell_type": "code",
   "execution_count": 238,
   "id": "0e375358",
   "metadata": {},
   "outputs": [
    {
     "data": {
      "text/plain": [
       "0.5357142857142857"
      ]
     },
     "execution_count": 238,
     "metadata": {},
     "output_type": "execute_result"
    }
   ],
   "source": [
    "#calculating accuracy of learned classifier with validation data\n",
    "accuracy = evaluate_classifier(classifier, data_svmReliable_conversion(x_val), data_svmReliable_conversion(y_val))\n",
    "accuracy"
   ]
  },
  {
   "cell_type": "code",
   "execution_count": 215,
   "id": "06598a94",
   "metadata": {},
   "outputs": [
    {
     "data": {
      "text/plain": [
       "KFold(n_splits=4, random_state=1, shuffle=True)"
      ]
     },
     "execution_count": 215,
     "metadata": {},
     "output_type": "execute_result"
    }
   ],
   "source": [
    "kf = sklearn.model_selection.KFold(n_splits=4, random_state=1, shuffle=True)\n",
    "kf"
   ]
  },
  {
   "cell_type": "code",
   "execution_count": 229,
   "id": "fade700a",
   "metadata": {},
   "outputs": [],
   "source": [
    "#finding the best kernel for svm\n",
    "def best_model_selection(kf, X, y):\n",
    "    scores = []\n",
    "    dict = {}\n",
    "    for kernel in ['linear', 'rbf', 'poly', 'sigmoid']:\n",
    "        for train_index, test_index in kf.split(X):\n",
    "            X_train, X_test, y_train, y_test = X[train_index], X[test_index], y[train_index], y[test_index]\n",
    "            classifier = learn_classifier(X_train,y_train,kernel)\n",
    "            scores.append(evaluate_classifier(classifier, X_test, y_test))\n",
    "        dict[kernel] = np.mean(scores)\n",
    "        scores = []\n",
    "    return max(dict , key = dict.get)\n"
   ]
  },
  {
   "cell_type": "code",
   "execution_count": 233,
   "id": "fa9e58b3",
   "metadata": {},
   "outputs": [],
   "source": [
    "#prediction on test data\n",
    "def classify(classifier, x_test):\n",
    "    return classifier.predict(x_test)"
   ]
  },
  {
   "cell_type": "code",
   "execution_count": 234,
   "id": "77694dab",
   "metadata": {},
   "outputs": [
    {
     "name": "stderr",
     "output_type": "stream",
     "text": [
      "C:\\Users\\vbatch2\\Anaconda3\\envs\\cs418env\\lib\\site-packages\\sklearn\\utils\\validation.py:993: DataConversionWarning: A column-vector y was passed when a 1d array was expected. Please change the shape of y to (n_samples, ), for example using ravel().\n",
      "  y = column_or_1d(y, warn=True)\n"
     ]
    },
    {
     "data": {
      "text/plain": [
       "array([1, 1, 1, 1, 1, 1, 1, 1, 1, 1, 1, 1, 1, 1, 1, 1, 1, 1, 1, 1, 1, 1,\n",
       "       1, 1, 1, 1, 1, 1, 1, 1, 1, 1, 1, 1, 1, 1, 1, 1])"
      ]
     },
     "execution_count": 234,
     "metadata": {},
     "output_type": "execute_result"
    }
   ],
   "source": [
    "#predicting \n",
    "classifier = learn_classifier(data_svmReliable_conversion(x_train), data_svmReliable_conversion(y_train), best_kernel)\n",
    "y_pred = classify(classifier, data_svmReliable_conversion(x_test))\n",
    "y_pred"
   ]
  },
  {
   "cell_type": "markdown",
   "id": "1aa18f95",
   "metadata": {},
   "source": [
    "Different Approach To Calculate Sentiments and Find Relation Between Sentiments and Price"
   ]
  },
  {
<<<<<<< HEAD
   "cell_type": "code",
   "execution_count": null,
   "id": "aa3fc741",
=======
   "cell_type": "markdown",
   "id": "e00adc61",
>>>>>>> 0697b4d41ce57292a7bc5b4ad637a12c7b1d3c0d
   "metadata": {},
   "source": [
    "Selecting All Currencies Table and Converting Columns to Float type and Sorting it according to Market Cap in Descending Order to find Currency with highest Market Cap."
   ]
  },
  {
   "cell_type": "code",
   "execution_count": null,
   "id": "1e10e1f7",
   "metadata": {},
   "outputs": [],
   "source": [
    "currency = pd.read_csv(\"chasewillden-cryptocurrency-price-by-date-2013-february-2018/All Currencies Table.csv\")\n",
    "#currency.head\n",
    "currency = currency.dropna()\n",
    "\n",
    "#Market Cap is total values of coins mined.\n",
    "#Circulating Supply is total coins actively available for trading\n",
    "#Volume is how many times a coin changes its hand in given time frame.\n",
    "\n",
    "currency['Market Cap'] = currency['Market Cap'].astype(float)\n",
    "currency['Price'] = currency['Price'].astype(float)\n",
    "currency['Circulating Supply'] = currency['Circulating Supply'].astype(float)\n",
    "currency['Volume (24hr)'] = currency['Volume (24hr)'].astype(float)\n",
    "\n",
    "currency = currency.sort_values(by=['Market Cap'], ascending=False)\n",
    "currency.head(10)"
   ]
  },
  {
   "cell_type": "markdown",
   "id": "51c1f38b",
   "metadata": {},
   "source": [
    "Taking News and Bitcoin Talk dataset and Selecting Bitcoin Mentions Since Bitcoin has Largest Market Cap."
   ]
  },
  {
   "cell_type": "code",
<<<<<<< HEAD
   "execution_count": null,
   "id": "28a381be",
=======
   "execution_count": 7,
   "id": "aa3fc741",
>>>>>>> 0697b4d41ce57292a7bc5b4ad637a12c7b1d3c0d
   "metadata": {},
   "outputs": [],
   "source": [
    "btc = pd.read_json(\"cryptodata/news.json\")\n",
    "\n",
    "#First Data Set\n",
    "btc = btc[btc[\"text\"].str.contains(\"Bitcoin | BTC\") == True]\n",
    "\n",
    "#second data Set\n",
    "bitcoinTalk = pd.read_json(\"cryptodata/bitcointalk.json\")\n",
    "bitcoin = bitcoinTalk[bitcoinTalk[\"text\"].str.contains(\"Bitcoin | BTC\") == True]\n",
    "#bitcoin"
   ]
  },
  {
   "cell_type": "code",
   "execution_count": null,
   "id": "d1b235f6",
   "metadata": {},
   "outputs": [],
   "source": [
    "reddit = pd.read_json(\"cryptodata/reddit.json\")\n",
    "reddit = reddit[reddit[\"text\"].str.contains(\"Bitcoin | BTC\") == True]\n",
    "reddit"
   ]
  },
  {
   "cell_type": "code",
   "execution_count": null,
   "id": "d8a6b67c",
   "metadata": {},
   "outputs": [],
   "source": [
    "type(\"btc.date\")"
   ]
  },
  {
   "cell_type": "code",
   "execution_count": null,
   "id": "245bc554",
   "metadata": {},
   "outputs": [],
   "source": [
    "#Clean the text\n",
    "def cleanTxt(text):\n",
    "    text = re.sub(r'@[A-Za-z0-9]+', '', text) #Removes @mentions\n",
    "    text = re.sub(r'#', '', text) #Removes the hashtags\n",
    "    text = re.sub(r'RT[\\s]+','',text) #Removes RT \n",
    "    text = re.sub(r'https?:\\/\\/\\S+','', text) #Removes hyperlinks\n",
    "\n",
    "    return text\n",
    "\n",
    "#clean text\n",
    "#btc\n",
    "\n",
    "#Function to get subjectivity\n",
    "def getSubjectivity(text):\n",
    "    return TextBlob(text).sentiment.subjectivity\n",
    "\n",
    "#Function to get Polarity\n",
    "def getPolarity(text):\n",
    "    return TextBlob(text).sentiment.polarity\n",
    "\n",
    "\n",
<<<<<<< HEAD
    "btc\n"
   ]
  },
  {
   "cell_type": "code",
   "execution_count": null,
   "id": "501f08fc",
   "metadata": {},
   "outputs": [],
   "source": [
=======
>>>>>>> 0697b4d41ce57292a7bc5b4ad637a12c7b1d3c0d
    "#Function to label the negative, neutral and positive analytics\n",
    "def getAnalysis(score):\n",
    "    if score < 0:\n",
    "        return 'Negative'\n",
    "    elif score == 0:\n",
    "        return 'Neutral'\n",
    "    else:\n",
    "        return 'Positive'\n",
    "\n",
    "#def plotSentiment(btc):"
   ]
  },
  {
   "cell_type": "code",
   "execution_count": null,
<<<<<<< HEAD
   "id": "4cbc1b9f",
=======
   "id": "97d6777b",
>>>>>>> 0697b4d41ce57292a7bc5b4ad637a12c7b1d3c0d
   "metadata": {},
   "outputs": [],
   "source": [
    "# All Functions \n",
    "def All_Functions(btc):\n",
    "    \n",
    "    #Cleaning the text\n",
    "    btc['text'] = btc['text'].apply(cleanTxt)\n",
    "    # Create Subjectivity and Polarity Columns\n",
    "    btc['Subjectivity'] = btc['text'].apply(getSubjectivity)\n",
    "    btc['Polarity'] = btc['text'].apply(getPolarity)\n",
    "    btc['Analysis'] = btc['Polarity'].apply(getAnalysis)\n",
    "    #plotSentiment(btc)\n",
    "    return btc\n",
    "    \n",
    "btc = All_Functions(btc)\n",
    "#btc"
   ]
  },
  {
   "cell_type": "markdown",
   "id": "42f2c1fd",
   "metadata": {},
   "source": [
    "Plotting Sentiment Vs Polarity"
   ]
  },
  {
   "cell_type": "code",
   "execution_count": null,
<<<<<<< HEAD
   "id": "c879a407",
   "metadata": {},
   "outputs": [],
=======
   "id": "b95bf09c",
   "metadata": {},
   "outputs": [],
   "source": [
    "# Plot the polarity and subjectivity\n",
    "plt.figure(figsize=(12,8))\n",
    "#for i in range(0, btc.shape[0]):\n",
    "#plt.scatter(btc['Polarity'][i], btc['Subjectivity'][i], color='Blue')\n",
    "\n",
    "plt.scatter(btc['Polarity'], btc['Subjectivity'], color='Blue')\n",
    "\n",
    "plt.title('Sentiment Analysis')\n",
    "plt.xlabel('Polarity')\n",
    "plt.ylabel('Subjectivity')\n",
    "plt.show()\n",
    "\n",
    "#Percentage of positive tweets\n",
    "ptweets = btc[btc.Analysis == 'Positive']\n",
    "ptweets = ptweets['text']\n",
    "        \n",
    "ptext = round( (ptweets.shape[0] / btc.shape[0])*100, 1)\n",
    "#print(ptext)\n",
    "    \n",
    "#Percentage of negative tweets\n",
    "ntweets = btc[btc.Analysis == 'Negative']\n",
    "ntweets = ntweets['text']\n",
    "\n",
    "ntext = round((ntweets.shape[0] / btc.shape[0])*100, 1)\n",
    "#print(ntext)\n",
    "   \n",
    "#plotSentiment(btc)"
   ]
  },
  {
   "cell_type": "code",
   "execution_count": null,
   "id": "d463415c",
   "metadata": {},
   "outputs": [],
>>>>>>> 0697b4d41ce57292a7bc5b4ad637a12c7b1d3c0d
   "source": [
    "# Show the value counts\n",
    "btc['Analysis'].value_counts()\n",
    "\n",
    "# Plot and visualize the counts \n",
    "plt.title('Sentiment Analysis')\n",
    "plt.xlabel('Sentiment')\n",
    "plt.ylabel('Counts')\n",
    "btc['Analysis'].value_counts().plot(kind='bar')\n",
    "plt.show()"
   ]
  },
  {
   "cell_type": "code",
   "execution_count": null,
   "id": "f6d38d20",
   "metadata": {},
   "outputs": [],
   "source": [
    "# For Only 2017\n",
    "\n",
    "start_date = '01-01-2017'\n",
    "end_date = '31-12-2017'\n",
    "btc_17 = (btc['date'] > start_date) & (btc['date'] <= end_date)\n",
    "btc_2017 = btc.loc[btc_17]\n",
    "btc_2017"
   ]
  },
  {
   "cell_type": "code",
   "execution_count": null,
   "id": "ea89b2fd",
   "metadata": {},
   "outputs": [],
   "source": [
    "plotSentiment(btc_2017)"
   ]
  },
  {
   "cell_type": "code",
   "execution_count": null,
   "id": "329a949c",
   "metadata": {},
   "outputs": [],
   "source": [
    "btc_2017['Analysis'].value_counts()\n",
    "# Count of Positive, Negative and Neutral Tweets\n",
    "print(\"Sentiment Count\", btc_2017['Analysis'].value_counts())\n",
    "# Plot and visualize the counts \n",
    "plt.title('Sentiment Analysis')\n",
    "plt.xlabel('Sentiment')\n",
    "plt.ylabel('Counts')\n",
    "btc_2017['Analysis'].value_counts().plot(kind='bar')\n",
    "plt.show() "
   ]
  },
  {
   "cell_type": "code",
   "execution_count": null,
   "id": "cf25a878",
   "metadata": {},
   "outputs": [],
   "source": [
    "Pbtc = btc_2017['Analysis'].value_counts().Positive\n",
    "Nbtc = btc_2017['Analysis'].value_counts().Negative"
   ]
  },
  {
   "cell_type": "code",
   "execution_count": null,
   "id": "6d374d43",
   "metadata": {},
   "outputs": [],
   "source": [
    "Pbtc"
   ]
  },
  {
   "cell_type": "code",
   "execution_count": null,
   "id": "160ab452",
   "metadata": {},
   "outputs": [],
   "source": [
    "bitcoin"
   ]
  },
  {
   "cell_type": "markdown",
   "id": "a22583ae",
   "metadata": {},
   "source": [
    "Same Process On Bitcoin Talk To get Positive and Negative Count For 2017\n",
    "\n",
    "Note : It takes alot of time (around 10 mins) as it has almost 5 lakh data "
   ]
  },
  {
   "cell_type": "code",
   "execution_count": null,
   "id": "72e02760",
   "metadata": {},
   "outputs": [],
   "source": [
    "bitcoin = All_Functions(bitcoin)"
   ]
  },
  {
   "cell_type": "code",
   "execution_count": null,
   "id": "3f306def",
   "metadata": {},
   "outputs": [],
   "source": [
    "# For Only 2017\n",
    "start_date = '01-01-2017'\n",
    "end_date = '01-01-2018'\n",
    "bit_17 = (bitcoin['date'] > start_date) & (bitcoin['date'] < end_date)\n",
    "bit_2017 = bitcoin.loc[bit_17]\n",
    "bit_2017"
   ]
  },
  {
   "cell_type": "markdown",
   "id": "86a2f9fe",
   "metadata": {},
   "source": [
    "Calculating Number of Positive and Negative Tweets"
   ]
  },
  {
   "cell_type": "code",
   "execution_count": null,
   "id": "a3347827",
   "metadata": {},
   "outputs": [],
   "source": [
    "Pbit = bit_2017['Analysis'].value_counts().Positive\n",
    "Nbit = bit_2017['Analysis'].value_counts().Negative"
   ]
  },
  {
   "cell_type": "code",
   "execution_count": null,
   "id": "3bf4dabe",
   "metadata": {},
   "outputs": [],
   "source": [
    "reddit = All_Functions(reddit)"
   ]
  },
  {
   "cell_type": "code",
   "execution_count": null,
   "id": "55d2b186",
   "metadata": {},
   "outputs": [],
   "source": [
    "# For Only 2017\n",
    "start_date = '01-01-2017'\n",
    "end_date = '01-01-2018'\n",
    "reddit_17 = (reddit['date'] > start_date) & (reddit['date'] < end_date)\n",
    "reddit_2017 = reddit.loc[reddit_17]\n",
    "reddit_2017"
   ]
  },
  {
   "cell_type": "code",
   "execution_count": null,
   "id": "85d0dfe7",
   "metadata": {},
   "outputs": [],
   "source": [
    "def totalSentiment():\n",
    "    #Assigning 0.8 as reliable value to News dataset, 0.3 to reddit data\n",
    "    total_sentiment = (Pbtc - Nbtc)*0.8 + (Pbit - Nbit)"
   ]
  },
  {
   "cell_type": "markdown",
   "id": "4d3a9f86",
   "metadata": {},
   "source": [
    "Our ML model with our current data has a final accuracy of 45.5%. This could be an indiction of many things such as our hypothesis being wrong, not having enough data, or training on the wrong metrics. We are looking more into this.\n",
    "\n",
    "REFLECTION:\n",
    "\n",
    "One of the hardest parts about the project has been wrangling the massive amounts of data into something usable. \n",
    "\n",
    "Our initial insight was that positive public sentiment would increased cryptocurrency price, but from our EDA we can see that this is not always the case. In fact, sometimes the price is the inverse of the public sentiment. \n",
    "\n",
    "Going forward, our biggest problem will be to train and tweak the machine learning model. If positive public sentiment is not directly correlated to price, then our machine learning model will have to train and capture the patterns that we humans can not see.\n",
    "\n",
    "We think we are on track with the project.\n",
    "\n",
    "Our belief is that it is worth proceeding with our project. Just because our initial insights were wrong, does not mean that it is not an interesting hypothesis to test.\n",
    "\n",
    "NEXT STEPS:\n",
    "\n",
    "Our next steps are to work more on the machine learning model and hopefully achieve a higher accuracy of predicting the price of cryptocurrency based on public sentiment. Our goal is to achieve 50%+ which means that it is better than randomly guessing whether or not the price will go up. If we require any additional EDA while working on the machine learning model, we will evaluate at the time and get it done."
   ]
  }
 ],
 "metadata": {
  "kernelspec": {
   "display_name": "Python 3 (ipykernel)",
   "language": "python",
   "name": "python3"
  },
  "language_info": {
   "codemirror_mode": {
    "name": "ipython",
    "version": 3
   },
   "file_extension": ".py",
   "mimetype": "text/x-python",
   "name": "python",
   "nbconvert_exporter": "python",
   "pygments_lexer": "ipython3",
   "version": "3.9.7"
  }
 },
 "nbformat": 4,
 "nbformat_minor": 5
}
