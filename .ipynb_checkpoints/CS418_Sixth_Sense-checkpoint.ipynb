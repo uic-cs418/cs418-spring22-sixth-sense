{
 "cells": [
  {
   "cell_type": "markdown",
   "id": "be774c81",
   "metadata": {},
   "source": [
    "DOES THE PUBLIC SENTIMENT HAVE AN EFFECT ON CRYPTOCURRENCY PRICE CHANGE?"
   ]
  },
  {
   "cell_type": "markdown",
   "id": "a7a012f3",
   "metadata": {},
   "source": [
    "https://github.com/uic-cs418/cs418-spring22-sixth-sense/blob/main/CS418_Sixth_Sense.ipynb"
   ]
  },
  {
   "cell_type": "markdown",
   "id": "66f60548",
   "metadata": {},
   "source": [
    "INTRODUCTION\n",
    "\n",
    "Cryptocurrency has been a fast-growing technology that has become more widely accepted. In recent years, prices for cryptocurrency have skyrocketed and much is still not known about the causes behind these price fluctuations. Due to cryptocurrency not being controlled by any authority or being backed by any real items, its main price influence is due to the public. Thus, our project wants to explore the relation between public sentiment of cryptocurrency and whether or not it affects the price of coins.\n",
    "\n",
    "CHANGES\n",
    "\n",
    "N/A"
   ]
  },
  {
   "cell_type": "code",
   "execution_count": 1,
   "id": "b8e35f95",
   "metadata": {},
   "outputs": [
    {
     "ename": "ModuleNotFoundError",
     "evalue": "No module named 'textblob'",
     "output_type": "error",
     "traceback": [
      "\u001b[1;31m---------------------------------------------------------------------------\u001b[0m",
      "\u001b[1;31mModuleNotFoundError\u001b[0m                       Traceback (most recent call last)",
      "\u001b[1;32m~\\AppData\\Local\\Temp/ipykernel_33756/3738330133.py\u001b[0m in \u001b[0;36m<module>\u001b[1;34m\u001b[0m\n\u001b[0;32m     35\u001b[0m \u001b[1;32mfrom\u001b[0m \u001b[0msklearn\u001b[0m\u001b[1;33m.\u001b[0m\u001b[0mmodel_selection\u001b[0m \u001b[1;32mimport\u001b[0m \u001b[0mtrain_test_split\u001b[0m\u001b[1;33m\u001b[0m\u001b[1;33m\u001b[0m\u001b[0m\n\u001b[0;32m     36\u001b[0m \u001b[1;33m\u001b[0m\u001b[0m\n\u001b[1;32m---> 37\u001b[1;33m \u001b[1;32mimport\u001b[0m \u001b[0mtextblob\u001b[0m\u001b[1;33m\u001b[0m\u001b[1;33m\u001b[0m\u001b[0m\n\u001b[0m\u001b[0;32m     38\u001b[0m \u001b[1;32mfrom\u001b[0m \u001b[0mtextblob\u001b[0m \u001b[1;32mimport\u001b[0m \u001b[0mTextBlob\u001b[0m\u001b[1;33m\u001b[0m\u001b[1;33m\u001b[0m\u001b[0m\n\u001b[0;32m     39\u001b[0m \u001b[1;32mimport\u001b[0m \u001b[0mwordcloud\u001b[0m\u001b[1;33m\u001b[0m\u001b[1;33m\u001b[0m\u001b[0m\n",
      "\u001b[1;31mModuleNotFoundError\u001b[0m: No module named 'textblob'"
     ]
    }
   ],
   "source": [
    "import numpy as np\n",
    "import pandas as pd\n",
    "import seaborn as sns\n",
    "import matplotlib.pyplot as plt\n",
    "from matplotlib import dates\n",
    "from matplotlib.pyplot import figure\n",
    "import json\n",
    "import nltk\n",
    "import sklearn\n",
    "\n",
    "from sklearn.naive_bayes import GaussianNB\n",
    "from sklearn.tree import DecisionTreeClassifier\n",
    "from sklearn.neighbors import KNeighborsClassifier\n",
    "from sklearn.linear_model import LogisticRegression\n",
    "\n",
    "from nltk.corpus import stopwords\n",
    "from  nltk.stem import SnowballStemmer\n",
    "from nltk.tokenize import word_tokenize\n",
    "from nltk.corpus import stopwords\n",
    "from nltk.sentiment.vader import SentimentIntensityAnalyzer\n",
    "import re\n",
    "\n",
    "from sklearn.naive_bayes import GaussianNB\n",
    "from sklearn.tree import DecisionTreeClassifier\n",
    "from sklearn.neighbors import KNeighborsClassifier\n",
    "from sklearn.linear_model import LogisticRegression\n",
    "\n",
    "\n",
    "from sklearn.preprocessing import LabelEncoder\n",
    "from sklearn.metrics import confusion_matrix, classification_report, accuracy_score\n",
    "from sklearn.manifold import TSNE\n",
    "from sklearn.feature_extraction.text import TfidfVectorizer\n",
    "from sklearn.base import TransformerMixin, BaseEstimator\n",
    "from sklearn.pipeline import Pipeline\n",
    "from sklearn.model_selection import train_test_split\n",
    "\n",
    "import textblob\n",
    "from textblob import TextBlob\n",
    "import wordcloud\n",
    "from wordcloud import WordCloud\n",
    "plt.style.use('fivethirtyeight')\n"
   ]
  },
  {
   "cell_type": "code",
   "execution_count": 2,
   "id": "d6f57fd3",
   "metadata": {},
   "outputs": [
    {
     "name": "stderr",
     "output_type": "stream",
     "text": [
      "[nltk_data] Downloading package vader_lexicon to\n",
      "[nltk_data]     C:\\Users\\vbatch2\\AppData\\Roaming\\nltk_data...\n",
      "[nltk_data]   Package vader_lexicon is already up-to-date!\n",
      "[nltk_data] Downloading package punkt to\n",
      "[nltk_data]     C:\\Users\\vbatch2\\AppData\\Roaming\\nltk_data...\n",
      "[nltk_data]   Package punkt is already up-to-date!\n",
      "[nltk_data] Downloading package stopwords to\n",
      "[nltk_data]     C:\\Users\\vbatch2\\AppData\\Roaming\\nltk_data...\n",
      "[nltk_data]   Package stopwords is already up-to-date!\n",
      "[nltk_data] Downloading package wordnet to\n",
      "[nltk_data]     C:\\Users\\vbatch2\\AppData\\Roaming\\nltk_data...\n",
      "[nltk_data]   Package wordnet is already up-to-date!\n"
     ]
    },
    {
     "data": {
      "text/plain": [
       "True"
      ]
     },
     "execution_count": 2,
     "metadata": {},
     "output_type": "execute_result"
    }
   ],
   "source": [
    "nltk.download('vader_lexicon')\n",
    "nltk.download('punkt')\n",
    "nltk.download('stopwords')\n",
    "nltk.download('wordnet')"
   ]
  },
  {
   "cell_type": "markdown",
   "id": "1c7f86dc",
   "metadata": {},
   "source": [
    "DATA CLEANING\n",
    "\n",
    "For our data cleaning, we first started with a dataset of hundreds of cryptocurrencies and their prices tracked by date through 2013-2018. The dates were converted from UNIX time to a universal datetime. In addition, only the price and dates columns were kept. Because there are hundreds of cryptocurrencies, we filtered out only the top 5-10 most popular, which capture almost all of the most valuable cryptocurrencies. eg. Bitcoin, Ethereum, etc."
   ]
  },
  {
   "cell_type": "code",
   "execution_count": 3,
   "id": "263c1a02",
   "metadata": {
    "scrolled": true
   },
   "outputs": [
    {
     "data": {
      "text/html": [
       "<div>\n",
       "<style scoped>\n",
       "    .dataframe tbody tr th:only-of-type {\n",
       "        vertical-align: middle;\n",
       "    }\n",
       "\n",
       "    .dataframe tbody tr th {\n",
       "        vertical-align: top;\n",
       "    }\n",
       "\n",
       "    .dataframe thead th {\n",
       "        text-align: right;\n",
       "    }\n",
       "</style>\n",
       "<table border=\"1\" class=\"dataframe\">\n",
       "  <thead>\n",
       "    <tr style=\"text-align: right;\">\n",
       "      <th></th>\n",
       "      <th>currency</th>\n",
       "      <th>date</th>\n",
       "      <th>price</th>\n",
       "      <th>Year</th>\n",
       "      <th>Month</th>\n",
       "      <th>Day</th>\n",
       "    </tr>\n",
       "  </thead>\n",
       "  <tbody>\n",
       "    <tr>\n",
       "      <th>64769</th>\n",
       "      <td>bitcoin</td>\n",
       "      <td>2015-01-01 02:40:00</td>\n",
       "      <td>317.848</td>\n",
       "      <td>2015</td>\n",
       "      <td>1</td>\n",
       "      <td>1</td>\n",
       "    </tr>\n",
       "    <tr>\n",
       "      <th>64770</th>\n",
       "      <td>bitcoin</td>\n",
       "      <td>2015-01-02 00:53:20</td>\n",
       "      <td>313.639</td>\n",
       "      <td>2015</td>\n",
       "      <td>1</td>\n",
       "      <td>2</td>\n",
       "    </tr>\n",
       "    <tr>\n",
       "      <th>64771</th>\n",
       "      <td>bitcoin</td>\n",
       "      <td>2015-01-03 01:53:20</td>\n",
       "      <td>314.870</td>\n",
       "      <td>2015</td>\n",
       "      <td>1</td>\n",
       "      <td>3</td>\n",
       "    </tr>\n",
       "    <tr>\n",
       "      <th>64772</th>\n",
       "      <td>bitcoin</td>\n",
       "      <td>2015-01-04 00:06:40</td>\n",
       "      <td>281.246</td>\n",
       "      <td>2015</td>\n",
       "      <td>1</td>\n",
       "      <td>4</td>\n",
       "    </tr>\n",
       "    <tr>\n",
       "      <th>64773</th>\n",
       "      <td>bitcoin</td>\n",
       "      <td>2015-01-05 01:06:40</td>\n",
       "      <td>266.723</td>\n",
       "      <td>2015</td>\n",
       "      <td>1</td>\n",
       "      <td>5</td>\n",
       "    </tr>\n",
       "    <tr>\n",
       "      <th>64774</th>\n",
       "      <td>bitcoin</td>\n",
       "      <td>2015-01-06 02:06:40</td>\n",
       "      <td>274.168</td>\n",
       "      <td>2015</td>\n",
       "      <td>1</td>\n",
       "      <td>6</td>\n",
       "    </tr>\n",
       "    <tr>\n",
       "      <th>64775</th>\n",
       "      <td>bitcoin</td>\n",
       "      <td>2015-01-07 00:20:00</td>\n",
       "      <td>283.238</td>\n",
       "      <td>2015</td>\n",
       "      <td>1</td>\n",
       "      <td>7</td>\n",
       "    </tr>\n",
       "    <tr>\n",
       "      <th>64776</th>\n",
       "      <td>bitcoin</td>\n",
       "      <td>2015-01-08 01:20:00</td>\n",
       "      <td>293.754</td>\n",
       "      <td>2015</td>\n",
       "      <td>1</td>\n",
       "      <td>8</td>\n",
       "    </tr>\n",
       "    <tr>\n",
       "      <th>64777</th>\n",
       "      <td>bitcoin</td>\n",
       "      <td>2015-01-09 02:20:00</td>\n",
       "      <td>282.507</td>\n",
       "      <td>2015</td>\n",
       "      <td>1</td>\n",
       "      <td>9</td>\n",
       "    </tr>\n",
       "    <tr>\n",
       "      <th>64778</th>\n",
       "      <td>bitcoin</td>\n",
       "      <td>2015-01-10 08:53:20</td>\n",
       "      <td>277.861</td>\n",
       "      <td>2015</td>\n",
       "      <td>1</td>\n",
       "      <td>10</td>\n",
       "    </tr>\n",
       "  </tbody>\n",
       "</table>\n",
       "</div>"
      ],
      "text/plain": [
       "      currency                date    price  Year  Month  Day\n",
       "64769  bitcoin 2015-01-01 02:40:00  317.848  2015      1    1\n",
       "64770  bitcoin 2015-01-02 00:53:20  313.639  2015      1    2\n",
       "64771  bitcoin 2015-01-03 01:53:20  314.870  2015      1    3\n",
       "64772  bitcoin 2015-01-04 00:06:40  281.246  2015      1    4\n",
       "64773  bitcoin 2015-01-05 01:06:40  266.723  2015      1    5\n",
       "64774  bitcoin 2015-01-06 02:06:40  274.168  2015      1    6\n",
       "64775  bitcoin 2015-01-07 00:20:00  283.238  2015      1    7\n",
       "64776  bitcoin 2015-01-08 01:20:00  293.754  2015      1    8\n",
       "64777  bitcoin 2015-01-09 02:20:00  282.507  2015      1    9\n",
       "64778  bitcoin 2015-01-10 08:53:20  277.861  2015      1   10"
      ]
     },
     "execution_count": 3,
     "metadata": {},
     "output_type": "execute_result"
    }
   ],
   "source": [
    "# Source: https://data.world/chasewillden/cryptocurrency-price-by-date-2013-february-2018\n",
    "crypto_prices_df = pd.read_csv('chasewillden-cryptocurrency-price-by-date-2013-february-2018/chasewillden-cryptocurrency-price-by-date-2013-february-2018/data/cryptocurrency_prices_by_date.csv')\n",
    "\n",
    "# Extract prices for the timeframe 01/01/2015 - 12/31/2018\n",
    "# 2015-01-01 00:00:00  => 1420070400000\n",
    "# 2018-12-31 23:59:59 => 1546261199000\n",
    "crypto_prices_df = crypto_prices_df[(crypto_prices_df['date'] >= 1420070400000) & (crypto_prices_df['date'] <= 1546261199000)]\n",
    "\n",
    "# Convert Unix time to Date time\n",
    "crypto_prices_df['date'] = pd.to_datetime(crypto_prices_df['date'], unit='ms')\n",
    "crypto_prices_df['Year'] = crypto_prices_df['date'].dt.year\n",
    "crypto_prices_df['Month'] = crypto_prices_df['date'].dt.month\n",
    "crypto_prices_df['Day'] = crypto_prices_df['date'].dt.day\n",
    "crypto_prices_df[(crypto_prices_df['currency'] == 'bitcoin')].head(10)"
   ]
  },
  {
   "cell_type": "code",
   "execution_count": 4,
   "id": "48ed04d5",
   "metadata": {},
   "outputs": [
    {
     "data": {
      "text/html": [
       "<div>\n",
       "<style scoped>\n",
       "    .dataframe tbody tr th:only-of-type {\n",
       "        vertical-align: middle;\n",
       "    }\n",
       "\n",
       "    .dataframe tbody tr th {\n",
       "        vertical-align: top;\n",
       "    }\n",
       "\n",
       "    .dataframe thead th {\n",
       "        text-align: right;\n",
       "    }\n",
       "</style>\n",
       "<table border=\"1\" class=\"dataframe\">\n",
       "  <thead>\n",
       "    <tr style=\"text-align: right;\">\n",
       "      <th></th>\n",
       "      <th>currency</th>\n",
       "      <th>date</th>\n",
       "      <th>price</th>\n",
       "      <th>Year</th>\n",
       "      <th>Month</th>\n",
       "      <th>Day</th>\n",
       "    </tr>\n",
       "  </thead>\n",
       "  <tbody>\n",
       "    <tr>\n",
       "      <th>0</th>\n",
       "      <td>0x</td>\n",
       "      <td>2017-08-16 13:26:40</td>\n",
       "      <td>0.111725</td>\n",
       "      <td>2017</td>\n",
       "      <td>8</td>\n",
       "      <td>16</td>\n",
       "    </tr>\n",
       "    <tr>\n",
       "      <th>1</th>\n",
       "      <td>0x</td>\n",
       "      <td>2017-08-17 14:26:40</td>\n",
       "      <td>0.211486</td>\n",
       "      <td>2017</td>\n",
       "      <td>8</td>\n",
       "      <td>17</td>\n",
       "    </tr>\n",
       "    <tr>\n",
       "      <th>2</th>\n",
       "      <td>0x</td>\n",
       "      <td>2017-08-18 15:26:40</td>\n",
       "      <td>0.283789</td>\n",
       "      <td>2017</td>\n",
       "      <td>8</td>\n",
       "      <td>18</td>\n",
       "    </tr>\n",
       "    <tr>\n",
       "      <th>3</th>\n",
       "      <td>0x</td>\n",
       "      <td>2017-08-19 16:26:40</td>\n",
       "      <td>0.511434</td>\n",
       "      <td>2017</td>\n",
       "      <td>8</td>\n",
       "      <td>19</td>\n",
       "    </tr>\n",
       "    <tr>\n",
       "      <th>4</th>\n",
       "      <td>0x</td>\n",
       "      <td>2017-08-20 14:40:00</td>\n",
       "      <td>0.429522</td>\n",
       "      <td>2017</td>\n",
       "      <td>8</td>\n",
       "      <td>20</td>\n",
       "    </tr>\n",
       "  </tbody>\n",
       "</table>\n",
       "</div>"
      ],
      "text/plain": [
       "  currency                date     price  Year  Month  Day\n",
       "0       0x 2017-08-16 13:26:40  0.111725  2017      8   16\n",
       "1       0x 2017-08-17 14:26:40  0.211486  2017      8   17\n",
       "2       0x 2017-08-18 15:26:40  0.283789  2017      8   18\n",
       "3       0x 2017-08-19 16:26:40  0.511434  2017      8   19\n",
       "4       0x 2017-08-20 14:40:00  0.429522  2017      8   20"
      ]
     },
     "execution_count": 4,
     "metadata": {},
     "output_type": "execute_result"
    }
   ],
   "source": [
    "crypto_prices_df.head()"
   ]
  },
  {
   "cell_type": "code",
   "execution_count": 5,
   "id": "431d838b",
   "metadata": {},
   "outputs": [],
   "source": [
    "#Source: https://edloginova.github.io/cryptodata/\n",
    "news = pd.read_json('cryptodata/news.json')\n",
    "reddit = pd.read_json('cryptodata/reddit.json')\n",
    "bitcoinTalk = pd.read_json('cryptodata/bitcointalk.json')\n"
   ]
  },
  {
   "cell_type": "code",
   "execution_count": 6,
   "id": "9632f915",
   "metadata": {},
   "outputs": [
    {
     "name": "stdout",
     "output_type": "stream",
     "text": [
      "63252\n",
      "2752380\n",
      "1642540\n"
     ]
    }
   ],
   "source": [
    "news = news[(news['date'].dt.year >= 2015) & (news['date'].dt.year <= 2018)]\n",
    "reddit = reddit[(reddit['date'].dt.year >= 2015) & (reddit['date'].dt.year <= 2018)]\n",
    "bitcoinTalk = bitcoinTalk[(bitcoinTalk['date'].dt.year >= 2015) & (bitcoinTalk['date'].dt.year <= 2018)]\n",
    "\n",
    "print(len(news))\n",
    "print(len(reddit))\n",
    "print(len(bitcoinTalk))"
   ]
  },
  {
   "cell_type": "code",
   "execution_count": 7,
   "id": "67187145",
   "metadata": {},
   "outputs": [
    {
     "data": {
      "text/html": [
       "<div>\n",
       "<style scoped>\n",
       "    .dataframe tbody tr th:only-of-type {\n",
       "        vertical-align: middle;\n",
       "    }\n",
       "\n",
       "    .dataframe tbody tr th {\n",
       "        vertical-align: top;\n",
       "    }\n",
       "\n",
       "    .dataframe thead th {\n",
       "        text-align: right;\n",
       "    }\n",
       "</style>\n",
       "<table border=\"1\" class=\"dataframe\">\n",
       "  <thead>\n",
       "    <tr style=\"text-align: right;\">\n",
       "      <th></th>\n",
       "      <th>text</th>\n",
       "      <th>post_id</th>\n",
       "      <th>date</th>\n",
       "      <th>Year</th>\n",
       "      <th>Month</th>\n",
       "    </tr>\n",
       "  </thead>\n",
       "  <tbody>\n",
       "    <tr>\n",
       "      <th>9698</th>\n",
       "      <td>Venture capitalist Lou Kerner says bitcoin is ...</td>\n",
       "      <td>9783</td>\n",
       "      <td>2018-12-31 23:37:58</td>\n",
       "      <td>2018</td>\n",
       "      <td>12</td>\n",
       "    </tr>\n",
       "    <tr>\n",
       "      <th>9699</th>\n",
       "      <td>Charlie Lee, the creator of Litecoin and the m...</td>\n",
       "      <td>9784</td>\n",
       "      <td>2018-12-31 23:30:27</td>\n",
       "      <td>2018</td>\n",
       "      <td>12</td>\n",
       "    </tr>\n",
       "    <tr>\n",
       "      <th>9700</th>\n",
       "      <td>As crypto’s value has dropped across the board...</td>\n",
       "      <td>9785</td>\n",
       "      <td>2018-12-31 23:24:38</td>\n",
       "      <td>2018</td>\n",
       "      <td>12</td>\n",
       "    </tr>\n",
       "    <tr>\n",
       "      <th>9701</th>\n",
       "      <td>Hacks and heists have been a threat for as lon...</td>\n",
       "      <td>9786</td>\n",
       "      <td>2018-12-31 23:05:03</td>\n",
       "      <td>2018</td>\n",
       "      <td>12</td>\n",
       "    </tr>\n",
       "    <tr>\n",
       "      <th>9702</th>\n",
       "      <td>It’s been over a year ...</td>\n",
       "      <td>9787</td>\n",
       "      <td>2018-12-31 22:46:45</td>\n",
       "      <td>2018</td>\n",
       "      <td>12</td>\n",
       "    </tr>\n",
       "  </tbody>\n",
       "</table>\n",
       "</div>"
      ],
      "text/plain": [
       "                                                   text  post_id  \\\n",
       "9698  Venture capitalist Lou Kerner says bitcoin is ...     9783   \n",
       "9699  Charlie Lee, the creator of Litecoin and the m...     9784   \n",
       "9700  As crypto’s value has dropped across the board...     9785   \n",
       "9701  Hacks and heists have been a threat for as lon...     9786   \n",
       "9702                          It’s been over a year ...     9787   \n",
       "\n",
       "                    date  Year  Month  \n",
       "9698 2018-12-31 23:37:58  2018     12  \n",
       "9699 2018-12-31 23:30:27  2018     12  \n",
       "9700 2018-12-31 23:24:38  2018     12  \n",
       "9701 2018-12-31 23:05:03  2018     12  \n",
       "9702 2018-12-31 22:46:45  2018     12  "
      ]
     },
     "execution_count": 7,
     "metadata": {},
     "output_type": "execute_result"
    }
   ],
   "source": [
    "news['Year'] = news['date'].dt.year\n",
    "news['Month'] = news['date'].dt.month\n",
    "reddit['Year'] = reddit['date'].dt.year\n",
    "reddit['Month'] = reddit['date'].dt.month\n",
    "bitcoinTalk['Year'] = bitcoinTalk['date'].dt.year\n",
    "bitcoinTalk['Month'] = bitcoinTalk['date'].dt.month\n",
    "\n",
    "news.head()"
   ]
  },
  {
   "cell_type": "markdown",
   "id": "4314435e",
   "metadata": {},
   "source": [
    "EDA:\n",
    "\n",
    "This dataframe is what our data looks like after we've cleaned the data. "
   ]
  },
  {
   "cell_type": "code",
   "execution_count": 8,
   "id": "aaa28e6f",
   "metadata": {},
   "outputs": [],
   "source": [
    "popular_cryptos = ['bitcoin','ethereum', 'tether', 'binance-coin', 'cardano']\n",
    "prices_of_popular_cryptos = crypto_prices_df[crypto_prices_df['currency'].isin(popular_cryptos)]\n",
    "\n",
    "# This method takes year and returns plots of price per every year\n",
    "def price_of_popular_cryptos_during_a_particular_year(year):\n",
    "    price = prices_of_popular_cryptos[(prices_of_popular_cryptos['Year']==year)]\n",
    "    ax = sns.lineplot(data=price, x='Month', y='price', hue='currency',marker='o')\n",
    "    ax.set(xticks=prices_of_popular_cryptos.Month.values)\n",
    "    ax.set_title('Price of Coin by Month ' + str(year))\n",
    "    plt.show()\n",
    "    return price\n"
   ]
  },
  {
   "cell_type": "code",
   "execution_count": 9,
   "id": "7504e926",
   "metadata": {},
   "outputs": [
    {
     "data": {
      "image/png": "[encoded data removed]",
      "text/plain": [
       "<Figure size 432x288 with 1 Axes>"
      ]
     },
     "metadata": {
      "needs_background": "light"
     },
     "output_type": "display_data"
    },
    {
     "data": {
      "image/png": "[encoded data removed]",
      "text/plain": [
       "<Figure size 432x288 with 1 Axes>"
      ]
     },
     "metadata": {
      "needs_background": "light"
     },
     "output_type": "display_data"
    },
    {
     "data": {
      "image/png": "[encoded data removed]",
      "text/plain": [
       "<Figure size 432x288 with 1 Axes>"
      ]
     },
     "metadata": {
      "needs_background": "light"
     },
     "output_type": "display_data"
    }
   ],
   "source": [
    "#plots of price per year\n",
    "price_2015 = price_of_popular_cryptos_during_a_particular_year(2015)\n",
    "price_2016 = price_of_popular_cryptos_during_a_particular_year(2016)\n",
    "price_2017 = price_of_popular_cryptos_during_a_particular_year(2017)"
   ]
  },
  {
   "cell_type": "code",
   "execution_count": 10,
   "id": "9613207c",
   "metadata": {
    "scrolled": true
   },
   "outputs": [
    {
     "data": {
      "image/png": "[encoded data removed]",
      "text/plain": [
       "<Figure size 432x288 with 1 Axes>"
      ]
     },
     "metadata": {
      "needs_background": "light"
     },
     "output_type": "display_data"
    }
   ],
   "source": [
    "price_2018 = prices_of_popular_cryptos[(prices_of_popular_cryptos['Year']==2018)]\n",
    "ax = sns.lineplot(data=price_2018, x='Month', y='price', hue='currency',marker='o')\n",
    "ax.set_title('Price of Coin by Month 2018')\n",
    "plt.show()\n"
   ]
  },
  {
   "cell_type": "code",
   "execution_count": 11,
   "id": "8daaeea2",
   "metadata": {},
   "outputs": [],
   "source": [
    "news_per_year = news.groupby(['Year']).size().to_frame('size').reset_index()\n",
    "news_per_month = news.groupby(['Year','Month']).size().to_frame('size').reset_index()\n",
    "reddit_per_year = reddit.groupby(['Year']).size().to_frame('size').reset_index()\n",
    "reddit_per_month = reddit.groupby(['Year','Month']).size().to_frame('size').reset_index()\n",
    "bitcoinTalk_per_year = bitcoinTalk.groupby(['Year']).size().to_frame('size').reset_index()\n",
    "bitcoinTalk_per_month = bitcoinTalk.groupby(['Year','Month']).size().to_frame('size').reset_index()\n",
    "\n"
   ]
  },
  {
   "cell_type": "code",
   "execution_count": 12,
   "id": "ce11ca67",
   "metadata": {},
   "outputs": [
    {
     "name": "stdout",
     "output_type": "stream",
     "text": [
      "   Year   size\n",
      "0  2015      0\n",
      "1  2016      1\n",
      "2  2017   8366\n",
      "3  2018  54885\n"
     ]
    }
   ],
   "source": [
    "news_per_year.loc[-1] = [2015,0]\n",
    "news_per_year.index = news_per_year.index + 1  # shifting index\n",
    "news_per_year.sort_index(inplace=True) \n",
    "print(news_per_year)"
   ]
  },
  {
   "cell_type": "code",
   "execution_count": 13,
   "id": "27f2c58a",
   "metadata": {},
   "outputs": [
    {
     "name": "stderr",
     "output_type": "stream",
     "text": [
      "C:\\Users\\vbatch2\\AppData\\Local\\Temp/ipykernel_33756/1746479164.py:14: UserWarning: FixedFormatter should only be used together with FixedLocator\n",
      "  ax.set_xticklabels(labels)\n"
     ]
    },
    {
     "data": {
      "image/png": "[encoded data removed]",
      "text/plain": [
       "<Figure size 432x288 with 1 Axes>"
      ]
     },
     "metadata": {
      "needs_background": "light"
     },
     "output_type": "display_data"
    }
   ],
   "source": [
    "fig,ax = plt.subplots()\n",
    "index = np.arange(max(len(reddit_per_year['Year']), len(news_per_year['Year']), len(bitcoinTalk_per_year['Year'])))\n",
    "bar_width = 0.2\n",
    "opacity = 0.8\n",
    "\n",
    "\n",
    "ax.bar(index-bar_width, news_per_year['size'], color='r', width=bar_width, label='News')\n",
    "ax.bar(index, reddit_per_year['size'], color='g', width=bar_width, label='Reddit')\n",
    "ax.bar(index+bar_width, bitcoinTalk_per_year['size'], color='b', width=bar_width, label='Bitcoin Talk')\n",
    "\n",
    "ax.set_yscale('log')\n",
    "ax.tick_params(axis=u'both', which=u'both',length=0)\n",
    "labels = ['','2015','','2016','','2017','','2018','']\n",
    "ax.set_xticklabels(labels)\n",
    "\n",
    "plt.xlabel('Year')\n",
    "plt.ylabel('Amount of content')\n",
    "plt.title('Amount of content regarding cryptocurrency from 2015-2017')\n",
    "plt.legend(loc='best')\n",
    "\n",
    "plt.show()"
   ]
  },
  {
   "cell_type": "markdown",
   "id": "8055bbfb",
   "metadata": {},
   "source": [
    "EDA:\n",
    "\n",
    "From our visualization, we see that we don't have any news data for 2015 and 2016. We believe sentiment analysis on news to be a bit more credible than Reddit and Bitcoin Talk because on those online websites, anyone can post a comment. Thus, our data is making us look more closely at 2017 and 2018 which are interesting years for cryptocurrency (meteoric spike for Bitcoin, etc.). Our hypothesis was that positive public sentiment will cause increase in cryptocurrency prices. This is important because with cryptocurrency becoming more mainstream, knowing the mechanisms behind price fluctuations will be paramount for investing, predicting the future, and more."
   ]
  },
  {
   "cell_type": "code",
   "execution_count": 14,
   "id": "25feb99d",
   "metadata": {},
   "outputs": [
    {
     "data": {
      "text/html": [
       "<div>\n",
       "<style scoped>\n",
       "    .dataframe tbody tr th:only-of-type {\n",
       "        vertical-align: middle;\n",
       "    }\n",
       "\n",
       "    .dataframe tbody tr th {\n",
       "        vertical-align: top;\n",
       "    }\n",
       "\n",
       "    .dataframe thead th {\n",
       "        text-align: right;\n",
       "    }\n",
       "</style>\n",
       "<table border=\"1\" class=\"dataframe\">\n",
       "  <thead>\n",
       "    <tr style=\"text-align: right;\">\n",
       "      <th></th>\n",
       "      <th>text</th>\n",
       "      <th>post_id</th>\n",
       "      <th>date</th>\n",
       "      <th>Year</th>\n",
       "      <th>Month</th>\n",
       "      <th>comp_score</th>\n",
       "      <th>Date_extracted</th>\n",
       "      <th>crypto</th>\n",
       "      <th>Day</th>\n",
       "    </tr>\n",
       "  </thead>\n",
       "  <tbody>\n",
       "    <tr>\n",
       "      <th>78901</th>\n",
       "      <td>SuperNET Weekly No. 13CORE and CORE Media were...</td>\n",
       "      <td>79011</td>\n",
       "      <td>2016-06-04</td>\n",
       "      <td>2016</td>\n",
       "      <td>6</td>\n",
       "      <td>1</td>\n",
       "      <td>2016-06-04</td>\n",
       "      <td>rest</td>\n",
       "      <td>4</td>\n",
       "    </tr>\n",
       "    <tr>\n",
       "      <th>38830</th>\n",
       "      <td>This week we have several updates about Waves ...</td>\n",
       "      <td>38915</td>\n",
       "      <td>2017-02-13</td>\n",
       "      <td>2017</td>\n",
       "      <td>2</td>\n",
       "      <td>1</td>\n",
       "      <td>2017-02-13</td>\n",
       "      <td>bitcoin</td>\n",
       "      <td>13</td>\n",
       "    </tr>\n",
       "    <tr>\n",
       "      <th>78900</th>\n",
       "      <td>WAVES Weekly No. 30This week we have several u...</td>\n",
       "      <td>79010</td>\n",
       "      <td>2017-02-13</td>\n",
       "      <td>2017</td>\n",
       "      <td>2</td>\n",
       "      <td>1</td>\n",
       "      <td>2017-02-13</td>\n",
       "      <td>bitcoin</td>\n",
       "      <td>13</td>\n",
       "    </tr>\n",
       "    <tr>\n",
       "      <th>78899</th>\n",
       "      <td>WAVES Weekly No. 31Last week has seen a number...</td>\n",
       "      <td>79009</td>\n",
       "      <td>2017-02-20</td>\n",
       "      <td>2017</td>\n",
       "      <td>2</td>\n",
       "      <td>1</td>\n",
       "      <td>2017-02-20</td>\n",
       "      <td>bitcoin</td>\n",
       "      <td>20</td>\n",
       "    </tr>\n",
       "    <tr>\n",
       "      <th>38829</th>\n",
       "      <td>Last week has seen a number of updates that sh...</td>\n",
       "      <td>38914</td>\n",
       "      <td>2017-02-20</td>\n",
       "      <td>2017</td>\n",
       "      <td>2</td>\n",
       "      <td>1</td>\n",
       "      <td>2017-02-20</td>\n",
       "      <td>bitcoin</td>\n",
       "      <td>20</td>\n",
       "    </tr>\n",
       "  </tbody>\n",
       "</table>\n",
       "</div>"
      ],
      "text/plain": [
       "                                                    text  post_id       date  \\\n",
       "78901  SuperNET Weekly No. 13CORE and CORE Media were...    79011 2016-06-04   \n",
       "38830  This week we have several updates about Waves ...    38915 2017-02-13   \n",
       "78900  WAVES Weekly No. 30This week we have several u...    79010 2017-02-13   \n",
       "78899  WAVES Weekly No. 31Last week has seen a number...    79009 2017-02-20   \n",
       "38829  Last week has seen a number of updates that sh...    38914 2017-02-20   \n",
       "\n",
       "       Year  Month  comp_score Date_extracted   crypto  Day  \n",
       "78901  2016      6           1     2016-06-04     rest    4  \n",
       "38830  2017      2           1     2017-02-13  bitcoin   13  \n",
       "78900  2017      2           1     2017-02-13  bitcoin   13  \n",
       "78899  2017      2           1     2017-02-20  bitcoin   20  \n",
       "38829  2017      2           1     2017-02-20  bitcoin   20  "
      ]
     },
     "execution_count": 14,
     "metadata": {},
     "output_type": "execute_result"
    }
   ],
   "source": [
    "#sentiment analysis using vader\n",
    "sid = SentimentIntensityAnalyzer()\n",
    "news['scores'] = news['text'].apply(lambda text: sid.polarity_scores(text))\n",
    "news['compound']  = news['scores'].apply(lambda score_dict: score_dict['compound'])\n",
    "news['comp_score'] = news['compound'].apply(lambda c: 1 if c >=0 else -1)\n",
    "news = news.drop(['scores', 'compound'], axis = 1)\n",
    "news[\"Date_extracted\"] = news[\"date\"].dt.date\n",
    "def text_extracting(data):\n",
    "    data = word_tokenize(data)\n",
    "    for i in range(len(data)):\n",
    "        if data[i] == 'bitcoin':\n",
    "            return 'bitcoin'\n",
    "        elif data[i] == 'ethereum':\n",
    "            return 'ethereum'\n",
    "        elif data[i] == 'tether':\n",
    "            return 'tether'\n",
    "        elif data[i] == 'binance-coin':\n",
    "            return 'binance-coin'\n",
    "        elif data[i] == 'cardano':\n",
    "            return 'cardano'\n",
    "    return 'rest'\n",
    "news['crypto'] = news['text'].apply(text_extracting)\n",
    "news = news.sort_values('Date_extracted')\n",
    "news['Year'] = news['date'].dt.year\n",
    "news['Month'] = news['date'].dt.month\n",
    "news['Day'] = news['date'].dt.day\n",
    "news.head()\n"
   ]
  },
  {
   "cell_type": "markdown",
   "id": "269d9db4",
   "metadata": {},
   "source": [
    "ML:\n",
    "We used sentiment analysis from Vader on the news dataset, and obtained a \"comp_score\" which is 1 for positive, \n",
    "-1 for negative. By averaging the sentiment over each month per year, we can then compare the prices of coins per \n",
    "year with their public sentiment."
   ]
  },
  {
   "cell_type": "code",
   "execution_count": 15,
   "id": "cd6bc26b",
   "metadata": {},
   "outputs": [],
   "source": [
    "popular_cryptos2 = ['bitcoin','ethereum', 'tether']\n",
    "news_of_popular_cryptos2 = news[news['crypto'].isin(popular_cryptos2)]\n",
    "# This method takes year and returns plots of news per every year\n",
    "def sentiment_of_popular_cryptos_during_a_particular_year(year):\n",
    "    news1 = news_of_popular_cryptos2[(news_of_popular_cryptos2['Year']==year)]\n",
    "    ax = sns.lineplot(data=news1, x='Month', y='comp_score', hue='crypto',marker='o',ci= None)\n",
    "    ax.set(xticks=news_of_popular_cryptos2.Month.values)\n",
    "    plt.title('news of Coin by Month ' + str(year))\n",
    "    plt.show()\n",
    "    return news1"
   ]
  },
  {
   "cell_type": "code",
   "execution_count": 16,
   "id": "d0c4c42a",
   "metadata": {},
   "outputs": [
    {
     "data": {
      "image/png": "[encoded data removed]",
      "text/plain": [
       "<Figure size 432x288 with 1 Axes>"
      ]
     },
     "metadata": {
      "needs_background": "light"
     },
     "output_type": "display_data"
    },
    {
     "data": {
      "image/png": "[encoded data removed]",
      "text/plain": [
       "<Figure size 432x288 with 1 Axes>"
      ]
     },
     "metadata": {
      "needs_background": "light"
     },
     "output_type": "display_data"
    }
   ],
   "source": [
    "#plots of sentiment per year\n",
    "news_2017 = sentiment_of_popular_cryptos_during_a_particular_year(2017)\n",
    "news_2018 = sentiment_of_popular_cryptos_during_a_particular_year(2018)"
   ]
  },
  {
   "cell_type": "code",
   "execution_count": 17,
   "id": "c08ffcfc",
   "metadata": {},
   "outputs": [],
   "source": [
    "popular_cryptos3 = ['binance-coin', 'cardano']\n",
    "news_of_popular_cryptos3 = news[news['crypto'].isin(popular_cryptos3)]\n",
    "# This method takes year and returns plots of news per every year\n",
    "def sentiment_of_popular_cryptos_during_a_particular_year(year):\n",
    "    news1 = news_of_popular_cryptos3[(news_of_popular_cryptos3['Year']==year)]\n",
    "    return news1"
   ]
  },
  {
   "cell_type": "code",
   "execution_count": 18,
   "id": "ac685d03",
   "metadata": {},
   "outputs": [
    {
     "data": {
      "text/html": [
       "<div>\n",
       "<style scoped>\n",
       "    .dataframe tbody tr th:only-of-type {\n",
       "        vertical-align: middle;\n",
       "    }\n",
       "\n",
       "    .dataframe tbody tr th {\n",
       "        vertical-align: top;\n",
       "    }\n",
       "\n",
       "    .dataframe thead th {\n",
       "        text-align: right;\n",
       "    }\n",
       "</style>\n",
       "<table border=\"1\" class=\"dataframe\">\n",
       "  <thead>\n",
       "    <tr style=\"text-align: right;\">\n",
       "      <th></th>\n",
       "      <th>text</th>\n",
       "      <th>post_id</th>\n",
       "      <th>date</th>\n",
       "      <th>Year</th>\n",
       "      <th>Month</th>\n",
       "      <th>comp_score</th>\n",
       "      <th>Date_extracted</th>\n",
       "      <th>crypto</th>\n",
       "      <th>Day</th>\n",
       "    </tr>\n",
       "  </thead>\n",
       "  <tbody>\n",
       "    <tr>\n",
       "      <th>61623</th>\n",
       "      <td>A $3.3 Billion Claim: Has Cardano's Blockchain...</td>\n",
       "      <td>61733</td>\n",
       "      <td>2018-07-12 04:00:31</td>\n",
       "      <td>2018</td>\n",
       "      <td>7</td>\n",
       "      <td>1</td>\n",
       "      <td>2018-07-12</td>\n",
       "      <td>cardano</td>\n",
       "      <td>12</td>\n",
       "    </tr>\n",
       "    <tr>\n",
       "      <th>19831</th>\n",
       "      <td>US exchange Coinbase is reportedly exploring p...</td>\n",
       "      <td>19916</td>\n",
       "      <td>2018-09-08 14:01:38</td>\n",
       "      <td>2018</td>\n",
       "      <td>9</td>\n",
       "      <td>1</td>\n",
       "      <td>2018-09-08</td>\n",
       "      <td>cardano</td>\n",
       "      <td>8</td>\n",
       "    </tr>\n",
       "    <tr>\n",
       "      <th>56500</th>\n",
       "      <td>The Daily: Coinbase Explores Crypto ETF, Chang...</td>\n",
       "      <td>56610</td>\n",
       "      <td>2018-09-08 14:01:38</td>\n",
       "      <td>2018</td>\n",
       "      <td>9</td>\n",
       "      <td>1</td>\n",
       "      <td>2018-09-08</td>\n",
       "      <td>cardano</td>\n",
       "      <td>8</td>\n",
       "    </tr>\n",
       "  </tbody>\n",
       "</table>\n",
       "</div>"
      ],
      "text/plain": [
       "                                                    text  post_id  \\\n",
       "61623  A $3.3 Billion Claim: Has Cardano's Blockchain...    61733   \n",
       "19831  US exchange Coinbase is reportedly exploring p...    19916   \n",
       "56500  The Daily: Coinbase Explores Crypto ETF, Chang...    56610   \n",
       "\n",
       "                     date  Year  Month  comp_score Date_extracted   crypto  \\\n",
       "61623 2018-07-12 04:00:31  2018      7           1     2018-07-12  cardano   \n",
       "19831 2018-09-08 14:01:38  2018      9           1     2018-09-08  cardano   \n",
       "56500 2018-09-08 14:01:38  2018      9           1     2018-09-08  cardano   \n",
       "\n",
       "       Day  \n",
       "61623   12  \n",
       "19831    8  \n",
       "56500    8  "
      ]
     },
     "execution_count": 18,
     "metadata": {},
     "output_type": "execute_result"
    }
   ],
   "source": [
    "sentiment_of_popular_cryptos_during_a_particular_year(2018)\n",
    "\n"
   ]
  },
  {
   "cell_type": "code",
   "execution_count": 25,
   "id": "6f128a93",
   "metadata": {},
   "outputs": [
    {
     "data": {
      "text/html": [
       "<div>\n",
       "<style scoped>\n",
       "    .dataframe tbody tr th:only-of-type {\n",
       "        vertical-align: middle;\n",
       "    }\n",
       "\n",
       "    .dataframe tbody tr th {\n",
       "        vertical-align: top;\n",
       "    }\n",
       "\n",
       "    .dataframe thead th {\n",
       "        text-align: right;\n",
       "    }\n",
       "</style>\n",
       "<table border=\"1\" class=\"dataframe\">\n",
       "  <thead>\n",
       "    <tr style=\"text-align: right;\">\n",
       "      <th></th>\n",
       "      <th>thread_id</th>\n",
       "      <th>post_id</th>\n",
       "      <th>text</th>\n",
       "      <th>date</th>\n",
       "      <th>Year</th>\n",
       "      <th>Month</th>\n",
       "      <th>comp_score</th>\n",
       "      <th>Date_extracted</th>\n",
       "      <th>crypto</th>\n",
       "      <th>Day</th>\n",
       "    </tr>\n",
       "  </thead>\n",
       "  <tbody>\n",
       "    <tr>\n",
       "      <th>0</th>\n",
       "      <td>3g2buz</td>\n",
       "      <td>ctuc3il</td>\n",
       "      <td>Are the donations tied to products?\\n\\nIf not,...</td>\n",
       "      <td>2015-08-07 03:57:20</td>\n",
       "      <td>2015</td>\n",
       "      <td>8</td>\n",
       "      <td>1</td>\n",
       "      <td>2015-08-07</td>\n",
       "      <td>rest</td>\n",
       "      <td>7</td>\n",
       "    </tr>\n",
       "    <tr>\n",
       "      <th>9</th>\n",
       "      <td>3g33zk</td>\n",
       "      <td>ctuhthe</td>\n",
       "      <td>if u're trying to implement a block explorer t...</td>\n",
       "      <td>2015-08-07 07:05:10</td>\n",
       "      <td>2015</td>\n",
       "      <td>8</td>\n",
       "      <td>-1</td>\n",
       "      <td>2015-08-07</td>\n",
       "      <td>rest</td>\n",
       "      <td>7</td>\n",
       "    </tr>\n",
       "    <tr>\n",
       "      <th>12</th>\n",
       "      <td>ctuhnp9</td>\n",
       "      <td>ctuj1ye</td>\n",
       "      <td>I want to make a web block explorer that works...</td>\n",
       "      <td>2015-08-07 07:58:17</td>\n",
       "      <td>2015</td>\n",
       "      <td>8</td>\n",
       "      <td>-1</td>\n",
       "      <td>2015-08-07</td>\n",
       "      <td>bitcoin</td>\n",
       "      <td>7</td>\n",
       "    </tr>\n",
       "    <tr>\n",
       "      <th>11</th>\n",
       "      <td>ctuhthe</td>\n",
       "      <td>ctuj0vu</td>\n",
       "      <td>Thank you, you saved me so much time!\\n</td>\n",
       "      <td>2015-08-07 07:56:54</td>\n",
       "      <td>2015</td>\n",
       "      <td>8</td>\n",
       "      <td>1</td>\n",
       "      <td>2015-08-07</td>\n",
       "      <td>rest</td>\n",
       "      <td>7</td>\n",
       "    </tr>\n",
       "    <tr>\n",
       "      <th>10</th>\n",
       "      <td>3g33zk</td>\n",
       "      <td>ctuiwhs</td>\n",
       "      <td>[deleted]</td>\n",
       "      <td>2015-08-07 07:51:14</td>\n",
       "      <td>2015</td>\n",
       "      <td>8</td>\n",
       "      <td>1</td>\n",
       "      <td>2015-08-07</td>\n",
       "      <td>rest</td>\n",
       "      <td>7</td>\n",
       "    </tr>\n",
       "  </tbody>\n",
       "</table>\n",
       "</div>"
      ],
      "text/plain": [
       "   thread_id  post_id                                               text  \\\n",
       "0     3g2buz  ctuc3il  Are the donations tied to products?\\n\\nIf not,...   \n",
       "9     3g33zk  ctuhthe  if u're trying to implement a block explorer t...   \n",
       "12   ctuhnp9  ctuj1ye  I want to make a web block explorer that works...   \n",
       "11   ctuhthe  ctuj0vu            Thank you, you saved me so much time!\\n   \n",
       "10    3g33zk  ctuiwhs                                          [deleted]   \n",
       "\n",
       "                  date  Year  Month  comp_score Date_extracted   crypto  Day  \n",
       "0  2015-08-07 03:57:20  2015      8           1     2015-08-07     rest    7  \n",
       "9  2015-08-07 07:05:10  2015      8          -1     2015-08-07     rest    7  \n",
       "12 2015-08-07 07:58:17  2015      8          -1     2015-08-07  bitcoin    7  \n",
       "11 2015-08-07 07:56:54  2015      8           1     2015-08-07     rest    7  \n",
       "10 2015-08-07 07:51:14  2015      8           1     2015-08-07     rest    7  "
      ]
     },
     "execution_count": 25,
     "metadata": {},
     "output_type": "execute_result"
    }
   ],
   "source": [
    "reddit['scores'] = reddit['text'].apply(lambda text: sid.polarity_scores(text))\n",
    "reddit['compound']  = reddit['scores'].apply(lambda score_dict: score_dict['compound'])\n",
    "reddit['comp_score'] = reddit['compound'].apply(lambda c: 1 if c >=0 else -1)\n",
    "reddit = reddit.drop(['scores', 'compound'], axis = 1)\n",
    "reddit[\"Date_extracted\"] = reddit[\"date\"].dt.date\n",
    "def text_extracting(data):\n",
    "    data = word_tokenize(data)\n",
    "    for i in range(len(data)):\n",
    "        if data[i] == 'bitcoin':\n",
    "            return 'bitcoin'\n",
    "        elif data[i] == 'ethereum':\n",
    "            return 'ethereum'\n",
    "        elif data[i] == 'tether':\n",
    "            return 'tether'\n",
    "        elif data[i] == 'binance-coin':\n",
    "            return 'binance-coin'\n",
    "        elif data[i] == 'cardano':\n",
    "            return 'cardano'\n",
    "    return 'rest'\n",
    "reddit['crypto'] = reddit['text'].apply(text_extracting)\n",
    "reddit = reddit.sort_values('Date_extracted')\n",
    "reddit['Year'] = reddit['date'].dt.year\n",
    "reddit['Month'] = reddit['date'].dt.month\n",
    "reddit['Day'] = reddit['date'].dt.day\n",
    "reddit.head()\n"
   ]
  },
  {
   "cell_type": "code",
   "execution_count": 26,
   "id": "56c2a7d9",
   "metadata": {},
   "outputs": [],
   "source": [
    "popular_cryptos2 = ['bitcoin','ethereum', 'tether']\n",
    "reddit_of_popular_cryptos2 = reddit[reddit['crypto'].isin(popular_cryptos2)]\n",
    "# This method takes year and returns plots of news per every year\n",
    "def sentiment_of_popular_cryptos_during_a_particular_year(year):\n",
    "    reddit1 = reddit_of_popular_cryptos2[(reddit_of_popular_cryptos2['Year']==year)]\n",
    "    ax = sns.lineplot(data=reddit1, x='Month', y='comp_score', hue='crypto',marker='o',ci= None)\n",
    "    ax.set(xticks=news_of_popular_cryptos2.Month.values)\n",
    "    plt.title('news of Coin by Month ' + str(year))\n",
    "    plt.show()\n",
    "    return reddit1"
   ]
  },
  {
   "cell_type": "code",
   "execution_count": 27,
   "id": "41adbe09",
   "metadata": {},
   "outputs": [
    {
     "data": {
      "image/png": "[encoded data removed]",
      "text/plain": [
       "<Figure size 432x288 with 1 Axes>"
      ]
     },
     "metadata": {
      "needs_background": "light"
     },
     "output_type": "display_data"
    },
    {
     "data": {
      "image/png": "[encoded data removed]",
      "text/plain": [
       "<Figure size 432x288 with 1 Axes>"
      ]
     },
     "metadata": {
      "needs_background": "light"
     },
     "output_type": "display_data"
    }
   ],
   "source": [
    "#plots of sentiment per year\n",
    "news_2017 = sentiment_of_popular_cryptos_during_a_particular_year(2017)\n",
    "news_2018 = sentiment_of_popular_cryptos_during_a_particular_year(2018)\n"
   ]
  },
  {
   "cell_type": "code",
   "execution_count": 28,
   "id": "f699b59d",
   "metadata": {},
   "outputs": [
    {
     "data": {
      "text/html": [
       "<div>\n",
       "<style scoped>\n",
       "    .dataframe tbody tr th:only-of-type {\n",
       "        vertical-align: middle;\n",
       "    }\n",
       "\n",
       "    .dataframe tbody tr th {\n",
       "        vertical-align: top;\n",
       "    }\n",
       "\n",
       "    .dataframe thead th {\n",
       "        text-align: right;\n",
       "    }\n",
       "</style>\n",
       "<table border=\"1\" class=\"dataframe\">\n",
       "  <thead>\n",
       "    <tr style=\"text-align: right;\">\n",
       "      <th></th>\n",
       "      <th>thread_id</th>\n",
       "      <th>date</th>\n",
       "      <th>text</th>\n",
       "      <th>post_id</th>\n",
       "      <th>Year</th>\n",
       "      <th>Month</th>\n",
       "      <th>comp_score</th>\n",
       "      <th>Date_extracted</th>\n",
       "      <th>crypto</th>\n",
       "      <th>Day</th>\n",
       "    </tr>\n",
       "  </thead>\n",
       "  <tbody>\n",
       "    <tr>\n",
       "      <th>561038</th>\n",
       "      <td>13705</td>\n",
       "      <td>2015-08-07 04:56:02</td>\n",
       "      <td>Quote from: oaxaca on August 07, 2015, 03:19:0...</td>\n",
       "      <td>641702</td>\n",
       "      <td>2015</td>\n",
       "      <td>8</td>\n",
       "      <td>1</td>\n",
       "      <td>2015-08-07</td>\n",
       "      <td>rest</td>\n",
       "      <td>7</td>\n",
       "    </tr>\n",
       "    <tr>\n",
       "      <th>561048</th>\n",
       "      <td>13705</td>\n",
       "      <td>2015-08-07 05:42:49</td>\n",
       "      <td>Quote from: minersday on August 07, 2015, 05:3...</td>\n",
       "      <td>641712</td>\n",
       "      <td>2015</td>\n",
       "      <td>8</td>\n",
       "      <td>1</td>\n",
       "      <td>2015-08-07</td>\n",
       "      <td>rest</td>\n",
       "      <td>7</td>\n",
       "    </tr>\n",
       "    <tr>\n",
       "      <th>561047</th>\n",
       "      <td>13705</td>\n",
       "      <td>2015-08-07 05:39:55</td>\n",
       "      <td>Quote from: smooth on August 07, 2015, 05:26:0...</td>\n",
       "      <td>641711</td>\n",
       "      <td>2015</td>\n",
       "      <td>8</td>\n",
       "      <td>-1</td>\n",
       "      <td>2015-08-07</td>\n",
       "      <td>bitcoin</td>\n",
       "      <td>7</td>\n",
       "    </tr>\n",
       "    <tr>\n",
       "      <th>561046</th>\n",
       "      <td>13705</td>\n",
       "      <td>2015-08-07 05:26:04</td>\n",
       "      <td>Quote from: minersday on August 07, 2015, 05:1...</td>\n",
       "      <td>641710</td>\n",
       "      <td>2015</td>\n",
       "      <td>8</td>\n",
       "      <td>-1</td>\n",
       "      <td>2015-08-07</td>\n",
       "      <td>bitcoin</td>\n",
       "      <td>7</td>\n",
       "    </tr>\n",
       "    <tr>\n",
       "      <th>664921</th>\n",
       "      <td>22239</td>\n",
       "      <td>2015-08-07 23:47:57</td>\n",
       "      <td>Best altcoin in 2016?  Whichever one the Chine...</td>\n",
       "      <td>777184</td>\n",
       "      <td>2015</td>\n",
       "      <td>8</td>\n",
       "      <td>1</td>\n",
       "      <td>2015-08-07</td>\n",
       "      <td>rest</td>\n",
       "      <td>7</td>\n",
       "    </tr>\n",
       "  </tbody>\n",
       "</table>\n",
       "</div>"
      ],
      "text/plain": [
       "        thread_id                date  \\\n",
       "561038      13705 2015-08-07 04:56:02   \n",
       "561048      13705 2015-08-07 05:42:49   \n",
       "561047      13705 2015-08-07 05:39:55   \n",
       "561046      13705 2015-08-07 05:26:04   \n",
       "664921      22239 2015-08-07 23:47:57   \n",
       "\n",
       "                                                     text  post_id  Year  \\\n",
       "561038  Quote from: oaxaca on August 07, 2015, 03:19:0...   641702  2015   \n",
       "561048  Quote from: minersday on August 07, 2015, 05:3...   641712  2015   \n",
       "561047  Quote from: smooth on August 07, 2015, 05:26:0...   641711  2015   \n",
       "561046  Quote from: minersday on August 07, 2015, 05:1...   641710  2015   \n",
       "664921  Best altcoin in 2016?  Whichever one the Chine...   777184  2015   \n",
       "\n",
       "        Month  comp_score Date_extracted   crypto  Day  \n",
       "561038      8           1     2015-08-07     rest    7  \n",
       "561048      8           1     2015-08-07     rest    7  \n",
       "561047      8          -1     2015-08-07  bitcoin    7  \n",
       "561046      8          -1     2015-08-07  bitcoin    7  \n",
       "664921      8           1     2015-08-07     rest    7  "
      ]
     },
     "execution_count": 28,
     "metadata": {},
     "output_type": "execute_result"
    }
   ],
   "source": [
    "bitcoinTalk['scores'] = bitcoinTalk['text'].apply(lambda text: sid.polarity_scores(text))\n",
    "bitcoinTalk['compound']  = bitcoinTalk['scores'].apply(lambda score_dict: score_dict['compound'])\n",
    "bitcoinTalk['comp_score'] = bitcoinTalk['compound'].apply(lambda c: 1 if c >=0 else -1)\n",
    "bitcoinTalk = bitcoinTalk.drop(['scores', 'compound'], axis = 1)\n",
    "bitcoinTalk[\"Date_extracted\"] = bitcoinTalk[\"date\"].dt.date\n",
    "def text_extracting(data):\n",
    "    data = word_tokenize(data)\n",
    "    for i in range(len(data)):\n",
    "        if data[i] == 'bitcoin':\n",
    "            return 'bitcoin'\n",
    "        elif data[i] == 'ethereum':\n",
    "            return 'ethereum'\n",
    "        elif data[i] == 'tether':\n",
    "            return 'tether'\n",
    "        elif data[i] == 'binance-coin':\n",
    "            return 'binance-coin'\n",
    "        elif data[i] == 'cardano':\n",
    "            return 'cardano'\n",
    "    return 'rest'\n",
    "bitcoinTalk['crypto'] = bitcoinTalk['text'].apply(text_extracting)\n",
    "bitcoinTalk = bitcoinTalk.sort_values('Date_extracted')\n",
    "bitcoinTalk['Year'] = bitcoinTalk['date'].dt.year\n",
    "bitcoinTalk['Month'] = bitcoinTalk['date'].dt.month\n",
    "bitcoinTalk['Day'] = bitcoinTalk['date'].dt.day\n",
    "bitcoinTalk.head()\n"
   ]
  },
  {
   "cell_type": "code",
   "execution_count": 29,
   "id": "d29ce49a",
   "metadata": {},
   "outputs": [],
   "source": [
    "popular_cryptos2 = ['bitcoin','ethereum', 'tether']\n",
    "bitcoinTalk_of_popular_cryptos2 = bitcoinTalk[bitcoinTalk['crypto'].isin(popular_cryptos2)]\n",
    "# This method takes year and returns plots of news per every year\n",
    "def sentiment_of_popular_cryptos_during_a_particular_year(year):\n",
    "    bitcoinTalk1 = bitcoinTalk_of_popular_cryptos2[(bitcoinTalk_of_popular_cryptos2['Year']==year)]\n",
    "    ax = sns.lineplot(data=bitcoinTalk1, x='Month', y='comp_score', hue='crypto',marker='o',ci= None)\n",
    "    ax.set(xticks=news_of_popular_cryptos2.Month.values)\n",
    "    plt.title('news of Coin by Month ' + str(year))\n",
    "    plt.show()\n",
    "    return bitcoinTalk1"
   ]
  },
  {
   "cell_type": "code",
   "execution_count": 30,
   "id": "b6ab75c3",
   "metadata": {},
   "outputs": [
    {
     "data": {
      "image/png": "[encoded data removed]",
      "text/plain": [
       "<Figure size 432x288 with 1 Axes>"
      ]
     },
     "metadata": {
      "needs_background": "light"
     },
     "output_type": "display_data"
    },
    {
     "data": {
      "image/png": "[encoded data removed]",
      "text/plain": [
       "<Figure size 432x288 with 1 Axes>"
      ]
     },
     "metadata": {
      "needs_background": "light"
     },
     "output_type": "display_data"
    }
   ],
   "source": [
    "#plots of sentiment per year\n",
    "news_2017 = sentiment_of_popular_cryptos_during_a_particular_year(2017)\n",
    "news_2018 = sentiment_of_popular_cryptos_during_a_particular_year(2018)\n"
   ]
  },
  {
   "cell_type": "markdown",
   "id": "ff7d4318",
   "metadata": {},
   "source": [
    "ML:\n",
    "\n",
    "From our sentiment analysis done on 2017, we can see that public sentiment for Bitcoin has dropped sharply from overwhelmingly positive from August to September. However, from our price graphs, the price of bitcoin increased against our expectations."
   ]
  },
  {
   "cell_type": "code",
   "execution_count": 34,
   "id": "8896cab4",
   "metadata": {},
   "outputs": [],
   "source": [
    "#plotting price and sentiment in a single plot for bitcoin\n",
    "def sentiment_price_of_popular_cryptos_during_a_particular_year(year,coin):\n",
    "    popular_cryptos2 = [coin.lower()]\n",
    "    news_of_popular_cryptos2 = news[news['crypto'] == 'bitcoin']\n",
    "    news_year = news_of_popular_cryptos2[(news_of_popular_cryptos2['Year']==year)]\n",
    "    prices_of_popular_cryptos = crypto_prices_df[crypto_prices_df['currency'].isin(popular_cryptos2)]\n",
    "    price_year = prices_of_popular_cryptos[(prices_of_popular_cryptos['Year']==year)]\n",
    "    fig, (ax1,ax2) = plt.subplots(nrows=2, sharex=True, subplot_kw=dict(frameon=False)) # frameon=False removes frames\n",
    "    \n",
    "    plt.subplots_adjust(hspace=.2)\n",
    "    plt.title('Fluctuations in price and sentiment of '+coin+ ' for year ' + str(year) , y= 2.2)\n",
    "    ax1.grid()\n",
    "    ax2.grid()\n",
    "    ax1.plot(news_year['Month'], news_year['comp_score'], color='r',label ='sentiment')\n",
    "    ax2.plot(price_year['Month'], price_year['price'], color='b', linestyle='--',label ='price')\n",
    "    ax1.legend(bbox_to_anchor =(1.1, 0.8))\n",
    "    ax2.legend(bbox_to_anchor =(1.32, 1.6))\n",
    "    plt.xticks([1,2,3,4,5,6,7,8,9,10,11,12])\n",
    "    plt.xlabel('Months')\n",
    "    ax1.set_ylabel('Sentiment')\n",
    "    ax2.set_ylabel('Price')\n",
    "    plt.show()\n",
    "    "
   ]
  },
  {
   "cell_type": "code",
   "execution_count": 35,
   "id": "770a307d",
   "metadata": {},
   "outputs": [
    {
     "data": {
      "image/png": "[encoded data removed]",
      "text/plain": [
       "<Figure size 432x288 with 2 Axes>"
      ]
     },
     "metadata": {
      "needs_background": "light"
     },
     "output_type": "display_data"
    },
    {
     "data": {
      "image/png": "[encoded data removed]",
      "text/plain": [
       "<Figure size 432x288 with 2 Axes>"
      ]
     },
     "metadata": {
      "needs_background": "light"
     },
     "output_type": "display_data"
    },
    {
     "data": {
      "image/png": "[encoded data removed]",
      "text/plain": [
       "<Figure size 432x288 with 2 Axes>"
      ]
     },
     "metadata": {
      "needs_background": "light"
     },
     "output_type": "display_data"
    },
    {
     "data": {
      "image/png": "[encoded data removed]",
      "text/plain": [
       "<Figure size 432x288 with 2 Axes>"
      ]
     },
     "metadata": {
      "needs_background": "light"
     },
     "output_type": "display_data"
    },
    {
     "data": {
      "image/png": "[encoded data removed]",
      "text/plain": [
       "<Figure size 432x288 with 2 Axes>"
      ]
     },
     "metadata": {
      "needs_background": "light"
     },
     "output_type": "display_data"
    },
    {
     "data": {
      "image/png": "[encoded data removed]",
      "text/plain": [
       "<Figure size 432x288 with 2 Axes>"
      ]
     },
     "metadata": {
      "needs_background": "light"
     },
     "output_type": "display_data"
    },
    {
     "data": {
      "image/png": "[encoded data removed]",
      "text/plain": [
       "<Figure size 432x288 with 2 Axes>"
      ]
     },
     "metadata": {
      "needs_background": "light"
     },
     "output_type": "display_data"
    },
    {
     "data": {
      "image/png": "[encoded data removed]",
      "text/plain": [
       "<Figure size 432x288 with 2 Axes>"
      ]
     },
     "metadata": {
      "needs_background": "light"
     },
     "output_type": "display_data"
    },
    {
     "data": {
      "image/png": "[encoded data removed]",
      "text/plain": [
       "<Figure size 432x288 with 2 Axes>"
      ]
     },
     "metadata": {
      "needs_background": "light"
     },
     "output_type": "display_data"
    },
    {
     "data": {
      "image/png": "[encoded data removed]",
      "text/plain": [
       "<Figure size 432x288 with 2 Axes>"
      ]
     },
     "metadata": {
      "needs_background": "light"
     },
     "output_type": "display_data"
    }
   ],
   "source": [
    "price_sentiment_2017 = sentiment_price_of_popular_cryptos_during_a_particular_year(2017, 'Bitcoin')\n",
    "price_sentiment_2017 = sentiment_price_of_popular_cryptos_during_a_particular_year(2017, 'Ethereum')\n",
    "price_sentiment_2017 = sentiment_price_of_popular_cryptos_during_a_particular_year(2017, 'Tether')\n",
    "price_sentiment_2017 = sentiment_price_of_popular_cryptos_during_a_particular_year(2018, 'Bitcoin')\n",
    "price_sentiment_2017 = sentiment_price_of_popular_cryptos_during_a_particular_year(2018, 'Ethereum')\n",
    "price_sentiment_2017 = sentiment_price_of_popular_cryptos_during_a_particular_year(2018, 'Tether')\n",
    "price_sentiment_2017 = sentiment_price_of_popular_cryptos_during_a_particular_year(2017, 'binance-coin')\n",
    "price_sentiment_2017 = sentiment_price_of_popular_cryptos_during_a_particular_year(2017, 'cardano')\n",
    "price_sentiment_2017 = sentiment_price_of_popular_cryptos_during_a_particular_year(2018, 'binance-coin')\n",
    "price_sentiment_2017 = sentiment_price_of_popular_cryptos_during_a_particular_year(2018, 'cardano')"
   ]
  },
  {
   "cell_type": "code",
   "execution_count": 36,
   "id": "d2f7ae15",
   "metadata": {},
   "outputs": [
    {
     "data": {
      "text/html": [
       "<div>\n",
       "<style scoped>\n",
       "    .dataframe tbody tr th:only-of-type {\n",
       "        vertical-align: middle;\n",
       "    }\n",
       "\n",
       "    .dataframe tbody tr th {\n",
       "        vertical-align: top;\n",
       "    }\n",
       "\n",
       "    .dataframe thead th {\n",
       "        text-align: right;\n",
       "    }\n",
       "</style>\n",
       "<table border=\"1\" class=\"dataframe\">\n",
       "  <thead>\n",
       "    <tr style=\"text-align: right;\">\n",
       "      <th></th>\n",
       "      <th>Date_extracted</th>\n",
       "      <th>price_raise/drop</th>\n",
       "    </tr>\n",
       "  </thead>\n",
       "  <tbody>\n",
       "    <tr>\n",
       "      <th>0</th>\n",
       "      <td>2015-01-01</td>\n",
       "      <td>1</td>\n",
       "    </tr>\n",
       "    <tr>\n",
       "      <th>1</th>\n",
       "      <td>2015-01-02</td>\n",
       "      <td>-1</td>\n",
       "    </tr>\n",
       "    <tr>\n",
       "      <th>2</th>\n",
       "      <td>2015-01-03</td>\n",
       "      <td>1</td>\n",
       "    </tr>\n",
       "    <tr>\n",
       "      <th>3</th>\n",
       "      <td>2015-01-04</td>\n",
       "      <td>1</td>\n",
       "    </tr>\n",
       "    <tr>\n",
       "      <th>4</th>\n",
       "      <td>2015-01-05</td>\n",
       "      <td>1</td>\n",
       "    </tr>\n",
       "    <tr>\n",
       "      <th>...</th>\n",
       "      <td>...</td>\n",
       "      <td>...</td>\n",
       "    </tr>\n",
       "    <tr>\n",
       "      <th>1132</th>\n",
       "      <td>2018-02-06</td>\n",
       "      <td>-1</td>\n",
       "    </tr>\n",
       "    <tr>\n",
       "      <th>1133</th>\n",
       "      <td>2018-02-07</td>\n",
       "      <td>1</td>\n",
       "    </tr>\n",
       "    <tr>\n",
       "      <th>1134</th>\n",
       "      <td>2018-02-08</td>\n",
       "      <td>-1</td>\n",
       "    </tr>\n",
       "    <tr>\n",
       "      <th>1135</th>\n",
       "      <td>2018-02-09</td>\n",
       "      <td>-1</td>\n",
       "    </tr>\n",
       "    <tr>\n",
       "      <th>1136</th>\n",
       "      <td>2018-02-10</td>\n",
       "      <td>-1</td>\n",
       "    </tr>\n",
       "  </tbody>\n",
       "</table>\n",
       "<p>1137 rows × 2 columns</p>\n",
       "</div>"
      ],
      "text/plain": [
       "     Date_extracted  price_raise/drop\n",
       "0        2015-01-01                 1\n",
       "1        2015-01-02                -1\n",
       "2        2015-01-03                 1\n",
       "3        2015-01-04                 1\n",
       "4        2015-01-05                 1\n",
       "...             ...               ...\n",
       "1132     2018-02-06                -1\n",
       "1133     2018-02-07                 1\n",
       "1134     2018-02-08                -1\n",
       "1135     2018-02-09                -1\n",
       "1136     2018-02-10                -1\n",
       "\n",
       "[1137 rows x 2 columns]"
      ]
     },
     "execution_count": 36,
     "metadata": {},
     "output_type": "execute_result"
    }
   ],
   "source": [
    "#label creation depending on price variation\n",
    "crypto_prices_df[\"Date_extracted\"] = crypto_prices_df[\"date\"].dt.date\n",
    "crypto_prices_df = crypto_prices_df.sort_values('Date_extracted')\n",
    "crypto_prices_df['price_variation'] = crypto_prices_df['price'].diff()\n",
    "crypto_prices_df['price_raise/drop'] = np.where(crypto_prices_df['price_variation']>0, 1, -1)\n",
    "crypto_prices_df = crypto_prices_df.groupby(['Date_extracted'])['price_raise/drop'].sum().reset_index()\n",
    "crypto_prices_df['price_raise/drop'] = np.where(crypto_prices_df['price_raise/drop']>0,1,-1)\n",
    "crypto_prices_df"
   ]
  },
  {
   "cell_type": "markdown",
   "id": "69f87a2a",
   "metadata": {},
   "source": [
    "ML:\n",
    "\n",
    "From the public sentiment, we can then add a label of whether or not the cryptocurrency price increased (+1) or decreased (-1) the next day. This will be our truth values for our machine learning model as our goal is to predict whether or not the price will increased based on public sentiment. We take a further at Bitcoin, which is by far the most valuable and most well-known coin. The ML model can be extended to the other coins fairly easily. "
   ]
  },
  {
   "cell_type": "code",
   "execution_count": 37,
   "id": "c95bcf3a",
   "metadata": {},
   "outputs": [
    {
     "data": {
      "text/html": [
       "<div>\n",
       "<style scoped>\n",
       "    .dataframe tbody tr th:only-of-type {\n",
       "        vertical-align: middle;\n",
       "    }\n",
       "\n",
       "    .dataframe tbody tr th {\n",
       "        vertical-align: top;\n",
       "    }\n",
       "\n",
       "    .dataframe thead th {\n",
       "        text-align: right;\n",
       "    }\n",
       "</style>\n",
       "<table border=\"1\" class=\"dataframe\">\n",
       "  <thead>\n",
       "    <tr style=\"text-align: right;\">\n",
       "      <th></th>\n",
       "      <th>Date_extracted</th>\n",
       "      <th>comp_score</th>\n",
       "    </tr>\n",
       "  </thead>\n",
       "  <tbody>\n",
       "    <tr>\n",
       "      <th>0</th>\n",
       "      <td>2017-02-13</td>\n",
       "      <td>1</td>\n",
       "    </tr>\n",
       "    <tr>\n",
       "      <th>1</th>\n",
       "      <td>2017-02-20</td>\n",
       "      <td>1</td>\n",
       "    </tr>\n",
       "    <tr>\n",
       "      <th>2</th>\n",
       "      <td>2017-06-15</td>\n",
       "      <td>1</td>\n",
       "    </tr>\n",
       "    <tr>\n",
       "      <th>3</th>\n",
       "      <td>2017-07-26</td>\n",
       "      <td>1</td>\n",
       "    </tr>\n",
       "    <tr>\n",
       "      <th>4</th>\n",
       "      <td>2017-08-15</td>\n",
       "      <td>1</td>\n",
       "    </tr>\n",
       "    <tr>\n",
       "      <th>...</th>\n",
       "      <td>...</td>\n",
       "      <td>...</td>\n",
       "    </tr>\n",
       "    <tr>\n",
       "      <th>469</th>\n",
       "      <td>2018-12-27</td>\n",
       "      <td>-1</td>\n",
       "    </tr>\n",
       "    <tr>\n",
       "      <th>470</th>\n",
       "      <td>2018-12-28</td>\n",
       "      <td>-1</td>\n",
       "    </tr>\n",
       "    <tr>\n",
       "      <th>471</th>\n",
       "      <td>2018-12-29</td>\n",
       "      <td>1</td>\n",
       "    </tr>\n",
       "    <tr>\n",
       "      <th>472</th>\n",
       "      <td>2018-12-30</td>\n",
       "      <td>1</td>\n",
       "    </tr>\n",
       "    <tr>\n",
       "      <th>473</th>\n",
       "      <td>2018-12-31</td>\n",
       "      <td>1</td>\n",
       "    </tr>\n",
       "  </tbody>\n",
       "</table>\n",
       "<p>474 rows × 2 columns</p>\n",
       "</div>"
      ],
      "text/plain": [
       "    Date_extracted  comp_score\n",
       "0       2017-02-13           1\n",
       "1       2017-02-20           1\n",
       "2       2017-06-15           1\n",
       "3       2017-07-26           1\n",
       "4       2017-08-15           1\n",
       "..             ...         ...\n",
       "469     2018-12-27          -1\n",
       "470     2018-12-28          -1\n",
       "471     2018-12-29           1\n",
       "472     2018-12-30           1\n",
       "473     2018-12-31           1\n",
       "\n",
       "[474 rows x 2 columns]"
      ]
     },
     "execution_count": 37,
     "metadata": {},
     "output_type": "execute_result"
    }
   ],
   "source": [
    "#Bitcoin \n",
    "news_bitcoin = news[news['crypto']=='bitcoin']\n",
    "news_bitcoin = news_bitcoin.groupby(['Date_extracted'])['comp_score'].sum().reset_index()\n",
    "news_bitcoin['comp_score'] = np.where(news_bitcoin['comp_score']>0,1,-1)\n",
    "news_bitcoin"
   ]
  },
  {
   "cell_type": "code",
   "execution_count": 38,
   "id": "5e5cefad",
   "metadata": {},
   "outputs": [
    {
     "data": {
      "text/html": [
       "<div>\n",
       "<style scoped>\n",
       "    .dataframe tbody tr th:only-of-type {\n",
       "        vertical-align: middle;\n",
       "    }\n",
       "\n",
       "    .dataframe tbody tr th {\n",
       "        vertical-align: top;\n",
       "    }\n",
       "\n",
       "    .dataframe thead th {\n",
       "        text-align: right;\n",
       "    }\n",
       "</style>\n",
       "<table border=\"1\" class=\"dataframe\">\n",
       "  <thead>\n",
       "    <tr style=\"text-align: right;\">\n",
       "      <th></th>\n",
       "      <th>Date_extracted</th>\n",
       "      <th>comp_score</th>\n",
       "      <th>price_raise/drop</th>\n",
       "    </tr>\n",
       "  </thead>\n",
       "  <tbody>\n",
       "    <tr>\n",
       "      <th>0</th>\n",
       "      <td>2017-02-13</td>\n",
       "      <td>1</td>\n",
       "      <td>-1</td>\n",
       "    </tr>\n",
       "    <tr>\n",
       "      <th>1</th>\n",
       "      <td>2017-02-20</td>\n",
       "      <td>1</td>\n",
       "      <td>1</td>\n",
       "    </tr>\n",
       "    <tr>\n",
       "      <th>2</th>\n",
       "      <td>2017-06-15</td>\n",
       "      <td>1</td>\n",
       "      <td>1</td>\n",
       "    </tr>\n",
       "    <tr>\n",
       "      <th>3</th>\n",
       "      <td>2017-07-26</td>\n",
       "      <td>1</td>\n",
       "      <td>-1</td>\n",
       "    </tr>\n",
       "    <tr>\n",
       "      <th>4</th>\n",
       "      <td>2017-08-15</td>\n",
       "      <td>1</td>\n",
       "      <td>1</td>\n",
       "    </tr>\n",
       "    <tr>\n",
       "      <th>...</th>\n",
       "      <td>...</td>\n",
       "      <td>...</td>\n",
       "      <td>...</td>\n",
       "    </tr>\n",
       "    <tr>\n",
       "      <th>145</th>\n",
       "      <td>2018-02-06</td>\n",
       "      <td>1</td>\n",
       "      <td>-1</td>\n",
       "    </tr>\n",
       "    <tr>\n",
       "      <th>146</th>\n",
       "      <td>2018-02-07</td>\n",
       "      <td>1</td>\n",
       "      <td>1</td>\n",
       "    </tr>\n",
       "    <tr>\n",
       "      <th>147</th>\n",
       "      <td>2018-02-08</td>\n",
       "      <td>1</td>\n",
       "      <td>-1</td>\n",
       "    </tr>\n",
       "    <tr>\n",
       "      <th>148</th>\n",
       "      <td>2018-02-09</td>\n",
       "      <td>1</td>\n",
       "      <td>-1</td>\n",
       "    </tr>\n",
       "    <tr>\n",
       "      <th>149</th>\n",
       "      <td>2018-02-10</td>\n",
       "      <td>1</td>\n",
       "      <td>-1</td>\n",
       "    </tr>\n",
       "  </tbody>\n",
       "</table>\n",
       "<p>150 rows × 3 columns</p>\n",
       "</div>"
      ],
      "text/plain": [
       "    Date_extracted  comp_score  price_raise/drop\n",
       "0       2017-02-13           1                -1\n",
       "1       2017-02-20           1                 1\n",
       "2       2017-06-15           1                 1\n",
       "3       2017-07-26           1                -1\n",
       "4       2017-08-15           1                 1\n",
       "..             ...         ...               ...\n",
       "145     2018-02-06           1                -1\n",
       "146     2018-02-07           1                 1\n",
       "147     2018-02-08           1                -1\n",
       "148     2018-02-09           1                -1\n",
       "149     2018-02-10           1                -1\n",
       "\n",
       "[150 rows x 3 columns]"
      ]
     },
     "execution_count": 38,
     "metadata": {},
     "output_type": "execute_result"
    }
   ],
   "source": [
    "#combining price and sentiment for bitcoin\n",
    "bitcoin_price_sentiment = news_bitcoin.merge(crypto_prices_df, on = 'Date_extracted',how = 'inner')\n",
    "bitcoin_price_sentiment"
   ]
  },
  {
   "cell_type": "code",
   "execution_count": 39,
   "id": "c366b7cc",
   "metadata": {},
   "outputs": [
    {
     "data": {
      "text/html": [
       "<div>\n",
       "<style scoped>\n",
       "    .dataframe tbody tr th:only-of-type {\n",
       "        vertical-align: middle;\n",
       "    }\n",
       "\n",
       "    .dataframe tbody tr th {\n",
       "        vertical-align: top;\n",
       "    }\n",
       "\n",
       "    .dataframe thead th {\n",
       "        text-align: right;\n",
       "    }\n",
       "</style>\n",
       "<table border=\"1\" class=\"dataframe\">\n",
       "  <thead>\n",
       "    <tr style=\"text-align: right;\">\n",
       "      <th></th>\n",
       "      <th>Date_extracted</th>\n",
       "      <th>comp_score</th>\n",
       "    </tr>\n",
       "  </thead>\n",
       "  <tbody>\n",
       "    <tr>\n",
       "      <th>0</th>\n",
       "      <td>2016-06-04</td>\n",
       "      <td>1</td>\n",
       "    </tr>\n",
       "    <tr>\n",
       "      <th>1</th>\n",
       "      <td>2017-02-13</td>\n",
       "      <td>1</td>\n",
       "    </tr>\n",
       "    <tr>\n",
       "      <th>2</th>\n",
       "      <td>2017-02-20</td>\n",
       "      <td>1</td>\n",
       "    </tr>\n",
       "    <tr>\n",
       "      <th>3</th>\n",
       "      <td>2017-06-15</td>\n",
       "      <td>1</td>\n",
       "    </tr>\n",
       "    <tr>\n",
       "      <th>4</th>\n",
       "      <td>2017-06-27</td>\n",
       "      <td>1</td>\n",
       "    </tr>\n",
       "    <tr>\n",
       "      <th>...</th>\n",
       "      <td>...</td>\n",
       "      <td>...</td>\n",
       "    </tr>\n",
       "    <tr>\n",
       "      <th>483</th>\n",
       "      <td>2018-12-27</td>\n",
       "      <td>1</td>\n",
       "    </tr>\n",
       "    <tr>\n",
       "      <th>484</th>\n",
       "      <td>2018-12-28</td>\n",
       "      <td>-1</td>\n",
       "    </tr>\n",
       "    <tr>\n",
       "      <th>485</th>\n",
       "      <td>2018-12-29</td>\n",
       "      <td>1</td>\n",
       "    </tr>\n",
       "    <tr>\n",
       "      <th>486</th>\n",
       "      <td>2018-12-30</td>\n",
       "      <td>1</td>\n",
       "    </tr>\n",
       "    <tr>\n",
       "      <th>487</th>\n",
       "      <td>2018-12-31</td>\n",
       "      <td>1</td>\n",
       "    </tr>\n",
       "  </tbody>\n",
       "</table>\n",
       "<p>488 rows × 2 columns</p>\n",
       "</div>"
      ],
      "text/plain": [
       "    Date_extracted  comp_score\n",
       "0       2016-06-04           1\n",
       "1       2017-02-13           1\n",
       "2       2017-02-20           1\n",
       "3       2017-06-15           1\n",
       "4       2017-06-27           1\n",
       "..             ...         ...\n",
       "483     2018-12-27           1\n",
       "484     2018-12-28          -1\n",
       "485     2018-12-29           1\n",
       "486     2018-12-30           1\n",
       "487     2018-12-31           1\n",
       "\n",
       "[488 rows x 2 columns]"
      ]
     },
     "execution_count": 39,
     "metadata": {},
     "output_type": "execute_result"
    }
   ],
   "source": [
    "#combining price and news for all coins\n",
    "news = news.groupby(['Date_extracted'])['comp_score'].sum().reset_index()\n",
    "news['comp_score'] = np.where(news['comp_score']>0,1,-1)\n",
    "# price_sentiment = news.merge(crypto_prices_df, on = 'Date_extracted',how = 'inner')\n",
    "# price_sentiment\n",
    "news"
   ]
  },
  {
   "cell_type": "code",
   "execution_count": 40,
   "id": "adc31dc8",
   "metadata": {},
   "outputs": [
    {
     "data": {
      "text/html": [
       "<div>\n",
       "<style scoped>\n",
       "    .dataframe tbody tr th:only-of-type {\n",
       "        vertical-align: middle;\n",
       "    }\n",
       "\n",
       "    .dataframe tbody tr th {\n",
       "        vertical-align: top;\n",
       "    }\n",
       "\n",
       "    .dataframe thead th {\n",
       "        text-align: right;\n",
       "    }\n",
       "</style>\n",
       "<table border=\"1\" class=\"dataframe\">\n",
       "  <thead>\n",
       "    <tr style=\"text-align: right;\">\n",
       "      <th></th>\n",
       "      <th>Date_extracted</th>\n",
       "      <th>comp_score</th>\n",
       "    </tr>\n",
       "  </thead>\n",
       "  <tbody>\n",
       "    <tr>\n",
       "      <th>0</th>\n",
       "      <td>2015-08-07</td>\n",
       "      <td>1</td>\n",
       "    </tr>\n",
       "    <tr>\n",
       "      <th>1</th>\n",
       "      <td>2015-08-08</td>\n",
       "      <td>1</td>\n",
       "    </tr>\n",
       "    <tr>\n",
       "      <th>2</th>\n",
       "      <td>2015-08-09</td>\n",
       "      <td>1</td>\n",
       "    </tr>\n",
       "    <tr>\n",
       "      <th>3</th>\n",
       "      <td>2015-08-10</td>\n",
       "      <td>1</td>\n",
       "    </tr>\n",
       "    <tr>\n",
       "      <th>4</th>\n",
       "      <td>2015-08-11</td>\n",
       "      <td>1</td>\n",
       "    </tr>\n",
       "    <tr>\n",
       "      <th>...</th>\n",
       "      <td>...</td>\n",
       "      <td>...</td>\n",
       "    </tr>\n",
       "    <tr>\n",
       "      <th>1226</th>\n",
       "      <td>2018-12-27</td>\n",
       "      <td>1</td>\n",
       "    </tr>\n",
       "    <tr>\n",
       "      <th>1227</th>\n",
       "      <td>2018-12-28</td>\n",
       "      <td>1</td>\n",
       "    </tr>\n",
       "    <tr>\n",
       "      <th>1228</th>\n",
       "      <td>2018-12-29</td>\n",
       "      <td>1</td>\n",
       "    </tr>\n",
       "    <tr>\n",
       "      <th>1229</th>\n",
       "      <td>2018-12-30</td>\n",
       "      <td>1</td>\n",
       "    </tr>\n",
       "    <tr>\n",
       "      <th>1230</th>\n",
       "      <td>2018-12-31</td>\n",
       "      <td>1</td>\n",
       "    </tr>\n",
       "  </tbody>\n",
       "</table>\n",
       "<p>1231 rows × 2 columns</p>\n",
       "</div>"
      ],
      "text/plain": [
       "     Date_extracted  comp_score\n",
       "0        2015-08-07           1\n",
       "1        2015-08-08           1\n",
       "2        2015-08-09           1\n",
       "3        2015-08-10           1\n",
       "4        2015-08-11           1\n",
       "...             ...         ...\n",
       "1226     2018-12-27           1\n",
       "1227     2018-12-28           1\n",
       "1228     2018-12-29           1\n",
       "1229     2018-12-30           1\n",
       "1230     2018-12-31           1\n",
       "\n",
       "[1231 rows x 2 columns]"
      ]
     },
     "execution_count": 40,
     "metadata": {},
     "output_type": "execute_result"
    }
   ],
   "source": [
    "#combining price and reddit for all coins\n",
    "reddit = reddit.groupby(['Date_extracted'])['comp_score'].sum().reset_index()\n",
    "reddit['comp_score'] = np.where(reddit['comp_score']>0,1,-1)\n",
    "reddit"
   ]
  },
  {
   "cell_type": "code",
   "execution_count": 41,
   "id": "6f65a650",
   "metadata": {},
   "outputs": [
    {
     "data": {
      "text/html": [
       "<div>\n",
       "<style scoped>\n",
       "    .dataframe tbody tr th:only-of-type {\n",
       "        vertical-align: middle;\n",
       "    }\n",
       "\n",
       "    .dataframe tbody tr th {\n",
       "        vertical-align: top;\n",
       "    }\n",
       "\n",
       "    .dataframe thead th {\n",
       "        text-align: right;\n",
       "    }\n",
       "</style>\n",
       "<table border=\"1\" class=\"dataframe\">\n",
       "  <thead>\n",
       "    <tr style=\"text-align: right;\">\n",
       "      <th></th>\n",
       "      <th>Date_extracted</th>\n",
       "      <th>comp_score</th>\n",
       "    </tr>\n",
       "  </thead>\n",
       "  <tbody>\n",
       "    <tr>\n",
       "      <th>0</th>\n",
       "      <td>2015-08-07</td>\n",
       "      <td>1</td>\n",
       "    </tr>\n",
       "    <tr>\n",
       "      <th>1</th>\n",
       "      <td>2015-08-08</td>\n",
       "      <td>1</td>\n",
       "    </tr>\n",
       "    <tr>\n",
       "      <th>2</th>\n",
       "      <td>2015-08-09</td>\n",
       "      <td>1</td>\n",
       "    </tr>\n",
       "    <tr>\n",
       "      <th>3</th>\n",
       "      <td>2015-08-10</td>\n",
       "      <td>1</td>\n",
       "    </tr>\n",
       "    <tr>\n",
       "      <th>4</th>\n",
       "      <td>2015-08-11</td>\n",
       "      <td>1</td>\n",
       "    </tr>\n",
       "    <tr>\n",
       "      <th>...</th>\n",
       "      <td>...</td>\n",
       "      <td>...</td>\n",
       "    </tr>\n",
       "    <tr>\n",
       "      <th>1216</th>\n",
       "      <td>2018-12-27</td>\n",
       "      <td>1</td>\n",
       "    </tr>\n",
       "    <tr>\n",
       "      <th>1217</th>\n",
       "      <td>2018-12-28</td>\n",
       "      <td>1</td>\n",
       "    </tr>\n",
       "    <tr>\n",
       "      <th>1218</th>\n",
       "      <td>2018-12-29</td>\n",
       "      <td>1</td>\n",
       "    </tr>\n",
       "    <tr>\n",
       "      <th>1219</th>\n",
       "      <td>2018-12-30</td>\n",
       "      <td>1</td>\n",
       "    </tr>\n",
       "    <tr>\n",
       "      <th>1220</th>\n",
       "      <td>2018-12-31</td>\n",
       "      <td>1</td>\n",
       "    </tr>\n",
       "  </tbody>\n",
       "</table>\n",
       "<p>1221 rows × 2 columns</p>\n",
       "</div>"
      ],
      "text/plain": [
       "     Date_extracted  comp_score\n",
       "0        2015-08-07           1\n",
       "1        2015-08-08           1\n",
       "2        2015-08-09           1\n",
       "3        2015-08-10           1\n",
       "4        2015-08-11           1\n",
       "...             ...         ...\n",
       "1216     2018-12-27           1\n",
       "1217     2018-12-28           1\n",
       "1218     2018-12-29           1\n",
       "1219     2018-12-30           1\n",
       "1220     2018-12-31           1\n",
       "\n",
       "[1221 rows x 2 columns]"
      ]
     },
     "execution_count": 41,
     "metadata": {},
     "output_type": "execute_result"
    }
   ],
   "source": [
    "#combining price and reddit for all coins\n",
    "bitcoinTalk = bitcoinTalk.groupby(['Date_extracted'])['comp_score'].sum().reset_index()\n",
    "bitcoinTalk['comp_score'] = np.where(bitcoinTalk['comp_score']>0,1,-1)\n",
    "bitcoinTalk"
   ]
  },
  {
   "cell_type": "code",
   "execution_count": 42,
   "id": "926a72c0",
   "metadata": {},
   "outputs": [
    {
     "data": {
      "text/html": [
       "<div>\n",
       "<style scoped>\n",
       "    .dataframe tbody tr th:only-of-type {\n",
       "        vertical-align: middle;\n",
       "    }\n",
       "\n",
       "    .dataframe tbody tr th {\n",
       "        vertical-align: top;\n",
       "    }\n",
       "\n",
       "    .dataframe thead th {\n",
       "        text-align: right;\n",
       "    }\n",
       "</style>\n",
       "<table border=\"1\" class=\"dataframe\">\n",
       "  <thead>\n",
       "    <tr style=\"text-align: right;\">\n",
       "      <th></th>\n",
       "      <th>Date_extracted</th>\n",
       "      <th>comp_score</th>\n",
       "    </tr>\n",
       "  </thead>\n",
       "  <tbody>\n",
       "    <tr>\n",
       "      <th>0</th>\n",
       "      <td>2016-06-04</td>\n",
       "      <td>1</td>\n",
       "    </tr>\n",
       "    <tr>\n",
       "      <th>1</th>\n",
       "      <td>2017-02-13</td>\n",
       "      <td>1</td>\n",
       "    </tr>\n",
       "    <tr>\n",
       "      <th>2</th>\n",
       "      <td>2017-02-20</td>\n",
       "      <td>1</td>\n",
       "    </tr>\n",
       "    <tr>\n",
       "      <th>3</th>\n",
       "      <td>2017-06-15</td>\n",
       "      <td>1</td>\n",
       "    </tr>\n",
       "    <tr>\n",
       "      <th>4</th>\n",
       "      <td>2017-06-27</td>\n",
       "      <td>1</td>\n",
       "    </tr>\n",
       "    <tr>\n",
       "      <th>...</th>\n",
       "      <td>...</td>\n",
       "      <td>...</td>\n",
       "    </tr>\n",
       "    <tr>\n",
       "      <th>1714</th>\n",
       "      <td>2018-12-27</td>\n",
       "      <td>1</td>\n",
       "    </tr>\n",
       "    <tr>\n",
       "      <th>1715</th>\n",
       "      <td>2018-12-28</td>\n",
       "      <td>1</td>\n",
       "    </tr>\n",
       "    <tr>\n",
       "      <th>1716</th>\n",
       "      <td>2018-12-29</td>\n",
       "      <td>1</td>\n",
       "    </tr>\n",
       "    <tr>\n",
       "      <th>1717</th>\n",
       "      <td>2018-12-30</td>\n",
       "      <td>1</td>\n",
       "    </tr>\n",
       "    <tr>\n",
       "      <th>1718</th>\n",
       "      <td>2018-12-31</td>\n",
       "      <td>1</td>\n",
       "    </tr>\n",
       "  </tbody>\n",
       "</table>\n",
       "<p>1719 rows × 2 columns</p>\n",
       "</div>"
      ],
      "text/plain": [
       "     Date_extracted  comp_score\n",
       "0        2016-06-04           1\n",
       "1        2017-02-13           1\n",
       "2        2017-02-20           1\n",
       "3        2017-06-15           1\n",
       "4        2017-06-27           1\n",
       "...             ...         ...\n",
       "1714     2018-12-27           1\n",
       "1715     2018-12-28           1\n",
       "1716     2018-12-29           1\n",
       "1717     2018-12-30           1\n",
       "1718     2018-12-31           1\n",
       "\n",
       "[1719 rows x 2 columns]"
      ]
     },
     "execution_count": 42,
     "metadata": {},
     "output_type": "execute_result"
    }
   ],
   "source": [
    "news_reddit = news.append(reddit, ignore_index=True)\n",
    "news_reddit"
   ]
  },
  {
   "cell_type": "code",
   "execution_count": 43,
   "id": "5cc7bc48",
   "metadata": {},
   "outputs": [
    {
     "data": {
      "text/html": [
       "<div>\n",
       "<style scoped>\n",
       "    .dataframe tbody tr th:only-of-type {\n",
       "        vertical-align: middle;\n",
       "    }\n",
       "\n",
       "    .dataframe tbody tr th {\n",
       "        vertical-align: top;\n",
       "    }\n",
       "\n",
       "    .dataframe thead th {\n",
       "        text-align: right;\n",
       "    }\n",
       "</style>\n",
       "<table border=\"1\" class=\"dataframe\">\n",
       "  <thead>\n",
       "    <tr style=\"text-align: right;\">\n",
       "      <th></th>\n",
       "      <th>Date_extracted</th>\n",
       "      <th>comp_score</th>\n",
       "    </tr>\n",
       "  </thead>\n",
       "  <tbody>\n",
       "    <tr>\n",
       "      <th>0</th>\n",
       "      <td>2016-06-04</td>\n",
       "      <td>1</td>\n",
       "    </tr>\n",
       "    <tr>\n",
       "      <th>1</th>\n",
       "      <td>2017-02-13</td>\n",
       "      <td>1</td>\n",
       "    </tr>\n",
       "    <tr>\n",
       "      <th>2</th>\n",
       "      <td>2017-02-20</td>\n",
       "      <td>1</td>\n",
       "    </tr>\n",
       "    <tr>\n",
       "      <th>3</th>\n",
       "      <td>2017-06-15</td>\n",
       "      <td>1</td>\n",
       "    </tr>\n",
       "    <tr>\n",
       "      <th>4</th>\n",
       "      <td>2017-06-27</td>\n",
       "      <td>1</td>\n",
       "    </tr>\n",
       "    <tr>\n",
       "      <th>...</th>\n",
       "      <td>...</td>\n",
       "      <td>...</td>\n",
       "    </tr>\n",
       "    <tr>\n",
       "      <th>2935</th>\n",
       "      <td>2018-12-27</td>\n",
       "      <td>1</td>\n",
       "    </tr>\n",
       "    <tr>\n",
       "      <th>2936</th>\n",
       "      <td>2018-12-28</td>\n",
       "      <td>1</td>\n",
       "    </tr>\n",
       "    <tr>\n",
       "      <th>2937</th>\n",
       "      <td>2018-12-29</td>\n",
       "      <td>1</td>\n",
       "    </tr>\n",
       "    <tr>\n",
       "      <th>2938</th>\n",
       "      <td>2018-12-30</td>\n",
       "      <td>1</td>\n",
       "    </tr>\n",
       "    <tr>\n",
       "      <th>2939</th>\n",
       "      <td>2018-12-31</td>\n",
       "      <td>1</td>\n",
       "    </tr>\n",
       "  </tbody>\n",
       "</table>\n",
       "<p>2940 rows × 2 columns</p>\n",
       "</div>"
      ],
      "text/plain": [
       "     Date_extracted  comp_score\n",
       "0        2016-06-04           1\n",
       "1        2017-02-13           1\n",
       "2        2017-02-20           1\n",
       "3        2017-06-15           1\n",
       "4        2017-06-27           1\n",
       "...             ...         ...\n",
       "2935     2018-12-27           1\n",
       "2936     2018-12-28           1\n",
       "2937     2018-12-29           1\n",
       "2938     2018-12-30           1\n",
       "2939     2018-12-31           1\n",
       "\n",
       "[2940 rows x 2 columns]"
      ]
     },
     "execution_count": 43,
     "metadata": {},
     "output_type": "execute_result"
    }
   ],
   "source": [
    "news_reddit_bitcoin = news_reddit.append(bitcoinTalk, ignore_index=True)\n",
    "news_reddit_bitcoin"
   ]
  },
  {
   "cell_type": "code",
   "execution_count": 44,
   "id": "2459ef51",
   "metadata": {},
   "outputs": [],
   "source": [
    "price_sentiment = pd.merge(crypto_prices_df,news_reddit_bitcoin,on='Date_extracted')"
   ]
  },
  {
   "cell_type": "code",
   "execution_count": 45,
   "id": "a2de3366",
   "metadata": {},
   "outputs": [
    {
     "data": {
      "text/html": [
       "<div>\n",
       "<style scoped>\n",
       "    .dataframe tbody tr th:only-of-type {\n",
       "        vertical-align: middle;\n",
       "    }\n",
       "\n",
       "    .dataframe tbody tr th {\n",
       "        vertical-align: top;\n",
       "    }\n",
       "\n",
       "    .dataframe thead th {\n",
       "        text-align: right;\n",
       "    }\n",
       "</style>\n",
       "<table border=\"1\" class=\"dataframe\">\n",
       "  <thead>\n",
       "    <tr style=\"text-align: right;\">\n",
       "      <th></th>\n",
       "      <th>Date_extracted</th>\n",
       "      <th>price_raise/drop</th>\n",
       "      <th>comp_score</th>\n",
       "    </tr>\n",
       "  </thead>\n",
       "  <tbody>\n",
       "    <tr>\n",
       "      <th>0</th>\n",
       "      <td>2015-08-07</td>\n",
       "      <td>-1</td>\n",
       "      <td>1</td>\n",
       "    </tr>\n",
       "    <tr>\n",
       "      <th>1</th>\n",
       "      <td>2015-08-07</td>\n",
       "      <td>-1</td>\n",
       "      <td>1</td>\n",
       "    </tr>\n",
       "    <tr>\n",
       "      <th>2</th>\n",
       "      <td>2015-08-08</td>\n",
       "      <td>-1</td>\n",
       "      <td>1</td>\n",
       "    </tr>\n",
       "    <tr>\n",
       "      <th>3</th>\n",
       "      <td>2015-08-08</td>\n",
       "      <td>-1</td>\n",
       "      <td>1</td>\n",
       "    </tr>\n",
       "    <tr>\n",
       "      <th>4</th>\n",
       "      <td>2015-08-09</td>\n",
       "      <td>1</td>\n",
       "      <td>1</td>\n",
       "    </tr>\n",
       "    <tr>\n",
       "      <th>...</th>\n",
       "      <td>...</td>\n",
       "      <td>...</td>\n",
       "      <td>...</td>\n",
       "    </tr>\n",
       "    <tr>\n",
       "      <th>1963</th>\n",
       "      <td>2018-02-09</td>\n",
       "      <td>-1</td>\n",
       "      <td>1</td>\n",
       "    </tr>\n",
       "    <tr>\n",
       "      <th>1964</th>\n",
       "      <td>2018-02-09</td>\n",
       "      <td>-1</td>\n",
       "      <td>1</td>\n",
       "    </tr>\n",
       "    <tr>\n",
       "      <th>1965</th>\n",
       "      <td>2018-02-10</td>\n",
       "      <td>-1</td>\n",
       "      <td>1</td>\n",
       "    </tr>\n",
       "    <tr>\n",
       "      <th>1966</th>\n",
       "      <td>2018-02-10</td>\n",
       "      <td>-1</td>\n",
       "      <td>1</td>\n",
       "    </tr>\n",
       "    <tr>\n",
       "      <th>1967</th>\n",
       "      <td>2018-02-10</td>\n",
       "      <td>-1</td>\n",
       "      <td>1</td>\n",
       "    </tr>\n",
       "  </tbody>\n",
       "</table>\n",
       "<p>1968 rows × 3 columns</p>\n",
       "</div>"
      ],
      "text/plain": [
       "     Date_extracted  price_raise/drop  comp_score\n",
       "0        2015-08-07                -1           1\n",
       "1        2015-08-07                -1           1\n",
       "2        2015-08-08                -1           1\n",
       "3        2015-08-08                -1           1\n",
       "4        2015-08-09                 1           1\n",
       "...             ...               ...         ...\n",
       "1963     2018-02-09                -1           1\n",
       "1964     2018-02-09                -1           1\n",
       "1965     2018-02-10                -1           1\n",
       "1966     2018-02-10                -1           1\n",
       "1967     2018-02-10                -1           1\n",
       "\n",
       "[1968 rows x 3 columns]"
      ]
     },
     "execution_count": 45,
     "metadata": {},
     "output_type": "execute_result"
    }
   ],
   "source": [
    "price_sentiment"
   ]
  },
  {
   "cell_type": "code",
   "execution_count": 46,
   "id": "45da10e5",
   "metadata": {},
   "outputs": [],
   "source": [
    "#train and test split\n",
    "x_train, x_test, y_train, y_test= train_test_split(price_sentiment['comp_score'], price_sentiment['price_raise/drop'])"
   ]
  },
  {
   "cell_type": "code",
   "execution_count": 47,
   "id": "f7fa0e82",
   "metadata": {},
   "outputs": [],
   "source": [
    "# train and validation split\n",
    "x_train, x_val, y_train, y_val  = train_test_split(x_train, y_train, test_size=0.25, random_state=1)"
   ]
  },
  {
   "cell_type": "code",
   "execution_count": 48,
   "id": "d341f9f8",
   "metadata": {},
   "outputs": [
    {
     "data": {
      "text/plain": [
       "0.4905149051490515"
      ]
     },
     "execution_count": 48,
     "metadata": {},
     "output_type": "execute_result"
    }
   ],
   "source": [
    "#baseline ML model \n",
    "class Bitcoin_label_baseline():\n",
    "    def _init_(self):\n",
    "        self.mode_value = 0 \n",
    "    def fit(self, X, y):\n",
    "        index = (crypto_prices_df['price_raise/drop']).max()\n",
    "        self.mode_value = index\n",
    "    def predict(self, X):\n",
    "        length = X.size\n",
    "        y_predict = np.empty(length,dtype=int)\n",
    "        for i in range(length):\n",
    "            y_predict[i] = self.mode_value\n",
    "        return y_predict\n",
    "baselineClf = Bitcoin_label_baseline()\n",
    "baselineClf.fit(x_train,y_train)\n",
    "y_predict = baselineClf.predict(x_train)\n",
    "sklearn.metrics.accuracy_score(y_train,y_predict)"
   ]
  },
  {
   "cell_type": "code",
   "execution_count": 49,
   "id": "5cf0278d",
   "metadata": {},
   "outputs": [],
   "source": [
    "#converting data in a format compatible with svm\n",
    "def data_svmReliable_conversion(z):\n",
    "    z= z.values\n",
    "    return z.reshape(-1, 1)\n"
   ]
  },
  {
   "cell_type": "code",
   "execution_count": 50,
   "id": "45a7257a",
   "metadata": {},
   "outputs": [],
   "source": [
    "# learning the classifier\n",
    "def learn_classifier(X_train, y_train, kernel):\n",
    "    classifier = sklearn.svm.SVC(kernel = kernel)\n",
    "    return classifier.fit(X_train,y_train)"
   ]
  },
  {
   "cell_type": "code",
   "execution_count": 51,
   "id": "1991c22a",
   "metadata": {},
   "outputs": [],
   "source": [
    "#evaluate the classifier\n",
    "def evaluate_classifier(classifier, X_validation, y_validation):\n",
    "    return sklearn.metrics.accuracy_score(y_validation , classifier.predict(X_validation))"
   ]
  },
  {
   "cell_type": "code",
   "execution_count": 52,
   "id": "cd22f6d6",
   "metadata": {},
   "outputs": [
    {
     "name": "stderr",
     "output_type": "stream",
     "text": [
      "C:\\Users\\vbatch2\\Anaconda3\\envs\\cs418env\\lib\\site-packages\\sklearn\\utils\\validation.py:993: DataConversionWarning: A column-vector y was passed when a 1d array was expected. Please change the shape of y to (n_samples, ), for example using ravel().\n",
      "  y = column_or_1d(y, warn=True)\n"
     ]
    }
   ],
   "source": [
    "#calling classifier\n",
    "classifier = learn_classifier(data_svmReliable_conversion(x_train), data_svmReliable_conversion(y_train), 'linear')"
   ]
  },
  {
   "cell_type": "code",
   "execution_count": 53,
   "id": "f59ff06b",
   "metadata": {},
   "outputs": [
    {
     "data": {
      "text/plain": [
       "0.5182926829268293"
      ]
     },
     "execution_count": 53,
     "metadata": {},
     "output_type": "execute_result"
    }
   ],
   "source": [
    "#calculating accuracy of learned classifier with validation data\n",
    "accuracy = evaluate_classifier(classifier, data_svmReliable_conversion(x_test), data_svmReliable_conversion(y_test))\n",
    "accuracy"
   ]
  },
  {
   "cell_type": "code",
   "execution_count": 54,
   "id": "51cf746f",
   "metadata": {},
   "outputs": [
    {
     "data": {
      "text/plain": [
       "KFold(n_splits=4, random_state=1, shuffle=True)"
      ]
     },
     "execution_count": 54,
     "metadata": {},
     "output_type": "execute_result"
    }
   ],
   "source": [
    "kf = sklearn.model_selection.KFold(n_splits=4, random_state=1, shuffle=True)\n",
    "kf"
   ]
  },
  {
   "cell_type": "code",
   "execution_count": 55,
   "id": "8467f84d",
   "metadata": {},
   "outputs": [
    {
     "name": "stderr",
     "output_type": "stream",
     "text": [
      "C:\\Users\\vbatch2\\Anaconda3\\envs\\cs418env\\lib\\site-packages\\sklearn\\utils\\validation.py:993: DataConversionWarning: A column-vector y was passed when a 1d array was expected. Please change the shape of y to (n_samples, ), for example using ravel().\n",
      "  y = column_or_1d(y, warn=True)\n",
      "C:\\Users\\vbatch2\\Anaconda3\\envs\\cs418env\\lib\\site-packages\\sklearn\\utils\\validation.py:993: DataConversionWarning: A column-vector y was passed when a 1d array was expected. Please change the shape of y to (n_samples, ), for example using ravel().\n",
      "  y = column_or_1d(y, warn=True)\n",
      "C:\\Users\\vbatch2\\Anaconda3\\envs\\cs418env\\lib\\site-packages\\sklearn\\utils\\validation.py:993: DataConversionWarning: A column-vector y was passed when a 1d array was expected. Please change the shape of y to (n_samples, ), for example using ravel().\n",
      "  y = column_or_1d(y, warn=True)\n",
      "C:\\Users\\vbatch2\\Anaconda3\\envs\\cs418env\\lib\\site-packages\\sklearn\\utils\\validation.py:993: DataConversionWarning: A column-vector y was passed when a 1d array was expected. Please change the shape of y to (n_samples, ), for example using ravel().\n",
      "  y = column_or_1d(y, warn=True)\n",
      "C:\\Users\\vbatch2\\Anaconda3\\envs\\cs418env\\lib\\site-packages\\sklearn\\utils\\validation.py:993: DataConversionWarning: A column-vector y was passed when a 1d array was expected. Please change the shape of y to (n_samples, ), for example using ravel().\n",
      "  y = column_or_1d(y, warn=True)\n",
      "C:\\Users\\vbatch2\\Anaconda3\\envs\\cs418env\\lib\\site-packages\\sklearn\\utils\\validation.py:993: DataConversionWarning: A column-vector y was passed when a 1d array was expected. Please change the shape of y to (n_samples, ), for example using ravel().\n",
      "  y = column_or_1d(y, warn=True)\n",
      "C:\\Users\\vbatch2\\Anaconda3\\envs\\cs418env\\lib\\site-packages\\sklearn\\utils\\validation.py:993: DataConversionWarning: A column-vector y was passed when a 1d array was expected. Please change the shape of y to (n_samples, ), for example using ravel().\n",
      "  y = column_or_1d(y, warn=True)\n",
      "C:\\Users\\vbatch2\\Anaconda3\\envs\\cs418env\\lib\\site-packages\\sklearn\\utils\\validation.py:993: DataConversionWarning: A column-vector y was passed when a 1d array was expected. Please change the shape of y to (n_samples, ), for example using ravel().\n",
      "  y = column_or_1d(y, warn=True)\n",
      "C:\\Users\\vbatch2\\Anaconda3\\envs\\cs418env\\lib\\site-packages\\sklearn\\utils\\validation.py:993: DataConversionWarning: A column-vector y was passed when a 1d array was expected. Please change the shape of y to (n_samples, ), for example using ravel().\n",
      "  y = column_or_1d(y, warn=True)\n",
      "C:\\Users\\vbatch2\\Anaconda3\\envs\\cs418env\\lib\\site-packages\\sklearn\\utils\\validation.py:993: DataConversionWarning: A column-vector y was passed when a 1d array was expected. Please change the shape of y to (n_samples, ), for example using ravel().\n",
      "  y = column_or_1d(y, warn=True)\n",
      "C:\\Users\\vbatch2\\Anaconda3\\envs\\cs418env\\lib\\site-packages\\sklearn\\utils\\validation.py:993: DataConversionWarning: A column-vector y was passed when a 1d array was expected. Please change the shape of y to (n_samples, ), for example using ravel().\n",
      "  y = column_or_1d(y, warn=True)\n",
      "C:\\Users\\vbatch2\\Anaconda3\\envs\\cs418env\\lib\\site-packages\\sklearn\\utils\\validation.py:993: DataConversionWarning: A column-vector y was passed when a 1d array was expected. Please change the shape of y to (n_samples, ), for example using ravel().\n",
      "  y = column_or_1d(y, warn=True)\n",
      "C:\\Users\\vbatch2\\Anaconda3\\envs\\cs418env\\lib\\site-packages\\sklearn\\utils\\validation.py:993: DataConversionWarning: A column-vector y was passed when a 1d array was expected. Please change the shape of y to (n_samples, ), for example using ravel().\n",
      "  y = column_or_1d(y, warn=True)\n",
      "C:\\Users\\vbatch2\\Anaconda3\\envs\\cs418env\\lib\\site-packages\\sklearn\\utils\\validation.py:993: DataConversionWarning: A column-vector y was passed when a 1d array was expected. Please change the shape of y to (n_samples, ), for example using ravel().\n",
      "  y = column_or_1d(y, warn=True)\n",
      "C:\\Users\\vbatch2\\Anaconda3\\envs\\cs418env\\lib\\site-packages\\sklearn\\utils\\validation.py:993: DataConversionWarning: A column-vector y was passed when a 1d array was expected. Please change the shape of y to (n_samples, ), for example using ravel().\n",
      "  y = column_or_1d(y, warn=True)\n",
      "C:\\Users\\vbatch2\\Anaconda3\\envs\\cs418env\\lib\\site-packages\\sklearn\\utils\\validation.py:993: DataConversionWarning: A column-vector y was passed when a 1d array was expected. Please change the shape of y to (n_samples, ), for example using ravel().\n",
      "  y = column_or_1d(y, warn=True)\n"
     ]
    }
   ],
   "source": [
    "#finding the best kernel for svm\n",
    "def best_model_selection(kf, X, y):\n",
    "    scores = []\n",
    "    dict = {}\n",
    "    for kernel in ['linear', 'rbf', 'poly', 'sigmoid']:\n",
    "        for train_index, test_index in kf.split(X):\n",
    "            X_train, X_test, y_train, y_test = X[train_index], X[test_index], y[train_index], y[test_index]\n",
    "            classifier = learn_classifier(X_train,y_train,kernel)\n",
    "            scores.append(evaluate_classifier(classifier, X_test, y_test))\n",
    "        dict[kernel] = np.mean(scores)\n",
    "        scores = []\n",
    "    return max(dict , key = dict.get)\n",
    "best_kernel = best_model_selection(kf, data_svmReliable_conversion(x_train), data_svmReliable_conversion(y_train))"
   ]
  },
  {
   "cell_type": "code",
   "execution_count": 56,
   "id": "c666de3b",
   "metadata": {},
   "outputs": [],
   "source": [
    "#prediction on test data\n",
    "def classify(classifier, x_test):\n",
    "    return classifier.predict(x_test)"
   ]
  },
  {
   "cell_type": "code",
   "execution_count": 57,
   "id": "be3a4363",
   "metadata": {},
   "outputs": [
    {
     "name": "stderr",
     "output_type": "stream",
     "text": [
      "C:\\Users\\vbatch2\\Anaconda3\\envs\\cs418env\\lib\\site-packages\\sklearn\\utils\\validation.py:993: DataConversionWarning: A column-vector y was passed when a 1d array was expected. Please change the shape of y to (n_samples, ), for example using ravel().\n",
      "  y = column_or_1d(y, warn=True)\n"
     ]
    },
    {
     "data": {
      "text/plain": [
       "array([-1, -1, -1, -1, -1, -1, -1, -1, -1, -1, -1, -1, -1, -1, -1, -1, -1,\n",
       "       -1, -1, -1, -1, -1, -1, -1, -1, -1, -1, -1, -1, -1, -1, -1, -1, -1,\n",
       "       -1, -1, -1, -1, -1, -1, -1, -1, -1, -1, -1, -1, -1, -1, -1, -1, -1,\n",
       "       -1, -1, -1, -1, -1, -1, -1, -1, -1, -1, -1, -1, -1, -1, -1, -1, -1,\n",
       "       -1, -1, -1, -1, -1, -1, -1, -1, -1, -1, -1, -1, -1, -1, -1, -1, -1,\n",
       "       -1, -1, -1, -1, -1, -1, -1, -1, -1, -1, -1, -1, -1, -1, -1, -1, -1,\n",
       "       -1, -1, -1, -1, -1, -1, -1, -1, -1, -1, -1, -1, -1, -1, -1, -1, -1,\n",
       "       -1, -1, -1, -1, -1, -1, -1, -1, -1, -1, -1, -1, -1, -1, -1, -1, -1,\n",
       "       -1, -1, -1, -1, -1, -1, -1, -1, -1, -1, -1, -1, -1, -1, -1, -1, -1,\n",
       "       -1, -1, -1, -1, -1, -1, -1, -1, -1, -1, -1, -1, -1, -1, -1, -1, -1,\n",
       "       -1, -1, -1, -1, -1, -1, -1, -1, -1, -1, -1, -1, -1, -1, -1, -1, -1,\n",
       "       -1, -1, -1, -1, -1, -1, -1, -1, -1, -1, -1, -1, -1, -1, -1, -1, -1,\n",
       "       -1, -1, -1, -1, -1, -1, -1, -1, -1, -1, -1, -1, -1, -1, -1, -1, -1,\n",
       "       -1, -1, -1, -1, -1, -1, -1, -1, -1, -1, -1, -1, -1, -1, -1, -1, -1,\n",
       "       -1, -1, -1, -1, -1, -1, -1, -1, -1, -1, -1, -1, -1, -1, -1, -1, -1,\n",
       "       -1, -1, -1, -1, -1, -1, -1, -1, -1, -1, -1, -1, -1, -1, -1, -1, -1,\n",
       "       -1, -1, -1, -1, -1, -1, -1, -1, -1, -1, -1, -1, -1, -1, -1, -1, -1,\n",
       "       -1, -1, -1, -1, -1, -1, -1, -1, -1, -1, -1, -1, -1, -1, -1, -1, -1,\n",
       "       -1, -1, -1, -1, -1, -1, -1, -1, -1, -1, -1, -1, -1, -1, -1, -1, -1,\n",
       "       -1, -1, -1, -1, -1, -1, -1, -1, -1, -1, -1, -1, -1, -1, -1, -1, -1,\n",
       "       -1, -1, -1, -1, -1, -1, -1, -1, -1, -1, -1, -1, -1, -1, -1, -1, -1,\n",
       "       -1, -1, -1, -1, -1, -1, -1, -1, -1, -1, -1, -1, -1, -1, -1, -1, -1,\n",
       "       -1, -1, -1, -1, -1, -1, -1, -1, -1, -1, -1, -1, -1, -1, -1, -1, -1,\n",
       "       -1, -1, -1, -1, -1, -1, -1, -1, -1, -1, -1, -1, -1, -1, -1, -1, -1,\n",
       "       -1, -1, -1, -1, -1, -1, -1, -1, -1, -1, -1, -1, -1, -1, -1, -1, -1,\n",
       "       -1, -1, -1, -1, -1, -1, -1, -1, -1, -1, -1, -1, -1, -1, -1, -1, -1,\n",
       "       -1, -1, -1, -1, -1, -1, -1, -1, -1, -1, -1, -1, -1, -1, -1, -1, -1,\n",
       "       -1, -1, -1, -1, -1, -1, -1, -1, -1, -1, -1, -1, -1, -1, -1, -1, -1,\n",
       "       -1, -1, -1, -1, -1, -1, -1, -1, -1, -1, -1, -1, -1, -1, -1, -1])"
      ]
     },
     "execution_count": 57,
     "metadata": {},
     "output_type": "execute_result"
    }
   ],
   "source": [
    "#predicting \n",
    "classifier = learn_classifier(data_svmReliable_conversion(x_train), data_svmReliable_conversion(y_train), best_kernel)\n",
    "y_pred = classify(classifier, data_svmReliable_conversion(x_test))\n",
    "y_pred"
   ]
  },
  {
   "cell_type": "code",
   "execution_count": 58,
   "id": "8f485b42",
   "metadata": {},
   "outputs": [
    {
     "name": "stdout",
     "output_type": "stream",
     "text": [
      "accuracy 0.4634146341463415\n"
     ]
    },
    {
     "name": "stderr",
     "output_type": "stream",
     "text": [
      "C:\\Users\\vbatch2\\Anaconda3\\envs\\cs418env\\lib\\site-packages\\sklearn\\utils\\validation.py:993: DataConversionWarning: A column-vector y was passed when a 1d array was expected. Please change the shape of y to (n_samples, ), for example using ravel().\n",
      "  y = column_or_1d(y, warn=True)\n"
     ]
    },
    {
     "data": {
      "text/plain": [
       "array([ 1,  1,  1,  1,  1,  1,  1,  1,  1,  1,  1,  1,  1,  1,  1,  1,  1,\n",
       "        1,  1,  1,  1,  1,  1,  1,  1,  1,  1,  1,  1,  1,  1,  1,  1,  1,\n",
       "        1,  1,  1,  1,  1,  1,  1,  1,  1,  1,  1,  1,  1, -1,  1,  1,  1,\n",
       "        1,  1,  1,  1,  1,  1,  1,  1,  1,  1,  1,  1,  1,  1,  1,  1,  1,\n",
       "        1,  1,  1,  1,  1,  1,  1,  1,  1,  1,  1,  1,  1,  1,  1,  1,  1,\n",
       "        1,  1,  1,  1,  1,  1,  1,  1,  1,  1,  1,  1,  1,  1,  1,  1,  1,\n",
       "        1,  1,  1,  1,  1,  1,  1,  1,  1,  1,  1,  1,  1,  1,  1,  1,  1,\n",
       "        1,  1,  1,  1,  1,  1,  1,  1,  1,  1,  1,  1,  1,  1,  1,  1,  1,\n",
       "        1,  1,  1,  1,  1,  1,  1,  1,  1,  1,  1,  1,  1,  1,  1,  1,  1,\n",
       "        1,  1,  1,  1,  1,  1,  1,  1,  1,  1,  1,  1,  1,  1,  1,  1,  1,\n",
       "        1,  1,  1,  1,  1,  1,  1,  1,  1,  1,  1,  1,  1,  1,  1,  1,  1,\n",
       "        1,  1,  1,  1,  1,  1,  1,  1,  1,  1,  1,  1,  1,  1,  1,  1,  1,\n",
       "        1,  1,  1,  1,  1,  1,  1,  1,  1,  1,  1,  1,  1,  1,  1,  1,  1,\n",
       "        1,  1,  1,  1,  1,  1,  1,  1,  1,  1,  1,  1,  1,  1,  1,  1,  1,\n",
       "        1,  1,  1,  1,  1,  1,  1,  1,  1,  1,  1,  1,  1,  1,  1,  1,  1,\n",
       "        1,  1,  1,  1,  1,  1,  1,  1,  1,  1,  1, -1,  1,  1,  1,  1,  1,\n",
       "        1,  1,  1,  1,  1,  1,  1,  1,  1,  1,  1,  1,  1,  1,  1,  1,  1,\n",
       "        1,  1,  1,  1,  1,  1,  1,  1,  1,  1,  1,  1,  1,  1,  1,  1,  1,\n",
       "        1,  1,  1,  1,  1,  1,  1,  1, -1,  1,  1,  1,  1,  1,  1,  1,  1,\n",
       "        1,  1,  1,  1,  1,  1,  1,  1,  1,  1,  1,  1,  1,  1,  1,  1,  1,\n",
       "        1,  1,  1,  1,  1,  1,  1,  1,  1,  1,  1,  1,  1,  1,  1,  1,  1,\n",
       "       -1,  1,  1,  1,  1,  1,  1,  1,  1,  1,  1,  1,  1,  1,  1,  1,  1,\n",
       "        1,  1,  1,  1,  1,  1,  1,  1,  1,  1,  1,  1,  1,  1,  1,  1,  1,\n",
       "        1,  1,  1,  1,  1,  1,  1,  1,  1,  1,  1,  1,  1,  1,  1,  1,  1,\n",
       "        1,  1, -1,  1,  1,  1,  1,  1,  1,  1,  1,  1,  1,  1,  1,  1,  1,\n",
       "        1,  1,  1,  1,  1,  1,  1,  1,  1,  1,  1,  1,  1,  1,  1,  1,  1,\n",
       "        1,  1,  1,  1,  1,  1,  1,  1,  1,  1,  1,  1,  1,  1,  1,  1,  1,\n",
       "        1,  1,  1,  1,  1,  1,  1,  1,  1,  1,  1,  1,  1,  1,  1,  1,  1,\n",
       "        1,  1,  1,  1,  1,  1,  1,  1,  1,  1,  1,  1,  1,  1,  1,  1])"
      ]
     },
     "execution_count": 58,
     "metadata": {},
     "output_type": "execute_result"
    }
   ],
   "source": [
    "# Prediction using Gaussian Naive Bayes\n",
    "gnb = GaussianNB()\n",
    "\n",
    "#Train the model using the training sets\n",
    "classifier = gnb.fit(data_svmReliable_conversion(x_train), data_svmReliable_conversion(y_train))\n",
    "\n",
    "#Predict the response for test dataset\n",
    "\n",
    "accuracy = evaluate_classifier(classifier, data_svmReliable_conversion(x_val), data_svmReliable_conversion(y_val))\n",
    "print('accuracy' , accuracy)\n",
    "\n",
    "classify(classifier, data_svmReliable_conversion(x_test))"
   ]
  },
  {
   "cell_type": "code",
   "execution_count": 59,
   "id": "8645c013",
   "metadata": {},
   "outputs": [
    {
     "name": "stdout",
     "output_type": "stream",
     "text": [
      "accuracy 0.5338753387533876\n"
     ]
    },
    {
     "data": {
      "text/plain": [
       "array([-1, -1, -1, -1, -1, -1, -1, -1, -1, -1, -1, -1, -1, -1, -1, -1, -1,\n",
       "       -1, -1, -1, -1, -1, -1, -1, -1, -1, -1, -1, -1, -1, -1, -1, -1, -1,\n",
       "       -1, -1, -1, -1, -1, -1, -1, -1, -1, -1, -1, -1, -1, -1, -1, -1, -1,\n",
       "       -1, -1, -1, -1, -1, -1, -1, -1, -1, -1, -1, -1, -1, -1, -1, -1, -1,\n",
       "       -1, -1, -1, -1, -1, -1, -1, -1, -1, -1, -1, -1, -1, -1, -1, -1, -1,\n",
       "       -1, -1, -1, -1, -1, -1, -1, -1, -1, -1, -1, -1, -1, -1, -1, -1, -1,\n",
       "       -1, -1, -1, -1, -1, -1, -1, -1, -1, -1, -1, -1, -1, -1, -1, -1, -1,\n",
       "       -1, -1, -1, -1, -1, -1, -1, -1, -1, -1, -1, -1, -1, -1, -1, -1, -1,\n",
       "       -1, -1, -1, -1, -1, -1, -1, -1, -1, -1, -1, -1, -1, -1, -1, -1, -1,\n",
       "       -1, -1, -1, -1, -1, -1, -1, -1, -1, -1, -1, -1, -1, -1, -1, -1, -1,\n",
       "       -1, -1, -1, -1, -1, -1, -1, -1, -1, -1, -1, -1, -1, -1, -1, -1, -1,\n",
       "       -1, -1, -1, -1, -1, -1, -1, -1, -1, -1, -1, -1, -1, -1, -1, -1, -1,\n",
       "       -1, -1, -1, -1, -1, -1, -1, -1, -1, -1, -1, -1, -1, -1, -1, -1, -1,\n",
       "       -1, -1, -1, -1, -1, -1, -1, -1, -1, -1, -1, -1, -1, -1, -1, -1, -1,\n",
       "       -1, -1, -1, -1, -1, -1, -1, -1, -1, -1, -1, -1, -1, -1, -1, -1, -1,\n",
       "       -1, -1, -1, -1, -1, -1, -1, -1, -1, -1, -1, -1, -1, -1, -1, -1, -1,\n",
       "       -1, -1, -1, -1, -1, -1, -1, -1, -1, -1, -1, -1, -1, -1, -1, -1, -1,\n",
       "       -1, -1, -1, -1, -1, -1, -1, -1, -1, -1, -1, -1, -1, -1, -1, -1, -1,\n",
       "       -1, -1, -1, -1, -1, -1, -1, -1, -1, -1, -1, -1, -1, -1, -1, -1, -1,\n",
       "       -1, -1, -1, -1, -1, -1, -1, -1, -1, -1, -1, -1, -1, -1, -1, -1, -1,\n",
       "       -1, -1, -1, -1, -1, -1, -1, -1, -1, -1, -1, -1, -1, -1, -1, -1, -1,\n",
       "       -1, -1, -1, -1, -1, -1, -1, -1, -1, -1, -1, -1, -1, -1, -1, -1, -1,\n",
       "       -1, -1, -1, -1, -1, -1, -1, -1, -1, -1, -1, -1, -1, -1, -1, -1, -1,\n",
       "       -1, -1, -1, -1, -1, -1, -1, -1, -1, -1, -1, -1, -1, -1, -1, -1, -1,\n",
       "       -1, -1, -1, -1, -1, -1, -1, -1, -1, -1, -1, -1, -1, -1, -1, -1, -1,\n",
       "       -1, -1, -1, -1, -1, -1, -1, -1, -1, -1, -1, -1, -1, -1, -1, -1, -1,\n",
       "       -1, -1, -1, -1, -1, -1, -1, -1, -1, -1, -1, -1, -1, -1, -1, -1, -1,\n",
       "       -1, -1, -1, -1, -1, -1, -1, -1, -1, -1, -1, -1, -1, -1, -1, -1, -1,\n",
       "       -1, -1, -1, -1, -1, -1, -1, -1, -1, -1, -1, -1, -1, -1, -1, -1])"
      ]
     },
     "execution_count": 59,
     "metadata": {},
     "output_type": "execute_result"
    }
   ],
   "source": [
    "# prediction using Decision trees\n",
    "clf = DecisionTreeClassifier()\n",
    "\n",
    "#Train the model using the training sets\n",
    "classifier = clf.fit(data_svmReliable_conversion(x_train), data_svmReliable_conversion(y_train))\n",
    "\n",
    "#Predict the response for test dataset\n",
    "\n",
    "accuracy = evaluate_classifier(classifier, data_svmReliable_conversion(x_val), data_svmReliable_conversion(y_val))\n",
    "print('accuracy' , accuracy)\n",
    "\n",
    "classify(classifier, data_svmReliable_conversion(x_test))\n",
    "\n"
   ]
  },
  {
   "cell_type": "code",
   "execution_count": 60,
   "id": "a55a9092",
   "metadata": {},
   "outputs": [
    {
     "name": "stdout",
     "output_type": "stream",
     "text": [
      "accuracy 0.5338753387533876\n"
     ]
    },
    {
     "name": "stderr",
     "output_type": "stream",
     "text": [
      "C:\\Users\\vbatch2\\Anaconda3\\envs\\cs418env\\lib\\site-packages\\sklearn\\neighbors\\_classification.py:198: DataConversionWarning: A column-vector y was passed when a 1d array was expected. Please change the shape of y to (n_samples,), for example using ravel().\n",
      "  return self._fit(X, y)\n"
     ]
    },
    {
     "data": {
      "text/plain": [
       "array([-1, -1, -1, -1, -1, -1, -1, -1, -1, -1, -1, -1, -1, -1, -1, -1, -1,\n",
       "       -1, -1, -1, -1, -1, -1, -1, -1, -1, -1, -1, -1, -1, -1, -1, -1, -1,\n",
       "       -1, -1, -1, -1, -1, -1, -1, -1, -1, -1, -1, -1, -1, -1, -1, -1, -1,\n",
       "       -1, -1, -1, -1, -1, -1, -1, -1, -1, -1, -1, -1, -1, -1, -1, -1, -1,\n",
       "       -1, -1, -1, -1, -1, -1, -1, -1, -1, -1, -1, -1, -1, -1, -1, -1, -1,\n",
       "       -1, -1, -1, -1, -1, -1, -1, -1, -1, -1, -1, -1, -1, -1, -1, -1, -1,\n",
       "       -1, -1, -1, -1, -1, -1, -1, -1, -1, -1, -1, -1, -1, -1, -1, -1, -1,\n",
       "       -1, -1, -1, -1, -1, -1, -1, -1, -1, -1, -1, -1, -1, -1, -1, -1, -1,\n",
       "       -1, -1, -1, -1, -1, -1, -1, -1, -1, -1, -1, -1, -1, -1, -1, -1, -1,\n",
       "       -1, -1, -1, -1, -1, -1, -1, -1, -1, -1, -1, -1, -1, -1, -1, -1, -1,\n",
       "       -1, -1, -1, -1, -1, -1, -1, -1, -1, -1, -1, -1, -1, -1, -1, -1, -1,\n",
       "       -1, -1, -1, -1, -1, -1, -1, -1, -1, -1, -1, -1, -1, -1, -1, -1, -1,\n",
       "       -1, -1, -1, -1, -1, -1, -1, -1, -1, -1, -1, -1, -1, -1, -1, -1, -1,\n",
       "       -1, -1, -1, -1, -1, -1, -1, -1, -1, -1, -1, -1, -1, -1, -1, -1, -1,\n",
       "       -1, -1, -1, -1, -1, -1, -1, -1, -1, -1, -1, -1, -1, -1, -1, -1, -1,\n",
       "       -1, -1, -1, -1, -1, -1, -1, -1, -1, -1, -1, -1, -1, -1, -1, -1, -1,\n",
       "       -1, -1, -1, -1, -1, -1, -1, -1, -1, -1, -1, -1, -1, -1, -1, -1, -1,\n",
       "       -1, -1, -1, -1, -1, -1, -1, -1, -1, -1, -1, -1, -1, -1, -1, -1, -1,\n",
       "       -1, -1, -1, -1, -1, -1, -1, -1, -1, -1, -1, -1, -1, -1, -1, -1, -1,\n",
       "       -1, -1, -1, -1, -1, -1, -1, -1, -1, -1, -1, -1, -1, -1, -1, -1, -1,\n",
       "       -1, -1, -1, -1, -1, -1, -1, -1, -1, -1, -1, -1, -1, -1, -1, -1, -1,\n",
       "       -1, -1, -1, -1, -1, -1, -1, -1, -1, -1, -1, -1, -1, -1, -1, -1, -1,\n",
       "       -1, -1, -1, -1, -1, -1, -1, -1, -1, -1, -1, -1, -1, -1, -1, -1, -1,\n",
       "       -1, -1, -1, -1, -1, -1, -1, -1, -1, -1, -1, -1, -1, -1, -1, -1, -1,\n",
       "       -1, -1, -1, -1, -1, -1, -1, -1, -1, -1, -1, -1, -1, -1, -1, -1, -1,\n",
       "       -1, -1, -1, -1, -1, -1, -1, -1, -1, -1, -1, -1, -1, -1, -1, -1, -1,\n",
       "       -1, -1, -1, -1, -1, -1, -1, -1, -1, -1, -1, -1, -1, -1, -1, -1, -1,\n",
       "       -1, -1, -1, -1, -1, -1, -1, -1, -1, -1, -1, -1, -1, -1, -1, -1, -1,\n",
       "       -1, -1, -1, -1, -1, -1, -1, -1, -1, -1, -1, -1, -1, -1, -1, -1])"
      ]
     },
     "execution_count": 60,
     "metadata": {},
     "output_type": "execute_result"
    }
   ],
   "source": [
    "#prediction using KNN\n",
    "knn = KNeighborsClassifier()\n",
    "\n",
    "#Train the model using the training sets\n",
    "classifier = knn.fit(data_svmReliable_conversion(x_train), data_svmReliable_conversion(y_train))\n",
    "\n",
    "#Predict the response for test dataset\n",
    "\n",
    "accuracy = evaluate_classifier(classifier, data_svmReliable_conversion(x_val), data_svmReliable_conversion(y_val))\n",
    "print('accuracy' , accuracy)\n",
    "\n",
    "classify(classifier, data_svmReliable_conversion(x_test))\n"
   ]
  },
  {
   "cell_type": "code",
   "execution_count": 61,
   "id": "3aee708c",
   "metadata": {},
   "outputs": [
    {
     "name": "stdout",
     "output_type": "stream",
     "text": [
      "accuracy 0.5338753387533876\n"
     ]
    },
    {
     "name": "stderr",
     "output_type": "stream",
     "text": [
      "C:\\Users\\vbatch2\\Anaconda3\\envs\\cs418env\\lib\\site-packages\\sklearn\\utils\\validation.py:993: DataConversionWarning: A column-vector y was passed when a 1d array was expected. Please change the shape of y to (n_samples, ), for example using ravel().\n",
      "  y = column_or_1d(y, warn=True)\n"
     ]
    },
    {
     "data": {
      "text/plain": [
       "array([-1, -1, -1, -1, -1, -1, -1, -1, -1, -1, -1, -1, -1, -1, -1, -1, -1,\n",
       "       -1, -1, -1, -1, -1, -1, -1, -1, -1, -1, -1, -1, -1, -1, -1, -1, -1,\n",
       "       -1, -1, -1, -1, -1, -1, -1, -1, -1, -1, -1, -1, -1, -1, -1, -1, -1,\n",
       "       -1, -1, -1, -1, -1, -1, -1, -1, -1, -1, -1, -1, -1, -1, -1, -1, -1,\n",
       "       -1, -1, -1, -1, -1, -1, -1, -1, -1, -1, -1, -1, -1, -1, -1, -1, -1,\n",
       "       -1, -1, -1, -1, -1, -1, -1, -1, -1, -1, -1, -1, -1, -1, -1, -1, -1,\n",
       "       -1, -1, -1, -1, -1, -1, -1, -1, -1, -1, -1, -1, -1, -1, -1, -1, -1,\n",
       "       -1, -1, -1, -1, -1, -1, -1, -1, -1, -1, -1, -1, -1, -1, -1, -1, -1,\n",
       "       -1, -1, -1, -1, -1, -1, -1, -1, -1, -1, -1, -1, -1, -1, -1, -1, -1,\n",
       "       -1, -1, -1, -1, -1, -1, -1, -1, -1, -1, -1, -1, -1, -1, -1, -1, -1,\n",
       "       -1, -1, -1, -1, -1, -1, -1, -1, -1, -1, -1, -1, -1, -1, -1, -1, -1,\n",
       "       -1, -1, -1, -1, -1, -1, -1, -1, -1, -1, -1, -1, -1, -1, -1, -1, -1,\n",
       "       -1, -1, -1, -1, -1, -1, -1, -1, -1, -1, -1, -1, -1, -1, -1, -1, -1,\n",
       "       -1, -1, -1, -1, -1, -1, -1, -1, -1, -1, -1, -1, -1, -1, -1, -1, -1,\n",
       "       -1, -1, -1, -1, -1, -1, -1, -1, -1, -1, -1, -1, -1, -1, -1, -1, -1,\n",
       "       -1, -1, -1, -1, -1, -1, -1, -1, -1, -1, -1, -1, -1, -1, -1, -1, -1,\n",
       "       -1, -1, -1, -1, -1, -1, -1, -1, -1, -1, -1, -1, -1, -1, -1, -1, -1,\n",
       "       -1, -1, -1, -1, -1, -1, -1, -1, -1, -1, -1, -1, -1, -1, -1, -1, -1,\n",
       "       -1, -1, -1, -1, -1, -1, -1, -1, -1, -1, -1, -1, -1, -1, -1, -1, -1,\n",
       "       -1, -1, -1, -1, -1, -1, -1, -1, -1, -1, -1, -1, -1, -1, -1, -1, -1,\n",
       "       -1, -1, -1, -1, -1, -1, -1, -1, -1, -1, -1, -1, -1, -1, -1, -1, -1,\n",
       "       -1, -1, -1, -1, -1, -1, -1, -1, -1, -1, -1, -1, -1, -1, -1, -1, -1,\n",
       "       -1, -1, -1, -1, -1, -1, -1, -1, -1, -1, -1, -1, -1, -1, -1, -1, -1,\n",
       "       -1, -1, -1, -1, -1, -1, -1, -1, -1, -1, -1, -1, -1, -1, -1, -1, -1,\n",
       "       -1, -1, -1, -1, -1, -1, -1, -1, -1, -1, -1, -1, -1, -1, -1, -1, -1,\n",
       "       -1, -1, -1, -1, -1, -1, -1, -1, -1, -1, -1, -1, -1, -1, -1, -1, -1,\n",
       "       -1, -1, -1, -1, -1, -1, -1, -1, -1, -1, -1, -1, -1, -1, -1, -1, -1,\n",
       "       -1, -1, -1, -1, -1, -1, -1, -1, -1, -1, -1, -1, -1, -1, -1, -1, -1,\n",
       "       -1, -1, -1, -1, -1, -1, -1, -1, -1, -1, -1, -1, -1, -1, -1, -1])"
      ]
     },
     "execution_count": 61,
     "metadata": {},
     "output_type": "execute_result"
    }
   ],
   "source": [
    "#prediction using logistic regression\n",
    "clf = LogisticRegression(random_state=0)\n",
    "\n",
    "#Train the model using the training sets\n",
    "classifier = clf.fit(data_svmReliable_conversion(x_train), data_svmReliable_conversion(y_train))\n",
    "\n",
    "#Predict the response for test dataset\n",
    "\n",
    "accuracy = evaluate_classifier(classifier, data_svmReliable_conversion(x_val), data_svmReliable_conversion(y_val))\n",
    "print('accuracy' , accuracy)\n",
    "\n",
    "classify(classifier, data_svmReliable_conversion(x_test))\n"
   ]
  },
  {
   "cell_type": "code",
   "execution_count": 63,
   "id": "aa3fc741",
   "metadata": {},
   "outputs": [
    {
     "name": "stdout",
     "output_type": "stream",
     "text": [
      "accuracy 0.4634146341463415\n"
     ]
    },
    {
     "name": "stderr",
     "output_type": "stream",
     "text": [
      "C:\\Users\\vbatch2\\Anaconda3\\envs\\cs418env\\lib\\site-packages\\sklearn\\utils\\validation.py:993: DataConversionWarning: A column-vector y was passed when a 1d array was expected. Please change the shape of y to (n_samples, ), for example using ravel().\n",
      "  y = column_or_1d(y, warn=True)\n"
     ]
    },
    {
     "data": {
      "text/plain": [
       "array([ 1,  1,  1,  1,  1,  1,  1,  1,  1,  1,  1,  1,  1,  1,  1,  1,  1,\n",
       "        1,  1,  1,  1,  1,  1,  1,  1,  1,  1,  1,  1,  1,  1,  1,  1,  1,\n",
       "        1,  1,  1,  1,  1,  1,  1,  1,  1,  1,  1,  1,  1, -1,  1,  1,  1,\n",
       "        1,  1,  1,  1,  1,  1,  1,  1,  1,  1,  1,  1,  1,  1,  1,  1,  1,\n",
       "        1,  1,  1,  1,  1,  1,  1,  1,  1,  1,  1,  1,  1,  1,  1,  1,  1,\n",
       "        1,  1,  1,  1,  1,  1,  1,  1,  1,  1,  1,  1,  1,  1,  1,  1,  1,\n",
       "        1,  1,  1,  1,  1,  1,  1,  1,  1,  1,  1,  1,  1,  1,  1,  1,  1,\n",
       "        1,  1,  1,  1,  1,  1,  1,  1,  1,  1,  1,  1,  1,  1,  1,  1,  1,\n",
       "        1,  1,  1,  1,  1,  1,  1,  1,  1,  1,  1,  1,  1,  1,  1,  1,  1,\n",
       "        1,  1,  1,  1,  1,  1,  1,  1,  1,  1,  1,  1,  1,  1,  1,  1,  1,\n",
       "        1,  1,  1,  1,  1,  1,  1,  1,  1,  1,  1,  1,  1,  1,  1,  1,  1,\n",
       "        1,  1,  1,  1,  1,  1,  1,  1,  1,  1,  1,  1,  1,  1,  1,  1,  1,\n",
       "        1,  1,  1,  1,  1,  1,  1,  1,  1,  1,  1,  1,  1,  1,  1,  1,  1,\n",
       "        1,  1,  1,  1,  1,  1,  1,  1,  1,  1,  1,  1,  1,  1,  1,  1,  1,\n",
       "        1,  1,  1,  1,  1,  1,  1,  1,  1,  1,  1,  1,  1,  1,  1,  1,  1,\n",
       "        1,  1,  1,  1,  1,  1,  1,  1,  1,  1,  1, -1,  1,  1,  1,  1,  1,\n",
       "        1,  1,  1,  1,  1,  1,  1,  1,  1,  1,  1,  1,  1,  1,  1,  1,  1,\n",
       "        1,  1,  1,  1,  1,  1,  1,  1,  1,  1,  1,  1,  1,  1,  1,  1,  1,\n",
       "        1,  1,  1,  1,  1,  1,  1,  1, -1,  1,  1,  1,  1,  1,  1,  1,  1,\n",
       "        1,  1,  1,  1,  1,  1,  1,  1,  1,  1,  1,  1,  1,  1,  1,  1,  1,\n",
       "        1,  1,  1,  1,  1,  1,  1,  1,  1,  1,  1,  1,  1,  1,  1,  1,  1,\n",
       "       -1,  1,  1,  1,  1,  1,  1,  1,  1,  1,  1,  1,  1,  1,  1,  1,  1,\n",
       "        1,  1,  1,  1,  1,  1,  1,  1,  1,  1,  1,  1,  1,  1,  1,  1,  1,\n",
       "        1,  1,  1,  1,  1,  1,  1,  1,  1,  1,  1,  1,  1,  1,  1,  1,  1,\n",
       "        1,  1, -1,  1,  1,  1,  1,  1,  1,  1,  1,  1,  1,  1,  1,  1,  1,\n",
       "        1,  1,  1,  1,  1,  1,  1,  1,  1,  1,  1,  1,  1,  1,  1,  1,  1,\n",
       "        1,  1,  1,  1,  1,  1,  1,  1,  1,  1,  1,  1,  1,  1,  1,  1,  1,\n",
       "        1,  1,  1,  1,  1,  1,  1,  1,  1,  1,  1,  1,  1,  1,  1,  1,  1,\n",
       "        1,  1,  1,  1,  1,  1,  1,  1,  1,  1,  1,  1,  1,  1,  1,  1])"
      ]
     },
     "execution_count": 63,
     "metadata": {},
     "output_type": "execute_result"
    }
   ],
   "source": [
    "# Prediction using Gaussian Naive Bayes\n",
    "gnb = GaussianNB()\n",
    "\n",
    "#Train the model using the training sets\n",
    "classifier = gnb.fit(data_svmReliable_conversion(x_train), data_svmReliable_conversion(y_train))\n",
    "\n",
    "#Predict the response for test dataset\n",
    "\n",
    "accuracy = evaluate_classifier(classifier, data_svmReliable_conversion(x_val), data_svmReliable_conversion(y_val))\n",
    "print('accuracy' , accuracy)\n",
    "\n",
    "classify(classifier, data_svmReliable_conversion(x_test))"
   ]
  },
  {
   "cell_type": "code",
   "execution_count": 68,
   "id": "1e10e1f7",
   "metadata": {},
   "outputs": [],
   "source": [
    "currency = pd.read_csv(\"All Currencies Table.csv\")\n",
    "#currency.head\n",
    "currency = currency.dropna()\n",
    "\n",
    "#Market Cap is total values of coins mined.\n",
    "#Circulating Supply is total coins actively available for trading\n",
    "#Volume is how many times a coin changes its hand in given time frame.\n",
    "\n",
    "currency['Market Cap'] = currency['Market Cap'].astype(float)\n",
    "currency['Price'] = currency['Price'].astype(float)\n",
    "currency['Circulating Supply'] = currency['Circulating Supply'].astype(float)\n",
    "currency['Volume (24hr)'] = currency['Volume (24hr)'].astype(float)\n",
    "\n",
    "currency = currency.sort_values(by=['Market Cap'], ascending=False)\n",
    "currency.head(5)"
   ]
  },
  {
   "cell_type": "markdown",
   "id": "f096644b",
   "metadata": {},
   "source": [
    "Taking News dataset and Selecting Bitcoin Mentions Since Bitcoin has Largest Market Cap."
   ]
  },
  {
   "cell_type": "code",
   "execution_count": 65,
   "id": "28a381be",
   "metadata": {},
   "outputs": [
    {
     "data": {
      "text/html": [
       "<div>\n",
       "<style scoped>\n",
       "    .dataframe tbody tr th:only-of-type {\n",
       "        vertical-align: middle;\n",
       "    }\n",
       "\n",
       "    .dataframe tbody tr th {\n",
       "        vertical-align: top;\n",
       "    }\n",
       "\n",
       "    .dataframe thead th {\n",
       "        text-align: right;\n",
       "    }\n",
       "</style>\n",
       "<table border=\"1\" class=\"dataframe\">\n",
       "  <thead>\n",
       "    <tr style=\"text-align: right;\">\n",
       "      <th></th>\n",
       "      <th>text</th>\n",
       "      <th>post_id</th>\n",
       "      <th>date</th>\n",
       "      <th>Month</th>\n",
       "    </tr>\n",
       "  </thead>\n",
       "  <tbody>\n",
       "    <tr>\n",
       "      <th>0</th>\n",
       "      <td>The crypto rally has lots more runway ahead, e...</td>\n",
       "      <td>85</td>\n",
       "      <td>2019-04-06 23:30:38</td>\n",
       "      <td>4</td>\n",
       "    </tr>\n",
       "    <tr>\n",
       "      <th>1</th>\n",
       "      <td>The crypto markets have continued to surge tod...</td>\n",
       "      <td>86</td>\n",
       "      <td>2019-04-06 22:30:24</td>\n",
       "      <td>4</td>\n",
       "    </tr>\n",
       "    <tr>\n",
       "      <th>2</th>\n",
       "      <td>BTC Closing Above Its 200-Day MA Signals Bull ...</td>\n",
       "      <td>87</td>\n",
       "      <td>2019-04-06 22:23:25</td>\n",
       "      <td>4</td>\n",
       "    </tr>\n",
       "    <tr>\n",
       "      <th>3</th>\n",
       "      <td>Bitcoin&amp;#8217;s [BTC] surge over $5,000 gave m...</td>\n",
       "      <td>88</td>\n",
       "      <td>2019-04-06 22:03:21</td>\n",
       "      <td>4</td>\n",
       "    </tr>\n",
       "    <tr>\n",
       "      <th>4</th>\n",
       "      <td>Litecoin has continued cryptocurrency’s price ...</td>\n",
       "      <td>89</td>\n",
       "      <td>2019-04-06 21:59:57</td>\n",
       "      <td>4</td>\n",
       "    </tr>\n",
       "    <tr>\n",
       "      <th>...</th>\n",
       "      <td>...</td>\n",
       "      <td>...</td>\n",
       "      <td>...</td>\n",
       "      <td>...</td>\n",
       "    </tr>\n",
       "    <tr>\n",
       "      <th>78895</th>\n",
       "      <td>Top Bitcoin Exchanges : Places to start invest...</td>\n",
       "      <td>79005</td>\n",
       "      <td>2017-06-15 22:28:11</td>\n",
       "      <td>6</td>\n",
       "    </tr>\n",
       "    <tr>\n",
       "      <th>78898</th>\n",
       "      <td>BitcoinThe post Bitcoin appeared first on Cryp...</td>\n",
       "      <td>79008</td>\n",
       "      <td>2017-06-15 19:26:43</td>\n",
       "      <td>6</td>\n",
       "    </tr>\n",
       "    <tr>\n",
       "      <th>78899</th>\n",
       "      <td>WAVES Weekly No. 31Last week has seen a number...</td>\n",
       "      <td>79009</td>\n",
       "      <td>2017-02-20 00:00:00</td>\n",
       "      <td>2</td>\n",
       "    </tr>\n",
       "    <tr>\n",
       "      <th>78900</th>\n",
       "      <td>WAVES Weekly No. 30This week we have several u...</td>\n",
       "      <td>79010</td>\n",
       "      <td>2017-02-13 00:00:00</td>\n",
       "      <td>2</td>\n",
       "    </tr>\n",
       "    <tr>\n",
       "      <th>78901</th>\n",
       "      <td>SuperNET Weekly No. 13CORE and CORE Media were...</td>\n",
       "      <td>79011</td>\n",
       "      <td>2016-06-04 00:00:00</td>\n",
       "      <td>6</td>\n",
       "    </tr>\n",
       "  </tbody>\n",
       "</table>\n",
       "<p>60543 rows × 4 columns</p>\n",
       "</div>"
      ],
      "text/plain": [
       "                                                    text  post_id  \\\n",
       "0      The crypto rally has lots more runway ahead, e...       85   \n",
       "1      The crypto markets have continued to surge tod...       86   \n",
       "2      BTC Closing Above Its 200-Day MA Signals Bull ...       87   \n",
       "3      Bitcoin&#8217;s [BTC] surge over $5,000 gave m...       88   \n",
       "4      Litecoin has continued cryptocurrency’s price ...       89   \n",
       "...                                                  ...      ...   \n",
       "78895  Top Bitcoin Exchanges : Places to start invest...    79005   \n",
       "78898  BitcoinThe post Bitcoin appeared first on Cryp...    79008   \n",
       "78899  WAVES Weekly No. 31Last week has seen a number...    79009   \n",
       "78900  WAVES Weekly No. 30This week we have several u...    79010   \n",
       "78901  SuperNET Weekly No. 13CORE and CORE Media were...    79011   \n",
       "\n",
       "                     date  Month  \n",
       "0     2019-04-06 23:30:38      4  \n",
       "1     2019-04-06 22:30:24      4  \n",
       "2     2019-04-06 22:23:25      4  \n",
       "3     2019-04-06 22:03:21      4  \n",
       "4     2019-04-06 21:59:57      4  \n",
       "...                   ...    ...  \n",
       "78895 2017-06-15 22:28:11      6  \n",
       "78898 2017-06-15 19:26:43      6  \n",
       "78899 2017-02-20 00:00:00      2  \n",
       "78900 2017-02-13 00:00:00      2  \n",
       "78901 2016-06-04 00:00:00      6  \n",
       "\n",
       "[60543 rows x 4 columns]"
      ]
     },
     "execution_count": 65,
     "metadata": {},
     "output_type": "execute_result"
    }
   ],
   "source": [
    "btc = pd.read_json(\"cryptodata/news.json\")\n",
    "\n",
    "#First Data Set\n",
    "btc = btc[btc[\"text\"].str.contains(\"Bitcoin | BTC\") == True]\n",
    "btc['Month'] = btc['date'].dt.month\n",
    "btc"
   ]
  },
  {
   "cell_type": "markdown",
   "id": "b76e10ab",
   "metadata": {},
   "source": [
    "DATA CLEANING"
   ]
  },
  {
   "cell_type": "code",
   "execution_count": 66,
   "id": "245bc554",
   "metadata": {},
   "outputs": [
    {
     "data": {
      "text/html": [
       "<div>\n",
       "<style scoped>\n",
       "    .dataframe tbody tr th:only-of-type {\n",
       "        vertical-align: middle;\n",
       "    }\n",
       "\n",
       "    .dataframe tbody tr th {\n",
       "        vertical-align: top;\n",
       "    }\n",
       "\n",
       "    .dataframe thead th {\n",
       "        text-align: right;\n",
       "    }\n",
       "</style>\n",
       "<table border=\"1\" class=\"dataframe\">\n",
       "  <thead>\n",
       "    <tr style=\"text-align: right;\">\n",
       "      <th></th>\n",
       "      <th>text</th>\n",
       "      <th>post_id</th>\n",
       "      <th>date</th>\n",
       "      <th>Month</th>\n",
       "    </tr>\n",
       "  </thead>\n",
       "  <tbody>\n",
       "    <tr>\n",
       "      <th>0</th>\n",
       "      <td>The crypto rally has lots more runway ahead, e...</td>\n",
       "      <td>85</td>\n",
       "      <td>2019-04-06 23:30:38</td>\n",
       "      <td>4</td>\n",
       "    </tr>\n",
       "    <tr>\n",
       "      <th>1</th>\n",
       "      <td>The crypto markets have continued to surge tod...</td>\n",
       "      <td>86</td>\n",
       "      <td>2019-04-06 22:30:24</td>\n",
       "      <td>4</td>\n",
       "    </tr>\n",
       "    <tr>\n",
       "      <th>2</th>\n",
       "      <td>BTC Closing Above Its 200-Day MA Signals Bull ...</td>\n",
       "      <td>87</td>\n",
       "      <td>2019-04-06 22:23:25</td>\n",
       "      <td>4</td>\n",
       "    </tr>\n",
       "    <tr>\n",
       "      <th>3</th>\n",
       "      <td>Bitcoin&amp;#8217;s [BTC] surge over $5,000 gave m...</td>\n",
       "      <td>88</td>\n",
       "      <td>2019-04-06 22:03:21</td>\n",
       "      <td>4</td>\n",
       "    </tr>\n",
       "    <tr>\n",
       "      <th>4</th>\n",
       "      <td>Litecoin has continued cryptocurrency’s price ...</td>\n",
       "      <td>89</td>\n",
       "      <td>2019-04-06 21:59:57</td>\n",
       "      <td>4</td>\n",
       "    </tr>\n",
       "    <tr>\n",
       "      <th>...</th>\n",
       "      <td>...</td>\n",
       "      <td>...</td>\n",
       "      <td>...</td>\n",
       "      <td>...</td>\n",
       "    </tr>\n",
       "    <tr>\n",
       "      <th>78895</th>\n",
       "      <td>Top Bitcoin Exchanges : Places to start invest...</td>\n",
       "      <td>79005</td>\n",
       "      <td>2017-06-15 22:28:11</td>\n",
       "      <td>6</td>\n",
       "    </tr>\n",
       "    <tr>\n",
       "      <th>78898</th>\n",
       "      <td>BitcoinThe post Bitcoin appeared first on Cryp...</td>\n",
       "      <td>79008</td>\n",
       "      <td>2017-06-15 19:26:43</td>\n",
       "      <td>6</td>\n",
       "    </tr>\n",
       "    <tr>\n",
       "      <th>78899</th>\n",
       "      <td>WAVES Weekly No. 31Last week has seen a number...</td>\n",
       "      <td>79009</td>\n",
       "      <td>2017-02-20 00:00:00</td>\n",
       "      <td>2</td>\n",
       "    </tr>\n",
       "    <tr>\n",
       "      <th>78900</th>\n",
       "      <td>WAVES Weekly No. 30This week we have several u...</td>\n",
       "      <td>79010</td>\n",
       "      <td>2017-02-13 00:00:00</td>\n",
       "      <td>2</td>\n",
       "    </tr>\n",
       "    <tr>\n",
       "      <th>78901</th>\n",
       "      <td>SuperNET Weekly No. 13CORE and CORE Media were...</td>\n",
       "      <td>79011</td>\n",
       "      <td>2016-06-04 00:00:00</td>\n",
       "      <td>6</td>\n",
       "    </tr>\n",
       "  </tbody>\n",
       "</table>\n",
       "<p>60543 rows × 4 columns</p>\n",
       "</div>"
      ],
      "text/plain": [
       "                                                    text  post_id  \\\n",
       "0      The crypto rally has lots more runway ahead, e...       85   \n",
       "1      The crypto markets have continued to surge tod...       86   \n",
       "2      BTC Closing Above Its 200-Day MA Signals Bull ...       87   \n",
       "3      Bitcoin&#8217;s [BTC] surge over $5,000 gave m...       88   \n",
       "4      Litecoin has continued cryptocurrency’s price ...       89   \n",
       "...                                                  ...      ...   \n",
       "78895  Top Bitcoin Exchanges : Places to start invest...    79005   \n",
       "78898  BitcoinThe post Bitcoin appeared first on Cryp...    79008   \n",
       "78899  WAVES Weekly No. 31Last week has seen a number...    79009   \n",
       "78900  WAVES Weekly No. 30This week we have several u...    79010   \n",
       "78901  SuperNET Weekly No. 13CORE and CORE Media were...    79011   \n",
       "\n",
       "                     date  Month  \n",
       "0     2019-04-06 23:30:38      4  \n",
       "1     2019-04-06 22:30:24      4  \n",
       "2     2019-04-06 22:23:25      4  \n",
       "3     2019-04-06 22:03:21      4  \n",
       "4     2019-04-06 21:59:57      4  \n",
       "...                   ...    ...  \n",
       "78895 2017-06-15 22:28:11      6  \n",
       "78898 2017-06-15 19:26:43      6  \n",
       "78899 2017-02-20 00:00:00      2  \n",
       "78900 2017-02-13 00:00:00      2  \n",
       "78901 2016-06-04 00:00:00      6  \n",
       "\n",
       "[60543 rows x 4 columns]"
      ]
     },
     "execution_count": 66,
     "metadata": {},
     "output_type": "execute_result"
    }
   ],
   "source": [
    "#Clean the text\n",
    "def cleanTxt(text):\n",
    "    text = re.sub(r'@[A-Za-z0-9]+', '', text) #Removes @mentions\n",
    "    text = re.sub(r'#', '', text) #Removes the hashtags\n",
    "    text = re.sub(r'RT[\\s]+','',text) #Removes RT \n",
    "    text = re.sub(r'https?:\\/\\/\\S+','', text) #Removes hyperlinks\n",
    "\n",
    "    return text\n",
    "\n",
    "#clean text\n",
    "#btc\n",
    "\n",
    "#Function to get subjectivity\n",
    "def getSubjectivity(text):\n",
    "    return TextBlob(text).sentiment.subjectivity\n",
    "\n",
    "#Function to get Polarity\n",
    "def getPolarity(text):\n",
    "    return TextBlob(text).sentiment.polarity\n",
    "\n",
    "\n",
    "btc\n"
   ]
  },
  {
   "cell_type": "code",
   "execution_count": 67,
   "id": "501f08fc",
   "metadata": {},
   "outputs": [],
   "source": [
    "#Function to label the negative, neutral and positive analytics\n",
    "def getAnalysis(score):\n",
    "    if score < 0:\n",
    "        return 'Negative'\n",
    "    elif score == 0:\n",
    "        return 'Neutral'\n",
    "    else:\n",
    "        return 'Positive'\n",
    "\n",
    "#def plotSentiment(btc):"
   ]
  },
  {
   "cell_type": "code",
   "execution_count": null,
   "id": "4cbc1b9f",
   "metadata": {},
   "outputs": [],
   "source": [
    "# All Functions \n",
    "def All_Functions(btc):\n",
    "    \n",
    "    #Cleaning the text\n",
    "    btc['text'] = btc['text'].apply(cleanTxt)\n",
    "    # Create Subjectivity and Polarity Columns\n",
    "    btc['Subjectivity'] = btc['text'].apply(getSubjectivity)\n",
    "    btc['Polarity'] = btc['text'].apply(getPolarity)\n",
    "    btc['Analysis'] = btc['Polarity'].apply(getAnalysis)\n",
    "    #plotSentiment(btc)\n",
    "    return btc\n",
    "    \n",
    "btc = All_Functions(btc)\n",
    "#btc"
   ]
  },
  {
   "cell_type": "markdown",
   "id": "65b9f700",
   "metadata": {},
   "source": [
    "Plotting Sentiment Vs Polarity"
   ]
  },
  {
   "cell_type": "code",
   "execution_count": null,
   "id": "21a43776",
   "metadata": {},
   "outputs": [],
   "source": [
    "# Plot the polarity and subjectivity\n",
    "plt.figure(figsize=(12,8))\n",
    "#for i in range(0, btc.shape[0]):\n",
    "#plt.scatter(btc['Polarity'][i], btc['Subjectivity'][i], color='Blue')\n",
    "\n",
    "plt.scatter(btc['Polarity'], btc['Subjectivity'], color='Blue')\n",
    "\n",
    "plt.title('Sentiment Analysis')\n",
    "plt.xlabel('Polarity')\n",
    "plt.ylabel('Subjectivity')\n",
    "plt.show()\n",
    "\n",
    "#Percentage of positive tweets\n",
    "ptweets = btc[btc.Analysis == 'Positive']\n",
    "ptweets = ptweets['text']\n",
    "        \n",
    "ptext = round( (ptweets.shape[0] / btc.shape[0])*100, 1)\n",
    "#print(ptext)\n",
    "    \n",
    "#Percentage of negative tweets\n",
    "ntweets = btc[btc.Analysis == 'Negative']\n",
    "ntweets = ntweets['text']\n",
    "\n",
    "ntext = round((ntweets.shape[0] / btc.shape[0])*100, 1)\n",
    "#print(ntext)\n",
    "   \n",
    "#plotSentiment(btc)"
   ]
  },
  {
   "cell_type": "code",
   "execution_count": null,
   "id": "c879a407",
   "metadata": {},
   "outputs": [],
   "source": [
    "# Show the value counts\n",
    "btc['Analysis'].value_counts()\n",
    "\n",
    "# Plot and visualize the counts \n",
    "plt.title('Sentiment Analysis')\n",
    "plt.xlabel('Sentiment')\n",
    "plt.ylabel('Counts')\n",
    "btc['Analysis'].value_counts().plot(kind='bar')\n",
    "plt.show()"
   ]
  },
  {
   "cell_type": "code",
   "execution_count": null,
   "id": "188ce87c",
   "metadata": {},
   "outputs": [],
   "source": [
    "## For Only 2017\n",
    "\n",
    "start_date = '01-01-2017'\n",
    "end_date = '31-12-2017'\n",
    "btc_17 = (btc['date'] > start_date) & (btc['date'] <= end_date)\n",
    "btc_2017 = btc.loc[btc_17]\n",
    "btc_2017"
   ]
  },
  {
   "cell_type": "code",
   "execution_count": null,
   "id": "0cd126a3",
   "metadata": {},
   "outputs": [],
   "source": [
    "btc_2017['Analysis'].value_counts()\n",
    "# Count of Positive, Negative and Neutral Tweets\n",
    "print(\"Sentiment Count\", btc_2017['Analysis'].value_counts())\n",
    "# Plot and visualize the counts \n",
    "plt.title('Sentiment Analysis')\n",
    "plt.xlabel('Sentiment')\n",
    "plt.ylabel('Counts')\n",
    "btc_2017['Analysis'].value_counts().plot(kind='bar')\n",
    "plt.show() "
   ]
  },
  {
   "cell_type": "code",
   "execution_count": null,
   "id": "1b233777",
   "metadata": {},
   "outputs": [],
   "source": [
    "Pbtc = btc_2017['Analysis'].value_counts().Positive\n",
    "Nbtc = btc_2017['Analysis'].value_counts().Negative\n",
    "\n",
    "Pbtc"
   ]
  },
  {
   "cell_type": "code",
   "execution_count": null,
   "id": "fd8607eb",
   "metadata": {},
   "outputs": [],
   "source": [
    "#btc_2017['Month'] = btc['date'].dt.month\n",
    "btc_2017\n",
    "#btc_20177 = btc_2017.groupby(['Month'])['Analysis'].count()\n",
    "df2 = btc_2017.groupby(['Month','Analysis']).size().reset_index(name='counts')\n",
    "print(df2)"
   ]
  },
  {
   "cell_type": "code",
   "execution_count": null,
   "id": "a58aaf79",
   "metadata": {},
   "outputs": [],
   "source": [
    "dPosit = df2.loc[df2['Analysis'] == 'Positive']\n",
    "dNegat = df2.loc[df2['Analysis'] == 'Negative']\n",
    "#Pbtc = df2['Analysis'].value_counts().Positive\n",
    "#Pbtc\n",
    "dPosit"
   ]
  },
  {
   "cell_type": "code",
   "execution_count": null,
   "id": "bb8f0318",
   "metadata": {},
   "outputs": [],
   "source": [
    "type(\"dPosit['counts'][0]\")"
   ]
  },
  {
   "cell_type": "code",
   "execution_count": null,
   "id": "e41d2ac6",
   "metadata": {},
   "outputs": [],
   "source": [
    "#dPosit[\"counts\"]=dPosit.iloc[dPosit[\"counts\"].values.astype(int)]\n",
    "#type(\"df2['counts'][0]\")\n",
    "\n",
    "#dNegat[\"counts\"] = dNegat[\"counts\"].apply(lambda x: [int(el) for el in x.strip(\"[]\").split(\",\")])\n",
    "\n",
    "#type(\"dNegat['counts'][0]\")"
   ]
  },
  {
   "cell_type": "code",
   "execution_count": null,
   "id": "e3dfbbc8",
   "metadata": {},
   "outputs": [],
   "source": [
    "#Nbtc = df2['Analysis'][1].value_counts().Negative"
   ]
  },
  {
   "cell_type": "code",
   "execution_count": null,
   "id": "ecaea264",
   "metadata": {},
   "outputs": [],
   "source": [
    "\"\"\"\"\n",
    "finalSenti = [0] * 13\n",
    "#def totalCounting():\n",
    "for i in range(13):        \n",
    "    i += 1\n",
    "    for j in range(13):\n",
    "        j += 1\n",
    "        if dPosit['Month'][j] == i:\n",
    "            Pbtc = btc_2017['Analysis'].value_counts().Positive\n",
    "            finalSenti[i] += dPosit[counts][j]\n",
    "        if dNegat['Month'][j] == i:\n",
    "            Nbtc = btc_2017['Analysis'].value_counts().Negative\n",
    "            finalSenti[i] = finalSenti[i] - dNegat[counts][j]   \n",
    "#df2['Total'] = finalSenti\n",
    "\"\"\""
   ]
  },
  {
   "cell_type": "code",
   "execution_count": null,
   "id": "e1354b2d",
   "metadata": {},
   "outputs": [],
   "source": [
    "#x = df2['Month'][1]\n",
    "#x\n"
   ]
  },
  {
   "cell_type": "code",
   "execution_count": null,
   "id": "4ab2ff42",
   "metadata": {},
   "outputs": [],
   "source": [
    "#For 2017\n",
    "#df2.plot(x='Month', y = 'counts')\n",
    "from matplotlib import rcParams\n",
    "\n",
    "sns.lineplot(data = df2, x = \"Month\" , y = \"counts\" , hue = \"Analysis\").set(title = 'Sentiment Count for 2017 on News Data', ylabel = 'Count of Sentiment of Tweets')\n",
    "rcParams['axes.titlepad'] = 5\n",
    "plt.legend(labels=[\"Positive\",\"Negative\", \"Neutral\"], loc = 2, bbox_to_anchor = (1,1))"
   ]
  },
  {
   "cell_type": "code",
   "execution_count": null,
   "id": "5151a7b4",
   "metadata": {},
   "outputs": [],
   "source": [
    "## For Only 2018\n",
    "\n",
    "start_date = '01-01-2018'\n",
    "end_date = '01-01-2019'\n",
    "btc_18 = (btc['date'] > start_date) & (btc['date'] <= end_date)\n",
    "btc_2018 = btc.loc[btc_18]\n",
    "btc_2018"
   ]
  },
  {
   "cell_type": "code",
   "execution_count": null,
   "id": "237dbdc0",
   "metadata": {},
   "outputs": [],
   "source": [
    "btc_2018['Analysis'].value_counts()\n",
    "# Count of Positive, Negative and Neutral Tweets\n",
    "print(\"Sentiment Count\", btc_2017['Analysis'].value_counts())\n",
    "# Plot and visualize the counts \n",
    "plt.title('Sentiment Analysis')\n",
    "plt.xlabel('Sentiment')\n",
    "plt.ylabel('Counts')\n",
    "btc_2018['Analysis'].value_counts().plot(kind='bar')\n",
    "plt.show() "
   ]
  },
  {
   "cell_type": "code",
   "execution_count": null,
   "id": "a1de8fb5",
   "metadata": {},
   "outputs": [],
   "source": [
    "#btc_2017['Month'] = btc['date'].dt.month\n",
    "btc_2018\n",
    "#btc_20177 = btc_2017.groupby(['Month'])['Analysis'].count()\n",
    "df18 = btc_2018.groupby(['Month','Analysis']).size().reset_index(name='counts')\n",
    "print(df18)"
   ]
  },
  {
   "cell_type": "code",
   "execution_count": null,
   "id": "02ed5a26",
   "metadata": {},
   "outputs": [],
   "source": [
    "#For 18\n",
    "sns.lineplot(data = df18, x = \"Month\" , y = \"counts\" , hue = \"Analysis\").set(title = 'Sentiment Count for 2018 on News Data', ylabel = 'Count of Sentiment of Tweets')\n",
    "rcParams['axes.titlepad'] = 10\n",
    "plt.legend(labels=[\"Positive\",\"Negative\", \"Neutral\"], loc = 2, bbox_to_anchor = (1,1))"
   ]
  },
  {
   "cell_type": "code",
   "execution_count": null,
   "id": "98e3a4e4",
   "metadata": {},
   "outputs": [],
   "source": [
    "from sklearn.neighbors import KNeighborsClassifier\n",
    "\n",
    "knn=KNeighborsClassifier(n_neighbors=3)   #,algorithm=\"kd_tree\",n_jobs=-1\n",
    "\n",
    "knn.fit(data_svmReliable_conversion(x_train), data_svmReliable_conversion(y_train))\n",
    "kn_predicted=knn.predict(data_svmReliable_conversion(x_test))\n",
    "#knn.fit(data_svmReliable_conversion(x_train), data_svmReliable_conversion(y_train))\n",
    "#kn_predicted=knn.predict(data_svmReliable_conversion(x_test))\n",
    "\n",
    "print('Training-set accuracy score: {0:0.4f}'. format(accuracy_score(y_test, kn_predicted)))"
   ]
  },
  {
   "cell_type": "markdown",
   "id": "33cd36a4",
   "metadata": {},
   "source": [
    "Our ML model with our current data has a final accuracy of 45.5%. This could be an indiction of many things such as our hypothesis being wrong, not having enough data, or training on the wrong metrics. We are looking more into this.\n",
    "\n",
    "REFLECTION:\n",
    "\n",
    "One of the hardest parts about the project has been wrangling the massive amounts of data into something usable. \n",
    "\n",
    "Our initial insight was that positive public sentiment would increased cryptocurrency price, but from our EDA we can see that this is not always the case. In fact, sometimes the price is the inverse of the public sentiment. \n",
    "\n",
    "Going forward, our biggest problem will be to train and tweak the machine learning model. If positive public sentiment is not directly correlated to price, then our machine learning model will have to train and capture the patterns that we humans can not see.\n",
    "\n",
    "We think we are on track with the project.\n",
    "\n",
    "Our belief is that it is worth proceeding with our project. Just because our initial insights were wrong, does not mean that it is not an interesting hypothesis to test.\n",
    "\n",
    "NEXT STEPS:\n",
    "\n",
    "Our next steps are to work more on the machine learning model and hopefully achieve a higher accuracy of predicting the price of cryptocurrency based on public sentiment. Our goal is to achieve 50%+ which means that it is better than randomly guessing whether or not the price will go up. If we require any additional EDA while working on the machine learning model, we will evaluate at the time and get it done."
   ]
  },
  {
   "cell_type": "code",
   "execution_count": null,
   "id": "8d5fb13a",
   "metadata": {},
   "outputs": [],
   "source": [
    " "
   ]
  }
 ],
 "metadata": {
  "kernelspec": {
   "display_name": "Python 3 (ipykernel)",
   "language": "python",
   "name": "python3"
  },
  "language_info": {
   "codemirror_mode": {
    "name": "ipython",
    "version": 3
   },
   "file_extension": ".py",
   "mimetype": "text/x-python",
   "name": "python",
   "nbconvert_exporter": "python",
   "pygments_lexer": "ipython3",
   "version": "3.9.7"
  }
 },
 "nbformat": 4,
 "nbformat_minor": 5
}
