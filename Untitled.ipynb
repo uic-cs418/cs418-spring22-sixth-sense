{
 "cells": [
  {
   "cell_type": "code",
   "execution_count": null,
   "id": "162f20ff",
   "metadata": {},
   "outputs": [],
   "source": [
    "bitcoinTalk['scores'] = bitcoinTalk['text'].apply(lambda text: sid.polarity_scores(text))\n",
    "bitcoinTalk['compound']  = bitcoinTalk['scores'].apply(lambda score_dict: score_dict['compound'])\n",
    "bitcoinTalk['comp_score'] = bitcoinTalk['compound'].apply(lambda c: 1 if c >=0 else -1)\n",
    "bitcoinTalk = bitcoinTalk.drop(['scores', 'compound'], axis = 1)\n",
    "bitcoinTalk[\"Date_extracted\"] = bitcoinTalk[\"date\"].dt.date\n",
    "def text_extracting(data):\n",
    "    data = word_tokenize(data)\n",
    "    for i in range(len(data)):\n",
    "        if data[i] == 'bitcoin':\n",
    "            return 'bitcoin'\n",
    "        elif data[i] == 'ethereum':\n",
    "            return 'ethereum'\n",
    "        elif data[i] == 'tether':\n",
    "            return 'tether'\n",
    "        elif data[i] == 'binance-coin':\n",
    "            return 'binance-coin'\n",
    "        elif data[i] == 'cardano':\n",
    "            return 'cardano'\n",
    "    return 'rest'\n",
    "bitcoinTalk['crypto'] = bitcoinTalk['text'].apply(text_extracting)\n",
    "bitcoinTalk = bitcoinTalk.sort_values('Date_extracted')\n",
    "bitcoinTalk['Year'] = bitcoinTalk['date'].dt.year\n",
    "bitcoinTalk['Month'] = bitcoinTalk['date'].dt.month\n",
    "bitcoinTalk['Day'] = bitcoinTalk['date'].dt.day\n",
    "bitcoinTalk.head()\n"
   ]
  },
  {
   "cell_type": "code",
   "execution_count": null,
   "id": "2465cd2c",
   "metadata": {},
   "outputs": [],
   "source": [
    "popular_cryptos2 = ['bitcoin','ethereum', 'tether']\n",
    "bitcoinTalk_of_popular_cryptos2 = bitcoinTalk[bitcoinTalk['crypto'].isin(popular_cryptos2)]\n",
    "# This method takes year and returns plots of news per every year\n",
    "def sentiment_of_popular_cryptos_during_a_particular_year(year):\n",
    "    bitcoinTalk1 = bitcoinTalk_of_popular_cryptos2[(bitcoinTalk_of_popular_cryptos2['Year']==year)]\n",
    "    ax = sns.lineplot(data=bitcoinTalk1, x='Month', y='comp_score', hue='crypto',marker='o',ci= None)\n",
    "    ax.set(xticks=news_of_popular_cryptos2.Month.values)\n",
    "    plt.title('news of Coin by Month ' + str(year))\n",
    "    plt.show()\n",
    "    return bitcoinTalk1"
   ]
  },
  {
   "cell_type": "code",
   "execution_count": null,
   "id": "f1367ca4",
   "metadata": {},
   "outputs": [],
   "source": [
    "#plots of sentiment per year\n",
    "news_2017 = sentiment_of_popular_cryptos_during_a_particular_year(2017)\n",
    "news_2018 = sentiment_of_popular_cryptos_during_a_particular_year(2018)\n"
   ]
  },
  {
   "cell_type": "code",
   "execution_count": null,
   "id": "a5b918bb",
   "metadata": {},
   "outputs": [],
   "source": [
    "price_sentiment_2017 = sentiment_price_of_popular_cryptos_during_a_particular_year(2017, 'Tether')\n",
    "price_sentiment_2017 = sentiment_price_of_popular_cryptos_during_a_particular_year(2018, 'Bitcoin')\n",
    "price_sentiment_2017 = sentiment_price_of_popular_cryptos_during_a_particular_year(2018, 'Ethereum')\n",
    "price_sentiment_2017 = sentiment_price_of_popular_cryptos_during_a_particular_year(2018, 'Tether')\n",
    "price_sentiment_2017 = sentiment_price_of_popular_cryptos_during_a_particular_year(2017, 'binance-coin')\n",
    "price_sentiment_2017 = sentiment_price_of_popular_cryptos_during_a_particular_year(2017, 'cardano')\n",
    "price_sentiment_2017 = sentiment_price_of_popular_cryptos_during_a_particular_year(2018, 'binance-coin')\n",
    "price_sentiment_2017 = sentiment_price_of_popular_cryptos_during_a_particular_year(2018, 'cardano')"
   ]
  },
  {
   "cell_type": "code",
   "execution_count": null,
   "id": "cffa399f",
   "metadata": {},
   "outputs": [],
   "source": [
    "#combining price and reddit for all coins\n",
    "bitcoinTalk = bitcoinTalk.groupby(['Date_extracted'])['comp_score'].sum().reset_index()\n",
    "bitcoinTalk['comp_score'] = np.where(bitcoinTalk['comp_score']>0,1,-1)\n",
    "bitcoinTalk"
   ]
  },
  {
   "cell_type": "code",
   "execution_count": null,
   "id": "37bbd679",
   "metadata": {},
   "outputs": [],
   "source": [
    "news_reddit_bitcoin = news_reddit.append(bitcoinTalk, ignore_index=True)\n",
    "news_reddit_bitcoin"
   ]
  },
  {
   "cell_type": "code",
   "execution_count": null,
   "id": "e92e65c5",
   "metadata": {},
   "outputs": [],
   "source": [
    "price_sentiment = pd.merge(crypto_prices_df,news_reddit_bitcoin,on='Date_extracted')"
   ]
  }
 ],
 "metadata": {
  "kernelspec": {
   "display_name": "Python 3 (ipykernel)",
   "language": "python",
   "name": "python3"
  },
  "language_info": {
   "codemirror_mode": {
    "name": "ipython",
    "version": 3
   },
   "file_extension": ".py",
   "mimetype": "text/x-python",
   "name": "python",
   "nbconvert_exporter": "python",
   "pygments_lexer": "ipython3",
   "version": "3.9.7"
  }
 },
 "nbformat": 4,
 "nbformat_minor": 5
}
